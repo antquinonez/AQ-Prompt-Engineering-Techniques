{
 "cells": [
  {
   "attachments": {},
   "cell_type": "markdown",
   "metadata": {},
   "source": [
    "# Jupyter notebooks in the library"
   ]
  },
  {
   "cell_type": "code",
   "execution_count": 14,
   "metadata": {},
   "outputs": [
    {
     "name": "stdout",
     "output_type": "stream",
     "text": [
      "1.Failed Techniques\n",
      "2.List All Notebooks\n",
      "--------------------------------------------\n",
      "./basic\n",
      "--------------------------------------------\n",
      "1.Session Logs And Summaries\n",
      "2.Consolidate Code Not Jokes Log Activity\n",
      "--------------------------------------------\n",
      "./code_complete\n",
      "--------------------------------------------\n",
      "1.Test Driven Development\n",
      "2.Logs Consolidated Code And Instructions\n",
      "--------------------------------------------\n",
      "./multi-step\n",
      "--------------------------------------------\n",
      "1.Code Discover Improve\n",
      "2.Whole Analysis Of Dataframes With Tests\n",
      "3.Incrementally Refine A Solution\n",
      "--------------------------------------------\n",
      "./refactorings\n",
      "--------------------------------------------\n",
      "1.Turn Functions Into A Class\n"
     ]
    }
   ],
   "source": [
    "import os\n",
    "### function to get the folder and file name of every notebook in the parent directory\n",
    "def list_all_notebooks():\n",
    "    for root, dirs, files in os.walk('.'):\n",
    "        if 'lib' not in root and 'meta' not in root:\n",
    "            dirs.sort()\n",
    "            line = 1\n",
    "            for file in files:\n",
    "                if (file.endswith('.ipynb') and 'list_all_notebooks.ipynb' ):\n",
    "                    if (line == 1 and len(root) > 1): print (\"--------------------------------------------\")\n",
    "                    if (line == 1 and len(root) > 1): print(root)\n",
    "                    if (line == 1 and len(root) > 1): print (\"--------------------------------------------\")\n",
    "                    print(f\"{line }.\", end ='')\n",
    "                    print(file.replace('_', ' ').title().replace('.Ipynb', ''))\n",
    "                   \n",
    "                    line += 1\n",
    "list_all_notebooks()"
   ]
  }
 ],
 "metadata": {
  "kernelspec": {
   "display_name": "aqpe",
   "language": "python",
   "name": "python3"
  },
  "language_info": {
   "codemirror_mode": {
    "name": "ipython",
    "version": 3
   },
   "file_extension": ".py",
   "mimetype": "text/x-python",
   "name": "python",
   "nbconvert_exporter": "python",
   "pygments_lexer": "ipython3",
   "version": "3.11.2"
  },
  "orig_nbformat": 4
 },
 "nbformat": 4,
 "nbformat_minor": 2
}
