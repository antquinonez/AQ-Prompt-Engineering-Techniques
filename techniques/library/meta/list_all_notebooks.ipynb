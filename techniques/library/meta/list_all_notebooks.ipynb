{
 "cells": [
  {
   "cell_type": "markdown",
   "metadata": {},
   "source": [
    "# Document all the Jupyter notebooks in the library folder of this repository"
   ]
  },
  {
   "cell_type": "code",
   "execution_count": 1,
   "metadata": {},
   "outputs": [],
   "source": [
    "import os\n",
    "\n",
    "# function to print the name of every folder starting with the directory above\n",
    "# this one and drilling down. exclude the 'lib' and 'meta' directories. sort folders by name\n",
    "# when a jupyter notebook is found, print the name but first replace the underscore with a space and change the name to title case\n",
    "def list_all_notebooks():\n",
    "    for root, dirs, files in os.walk('..'):\n",
    "        if 'lib' not in root and 'meta' not in root:\n",
    "            dirs.sort()\n",
    "            for file in files:\n",
    "                if file.endswith('.ipynb'):\n",
    "                    print(file.replace('_', ' ').title().replace('.Ipynb', ''))"
   ]
  },
  {
   "cell_type": "code",
   "execution_count": 2,
   "metadata": {},
   "outputs": [
    {
     "name": "stdout",
     "output_type": "stream",
     "text": [
      "Failed Techniques\n",
      "Session Logs And Summaries\n",
      "Consolidate Code Not Jokes Log Activity\n",
      "Test Driven Development\n",
      "Logs Consolidated Code And Instructions\n",
      "Code Discover Improve\n",
      "Whole Analysis Of Dataframes With Tests\n",
      "Incrementally Refine A Solution\n",
      "Turn Functions Into A Class\n"
     ]
    }
   ],
   "source": [
    "list_all_notebooks()"
   ]
  },
  {
   "cell_type": "code",
   "execution_count": 3,
   "metadata": {},
   "outputs": [],
   "source": [
    "### function to get the folder and file name of every notebook in the parent directory\n",
    "def list_all_notebooks():\n",
    "    for root, dirs, files in os.walk('..'):\n",
    "        if 'lib' not in root and 'meta' not in root:\n",
    "            dirs.sort()\n",
    "            line = 1\n",
    "            for file in files:\n",
    "                if file.endswith('.ipynb'):\n",
    "                    if (line == 1): print (\"====================\")\n",
    "                    if (line == 1): print(root)\n",
    "                    if (line == 1): print (\"====================\")\n",
    "                    print(f\"{line }.\", end ='')\n",
    "                    print(file.replace('_', ' ').title().replace('.Ipynb', ''))\n",
    "                    line += 1"
   ]
  },
  {
   "cell_type": "code",
   "execution_count": 4,
   "metadata": {},
   "outputs": [
    {
     "name": "stdout",
     "output_type": "stream",
     "text": [
      "====================\n",
      "..\n",
      "====================\n",
      "1.Failed Techniques\n",
      "====================\n",
      "../basic\n",
      "====================\n",
      "1.Session Logs And Summaries\n",
      "2.Consolidate Code Not Jokes Log Activity\n",
      "====================\n",
      "../code_complete\n",
      "====================\n",
      "1.Test Driven Development\n",
      "2.Logs Consolidated Code And Instructions\n",
      "====================\n",
      "../multi-step\n",
      "====================\n",
      "1.Code Discover Improve\n",
      "2.Whole Analysis Of Dataframes With Tests\n",
      "3.Incrementally Refine A Solution\n",
      "====================\n",
      "../refactorings\n",
      "====================\n",
      "1.Turn Functions Into A Class\n"
     ]
    }
   ],
   "source": [
    "list_all_notebooks()"
   ]
  },
  {
   "cell_type": "code",
   "execution_count": 6,
   "metadata": {},
   "outputs": [
    {
     "name": "stdout",
     "output_type": "stream",
     "text": [
      "[{'name': 'List All Notebooks', 'directory': '.', 'line_number': 1}]\n"
     ]
    }
   ],
   "source": [
    "print(list_all_notebooks())"
   ]
  }
 ],
 "metadata": {
  "kernelspec": {
   "display_name": "aqpe",
   "language": "python",
   "name": "python3"
  },
  "language_info": {
   "codemirror_mode": {
    "name": "ipython",
    "version": 3
   },
   "file_extension": ".py",
   "mimetype": "text/x-python",
   "name": "python",
   "nbconvert_exporter": "python",
   "pygments_lexer": "ipython3",
   "version": "3.11.2"
  },
  "orig_nbformat": 4
 },
 "nbformat": 4,
 "nbformat_minor": 2
}
