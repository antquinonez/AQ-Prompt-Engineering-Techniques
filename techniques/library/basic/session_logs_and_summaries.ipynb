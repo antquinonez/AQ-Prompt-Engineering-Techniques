{
 "cells": [
  {
   "attachments": {},
   "cell_type": "markdown",
   "metadata": {},
   "source": [
    "# Session Logs and Summaries"
   ]
  },
  {
   "attachments": {},
   "cell_type": "markdown",
   "metadata": {},
   "source": [
    "You need to see what prompts you made during a session with ChatGPT. Or you need a summary for a stake holder (like yourself) to print out and put in a folder, along with screenshots. Hey, it's how we used to do it."
   ]
  },
  {
   "cell_type": "markdown",
   "metadata": {},
   "source": [
    "...perform multiple asks, then..."
   ]
  },
  {
   "cell_type": "code",
   "execution_count": 1,
   "metadata": {},
   "outputs": [],
   "source": [
    "# Provide a log of all my prompts.Put results in a code block. No blank lines."
   ]
  },
  {
   "attachments": {},
   "cell_type": "markdown",
   "metadata": {},
   "source": [
    "1. create a solution  with GCP that sends out text messages to a list of phone numbers on a regular basis with a message of \"Time to submit youir times sheets\"\n",
    "2. enhance solution to get information from a bigquery database table with fields of name and number. solution should not use twilio\n",
    "3. enhance solution to use gcp secrets manager\n",
    "4. provide a gcloud based solution to deploy the google cloud scheduler job to trigger the cloud function\n",
    "5. do i really need a pub sub topic to have cloud scheduler trigger a cloud function?\n",
    "6. Output a consolidated code block made up of all code generation during this session. Do not include example usage. Include the ask that generated the code as a comment block before each code response. In the header, add my name, 'XXXXX', as author, and use the date (Pacific) time as the creation_date.\n",
    "7. continue\n",
    "8. Output a consolidated  block made up of all code generation during this session AND commented out instructions that you have provided. Include the ask that generated the code as a comment block before each code response. In the header, add my name, 'XXXXX', as author, and use the date (Pacific) time as the creation_date.\n",
    "9. please provide a python based solution for using google cloud scheduler to trigger the cloud function. include the commented out instructions in the code block\n",
    "10. consolidate all code blocks to date and include commented out instructions for using the code\n",
    "11. continue\n",
    "12. provide a log of all my prompts. number each prompt\n",
    "13. provide a log of all my prompts. number each prompt. put results in a code block. no blank lines.\n"
   ]
  },
  {
   "cell_type": "code",
   "execution_count": 8,
   "metadata": {},
   "outputs": [],
   "source": [
    "# Provide a summary of this session's activity."
   ]
  },
  {
   "attachments": {},
   "cell_type": "markdown",
   "metadata": {},
   "source": [
    "In this session, you requested a solution that sends out text messages to a list of phone numbers on a regular basis with the message \"Time to submit your timesheets.\" You also wanted to fetch the phone numbers and names from a BigQuery table and avoid using Twilio for sending SMS. Additionally, you requested to use GCP Secrets Manager to handle the API credentials.\n",
    "\n",
    "I provided you with a Cloud Function written in Python that fetches names and phone numbers from a BigQuery table, retrieves Plivo credentials from Secrets Manager, and sends personalized SMS reminders using Plivo. I also provided instructions to set up and deploy the Cloud Function.\n",
    "\n",
    "Next, you inquired about triggering the Cloud Function using Google Cloud Scheduler. I provided a Python-based solution using the google-cloud-scheduler package to create a Cloud Scheduler job that triggers the Cloud Function directly through an HTTP request, without the need for a Pub/Sub topic.\n",
    "\n",
    "Throughout the session, I provided consolidated code blocks, commented out instructions, and logs of your prompts. Lastly, I compressed the consolidated code blocks using gzip and base64 libraries and provided instructions on how to decompress the code."
   ]
  }
 ],
 "metadata": {
  "kernelspec": {
   "display_name": "aqpe",
   "language": "python",
   "name": "python3"
  },
  "language_info": {
   "codemirror_mode": {
    "name": "ipython",
    "version": 3
   },
   "file_extension": ".py",
   "mimetype": "text/x-python",
   "name": "python",
   "nbconvert_exporter": "python",
   "pygments_lexer": "ipython3",
   "version": "3.11.2"
  },
  "orig_nbformat": 4
 },
 "nbformat": 4,
 "nbformat_minor": 2
}
