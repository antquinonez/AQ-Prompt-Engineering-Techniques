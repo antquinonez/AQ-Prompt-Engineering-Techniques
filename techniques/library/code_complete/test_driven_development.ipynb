{
 "cells": [
  {
   "cell_type": "code",
   "execution_count": null,
   "metadata": {},
   "outputs": [],
   "source": [
    "# Test driven development"
   ]
  },
  {
   "attachments": {},
   "cell_type": "markdown",
   "metadata": {},
   "source": [
    "A key benefit of test driven development is that regardless of the function implementation, you already have an expectation of what that function should take and return and given some inputs what the outputs must be. YOU CAN create the tests and not rely on ChatGPT for the function definition."
   ]
  },
  {
   "cell_type": "code",
   "execution_count": 5,
   "metadata": {},
   "outputs": [],
   "source": [
    "# create pytests for the following function\n",
    "# - test_compare_columns, where the test compares two sets of pandas columns and tells you what the differences are between the two sets, expected output is a tuple of two lists, one for the columns that are in the first set but not the second, and one for the columns that are in the second set but not the first\n"
   ]
  },
  {
   "attachments": {},
   "cell_type": "markdown",
   "metadata": {},
   "source": [
    "# ChatGPT responds with a function, first and then a series of pytests"
   ]
  },
  {
   "attachments": {},
   "cell_type": "markdown",
   "metadata": {},
   "source": [
    "I ask to 'consolidate all output, including non-code output into a single code frame.' And get:"
   ]
  },
  {
   "cell_type": "code",
   "execution_count": null,
   "metadata": {},
   "outputs": [],
   "source": [
    "# your_module.py\n",
    "import pandas as pd\n",
    "\n",
    "def compare_columns(set1, set2):\n",
    "    difference1 = list(set(set1) - set(set2))\n",
    "    difference2 = list(set(set2) - set(set1))\n",
    "    return difference1, difference2\n",
    "\n",
    "# test_your_module.py\n",
    "import pytest\n",
    "import pandas as pd\n",
    "from your_module import compare_columns\n",
    "\n",
    "def test_compare_columns_identical_columns():\n",
    "    df1 = pd.DataFrame({\"col1\": [1, 2, 3], \"col2\": [4, 5, 6]})\n",
    "    df2 = pd.DataFrame({\"col1\": [7, 8, 9], \"col2\": [10, 11, 12]})\n",
    "    result = compare_columns(df1.columns, df2.columns)\n",
    "    assert result == ([], [])\n",
    "\n",
    "def test_compare_columns_different_columns():\n",
    "    df1 = pd.DataFrame({\"col1\": [1, 2, 3], \"col2\": [4, 5, 6]})\n",
    "    df2 = pd.DataFrame({\"col3\": [7, 8, 9], \"col4\": [10, 11, 12]})\n",
    "    result = compare_columns(df1.columns, df2.columns)\n",
    "    assert result == (['col1', 'col2'], ['col3', 'col4'])\n",
    "\n",
    "def test_compare_columns_partial_overlap():\n",
    "    df1 = pd.DataFrame({\"col1\": [1, 2, 3], \"col2\": [4, 5, 6], \"col3\": [7, 8, 9]})\n",
    "    df2 = pd.DataFrame({\"col2\": [4, 5, 6], \"col3\": [7, 8, 9], \"col4\": [10, 11, 12]})\n",
    "    result = compare_columns(df1.columns, df2.columns)\n",
    "    assert result == (['col1'], ['col4'])\n",
    "\n",
    "def test_compare_columns_empty_dataframe():\n",
    "    df1 = pd.DataFrame({\"col1\": [1, 2, 3], \"col2\": [4, 5, 6]})\n",
    "    df2 = pd.DataFrame()\n",
    "    result = compare_columns(df1.columns, df2.columns)\n",
    "    assert result == (['col1', 'col2'], [])\n",
    "\n",
    "def test_compare_columns_both_empty_dataframes():\n",
    "    df1 = pd.DataFrame()\n",
    "    df2 = pd.DataFrame()\n",
    "    result = compare_columns(df1.columns, df2.columns)\n",
    "    assert result == ([], [])\n"
   ]
  },
  {
   "attachments": {},
   "cell_type": "markdown",
   "metadata": {},
   "source": [
    "My attention is distracted and I don't see that I'm passing columns in the tests, that in fact that's exactly what I asked for, but not at all what I wanted. I really wanted to pass dataframes for comparison of their columns. What i do realize is that I forgot to ask for type hints, which are de rigueur. So I ask for type hints. And get:"
   ]
  },
  {
   "cell_type": "code",
   "execution_count": null,
   "metadata": {},
   "outputs": [],
   "source": [
    "# your_module.py\n",
    "import pandas as pd\n",
    "from typing import List, Tuple\n",
    "\n",
    "def compare_columns(set1: pd.Index, set2: pd.Index) -> Tuple[List[str], List[str]]:\n",
    "    difference1 = list(set(set1) - set(set2))\n",
    "    difference2 = list(set(set2) - set(set1))\n",
    "    return difference1, difference2\n",
    "\n",
    "# test_your_module.py\n",
    "import pytest\n",
    "import pandas as pd\n",
    "from your_module import compare_columns\n",
    "\n",
    "def test_compare_columns_identical_columns():\n",
    "    df1 = pd.DataFrame({\"col1\": [1, 2, 3], \"col2\": [4, 5, 6]})\n",
    "    df2 = pd.DataFrame({\"col1\": [7, 8, 9], \"col2\": [10, 11, 12]})\n",
    "    result = compare_columns(df1.columns, df2.columns)\n",
    "    assert result == ([], [])\n",
    "\n",
    "def test_compare_columns_different_columns():\n",
    "    df1 = pd.DataFrame({\"col1\": [1, 2, 3], \"col2\": [4, 5, 6]})\n",
    "    df2 = pd.DataFrame({\"col3\": [7, 8, 9], \"col4\": [10, 11, 12]})\n",
    "    result = compare_columns(df1.columns, df2.columns)\n",
    "    assert result == (['col1', 'col2'], ['col3', 'col4'])\n",
    "\n",
    "def test_compare_columns_partial_overlap():\n",
    "    df1 = pd.DataFrame({\"col1\": [1, 2, 3], \"col2\": [4, 5, 6], \"col3\": [7, 8, 9]})\n",
    "    df2 = pd.DataFrame({\"col2\": [4, 5, 6], \"col3\": [7, 8, 9], \"col4\": [10, 11, 12]})\n",
    "    result = compare_columns(df1.columns, df2.columns)\n",
    "    assert result == (['col1'], ['col4'])\n",
    "\n",
    "def test_compare_columns_empty_dataframe():\n",
    "    df1 = pd.DataFrame({\"col1\": [1, 2, 3], \"col2\": [4, 5, 6]})\n",
    "    df2 = pd.DataFrame()\n",
    "    result = compare_columns(df1.columns, df2.columns)\n",
    "   \n"
   ]
  },
  {
   "attachments": {},
   "cell_type": "markdown",
   "metadata": {},
   "source": [
    "Now that I see the function signature, I notice that the tests were passing dataframe columns and not the dataframe. I ask it,  \"Don't use indexes; use dataframes for the function\". Which results in the _tests and the function changing in unison_. <-- That is a great win. The final output is:"
   ]
  },
  {
   "cell_type": "code",
   "execution_count": null,
   "metadata": {},
   "outputs": [],
   "source": [
    "# your_module.py\n",
    "import pandas as pd\n",
    "from typing import List, Tuple\n",
    "\n",
    "def compare_columns(df1: pd.DataFrame, df2: pd.DataFrame) -> Tuple[List[str], List[str]]:\n",
    "    difference1 = list(set(df1.columns) - set(df2.columns))\n",
    "    difference2 = list(set(df2.columns) - set(df1.columns))\n",
    "    return difference1, difference2\n",
    "\n",
    "# test_your_module.py\n",
    "import pytest\n",
    "import pandas as pd\n",
    "from your_module import compare_columns\n",
    "\n",
    "def test_compare_columns_identical_columns():\n",
    "    df1 = pd.DataFrame({\"col1\": [1, 2, 3], \"col2\": [4, 5, 6]})\n",
    "    df2 = pd.DataFrame({\"col1\": [7, 8, 9], \"col2\": [10, 11, 12]})\n",
    "    result = compare_columns(df1, df2)\n",
    "    assert result == ([], [])\n",
    "\n",
    "def test_compare_columns_different_columns():\n",
    "    df1 = pd.DataFrame({\"col1\": [1, 2, 3], \"col2\": [4, 5, 6]})\n",
    "    df2 = pd.DataFrame({\"col3\": [7, 8, 9], \"col4\": [10, 11, 12]})\n",
    "    result = compare_columns(df1, df2)\n",
    "    assert result == (['col1', 'col2'], ['col3', 'col4'])\n",
    "\n",
    "def test_compare_columns_partial_overlap():\n",
    "    df1 = pd.DataFrame({\"col1\": [1, 2, 3], \"col2\": [4, 5, 6], \"col3\": [7, 8, 9]})\n",
    "    df2 = pd.DataFrame({\"col2\": [4, 5, 6], \"col3\": [7, 8, 9], \"col4\": [10, 11, 12]})\n",
    "    result = compare_columns(df1, df2)\n",
    "    assert result == (['col1'], ['col4'])\n",
    "\n",
    "def test_compare_columns_empty_dataframe():\n",
    "    df1 = pd.DataFrame({\"col1\": [1, 2, 3], \"col2\": [4, 5, 6]})\n",
    "    df2 = pd.DataFrame()\n",
    "    result = compare_columns(df1, df2)\n",
    "    assert result == (['col1', 'col2'], [])\n",
    "\n",
    "def test_compare_columns_both_empty_dataframes():\n",
    "    df1 = pd.DataFrame()\n",
    "    df2 = pd.DataFrame()\n",
    "    result = compare_columns(df1, df2)\n",
    "    assert result == ([], [])\n"
   ]
  },
  {
   "cell_type": "code",
   "execution_count": null,
   "metadata": {},
   "outputs": [],
   "source": [
    "# Observations:\n",
    "# While I started with specifying the tests, which is a great way to focus on how you want to interact with a piece of code, I got both function and test set at once.\n",
    "\n",
    "# Note: I did not run the tests. So, I don't know if I need to manually intervene and fix tests. Always that chance with ChatGPT or any code for that matter"
   ]
  }
 ],
 "metadata": {
  "kernelspec": {
   "display_name": "aqpe",
   "language": "python",
   "name": "python3"
  },
  "language_info": {
   "codemirror_mode": {
    "name": "ipython",
    "version": 3
   },
   "file_extension": ".py",
   "mimetype": "text/x-python",
   "name": "python",
   "nbconvert_exporter": "python",
   "pygments_lexer": "ipython3",
   "version": "3.11.2"
  },
  "orig_nbformat": 4
 },
 "nbformat": 4,
 "nbformat_minor": 2
}
