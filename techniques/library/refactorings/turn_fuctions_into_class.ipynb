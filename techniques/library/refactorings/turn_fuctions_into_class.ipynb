{
 "cells": [
  {
   "cell_type": "markdown",
   "metadata": {},
   "source": [
    "# Turn a function based solution into a class based solution"
   ]
  },
  {
   "attachments": {},
   "cell_type": "markdown",
   "metadata": {},
   "source": [
    "### Note: This is an executable Jupyter Notebook. Surprise!"
   ]
  },
  {
   "attachments": {},
   "cell_type": "markdown",
   "metadata": {},
   "source": [
    "Start with a variable with the letter b."
   ]
  },
  {
   "cell_type": "code",
   "execution_count": null,
   "metadata": {},
   "outputs": [],
   "source": [
    "some_var = \"b\""
   ]
  },
  {
   "attachments": {},
   "cell_type": "markdown",
   "metadata": {},
   "source": [
    "Then I create some arbitary functions (with the help of Copilot -- I am very lazy)."
   ]
  },
  {
   "cell_type": "code",
   "execution_count": null,
   "metadata": {},
   "outputs": [],
   "source": [
    "# function to add string \"111\" to a string\n",
    "def add_111(some_string):\n",
    "    return some_string + \"111\""
   ]
  },
  {
   "cell_type": "code",
   "execution_count": null,
   "metadata": {},
   "outputs": [],
   "source": [
    "# function to make string zero padded to 10 chars to a string\n",
    "def zero_pad(a):\n",
    "    return a.zfill(10)"
   ]
  },
  {
   "attachments": {},
   "cell_type": "markdown",
   "metadata": {},
   "source": [
    "And I use the functions"
   ]
  },
  {
   "cell_type": "code",
   "execution_count": null,
   "metadata": {},
   "outputs": [],
   "source": [
    "some_var = add_111(some_var)\n",
    "some_var = zero_pad(some_var)\n"
   ]
  },
  {
   "cell_type": "code",
   "execution_count": null,
   "metadata": {},
   "outputs": [],
   "source": [
    "# print(some_var) # we can print the results if we're curious"
   ]
  },
  {
   "attachments": {},
   "cell_type": "markdown",
   "metadata": {},
   "source": [
    "## I then copy these cells above and merge the copied cells into a single Jupyter cell. We'll use this code to make a ChatGPT ask."
   ]
  },
  {
   "cell_type": "code",
   "execution_count": null,
   "metadata": {},
   "outputs": [],
   "source": [
    "# function to add string \"111\" to a string\n",
    "def add_111(some_string):\n",
    "    return some_string + \"111\"\n",
    "\n",
    "# function to make string zero padded to 10 chars to a string\n",
    "def zero_pad(a):\n",
    "    return a.zfill(10)\n",
    "\n",
    "some_var = add_111(some_var)\n",
    "some_var = zero_pad(some_var)\n"
   ]
  },
  {
   "attachments": {},
   "cell_type": "markdown",
   "metadata": {},
   "source": [
    "## ChatGPT Ask"
   ]
  },
  {
   "cell_type": "markdown",
   "metadata": {},
   "source": [
    "note: You can print all this with hashes into ChatGPT"
   ]
  },
  {
   "cell_type": "code",
   "execution_count": null,
   "metadata": {},
   "outputs": [],
   "source": [
    "# convert this code into a class. turn the functions into internal methods. turn the rest of the code into a constructor method. \n",
    "\n",
    "# function to add string \"111\" to a string\n",
    "# def add_111(some_string):\n",
    "#     return some_string + \"111\"\n",
    "\n",
    "# # function to make string zero padded to 10 chars to a string\n",
    "# def zero_pad(a):\n",
    "#     return a.zfill(10)\n",
    "\n",
    "# some_var = add_111(some_var)\n",
    "# some_var = zero_pad(some_var)\n"
   ]
  },
  {
   "attachments": {},
   "cell_type": "markdown",
   "metadata": {},
   "source": [
    "## Resulting Code"
   ]
  },
  {
   "cell_type": "code",
   "execution_count": null,
   "metadata": {},
   "outputs": [],
   "source": [
    "class StringProcessor:\n",
    "    def __init__(self, some_string):\n",
    "        self.some_string = some_string\n",
    "        self.some_string = self.add_111()\n",
    "        self.some_string = self.zero_pad()\n",
    "\n",
    "    def add_111(self):\n",
    "        return self.some_string + \"111\"\n",
    "\n",
    "    def zero_pad(self):\n",
    "        return self.some_string.zfill(10)\n",
    "\n",
    "# Usage example:\n",
    "some_var = \"12345\"\n",
    "processor = StringProcessor(some_var)\n",
    "result = processor.some_string\n",
    "print(result)  # Output: 000012345111\n"
   ]
  },
  {
   "attachments": {},
   "cell_type": "markdown",
   "metadata": {},
   "source": [
    "And we use it ourselves"
   ]
  },
  {
   "cell_type": "code",
   "execution_count": null,
   "metadata": {},
   "outputs": [],
   "source": [
    "sp = StringProcessor(\"hello\")\n",
    "print(sp.some_string)"
   ]
  },
  {
   "attachments": {},
   "cell_type": "markdown",
   "metadata": {},
   "source": [
    "The class looks pretty good but we can make it better."
   ]
  },
  {
   "attachments": {},
   "cell_type": "markdown",
   "metadata": {},
   "source": [
    "## ChatGPT Ask"
   ]
  },
  {
   "cell_type": "code",
   "execution_count": null,
   "metadata": {},
   "outputs": [],
   "source": [
    "# convert this code into a class. turn the functions into internal methods, with the standard internal method naming style.\n",
    "# turn the rest of the code into a constructor method.\n",
    "# add a getter for self.some_string\n",
    "# add documentation to the class and methods\n",
    "# add type hinting \n",
    "\n",
    "# # function to add string \"111\" to a string\n",
    "# def add_111(some_string):\n",
    "#     return some_string + \"111\"\n",
    "\n",
    "# # function to make string zero padded to 10 chars to a string\n",
    "# def zero_pad(a):\n",
    "#     return a.zfill(10)\n",
    "\n",
    "# some_var = add_111(some_var)\n",
    "# some_var = zero_pad(some_var)"
   ]
  },
  {
   "attachments": {},
   "cell_type": "markdown",
   "metadata": {},
   "source": [
    "## Results"
   ]
  },
  {
   "cell_type": "code",
   "execution_count": null,
   "metadata": {},
   "outputs": [],
   "source": [
    "class StringManipulator:\n",
    "    \"\"\"\n",
    "    A class to perform string manipulations like adding \"111\" to a given string and\n",
    "    zero padding it to 10 characters.\n",
    "    \"\"\"\n",
    "\n",
    "    def __init__(self, some_string: str):\n",
    "        \"\"\"\n",
    "        Constructor method to initialize the class with the given input string.\n",
    "        The input string is then modified by adding \"111\" and zero padding it\n",
    "        to 10 characters.\n",
    "\n",
    "        :param some_string: The input string to be manipulated\n",
    "        :type some_string: str\n",
    "        \"\"\"\n",
    "        self.some_string = some_string\n",
    "        self._add_111()\n",
    "        self._zero_pad()\n",
    "\n",
    "    def _add_111(self):\n",
    "        \"\"\"Adds \"111\" to the end of the input string.\"\"\"\n",
    "        self.some_string += \"111\"\n",
    "\n",
    "    def _zero_pad(self):\n",
    "        \"\"\"Pads the input string with zeros to make it 10 characters long.\"\"\"\n",
    "        self.some_string = self.some_string.zfill(10)\n",
    "\n",
    "    @property\n",
    "    def some_string(self) -> str:\n",
    "        \"\"\"\n",
    "        Getter method to retrieve the manipulated string.\n",
    "\n",
    "        :return: The manipulated string\n",
    "        :rtype: str\n",
    "        \"\"\"\n",
    "        return self._some_string\n",
    "\n",
    "    @some_string.setter\n",
    "    def some_string(self, value: str):\n",
    "        \"\"\"\n",
    "        Setter method to set the value of the internal string.\n",
    "\n",
    "        :param value: The new value for the internal string\n",
    "        :type value: str\n",
    "        \"\"\"\n",
    "        self._some_string = value\n"
   ]
  },
  {
   "attachments": {},
   "cell_type": "markdown",
   "metadata": {},
   "source": [
    "## Pretty good"
   ]
  }
 ],
 "metadata": {
  "kernelspec": {
   "display_name": "aqpe",
   "language": "python",
   "name": "python3"
  },
  "language_info": {
   "codemirror_mode": {
    "name": "ipython",
    "version": 3
   },
   "file_extension": ".py",
   "mimetype": "text/x-python",
   "name": "python",
   "nbconvert_exporter": "python",
   "pygments_lexer": "ipython3",
   "version": "3.11.2"
  },
  "orig_nbformat": 4
 },
 "nbformat": 4,
 "nbformat_minor": 2
}
