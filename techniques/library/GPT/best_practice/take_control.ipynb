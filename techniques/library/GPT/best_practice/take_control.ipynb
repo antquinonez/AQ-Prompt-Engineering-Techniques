{
 "cells": [
  {
   "attachments": {},
   "cell_type": "markdown",
   "metadata": {},
   "source": [
    "## Setup"
   ]
  },
  {
   "cell_type": "code",
   "execution_count": null,
   "metadata": {},
   "outputs": [],
   "source": [
    "%%html\n",
    "<style>\n",
    "    /* Enable word wrap */\n",
    "    .rendered_html table, .rendered_html th, .rendered_html tr, .rendered_html td {\n",
    "      white-space: nowrap;\n",
    "      overflow: hidden;\n",
    "      text-overflow: ellipsis;\n",
    "    }\n",
    "</style>"
   ]
  },
  {
   "attachments": {},
   "cell_type": "markdown",
   "metadata": {},
   "source": [
    "### imports"
   ]
  },
  {
   "cell_type": "code",
   "execution_count": null,
   "metadata": {},
   "outputs": [],
   "source": [
    "# ...\n",
    "import openai\n",
    "import os\n",
    "import pprint\n",
    "import sys\n",
    "from pprint import pprint\n",
    "import json\n",
    "import pyarrow as pa\n",
    "import pandas as pd\n",
    "\n",
    "lib = os.path.abspath(os.path.join('..', '..', 'libs'))\n",
    "sys.path.append(lib)\n",
    "\n",
    "from MessageParser import MessageParser\n",
    "from OpenAIResponseParser import OpenAIResponseParser\n"
   ]
  },
  {
   "attachments": {},
   "cell_type": "markdown",
   "metadata": {},
   "source": [
    "### Config"
   ]
  },
  {
   "cell_type": "code",
   "execution_count": 19,
   "metadata": {},
   "outputs": [],
   "source": [
    "# ...\n",
    "\n",
    "# Setup up pandas properties\n",
    "pd.set_option('display.max_columns', None)  # Display all columns\n",
    "pd.set_option('display.expand_frame_repr', False)  # Prevent line break in DataFrame\n",
    "pd.set_option('display.max_colwidth', None)  # Display the full content of cells\n",
    "\n",
    "# Set the API key\n",
    "openai.api_key = os.getenv(\"OPENAI_API_KEY\")"
   ]
  },
  {
   "attachments": {},
   "cell_type": "markdown",
   "metadata": {},
   "source": [
    "## Main code"
   ]
  },
  {
   "attachments": {},
   "cell_type": "markdown",
   "metadata": {},
   "source": [
    "Prep the system prompt component"
   ]
  },
  {
   "cell_type": "code",
   "execution_count": null,
   "metadata": {},
   "outputs": [],
   "source": [
    "sys_prompt_list = []\n",
    "sys_prompt_1 = \"\"\"You are a software expert.\"\"\"\n",
    "sys_prompt_2 = \"\"\"Use. \"```python\" style for code blocks.\"\"\"\n",
    "sys_prompt_3 = \"\"\"Include the name for a file where I would store individual code for functions or classes.\"\"\"\n",
    "sys_prompt_4 = \"\"\"Embed in the body of the code block the instructions you created prepended with a '\\n'.\"\"\"\n",
    "\n",
    "sys_prompt_list.append(sys_prompt_1)\n",
    "sys_prompt_list.append(sys_prompt_2)\n",
    "sys_prompt_list.append(sys_prompt_3)\n",
    "sys_prompt_list.append(sys_prompt_4)\n",
    "\n",
    "sys_prompt = \"\".join(sys_prompt_list)"
   ]
  },
  {
   "attachments": {},
   "cell_type": "markdown",
   "metadata": {},
   "source": [
    "Generate the message and make the call"
   ]
  },
  {
   "cell_type": "code",
   "execution_count": null,
   "metadata": {},
   "outputs": [],
   "source": [
    "prompts = f\"\"\"\n",
    "system: {sys_prompt}\n",
    "user: Write python code for fibonacci sequence. also write a function to zero pad a string to 10 chars.\n",
    "\"\"\"\n",
    "\n",
    "parser = MessageParser(prompts)\n",
    "messages = parser.parse_messages()\n",
    "\n",
    "# Get the response from OpenAI\n",
    "response = openai.ChatCompletion.create(model='gpt-3.5-turbo', temperature=1.3, max_tokens=3000, messages = messages)\n"
   ]
  },
  {
   "attachments": {},
   "cell_type": "markdown",
   "metadata": {},
   "source": [
    "Get a parser object, using a custom class."
   ]
  },
  {
   "cell_type": "code",
   "execution_count": null,
   "metadata": {},
   "outputs": [],
   "source": [
    "parser = OpenAIResponseParser(response=response)"
   ]
  },
  {
   "attachments": {},
   "cell_type": "markdown",
   "metadata": {},
   "source": [
    "get a pandas dataframe from the parser"
   ]
  },
  {
   "cell_type": "code",
   "execution_count": null,
   "metadata": {},
   "outputs": [],
   "source": [
    "messages_df = parser.get_dataframe()"
   ]
  },
  {
   "cell_type": "code",
   "execution_count": null,
   "metadata": {},
   "outputs": [],
   "source": [
    "# get a style\n",
    "# a pandas style does not have all the functionality of a pandas DataFrame.\n",
    "\n",
    "# A pandas style is a feature of the pandas library that allows you to apply custom formatting to a DataFrame to make it\n",
    "# easier to read and understand. It provides a way to format the visual representation of the data, such as adding\n",
    "# color, font size, or alignment, but it does not change the underlying data structure or its functionality.\n",
    "\n",
    "# While pandas style can be useful for making your data easier to read and understand, it does not offer the full range\n",
    "# of functionality that a DataFrame provides."
   ]
  },
  {
   "cell_type": "code",
   "execution_count": null,
   "metadata": {},
   "outputs": [],
   "source": [
    "parser.styled"
   ]
  }
 ],
 "metadata": {
  "kernelspec": {
   "display_name": "aqpe",
   "language": "python",
   "name": "python3"
  },
  "language_info": {
   "codemirror_mode": {
    "name": "ipython",
    "version": 3
   },
   "file_extension": ".py",
   "mimetype": "text/x-python",
   "name": "python",
   "nbconvert_exporter": "python",
   "pygments_lexer": "ipython3",
   "version": "3.11.3"
  },
  "orig_nbformat": 4
 },
 "nbformat": 4,
 "nbformat_minor": 2
}
