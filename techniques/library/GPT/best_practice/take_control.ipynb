{
 "cells": [
  {
   "attachments": {},
   "cell_type": "markdown",
   "metadata": {},
   "source": [
    "# Take Control of GPT : Use the API. Don't let the API use you"
   ]
  },
  {
   "attachments": {},
   "cell_type": "markdown",
   "metadata": {},
   "source": [
    "### My first openai API Project!!!"
   ]
  },
  {
   "attachments": {},
   "cell_type": "markdown",
   "metadata": {},
   "source": [
    "Here, I use the openai Python lib and some custom classes to handle processing prompts and responses. I store the results in a pandas dataframe, then format the code in a pandas 'style' object. I can use the dataframe and other objects (like the multiline string of prompts) to manage context for later prompts. Yes, context from prompts and answers. So much more to do with this. But this is a start."
   ]
  },
  {
   "attachments": {},
   "cell_type": "markdown",
   "metadata": {},
   "source": [
    "## Setup"
   ]
  },
  {
   "cell_type": "code",
   "execution_count": 14,
   "metadata": {},
   "outputs": [
    {
     "data": {
      "text/html": [
       "<style>\n",
       "    /* Enable word wrap */\n",
       "    .rendered_html table, .rendered_html th, .rendered_html tr, .rendered_html td {\n",
       "      white-space: nowrap;\n",
       "      overflow: hidden;\n",
       "      text-overflow: ellipsis;\n",
       "    }\n",
       "</style>\n"
      ],
      "text/plain": [
       "<IPython.core.display.HTML object>"
      ]
     },
     "metadata": {},
     "output_type": "display_data"
    }
   ],
   "source": [
    "%%html\n",
    "<style>\n",
    "    /* Enable word wrap */\n",
    "    .rendered_html table, .rendered_html th, .rendered_html tr, .rendered_html td {\n",
    "      white-space: nowrap;\n",
    "      overflow: hidden;\n",
    "      text-overflow: ellipsis;\n",
    "    }\n",
    "</style>"
   ]
  },
  {
   "attachments": {},
   "cell_type": "markdown",
   "metadata": {},
   "source": [
    "### Imports"
   ]
  },
  {
   "cell_type": "code",
   "execution_count": 15,
   "metadata": {},
   "outputs": [],
   "source": [
    "# ...\n",
    "import openai\n",
    "import os\n",
    "import pprint\n",
    "import sys\n",
    "from pprint import pprint\n",
    "import json\n",
    "import pyarrow as pa\n",
    "import pandas as pd\n",
    "\n",
    "lib = os.path.abspath(os.path.join('..', '..', 'libs'))\n",
    "sys.path.append(lib)\n",
    "\n",
    "from MessageParser import MessageParser\n",
    "from ResponseParser import ResponseParser\n",
    "from PromptLogs import PromptLogs\n"
   ]
  },
  {
   "attachments": {},
   "cell_type": "markdown",
   "metadata": {},
   "source": [
    "### Config"
   ]
  },
  {
   "cell_type": "code",
   "execution_count": 16,
   "metadata": {},
   "outputs": [],
   "source": [
    "# ...\n",
    "# *******************************************************************************************************\n",
    "# SET THE API KEY\n",
    "# ================\n",
    "# -- set the env variable OPENAI_API_KEY to your OpenAI API key       <<<<<<<<<<<<<<<<<<<<<<<<<<<<<<<<<<<\n",
    "openai.api_key = os.getenv(\"OPENAI_API_KEY\")\n",
    "# *******************************************************************************************************\n",
    "\n",
    "# Setup up pandas properties\n",
    "pd.set_option('display.max_columns', None)  # Display all columns\n",
    "pd.set_option('display.expand_frame_repr', False)  # Prevent line break in DataFrame\n",
    "pd.set_option('display.max_colwidth', None)  # Display the full content of cells\n",
    "\n"
   ]
  },
  {
   "attachments": {},
   "cell_type": "markdown",
   "metadata": {},
   "source": [
    "## Main code"
   ]
  },
  {
   "attachments": {},
   "cell_type": "markdown",
   "metadata": {},
   "source": [
    "Prep the system prompts"
   ]
  },
  {
   "cell_type": "code",
   "execution_count": 17,
   "metadata": {},
   "outputs": [],
   "source": [
    "sys_prompt_list = []\n",
    "sys_prompt_1 = \"\"\"You are a software expert.\"\"\"\n",
    "sys_prompt_2 = \"\"\"Use. \"```python\" style for code blocks.\"\"\"\n",
    "sys_prompt_3 = \"\"\"Include the name for a file where I would store individual code for functions or classes.\"\"\"\n",
    "\n",
    "sys_prompt_list.append(sys_prompt_1)\n",
    "sys_prompt_list.append(sys_prompt_2)\n",
    "sys_prompt_list.append(sys_prompt_3)\n",
    "\n",
    "sys_prompt_string = \"\".join(sys_prompt_list)"
   ]
  },
  {
   "attachments": {},
   "cell_type": "markdown",
   "metadata": {},
   "source": [
    "### a PromptLogs object will hold all the individual individual parser objects, which hold the response from a single exchange"
   ]
  },
  {
   "cell_type": "code",
   "execution_count": 18,
   "metadata": {},
   "outputs": [],
   "source": [
    "logs = PromptLogs()"
   ]
  },
  {
   "attachments": {},
   "cell_type": "markdown",
   "metadata": {},
   "source": [
    "Generate the message and make the call"
   ]
  },
  {
   "cell_type": "code",
   "execution_count": 19,
   "metadata": {},
   "outputs": [],
   "source": [
    "message_list = f\"\"\"\n",
    "system: {sys_prompt_string}\n",
    "user: Write python code for fibonacci sequence. also write a function to zero pad a string to 10 chars.\n",
    "\"\"\"\n",
    "\n",
    "# a MessageParser object will prcoess the message_list and make an acceptable messages object\n",
    "response_parser = MessageParser(message_list)\n",
    "messages = response_parser.parse_messages()\n",
    "\n",
    "#  make the openai call and get the response\n",
    "# I'll abstract this away in the future\n",
    "response = openai.ChatCompletion.create(model='gpt-3.5-turbo', temperature=1.3, max_tokens=300, messages = messages)\n"
   ]
  },
  {
   "attachments": {},
   "cell_type": "markdown",
   "metadata": {},
   "source": [
    "A response parser will process the response"
   ]
  },
  {
   "cell_type": "code",
   "execution_count": 20,
   "metadata": {},
   "outputs": [],
   "source": [
    "response_parser = ResponseParser(response=response)"
   ]
  },
  {
   "attachments": {},
   "cell_type": "markdown",
   "metadata": {},
   "source": [
    "See a pandas dataframe of the logged response"
   ]
  },
  {
   "cell_type": "code",
   "execution_count": 28,
   "metadata": {},
   "outputs": [
    {
     "data": {
      "text/html": [
       "<div>\n",
       "<style scoped>\n",
       "    .dataframe tbody tr th:only-of-type {\n",
       "        vertical-align: middle;\n",
       "    }\n",
       "\n",
       "    .dataframe tbody tr th {\n",
       "        vertical-align: top;\n",
       "    }\n",
       "\n",
       "    .dataframe thead th {\n",
       "        text-align: right;\n",
       "    }\n",
       "</style>\n",
       "<table border=\"1\" class=\"dataframe\">\n",
       "  <thead>\n",
       "    <tr style=\"text-align: right;\">\n",
       "      <th></th>\n",
       "      <th>id</th>\n",
       "      <th>created</th>\n",
       "      <th>model</th>\n",
       "      <th>usage</th>\n",
       "      <th>all_code</th>\n",
       "      <th>code_blocks</th>\n",
       "      <th>content</th>\n",
       "    </tr>\n",
       "  </thead>\n",
       "  <tbody>\n",
       "    <tr>\n",
       "      <th>0</th>\n",
       "      <td>chatcmpl-73ywxpWRLcU2BzzKGkaMBluPZBmqn</td>\n",
       "      <td>1.681184e+09</td>\n",
       "      <td>gpt-3.5-turbo-0301</td>\n",
       "      <td>60.0</td>\n",
       "      <td>def&amp;nbsp;get_numbers():&lt;br&gt;&amp;nbsp;&amp;nbsp;&amp;nbsp;&amp;nbsp;return&amp;nbsp;[num&amp;nbsp;for&amp;nbsp;num&amp;nbsp;in&amp;nbsp;range(1,11)]&lt;br&gt;from&amp;nbsp;utilities&amp;nbsp;import&amp;nbsp;get_numbers&lt;br&gt;</td>\n",
       "      <td>[\\ndef get_numbers():\\n    return [num for num in range(1,11)]\\n, \\nfrom utilities import get_numbers\\n]</td>\n",
       "      <td>The function to return numbers 1-10 in a list would look like this:\\n\\n```python\\ndef get_numbers():\\n    return [num for num in range(1,11)]\\n```\\n\\nHere, we have defined a function called `get_numbers` which simply returns a list containing numbers from 1 to 10. We're using a list comprehension to create and return the list. Note that we specify the range(1, 11), as it includes all values from 1 to 10. \\n\\nYou can store this function in a file called `utilities.py`. Of course, you could also use another name for the file as well. You'd just need to use the appropriate file name when you import the function elsewhere in your project. The import statement would look something like this:\\n\\n```python\\nfrom utilities import get_numbers\\n```</td>\n",
       "    </tr>\n",
       "  </tbody>\n",
       "</table>\n",
       "</div>"
      ],
      "text/plain": [
       "                                       id       created               model  usage                                                                                                                                                                 all_code                                                                                               code_blocks                                                                                                                                                                                                                                                                                                                                                                                                                                                                                                                                                                                                                                                                                                                                                                       content\n",
       "0  chatcmpl-73ywxpWRLcU2BzzKGkaMBluPZBmqn  1.681184e+09  gpt-3.5-turbo-0301   60.0  def&nbsp;get_numbers():<br>&nbsp;&nbsp;&nbsp;&nbsp;return&nbsp;[num&nbsp;for&nbsp;num&nbsp;in&nbsp;range(1,11)]<br>from&nbsp;utilities&nbsp;import&nbsp;get_numbers<br>  [\\ndef get_numbers():\\n    return [num for num in range(1,11)]\\n, \\nfrom utilities import get_numbers\\n]  The function to return numbers 1-10 in a list would look like this:\\n\\n```python\\ndef get_numbers():\\n    return [num for num in range(1,11)]\\n```\\n\\nHere, we have defined a function called `get_numbers` which simply returns a list containing numbers from 1 to 10. We're using a list comprehension to create and return the list. Note that we specify the range(1, 11), as it includes all values from 1 to 10. \\n\\nYou can store this function in a file called `utilities.py`. Of course, you could also use another name for the file as well. You'd just need to use the appropriate file name when you import the function elsewhere in your project. The import statement would look something like this:\\n\\n```python\\nfrom utilities import get_numbers\\n```"
      ]
     },
     "execution_count": 28,
     "metadata": {},
     "output_type": "execute_result"
    }
   ],
   "source": [
    "response_parser.df"
   ]
  },
  {
   "cell_type": "code",
   "execution_count": 22,
   "metadata": {},
   "outputs": [
    {
     "data": {
      "text/html": [
       "<style type=\"text/css\">\n",
       "#T_52479_row0_col0, #T_52479_row0_col1, #T_52479_row0_col2, #T_52479_row0_col3, #T_52479_row0_col4 {\n",
       "  text-align: left;\n",
       "}\n",
       "</style>\n",
       "<table id=\"T_52479\">\n",
       "  <thead>\n",
       "    <tr>\n",
       "      <th class=\"blank level0\" >&nbsp;</th>\n",
       "      <th id=\"T_52479_level0_col0\" class=\"col_heading level0 col0\" >id</th>\n",
       "      <th id=\"T_52479_level0_col1\" class=\"col_heading level0 col1\" >created</th>\n",
       "      <th id=\"T_52479_level0_col2\" class=\"col_heading level0 col2\" >model</th>\n",
       "      <th id=\"T_52479_level0_col3\" class=\"col_heading level0 col3\" >usage</th>\n",
       "      <th id=\"T_52479_level0_col4\" class=\"col_heading level0 col4\" >all_code</th>\n",
       "    </tr>\n",
       "  </thead>\n",
       "  <tbody>\n",
       "    <tr>\n",
       "      <th id=\"T_52479_level0_row0\" class=\"row_heading level0 row0\" >0</th>\n",
       "      <td id=\"T_52479_row0_col0\" class=\"data row0 col0\" >chatcmpl-73ywrIJ5cfirs5nwKXHWpe5gIe6m9</td>\n",
       "      <td id=\"T_52479_row0_col1\" class=\"data row0 col1\" >1681183625.000000</td>\n",
       "      <td id=\"T_52479_row0_col2\" class=\"data row0 col2\" >gpt-3.5-turbo-0301</td>\n",
       "      <td id=\"T_52479_row0_col3\" class=\"data row0 col3\" >66.000000</td>\n",
       "      <td id=\"T_52479_row0_col4\" class=\"data row0 col4\" >def&nbsp;fibonacci(n):<br>&nbsp;&nbsp;&nbsp;&nbsp;\"\"\"<br>&nbsp;&nbsp;&nbsp;&nbsp;Computes&nbsp;nth&nbsp;Fibonacci&nbsp;number.<br>&nbsp;&nbsp;&nbsp;&nbsp;\"\"\"<br>&nbsp;&nbsp;&nbsp;&nbsp;if&nbsp;n&nbsp;<=&nbsp;1:<br>&nbsp;&nbsp;&nbsp;&nbsp;&nbsp;&nbsp;&nbsp;&nbsp;return&nbsp;n<br>&nbsp;&nbsp;&nbsp;&nbsp;else:<br>&nbsp;&nbsp;&nbsp;&nbsp;&nbsp;&nbsp;&nbsp;&nbsp;return&nbsp;(fibonacci(n&nbsp;-&nbsp;1)&nbsp;+&nbsp;fibonacci(n&nbsp;-&nbsp;2))<br>def&nbsp;zero_pad(s):<br>&nbsp;&nbsp;&nbsp;&nbsp;\"\"\"<br>&nbsp;&nbsp;&nbsp;&nbsp;Returns&nbsp;string&nbsp;s&nbsp;padded&nbsp;with&nbsp;zeros&nbsp;to&nbsp;make&nbsp;it&nbsp;10&nbsp;characters.<br>&nbsp;&nbsp;&nbsp;&nbsp;\"\"\"<br>&nbsp;&nbsp;&nbsp;&nbsp;return&nbsp;s.zfill(10)<br></td>\n",
       "    </tr>\n",
       "  </tbody>\n",
       "</table>\n"
      ],
      "text/plain": [
       "<pandas.io.formats.style.Styler at 0x2360b587df0>"
      ]
     },
     "execution_count": 22,
     "metadata": {},
     "output_type": "execute_result"
    }
   ],
   "source": [
    "# A pandas style applies custom formatting to a DataFrame to make it easier to read and\n",
    "# understand. It does not offer the full range of functionality that a DataFrame provides.\n",
    "response_parser.styled_log"
   ]
  },
  {
   "cell_type": "code",
   "execution_count": 23,
   "metadata": {},
   "outputs": [],
   "source": [
    "# this is a PromptLogs object again. We'll add the response_parser to the logs\n",
    "logs.append(response_parser)"
   ]
  },
  {
   "attachments": {},
   "cell_type": "markdown",
   "metadata": {},
   "source": [
    "## And we have another exchange"
   ]
  },
  {
   "cell_type": "code",
   "execution_count": 24,
   "metadata": {},
   "outputs": [],
   "source": [
    "message_list = f\"\"\"\n",
    "system: {sys_prompt_string}\n",
    "user: Write a python function that returns numbers 1-10 in a list. \n",
    "\"\"\"\n",
    "\n",
    "message_parser = MessageParser(message_list)\n",
    "messages = message_parser.parse_messages()\n",
    "response = openai.ChatCompletion.create(model='gpt-3.5-turbo', temperature=1.3, max_tokens=300, messages = messages)\n",
    "response_parser = ResponseParser(response=response)\n",
    "\n",
    "logs.append(response_parser)"
   ]
  },
  {
   "cell_type": "code",
   "execution_count": 25,
   "metadata": {},
   "outputs": [
    {
     "data": {
      "text/html": [
       "<div>\n",
       "<style scoped>\n",
       "    .dataframe tbody tr th:only-of-type {\n",
       "        vertical-align: middle;\n",
       "    }\n",
       "\n",
       "    .dataframe tbody tr th {\n",
       "        vertical-align: top;\n",
       "    }\n",
       "\n",
       "    .dataframe thead th {\n",
       "        text-align: right;\n",
       "    }\n",
       "</style>\n",
       "<table border=\"1\" class=\"dataframe\">\n",
       "  <thead>\n",
       "    <tr style=\"text-align: right;\">\n",
       "      <th></th>\n",
       "      <th>id</th>\n",
       "      <th>created</th>\n",
       "      <th>model</th>\n",
       "      <th>usage</th>\n",
       "      <th>all_code</th>\n",
       "      <th>code_blocks</th>\n",
       "      <th>content</th>\n",
       "    </tr>\n",
       "  </thead>\n",
       "  <tbody>\n",
       "    <tr>\n",
       "      <th>0</th>\n",
       "      <td>chatcmpl-73ywrIJ5cfirs5nwKXHWpe5gIe6m9</td>\n",
       "      <td>1.681184e+09</td>\n",
       "      <td>gpt-3.5-turbo-0301</td>\n",
       "      <td>66.0</td>\n",
       "      <td>def&amp;nbsp;fibonacci(n):&lt;br&gt;&amp;nbsp;&amp;nbsp;&amp;nbsp;&amp;nbsp;\"\"\"&lt;br&gt;&amp;nbsp;&amp;nbsp;&amp;nbsp;&amp;nbsp;Computes&amp;nbsp;nth&amp;nbsp;Fibonacci&amp;nbsp;number.&lt;br&gt;&amp;nbsp;&amp;nbsp;&amp;nbsp;&amp;nbsp;\"\"\"&lt;br&gt;&amp;nbsp;&amp;nbsp;&amp;nbsp;&amp;nbsp;if&amp;nbsp;n&amp;nbsp;&lt;=&amp;nbsp;1:&lt;br&gt;&amp;nbsp;&amp;nbsp;&amp;nbsp;&amp;nbsp;&amp;nbsp;&amp;nbsp;&amp;nbsp;&amp;nbsp;return&amp;nbsp;n&lt;br&gt;&amp;nbsp;&amp;nbsp;&amp;nbsp;&amp;nbsp;else:&lt;br&gt;&amp;nbsp;&amp;nbsp;&amp;nbsp;&amp;nbsp;&amp;nbsp;&amp;nbsp;&amp;nbsp;&amp;nbsp;return&amp;nbsp;(fibonacci(n&amp;nbsp;-&amp;nbsp;1)&amp;nbsp;+&amp;nbsp;fibonacci(n&amp;nbsp;-&amp;nbsp;2))&lt;br&gt;def&amp;nbsp;zero_pad(s):&lt;br&gt;&amp;nbsp;&amp;nbsp;&amp;nbsp;&amp;nbsp;\"\"\"&lt;br&gt;&amp;nbsp;&amp;nbsp;&amp;nbsp;&amp;nbsp;Returns&amp;nbsp;string&amp;nbsp;s&amp;nbsp;padded&amp;nbsp;with&amp;nbsp;zeros&amp;nbsp;to&amp;nbsp;make&amp;nbsp;it&amp;nbsp;10&amp;nbsp;characters.&lt;br&gt;&amp;nbsp;&amp;nbsp;&amp;nbsp;&amp;nbsp;\"\"\"&lt;br&gt;&amp;nbsp;&amp;nbsp;&amp;nbsp;&amp;nbsp;return&amp;nbsp;s.zfill(10)&lt;br&gt;</td>\n",
       "      <td>[\\ndef fibonacci(n):\\n    \"\"\"\\n    Computes nth Fibonacci number.\\n    \"\"\"\\n    if n &lt;= 1:\\n        return n\\n    else:\\n        return (fibonacci(n - 1) + fibonacci(n - 2))\\n, \\ndef zero_pad(s):\\n    \"\"\"\\n    Returns string s padded with zeros to make it 10 characters.\\n    \"\"\"\\n    return s.zfill(10)\\n]</td>\n",
       "      <td>Fibonacci sequence code:\\n```python\\ndef fibonacci(n):\\n    \"\"\"\\n    Computes nth Fibonacci number.\\n    \"\"\"\\n    if n &lt;= 1:\\n        return n\\n    else:\\n        return (fibonacci(n - 1) + fibonacci(n - 2))\\n```\\n\\nCode for zero-padding a string to 10 characters:\\n```python\\ndef zero_pad(s):\\n    \"\"\"\\n    Returns string s padded with zeros to make it 10 characters.\\n    \"\"\"\\n    return s.zfill(10)\\n```\\n\\nThese functions could be saved in a Python file named `my_functions.py` for future use.</td>\n",
       "    </tr>\n",
       "    <tr>\n",
       "      <th>0</th>\n",
       "      <td>chatcmpl-73ywxpWRLcU2BzzKGkaMBluPZBmqn</td>\n",
       "      <td>1.681184e+09</td>\n",
       "      <td>gpt-3.5-turbo-0301</td>\n",
       "      <td>60.0</td>\n",
       "      <td>def&amp;nbsp;get_numbers():&lt;br&gt;&amp;nbsp;&amp;nbsp;&amp;nbsp;&amp;nbsp;return&amp;nbsp;[num&amp;nbsp;for&amp;nbsp;num&amp;nbsp;in&amp;nbsp;range(1,11)]&lt;br&gt;from&amp;nbsp;utilities&amp;nbsp;import&amp;nbsp;get_numbers&lt;br&gt;</td>\n",
       "      <td>[\\ndef get_numbers():\\n    return [num for num in range(1,11)]\\n, \\nfrom utilities import get_numbers\\n]</td>\n",
       "      <td>The function to return numbers 1-10 in a list would look like this:\\n\\n```python\\ndef get_numbers():\\n    return [num for num in range(1,11)]\\n```\\n\\nHere, we have defined a function called `get_numbers` which simply returns a list containing numbers from 1 to 10. We're using a list comprehension to create and return the list. Note that we specify the range(1, 11), as it includes all values from 1 to 10. \\n\\nYou can store this function in a file called `utilities.py`. Of course, you could also use another name for the file as well. You'd just need to use the appropriate file name when you import the function elsewhere in your project. The import statement would look something like this:\\n\\n```python\\nfrom utilities import get_numbers\\n```</td>\n",
       "    </tr>\n",
       "  </tbody>\n",
       "</table>\n",
       "</div>"
      ],
      "text/plain": [
       "                                       id       created               model  usage                                                                                                                                                                                                                                                                                                                                                                                                                                                                                                                                                                                                                                                                                                                                         all_code                                                                                                                                                                                                                                                                                                         code_blocks                                                                                                                                                                                                                                                                                                                                                                                                                                                                                                                                                                                                                                                                                                                                                                       content\n",
       "0  chatcmpl-73ywrIJ5cfirs5nwKXHWpe5gIe6m9  1.681184e+09  gpt-3.5-turbo-0301   66.0  def&nbsp;fibonacci(n):<br>&nbsp;&nbsp;&nbsp;&nbsp;\"\"\"<br>&nbsp;&nbsp;&nbsp;&nbsp;Computes&nbsp;nth&nbsp;Fibonacci&nbsp;number.<br>&nbsp;&nbsp;&nbsp;&nbsp;\"\"\"<br>&nbsp;&nbsp;&nbsp;&nbsp;if&nbsp;n&nbsp;<=&nbsp;1:<br>&nbsp;&nbsp;&nbsp;&nbsp;&nbsp;&nbsp;&nbsp;&nbsp;return&nbsp;n<br>&nbsp;&nbsp;&nbsp;&nbsp;else:<br>&nbsp;&nbsp;&nbsp;&nbsp;&nbsp;&nbsp;&nbsp;&nbsp;return&nbsp;(fibonacci(n&nbsp;-&nbsp;1)&nbsp;+&nbsp;fibonacci(n&nbsp;-&nbsp;2))<br>def&nbsp;zero_pad(s):<br>&nbsp;&nbsp;&nbsp;&nbsp;\"\"\"<br>&nbsp;&nbsp;&nbsp;&nbsp;Returns&nbsp;string&nbsp;s&nbsp;padded&nbsp;with&nbsp;zeros&nbsp;to&nbsp;make&nbsp;it&nbsp;10&nbsp;characters.<br>&nbsp;&nbsp;&nbsp;&nbsp;\"\"\"<br>&nbsp;&nbsp;&nbsp;&nbsp;return&nbsp;s.zfill(10)<br>  [\\ndef fibonacci(n):\\n    \"\"\"\\n    Computes nth Fibonacci number.\\n    \"\"\"\\n    if n <= 1:\\n        return n\\n    else:\\n        return (fibonacci(n - 1) + fibonacci(n - 2))\\n, \\ndef zero_pad(s):\\n    \"\"\"\\n    Returns string s padded with zeros to make it 10 characters.\\n    \"\"\"\\n    return s.zfill(10)\\n]                                                                                                                                                                                                                                                             Fibonacci sequence code:\\n```python\\ndef fibonacci(n):\\n    \"\"\"\\n    Computes nth Fibonacci number.\\n    \"\"\"\\n    if n <= 1:\\n        return n\\n    else:\\n        return (fibonacci(n - 1) + fibonacci(n - 2))\\n```\\n\\nCode for zero-padding a string to 10 characters:\\n```python\\ndef zero_pad(s):\\n    \"\"\"\\n    Returns string s padded with zeros to make it 10 characters.\\n    \"\"\"\\n    return s.zfill(10)\\n```\\n\\nThese functions could be saved in a Python file named `my_functions.py` for future use.\n",
       "0  chatcmpl-73ywxpWRLcU2BzzKGkaMBluPZBmqn  1.681184e+09  gpt-3.5-turbo-0301   60.0                                                                                                                                                                                                                                                                                                                                                                                                                                                                                                                                                                          def&nbsp;get_numbers():<br>&nbsp;&nbsp;&nbsp;&nbsp;return&nbsp;[num&nbsp;for&nbsp;num&nbsp;in&nbsp;range(1,11)]<br>from&nbsp;utilities&nbsp;import&nbsp;get_numbers<br>                                                                                                                                                                                                            [\\ndef get_numbers():\\n    return [num for num in range(1,11)]\\n, \\nfrom utilities import get_numbers\\n]  The function to return numbers 1-10 in a list would look like this:\\n\\n```python\\ndef get_numbers():\\n    return [num for num in range(1,11)]\\n```\\n\\nHere, we have defined a function called `get_numbers` which simply returns a list containing numbers from 1 to 10. We're using a list comprehension to create and return the list. Note that we specify the range(1, 11), as it includes all values from 1 to 10. \\n\\nYou can store this function in a file called `utilities.py`. Of course, you could also use another name for the file as well. You'd just need to use the appropriate file name when you import the function elsewhere in your project. The import statement would look something like this:\\n\\n```python\\nfrom utilities import get_numbers\\n```"
      ]
     },
     "execution_count": 25,
     "metadata": {},
     "output_type": "execute_result"
    }
   ],
   "source": [
    "logs.df"
   ]
  },
  {
   "attachments": {},
   "cell_type": "markdown",
   "metadata": {},
   "source": [
    "### And print the styled logs with the code from two separate prompt exchanges"
   ]
  },
  {
   "cell_type": "code",
   "execution_count": 26,
   "metadata": {},
   "outputs": [
    {
     "data": {
      "text/html": [
       "<style type=\"text/css\">\n",
       "#T_470c8_row0_col0, #T_470c8_row0_col1, #T_470c8_row0_col2, #T_470c8_row0_col3, #T_470c8_row1_col0, #T_470c8_row1_col1, #T_470c8_row1_col2, #T_470c8_row1_col3 {\n",
       "  text-align: left;\n",
       "}\n",
       "</style>\n",
       "<table id=\"T_470c8\">\n",
       "  <thead>\n",
       "    <tr>\n",
       "      <th class=\"blank level0\" >&nbsp;</th>\n",
       "      <th id=\"T_470c8_level0_col0\" class=\"col_heading level0 col0\" >created</th>\n",
       "      <th id=\"T_470c8_level0_col1\" class=\"col_heading level0 col1\" >model</th>\n",
       "      <th id=\"T_470c8_level0_col2\" class=\"col_heading level0 col2\" >usage</th>\n",
       "      <th id=\"T_470c8_level0_col3\" class=\"col_heading level0 col3\" >all_code</th>\n",
       "    </tr>\n",
       "    <tr>\n",
       "      <th class=\"index_name level0\" >id</th>\n",
       "      <th class=\"blank col0\" >&nbsp;</th>\n",
       "      <th class=\"blank col1\" >&nbsp;</th>\n",
       "      <th class=\"blank col2\" >&nbsp;</th>\n",
       "      <th class=\"blank col3\" >&nbsp;</th>\n",
       "    </tr>\n",
       "  </thead>\n",
       "  <tbody>\n",
       "    <tr>\n",
       "      <th id=\"T_470c8_level0_row0\" class=\"row_heading level0 row0\" >chatcmpl-73ywrIJ5cfirs5nwKXHWpe5gIe6m9</th>\n",
       "      <td id=\"T_470c8_row0_col0\" class=\"data row0 col0\" >1681183625.000000</td>\n",
       "      <td id=\"T_470c8_row0_col1\" class=\"data row0 col1\" >gpt-3.5-turbo-0301</td>\n",
       "      <td id=\"T_470c8_row0_col2\" class=\"data row0 col2\" >66.000000</td>\n",
       "      <td id=\"T_470c8_row0_col3\" class=\"data row0 col3\" >def&nbsp;fibonacci(n):<br>&nbsp;&nbsp;&nbsp;&nbsp;\"\"\"<br>&nbsp;&nbsp;&nbsp;&nbsp;Computes&nbsp;nth&nbsp;Fibonacci&nbsp;number.<br>&nbsp;&nbsp;&nbsp;&nbsp;\"\"\"<br>&nbsp;&nbsp;&nbsp;&nbsp;if&nbsp;n&nbsp;<=&nbsp;1:<br>&nbsp;&nbsp;&nbsp;&nbsp;&nbsp;&nbsp;&nbsp;&nbsp;return&nbsp;n<br>&nbsp;&nbsp;&nbsp;&nbsp;else:<br>&nbsp;&nbsp;&nbsp;&nbsp;&nbsp;&nbsp;&nbsp;&nbsp;return&nbsp;(fibonacci(n&nbsp;-&nbsp;1)&nbsp;+&nbsp;fibonacci(n&nbsp;-&nbsp;2))<br>def&nbsp;zero_pad(s):<br>&nbsp;&nbsp;&nbsp;&nbsp;\"\"\"<br>&nbsp;&nbsp;&nbsp;&nbsp;Returns&nbsp;string&nbsp;s&nbsp;padded&nbsp;with&nbsp;zeros&nbsp;to&nbsp;make&nbsp;it&nbsp;10&nbsp;characters.<br>&nbsp;&nbsp;&nbsp;&nbsp;\"\"\"<br>&nbsp;&nbsp;&nbsp;&nbsp;return&nbsp;s.zfill(10)<br></td>\n",
       "    </tr>\n",
       "    <tr>\n",
       "      <th id=\"T_470c8_level0_row1\" class=\"row_heading level0 row1\" >chatcmpl-73ywxpWRLcU2BzzKGkaMBluPZBmqn</th>\n",
       "      <td id=\"T_470c8_row1_col0\" class=\"data row1 col0\" >1681183631.000000</td>\n",
       "      <td id=\"T_470c8_row1_col1\" class=\"data row1 col1\" >gpt-3.5-turbo-0301</td>\n",
       "      <td id=\"T_470c8_row1_col2\" class=\"data row1 col2\" >60.000000</td>\n",
       "      <td id=\"T_470c8_row1_col3\" class=\"data row1 col3\" >def&nbsp;get_numbers():<br>&nbsp;&nbsp;&nbsp;&nbsp;return&nbsp;[num&nbsp;for&nbsp;num&nbsp;in&nbsp;range(1,11)]<br>from&nbsp;utilities&nbsp;import&nbsp;get_numbers<br></td>\n",
       "    </tr>\n",
       "  </tbody>\n",
       "</table>\n"
      ],
      "text/plain": [
       "<pandas.io.formats.style.Styler at 0x2360b08b3d0>"
      ]
     },
     "execution_count": 26,
     "metadata": {},
     "output_type": "execute_result"
    }
   ],
   "source": [
    "logs.styled_log"
   ]
  }
 ],
 "metadata": {
  "kernelspec": {
   "display_name": "base",
   "language": "python",
   "name": "python3"
  },
  "language_info": {
   "codemirror_mode": {
    "name": "ipython",
    "version": 3
   },
   "file_extension": ".py",
   "mimetype": "text/x-python",
   "name": "python",
   "nbconvert_exporter": "python",
   "pygments_lexer": "ipython3",
   "version": "3.10.9"
  },
  "orig_nbformat": 4,
  "vscode": {
   "interpreter": {
    "hash": "23b8fda9da3a2a104a5aa7aa75e01582a86c23885ba37bc31bb5dabaa9da29ce"
   }
  }
 },
 "nbformat": 4,
 "nbformat_minor": 2
}
