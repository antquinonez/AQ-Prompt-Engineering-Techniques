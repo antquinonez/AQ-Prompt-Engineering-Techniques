{
 "cells": [
  {
   "attachments": {},
   "cell_type": "markdown",
   "metadata": {},
   "source": [
    "# Take Control of GPT : Use the API. Don't let the API use you"
   ]
  },
  {
   "attachments": {},
   "cell_type": "markdown",
   "metadata": {},
   "source": [
    "### My first openai API Project!!!"
   ]
  },
  {
   "attachments": {},
   "cell_type": "markdown",
   "metadata": {},
   "source": [
    "Here, I use the openai Python lib and some custom classes to handle processing prompts and responses. I store the results in a pandas dataframe, then format the code in a pandas 'style' object. I can use the dataframe and other objects (like the multiline string of prompts) to manage context for later prompts. Yes, context from prompts and answers. So much more to do with this. But this is a start."
   ]
  },
  {
   "attachments": {},
   "cell_type": "markdown",
   "metadata": {},
   "source": [
    "## Setup"
   ]
  },
  {
   "cell_type": "code",
   "execution_count": 7,
   "metadata": {},
   "outputs": [
    {
     "data": {
      "text/html": [
       "<style>\n",
       "    /* Enable word wrap */\n",
       "    .rendered_html table, .rendered_html th, .rendered_html tr, .rendered_html td {\n",
       "      white-space: nowrap;\n",
       "      overflow: hidden;\n",
       "      text-overflow: ellipsis;\n",
       "    }\n",
       "</style>\n"
      ],
      "text/plain": [
       "<IPython.core.display.HTML object>"
      ]
     },
     "metadata": {},
     "output_type": "display_data"
    }
   ],
   "source": [
    "%%html\n",
    "<style>\n",
    "    /* Enable word wrap */\n",
    "    .rendered_html table, .rendered_html th, .rendered_html tr, .rendered_html td {\n",
    "      white-space: nowrap;\n",
    "      overflow: hidden;\n",
    "      text-overflow: ellipsis;\n",
    "    }\n",
    "</style>"
   ]
  },
  {
   "attachments": {},
   "cell_type": "markdown",
   "metadata": {},
   "source": [
    "### Imports"
   ]
  },
  {
   "cell_type": "code",
   "execution_count": 8,
   "metadata": {},
   "outputs": [],
   "source": [
    "# ...\n",
    "import openai\n",
    "import os\n",
    "import pprint\n",
    "import sys\n",
    "from pprint import pprint\n",
    "import json\n",
    "import pyarrow as pa\n",
    "import pandas as pd\n",
    "\n",
    "lib = os.path.abspath(os.path.join('..', '..', 'libs'))\n",
    "sys.path.append(lib)\n",
    "\n",
    "from MessageParser import MessageParser\n",
    "from ResponseParser import ResponseParser\n"
   ]
  },
  {
   "attachments": {},
   "cell_type": "markdown",
   "metadata": {},
   "source": [
    "### Config"
   ]
  },
  {
   "cell_type": "code",
   "execution_count": 9,
   "metadata": {},
   "outputs": [],
   "source": [
    "# ...\n",
    "# *******************************************************************************************************\n",
    "# SET THE API KEY\n",
    "# ================\n",
    "# -- set the env variable OPENAI_API_KEY to your OpenAI API key       <<<<<<<<<<<<<<<<<<<<<<<<<<<<<<<<<<<\n",
    "openai.api_key = os.getenv(\"OPENAI_API_KEY\")\n",
    "# *******************************************************************************************************\n",
    "\n",
    "# Setup up pandas properties\n",
    "pd.set_option('display.max_columns', None)  # Display all columns\n",
    "pd.set_option('display.expand_frame_repr', False)  # Prevent line break in DataFrame\n",
    "pd.set_option('display.max_colwidth', None)  # Display the full content of cells\n",
    "\n"
   ]
  },
  {
   "attachments": {},
   "cell_type": "markdown",
   "metadata": {},
   "source": [
    "## Main code"
   ]
  },
  {
   "attachments": {},
   "cell_type": "markdown",
   "metadata": {},
   "source": [
    "Prep the system prompts"
   ]
  },
  {
   "cell_type": "code",
   "execution_count": 10,
   "metadata": {},
   "outputs": [],
   "source": [
    "sys_prompt_list = []\n",
    "sys_prompt_1 = \"\"\"You are a software expert.\"\"\"\n",
    "sys_prompt_2 = \"\"\"Use. \"```python\" style for code blocks.\"\"\"\n",
    "sys_prompt_3 = \"\"\"Include the name for a file where I would store individual code for functions or classes.\"\"\"\n",
    "sys_prompt_4 = \"\"\"Embed in the body of the code block the instructions you created prepended with a '\\n'.\"\"\"\n",
    "\n",
    "sys_prompt_list.append(sys_prompt_1)\n",
    "sys_prompt_list.append(sys_prompt_2)\n",
    "sys_prompt_list.append(sys_prompt_3)\n",
    "sys_prompt_list.append(sys_prompt_4)\n",
    "\n",
    "sys_prompt = \"\".join(sys_prompt_list)"
   ]
  },
  {
   "attachments": {},
   "cell_type": "markdown",
   "metadata": {},
   "source": [
    "Generate the message and make the call"
   ]
  },
  {
   "cell_type": "code",
   "execution_count": 11,
   "metadata": {},
   "outputs": [],
   "source": [
    "prompts = f\"\"\"\n",
    "system: {sys_prompt}\n",
    "user: Write python code for fibonacci sequence. also write a function to zero pad a string to 10 chars.\n",
    "\"\"\"\n",
    "\n",
    "parser = MessageParser(prompts)\n",
    "messages = parser.parse_messages()\n",
    "\n",
    "# Get the response\n",
    "# I'll abstract this away in the future\n",
    "response = openai.ChatCompletion.create(model='gpt-3.5-turbo', temperature=1.3, max_tokens=300, messages = messages)\n"
   ]
  },
  {
   "attachments": {},
   "cell_type": "markdown",
   "metadata": {},
   "source": [
    "Get a parser object, using a custom class."
   ]
  },
  {
   "cell_type": "code",
   "execution_count": 12,
   "metadata": {},
   "outputs": [],
   "source": [
    "parser = ResponseParser(response=response)"
   ]
  },
  {
   "attachments": {},
   "cell_type": "markdown",
   "metadata": {},
   "source": [
    "get a pandas dataframe from the parser"
   ]
  },
  {
   "cell_type": "code",
   "execution_count": 13,
   "metadata": {},
   "outputs": [],
   "source": [
    "messages_df = parser.get_dataframe()"
   ]
  },
  {
   "cell_type": "code",
   "execution_count": 14,
   "metadata": {},
   "outputs": [],
   "source": [
    "# get a style a pandas style does not have all the functionality of a pandas DataFrame.\n",
    "\n",
    "# A pandas style is a feature of the pandas library that allows you to apply custom\n",
    "# formatting to a DataFrame to make it easier to read and understand. It provides a way to\n",
    "# format the visual representation of the data, such as adding color, font size, or\n",
    "# alignment, but it does not change the underlying data structure or its functionality.\n",
    "\n",
    "# While pandas style can be useful for making your data easier to read and understand, it\n",
    "# does not offer the full range of functionality that a DataFrame provides."
   ]
  },
  {
   "cell_type": "code",
   "execution_count": 15,
   "metadata": {},
   "outputs": [
    {
     "data": {
      "text/html": [
       "<style type=\"text/css\">\n",
       "#T_d0d72_row0_col0, #T_d0d72_row0_col1, #T_d0d72_row0_col2, #T_d0d72_row0_col3, #T_d0d72_row0_col4 {\n",
       "  text-align: left;\n",
       "}\n",
       "</style>\n",
       "<table id=\"T_d0d72\">\n",
       "  <thead>\n",
       "    <tr>\n",
       "      <th class=\"blank level0\" >&nbsp;</th>\n",
       "      <th id=\"T_d0d72_level0_col0\" class=\"col_heading level0 col0\" >id</th>\n",
       "      <th id=\"T_d0d72_level0_col1\" class=\"col_heading level0 col1\" >created</th>\n",
       "      <th id=\"T_d0d72_level0_col2\" class=\"col_heading level0 col2\" >model</th>\n",
       "      <th id=\"T_d0d72_level0_col3\" class=\"col_heading level0 col3\" >usage</th>\n",
       "      <th id=\"T_d0d72_level0_col4\" class=\"col_heading level0 col4\" >all_code</th>\n",
       "    </tr>\n",
       "  </thead>\n",
       "  <tbody>\n",
       "    <tr>\n",
       "      <th id=\"T_d0d72_level0_row0\" class=\"row_heading level0 row0\" >0</th>\n",
       "      <td id=\"T_d0d72_row0_col0\" class=\"data row0 col0\" >chatcmpl-73cja2ZJXW7UUxcP6YbPn8UY1t0DA</td>\n",
       "      <td id=\"T_d0d72_row0_col1\" class=\"data row0 col1\" >1681098234.000000</td>\n",
       "      <td id=\"T_d0d72_row0_col2\" class=\"data row0 col2\" >gpt-3.5-turbo-0301</td>\n",
       "      <td id=\"T_d0d72_row0_col3\" class=\"data row0 col3\" >82.000000</td>\n",
       "      <td id=\"T_d0d72_row0_col4\" class=\"data row0 col4\" >#&nbsp;fibonacci.py<br><br>def&nbsp;fibonacci(n):<br>&nbsp;&nbsp;&nbsp;&nbsp;\"\"\"<br>&nbsp;&nbsp;&nbsp;&nbsp;Generates&nbsp;the&nbsp;first&nbsp;n&nbsp;terms&nbsp;of&nbsp;the&nbsp;Fibonacci&nbsp;sequence<br>&nbsp;&nbsp;&nbsp;&nbsp;\"\"\"<br>&nbsp;&nbsp;&nbsp;&nbsp;fib_sequence&nbsp;=&nbsp;[0,&nbsp;1]<br>&nbsp;&nbsp;&nbsp;&nbsp;while&nbsp;len(fib_sequence)&nbsp;<&nbsp;n:<br>&nbsp;&nbsp;&nbsp;&nbsp;&nbsp;&nbsp;&nbsp;&nbsp;next_num&nbsp;=&nbsp;fib_sequence[-1]&nbsp;+&nbsp;fib_sequence[-2]<br>&nbsp;&nbsp;&nbsp;&nbsp;&nbsp;&nbsp;&nbsp;&nbsp;fib_sequence.append(next_num)<br>&nbsp;&nbsp;&nbsp;&nbsp;return&nbsp;fib_sequence<br><br>def&nbsp;zero_pad(string):<br>&nbsp;&nbsp;&nbsp;&nbsp;\"\"\"<br>&nbsp;&nbsp;&nbsp;&nbsp;Pads&nbsp;a&nbsp;string&nbsp;with&nbsp;zeros&nbsp;to&nbsp;make&nbsp;it&nbsp;10&nbsp;characters&nbsp;long<br>&nbsp;&nbsp;&nbsp;&nbsp;\"\"\"<br>&nbsp;&nbsp;&nbsp;&nbsp;return&nbsp;\"{:<10}\".format(string)<br>from&nbsp;fibonacci&nbsp;import&nbsp;fibonacci,&nbsp;zero_pad<br><br>#&nbsp;Generating&nbsp;the&nbsp;first&nbsp;10&nbsp;terms&nbsp;of&nbsp;the&nbsp;sequence&nbsp;and&nbsp;printing&nbsp;them<br>fib_sequence&nbsp;=&nbsp;fibonacci(10)<br>print(fib_sequence)<br><br>#&nbsp;Padding&nbsp;a&nbsp;string&nbsp;to&nbsp;make&nbsp;it&nbsp;10&nbsp;characters&nbsp;long&nbsp;and&nbsp;printing&nbsp;the&nbsp;result<br>padded_string&nbsp;=&nbsp;zero_pad(\"hello\")<br>print(padded_string)<br></td>\n",
       "    </tr>\n",
       "  </tbody>\n",
       "</table>\n"
      ],
      "text/plain": [
       "<pandas.io.formats.style.Styler at 0x7fd823d502d0>"
      ]
     },
     "execution_count": 15,
     "metadata": {},
     "output_type": "execute_result"
    }
   ],
   "source": [
    "parser.styled"
   ]
  }
 ],
 "metadata": {
  "kernelspec": {
   "display_name": "aqpe",
   "language": "python",
   "name": "python3"
  },
  "language_info": {
   "codemirror_mode": {
    "name": "ipython",
    "version": 3
   },
   "file_extension": ".py",
   "mimetype": "text/x-python",
   "name": "python",
   "nbconvert_exporter": "python",
   "pygments_lexer": "ipython3",
   "version": "3.11.3"
  },
  "orig_nbformat": 4
 },
 "nbformat": 4,
 "nbformat_minor": 2
}
