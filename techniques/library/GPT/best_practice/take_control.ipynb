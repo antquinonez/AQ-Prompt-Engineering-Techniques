{
 "cells": [
  {
   "attachments": {},
   "cell_type": "markdown",
   "metadata": {},
   "source": [
    "# Take Control of GPT : Use the API. Don't let the API use you"
   ]
  },
  {
   "attachments": {},
   "cell_type": "markdown",
   "metadata": {},
   "source": [
    "### My first openai API Project!!!"
   ]
  },
  {
   "attachments": {},
   "cell_type": "markdown",
   "metadata": {},
   "source": [
    "Here, I use the openai Python lib and some custom classes to handle processing prompts and responses. I store the results in a pandas dataframe, then format the code in a pandas 'style' object. I can use the dataframe and other objects (like the multiline string of prompts) to manage context for later prompts. Yes, context from prompts and answers. So much more to do with this. But this is a start."
   ]
  },
  {
   "attachments": {},
   "cell_type": "markdown",
   "metadata": {},
   "source": [
    "## Setup"
   ]
  },
  {
   "cell_type": "code",
   "execution_count": 1,
   "metadata": {},
   "outputs": [
    {
     "data": {
      "text/html": [
       "<style>\n",
       "    /* Enable word wrap */\n",
       "    .rendered_html table, .rendered_html th, .rendered_html tr, .rendered_html td {\n",
       "      white-space: nowrap;\n",
       "      overflow: hidden;\n",
       "      text-overflow: ellipsis;\n",
       "    }\n",
       "</style>\n"
      ],
      "text/plain": [
       "<IPython.core.display.HTML object>"
      ]
     },
     "metadata": {},
     "output_type": "display_data"
    }
   ],
   "source": [
    "%%html\n",
    "<style>\n",
    "    /* Enable word wrap */\n",
    "    .rendered_html table, .rendered_html th, .rendered_html tr, .rendered_html td {\n",
    "      white-space: nowrap;\n",
    "      overflow: hidden;\n",
    "      text-overflow: ellipsis;\n",
    "    }\n",
    "</style>"
   ]
  },
  {
   "attachments": {},
   "cell_type": "markdown",
   "metadata": {},
   "source": [
    "### Imports"
   ]
  },
  {
   "cell_type": "code",
   "execution_count": 2,
   "metadata": {},
   "outputs": [],
   "source": [
    "# ...\n",
    "import openai\n",
    "import os\n",
    "import pprint\n",
    "import sys\n",
    "from pprint import pprint\n",
    "import json\n",
    "import pyarrow as pa\n",
    "import pandas as pd\n",
    "\n",
    "lib = os.path.abspath(os.path.join('..', '..', 'libs'))\n",
    "sys.path.append(lib)\n",
    "\n",
    "from MessageParser import MessageParser\n",
    "from ResponseParser import ResponseParser\n",
    "from PromptLogs import PromptLogs\n"
   ]
  },
  {
   "attachments": {},
   "cell_type": "markdown",
   "metadata": {},
   "source": [
    "### Config"
   ]
  },
  {
   "cell_type": "code",
   "execution_count": 3,
   "metadata": {},
   "outputs": [],
   "source": [
    "# ...\n",
    "# *******************************************************************************************************\n",
    "# SET THE API KEY\n",
    "# ================\n",
    "# -- set the env variable OPENAI_API_KEY to your OpenAI API key       <<<<<<<<<<<<<<<<<<<<<<<<<<<<<<<<<<<\n",
    "openai.api_key = os.getenv(\"OPENAI_API_KEY\")\n",
    "# *******************************************************************************************************\n",
    "\n",
    "# Setup up pandas properties\n",
    "pd.set_option('display.max_columns', None)  # Display all columns\n",
    "pd.set_option('display.expand_frame_repr', False)  # Prevent line break in DataFrame\n",
    "pd.set_option('display.max_colwidth', None)  # Display the full content of cells\n",
    "\n"
   ]
  },
  {
   "attachments": {},
   "cell_type": "markdown",
   "metadata": {},
   "source": [
    "## Main code"
   ]
  },
  {
   "attachments": {},
   "cell_type": "markdown",
   "metadata": {},
   "source": [
    "Prep the system prompts"
   ]
  },
  {
   "cell_type": "code",
   "execution_count": 4,
   "metadata": {},
   "outputs": [],
   "source": [
    "sys_prompt_list = []\n",
    "sys_prompt_1 = \"\"\"You are a software expert.\"\"\"\n",
    "sys_prompt_2 = \"\"\"Use. \"```python\" style for code blocks.\"\"\"\n",
    "sys_prompt_3 = \"\"\"Include the name for a file where I would store individual code for functions or classes.\"\"\"\n",
    "\n",
    "sys_prompt_list.append(sys_prompt_1)\n",
    "sys_prompt_list.append(sys_prompt_2)\n",
    "sys_prompt_list.append(sys_prompt_3)\n",
    "\n",
    "sys_prompt_string = \"\".join(sys_prompt_list)"
   ]
  },
  {
   "attachments": {},
   "cell_type": "markdown",
   "metadata": {},
   "source": [
    "### a PromptLogs object will hold all the individual individual parser objects, which hold the response from a single exchange"
   ]
  },
  {
   "cell_type": "code",
   "execution_count": 5,
   "metadata": {},
   "outputs": [],
   "source": [
    "logs = PromptLogs()"
   ]
  },
  {
   "attachments": {},
   "cell_type": "markdown",
   "metadata": {},
   "source": [
    "Generate the message and make the call"
   ]
  },
  {
   "cell_type": "code",
   "execution_count": 6,
   "metadata": {},
   "outputs": [],
   "source": [
    "message_list = f\"\"\"\n",
    "system: {sys_prompt_string}\n",
    "user: Write python code for fibonacci sequence. also write a function to zero pad a string to 10 chars.\n",
    "\"\"\"\n",
    "\n",
    "# a MessageParser object will process the message_list and make an acceptable messages object\n",
    "message_parser = MessageParser(message_list)\n",
    "messages = message_parser.parse()\n",
    "\n",
    "# Make the openai call and get the response\n",
    "# todo: I'll abstract this away in the future\n",
    "response = openai.ChatCompletion.create(model='gpt-3.5-turbo', temperature=1.3, max_tokens=300, messages = messages)\n"
   ]
  },
  {
   "attachments": {},
   "cell_type": "markdown",
   "metadata": {},
   "source": [
    "A response parser will process the response"
   ]
  },
  {
   "cell_type": "code",
   "execution_count": 7,
   "metadata": {},
   "outputs": [],
   "source": [
    "response_parser = ResponseParser(response=response)"
   ]
  },
  {
   "attachments": {},
   "cell_type": "markdown",
   "metadata": {},
   "source": [
    "See a pandas dataframe of the logged response"
   ]
  },
  {
   "cell_type": "code",
   "execution_count": 8,
   "metadata": {},
   "outputs": [
    {
     "data": {
      "text/html": [
       "<div>\n",
       "<style scoped>\n",
       "    .dataframe tbody tr th:only-of-type {\n",
       "        vertical-align: middle;\n",
       "    }\n",
       "\n",
       "    .dataframe tbody tr th {\n",
       "        vertical-align: top;\n",
       "    }\n",
       "\n",
       "    .dataframe thead th {\n",
       "        text-align: right;\n",
       "    }\n",
       "</style>\n",
       "<table border=\"1\" class=\"dataframe\">\n",
       "  <thead>\n",
       "    <tr style=\"text-align: right;\">\n",
       "      <th></th>\n",
       "      <th>id</th>\n",
       "      <th>created</th>\n",
       "      <th>model</th>\n",
       "      <th>usage</th>\n",
       "      <th>all_code</th>\n",
       "      <th>code_blocks</th>\n",
       "      <th>content</th>\n",
       "    </tr>\n",
       "  </thead>\n",
       "  <tbody>\n",
       "    <tr>\n",
       "      <th>0</th>\n",
       "      <td>chatcmpl-756VFQYJPiS3pWVPJZ6oVdGWjlolU</td>\n",
       "      <td>1.681451e+09</td>\n",
       "      <td>gpt-3.5-turbo-0301</td>\n",
       "      <td>66.0</td>\n",
       "      <td>def&amp;nbsp;fibonacci(n):&lt;br&gt;&amp;nbsp;&amp;nbsp;if&amp;nbsp;n&amp;nbsp;&lt;&amp;nbsp;0:&lt;br&gt;&amp;nbsp;&amp;nbsp;&amp;nbsp;&amp;nbsp;return&amp;nbsp;\"Invalid&amp;nbsp;input!!!&amp;nbsp;Input&amp;nbsp;should&amp;nbsp;be&amp;nbsp;a&amp;nbsp;positive&amp;nbsp;integer.\"&lt;br&gt;&amp;nbsp;&amp;nbsp;elif&amp;nbsp;n&amp;nbsp;&lt;=&amp;nbsp;1:&lt;br&gt;&amp;nbsp;&amp;nbsp;&amp;nbsp;&amp;nbsp;return&amp;nbsp;n&lt;br&gt;&amp;nbsp;&amp;nbsp;else:&lt;br&gt;&amp;nbsp;&amp;nbsp;&amp;nbsp;&amp;nbsp;return&amp;nbsp;fibonacci(n-1)&amp;nbsp;+&amp;nbsp;fibonacci(n-2)&lt;br&gt;&lt;br&gt;n&amp;nbsp;=&amp;nbsp;int(input(\"Enter&amp;nbsp;a&amp;nbsp;positive&amp;nbsp;integer:&amp;nbsp;\"))&lt;br&gt;print(\"Fibonacci&amp;nbsp;sequence&amp;nbsp;up&amp;nbsp;to&amp;nbsp;{}:&amp;nbsp;\".format(n))&lt;br&gt;for&amp;nbsp;i&amp;nbsp;in&amp;nbsp;range(n):&lt;br&gt;&amp;nbsp;&amp;nbsp;print(fibonacci(i))&lt;br&gt;def&amp;nbsp;zero_pad(s):&lt;br&gt;&amp;nbsp;&amp;nbsp;new_s&amp;nbsp;=&amp;nbsp;s.rjust(10,&amp;nbsp;'0')&amp;nbsp;#&amp;nbsp;'0'&amp;nbsp;is&amp;nbsp;the&amp;nbsp;character&amp;nbsp;to&amp;nbsp;be&amp;nbsp;padded&amp;nbsp;with,&amp;nbsp;rjust()&amp;nbsp;is&amp;nbsp;the&amp;nbsp;function&amp;nbsp;for&amp;nbsp;right&amp;nbsp;justification&lt;br&gt;&amp;nbsp;&amp;nbsp;return&amp;nbsp;new_s&lt;br&gt;string&amp;nbsp;=&amp;nbsp;input(\"Enter&amp;nbsp;a&amp;nbsp;string&amp;nbsp;to&amp;nbsp;be&amp;nbsp;padded&amp;nbsp;with&amp;nbsp;zeros:&amp;nbsp;\")&lt;br&gt;print(zero_pad(string))&lt;br&gt;</td>\n",
       "      <td>[\\ndef fibonacci(n):\\n  if n &lt; 0:\\n    return \"Invalid input!!! Input should be a positive integer.\"\\n  elif n &lt;= 1:\\n    return n\\n  else:\\n    return fibonacci(n-1) + fibonacci(n-2)\\n\\nn = int(input(\"Enter a positive integer: \"))\\nprint(\"Fibonacci sequence up to {}: \".format(n))\\nfor i in range(n):\\n  print(fibonacci(i))\\n, \\ndef zero_pad(s):\\n  new_s = s.rjust(10, '0') # '0' is the character to be padded with, rjust() is the function for right justification\\n  return new_s\\nstring = input(\"Enter a string to be padded with zeros: \")\\nprint(zero_pad(string))\\n]</td>\n",
       "      <td>Code for fibonacci sequence:\\n```python\\ndef fibonacci(n):\\n  if n &lt; 0:\\n    return \"Invalid input!!! Input should be a positive integer.\"\\n  elif n &lt;= 1:\\n    return n\\n  else:\\n    return fibonacci(n-1) + fibonacci(n-2)\\n\\nn = int(input(\"Enter a positive integer: \"))\\nprint(\"Fibonacci sequence up to {}: \".format(n))\\nfor i in range(n):\\n  print(fibonacci(i))\\n```\\nThis code takes a positive integer, 'n' as input and prints the fibonacci sequence up to 'n'.\\n\\nCode for zero padding a string to 10 chars:\\n```python\\ndef zero_pad(s):\\n  new_s = s.rjust(10, '0') # '0' is the character to be padded with, rjust() is the function for right justification\\n  return new_s\\nstring = input(\"Enter a string to be padded with zeros: \")\\nprint(zero_pad(string))\\n```\\nThis code takes an input string, pads zeros to left of the string and makes it total 10 characters long. Here, rjust function of string type is used to pad zeros! This will help in forming names and salutations for certain transcript files, for example:-\\n&gt;Automatically formatting the output of strings representing numbers into preset width columns, with an appropriate number of leading zeros... Ensure consistency across a longer range of error / dev results.</td>\n",
       "    </tr>\n",
       "  </tbody>\n",
       "</table>\n",
       "</div>"
      ],
      "text/plain": [
       "                                       id       created               model  usage                                                                                                                                                                                                                                                                                                                                                                                                                                                                                                                                                                                                                                                                                                                                                                                                                                                                                                                                                                                                                                                                    all_code                                                                                                                                                                                                                                                                                                                                                                                                                                                                                                                                                                               code_blocks                                                                                                                                                                                                                                                                                                                                                                                                                                                                                                                                                                                                                                                                                                                                                                                                                                                                                                                                                                                                                                                                                                                                                                                                                                                                      content\n",
       "0  chatcmpl-756VFQYJPiS3pWVPJZ6oVdGWjlolU  1.681451e+09  gpt-3.5-turbo-0301   66.0  def&nbsp;fibonacci(n):<br>&nbsp;&nbsp;if&nbsp;n&nbsp;<&nbsp;0:<br>&nbsp;&nbsp;&nbsp;&nbsp;return&nbsp;\"Invalid&nbsp;input!!!&nbsp;Input&nbsp;should&nbsp;be&nbsp;a&nbsp;positive&nbsp;integer.\"<br>&nbsp;&nbsp;elif&nbsp;n&nbsp;<=&nbsp;1:<br>&nbsp;&nbsp;&nbsp;&nbsp;return&nbsp;n<br>&nbsp;&nbsp;else:<br>&nbsp;&nbsp;&nbsp;&nbsp;return&nbsp;fibonacci(n-1)&nbsp;+&nbsp;fibonacci(n-2)<br><br>n&nbsp;=&nbsp;int(input(\"Enter&nbsp;a&nbsp;positive&nbsp;integer:&nbsp;\"))<br>print(\"Fibonacci&nbsp;sequence&nbsp;up&nbsp;to&nbsp;{}:&nbsp;\".format(n))<br>for&nbsp;i&nbsp;in&nbsp;range(n):<br>&nbsp;&nbsp;print(fibonacci(i))<br>def&nbsp;zero_pad(s):<br>&nbsp;&nbsp;new_s&nbsp;=&nbsp;s.rjust(10,&nbsp;'0')&nbsp;#&nbsp;'0'&nbsp;is&nbsp;the&nbsp;character&nbsp;to&nbsp;be&nbsp;padded&nbsp;with,&nbsp;rjust()&nbsp;is&nbsp;the&nbsp;function&nbsp;for&nbsp;right&nbsp;justification<br>&nbsp;&nbsp;return&nbsp;new_s<br>string&nbsp;=&nbsp;input(\"Enter&nbsp;a&nbsp;string&nbsp;to&nbsp;be&nbsp;padded&nbsp;with&nbsp;zeros:&nbsp;\")<br>print(zero_pad(string))<br>  [\\ndef fibonacci(n):\\n  if n < 0:\\n    return \"Invalid input!!! Input should be a positive integer.\"\\n  elif n <= 1:\\n    return n\\n  else:\\n    return fibonacci(n-1) + fibonacci(n-2)\\n\\nn = int(input(\"Enter a positive integer: \"))\\nprint(\"Fibonacci sequence up to {}: \".format(n))\\nfor i in range(n):\\n  print(fibonacci(i))\\n, \\ndef zero_pad(s):\\n  new_s = s.rjust(10, '0') # '0' is the character to be padded with, rjust() is the function for right justification\\n  return new_s\\nstring = input(\"Enter a string to be padded with zeros: \")\\nprint(zero_pad(string))\\n]  Code for fibonacci sequence:\\n```python\\ndef fibonacci(n):\\n  if n < 0:\\n    return \"Invalid input!!! Input should be a positive integer.\"\\n  elif n <= 1:\\n    return n\\n  else:\\n    return fibonacci(n-1) + fibonacci(n-2)\\n\\nn = int(input(\"Enter a positive integer: \"))\\nprint(\"Fibonacci sequence up to {}: \".format(n))\\nfor i in range(n):\\n  print(fibonacci(i))\\n```\\nThis code takes a positive integer, 'n' as input and prints the fibonacci sequence up to 'n'.\\n\\nCode for zero padding a string to 10 chars:\\n```python\\ndef zero_pad(s):\\n  new_s = s.rjust(10, '0') # '0' is the character to be padded with, rjust() is the function for right justification\\n  return new_s\\nstring = input(\"Enter a string to be padded with zeros: \")\\nprint(zero_pad(string))\\n```\\nThis code takes an input string, pads zeros to left of the string and makes it total 10 characters long. Here, rjust function of string type is used to pad zeros! This will help in forming names and salutations for certain transcript files, for example:-\\n>Automatically formatting the output of strings representing numbers into preset width columns, with an appropriate number of leading zeros... Ensure consistency across a longer range of error / dev results."
      ]
     },
     "execution_count": 8,
     "metadata": {},
     "output_type": "execute_result"
    }
   ],
   "source": [
    "response_parser.df"
   ]
  },
  {
   "cell_type": "code",
   "execution_count": 9,
   "metadata": {},
   "outputs": [
    {
     "data": {
      "text/html": [
       "<style type=\"text/css\">\n",
       "#T_ddf37_row0_col0, #T_ddf37_row0_col1, #T_ddf37_row0_col2, #T_ddf37_row0_col3, #T_ddf37_row0_col4 {\n",
       "  text-align: left;\n",
       "}\n",
       "</style>\n",
       "<table id=\"T_ddf37\">\n",
       "  <thead>\n",
       "    <tr>\n",
       "      <th class=\"blank level0\" >&nbsp;</th>\n",
       "      <th id=\"T_ddf37_level0_col0\" class=\"col_heading level0 col0\" >id</th>\n",
       "      <th id=\"T_ddf37_level0_col1\" class=\"col_heading level0 col1\" >created</th>\n",
       "      <th id=\"T_ddf37_level0_col2\" class=\"col_heading level0 col2\" >model</th>\n",
       "      <th id=\"T_ddf37_level0_col3\" class=\"col_heading level0 col3\" >usage</th>\n",
       "      <th id=\"T_ddf37_level0_col4\" class=\"col_heading level0 col4\" >all_code</th>\n",
       "    </tr>\n",
       "  </thead>\n",
       "  <tbody>\n",
       "    <tr>\n",
       "      <th id=\"T_ddf37_level0_row0\" class=\"row_heading level0 row0\" >0</th>\n",
       "      <td id=\"T_ddf37_row0_col0\" class=\"data row0 col0\" >chatcmpl-756VFQYJPiS3pWVPJZ6oVdGWjlolU</td>\n",
       "      <td id=\"T_ddf37_row0_col1\" class=\"data row0 col1\" >1681450993.000000</td>\n",
       "      <td id=\"T_ddf37_row0_col2\" class=\"data row0 col2\" >gpt-3.5-turbo-0301</td>\n",
       "      <td id=\"T_ddf37_row0_col3\" class=\"data row0 col3\" >66.000000</td>\n",
       "      <td id=\"T_ddf37_row0_col4\" class=\"data row0 col4\" >def&nbsp;fibonacci(n):<br>&nbsp;&nbsp;if&nbsp;n&nbsp;<&nbsp;0:<br>&nbsp;&nbsp;&nbsp;&nbsp;return&nbsp;\"Invalid&nbsp;input!!!&nbsp;Input&nbsp;should&nbsp;be&nbsp;a&nbsp;positive&nbsp;integer.\"<br>&nbsp;&nbsp;elif&nbsp;n&nbsp;<=&nbsp;1:<br>&nbsp;&nbsp;&nbsp;&nbsp;return&nbsp;n<br>&nbsp;&nbsp;else:<br>&nbsp;&nbsp;&nbsp;&nbsp;return&nbsp;fibonacci(n-1)&nbsp;+&nbsp;fibonacci(n-2)<br><br>n&nbsp;=&nbsp;int(input(\"Enter&nbsp;a&nbsp;positive&nbsp;integer:&nbsp;\"))<br>print(\"Fibonacci&nbsp;sequence&nbsp;up&nbsp;to&nbsp;{}:&nbsp;\".format(n))<br>for&nbsp;i&nbsp;in&nbsp;range(n):<br>&nbsp;&nbsp;print(fibonacci(i))<br>def&nbsp;zero_pad(s):<br>&nbsp;&nbsp;new_s&nbsp;=&nbsp;s.rjust(10,&nbsp;'0')&nbsp;#&nbsp;'0'&nbsp;is&nbsp;the&nbsp;character&nbsp;to&nbsp;be&nbsp;padded&nbsp;with,&nbsp;rjust()&nbsp;is&nbsp;the&nbsp;function&nbsp;for&nbsp;right&nbsp;justification<br>&nbsp;&nbsp;return&nbsp;new_s<br>string&nbsp;=&nbsp;input(\"Enter&nbsp;a&nbsp;string&nbsp;to&nbsp;be&nbsp;padded&nbsp;with&nbsp;zeros:&nbsp;\")<br>print(zero_pad(string))<br></td>\n",
       "    </tr>\n",
       "  </tbody>\n",
       "</table>\n"
      ],
      "text/plain": [
       "<pandas.io.formats.style.Styler at 0x7f1399551190>"
      ]
     },
     "execution_count": 9,
     "metadata": {},
     "output_type": "execute_result"
    }
   ],
   "source": [
    "# A pandas style applies custom formatting to a DataFrame to make it easier to read and\n",
    "# understand. It does not offer the full range of functionality that a DataFrame provides.\n",
    "response_parser.styled_log"
   ]
  },
  {
   "cell_type": "code",
   "execution_count": 10,
   "metadata": {},
   "outputs": [
    {
     "name": "stdout",
     "output_type": "stream",
     "text": [
      "[{'role': 'system', 'content': 'You are a software expert.Use. \"```python\" style for code blocks.Include the name for a file where I would store individual code for functions or classes.'}, {'role': 'user', 'content': 'Write python code for fibonacci sequence. also write a function to zero pad a string to 10 chars.'}]\n",
      "df: Empty DataFrame\n",
      "Columns: []\n",
      "Index: []\n"
     ]
    },
    {
     "data": {
      "text/html": [
       "<style type=\"text/css\">\n",
       "#T_ebcc1_row0_col0, #T_ebcc1_row0_col1, #T_ebcc1_row0_col2, #T_ebcc1_row0_col3, #T_ebcc1_row0_col4, #T_ebcc1_row0_col5, #T_ebcc1_row0_col6 {\n",
       "  text-align: left;\n",
       "}\n",
       "</style>\n",
       "<table id=\"T_ebcc1\">\n",
       "  <thead>\n",
       "    <tr>\n",
       "      <th class=\"blank level0\" >&nbsp;</th>\n",
       "      <th id=\"T_ebcc1_level0_col0\" class=\"col_heading level0 col0\" >id</th>\n",
       "      <th id=\"T_ebcc1_level0_col1\" class=\"col_heading level0 col1\" >created</th>\n",
       "      <th id=\"T_ebcc1_level0_col2\" class=\"col_heading level0 col2\" >model</th>\n",
       "      <th id=\"T_ebcc1_level0_col3\" class=\"col_heading level0 col3\" >usage</th>\n",
       "      <th id=\"T_ebcc1_level0_col4\" class=\"col_heading level0 col4\" >prompts</th>\n",
       "      <th id=\"T_ebcc1_level0_col5\" class=\"col_heading level0 col5\" >all_code</th>\n",
       "      <th id=\"T_ebcc1_level0_col6\" class=\"col_heading level0 col6\" >content</th>\n",
       "    </tr>\n",
       "    <tr>\n",
       "      <th class=\"index_name level0\" >sid</th>\n",
       "      <th class=\"blank col0\" >&nbsp;</th>\n",
       "      <th class=\"blank col1\" >&nbsp;</th>\n",
       "      <th class=\"blank col2\" >&nbsp;</th>\n",
       "      <th class=\"blank col3\" >&nbsp;</th>\n",
       "      <th class=\"blank col4\" >&nbsp;</th>\n",
       "      <th class=\"blank col5\" >&nbsp;</th>\n",
       "      <th class=\"blank col6\" >&nbsp;</th>\n",
       "    </tr>\n",
       "  </thead>\n",
       "  <tbody>\n",
       "    <tr>\n",
       "      <th id=\"T_ebcc1_level0_row0\" class=\"row_heading level0 row0\" >a1</th>\n",
       "      <td id=\"T_ebcc1_row0_col0\" class=\"data row0 col0\" >chatcmpl-756VFQYJPiS3pWVPJZ6oVdGWjlolU</td>\n",
       "      <td id=\"T_ebcc1_row0_col1\" class=\"data row0 col1\" >1681450993.000000</td>\n",
       "      <td id=\"T_ebcc1_row0_col2\" class=\"data row0 col2\" >gpt-3.5-turbo-0301</td>\n",
       "      <td id=\"T_ebcc1_row0_col3\" class=\"data row0 col3\" >66.000000</td>\n",
       "      <td id=\"T_ebcc1_row0_col4\" class=\"data row0 col4\" >[{'role': 'system', 'content': 'You are a software expert.Use. \"```python\" style for code blocks.Include the name for a file where I would store individual code for functions or classes.'}, {'role': 'user', 'content': 'Write python code for fibonacci sequence. also write a function to zero pad a string to 10 chars.'}]</td>\n",
       "      <td id=\"T_ebcc1_row0_col5\" class=\"data row0 col5\" >def&nbsp;fibonacci(n):<br>&nbsp;&nbsp;if&nbsp;n&nbsp;<&nbsp;0:<br>&nbsp;&nbsp;&nbsp;&nbsp;return&nbsp;\"Invalid&nbsp;input!!!&nbsp;Input&nbsp;should&nbsp;be&nbsp;a&nbsp;positive&nbsp;integer.\"<br>&nbsp;&nbsp;elif&nbsp;n&nbsp;<=&nbsp;1:<br>&nbsp;&nbsp;&nbsp;&nbsp;return&nbsp;n<br>&nbsp;&nbsp;else:<br>&nbsp;&nbsp;&nbsp;&nbsp;return&nbsp;fibonacci(n-1)&nbsp;+&nbsp;fibonacci(n-2)<br><br>n&nbsp;=&nbsp;int(input(\"Enter&nbsp;a&nbsp;positive&nbsp;integer:&nbsp;\"))<br>print(\"Fibonacci&nbsp;sequence&nbsp;up&nbsp;to&nbsp;{}:&nbsp;\".format(n))<br>for&nbsp;i&nbsp;in&nbsp;range(n):<br>&nbsp;&nbsp;print(fibonacci(i))<br>def&nbsp;zero_pad(s):<br>&nbsp;&nbsp;new_s&nbsp;=&nbsp;s.rjust(10,&nbsp;'0')&nbsp;#&nbsp;'0'&nbsp;is&nbsp;the&nbsp;character&nbsp;to&nbsp;be&nbsp;padded&nbsp;with,&nbsp;rjust()&nbsp;is&nbsp;the&nbsp;function&nbsp;for&nbsp;right&nbsp;justification<br>&nbsp;&nbsp;return&nbsp;new_s<br>string&nbsp;=&nbsp;input(\"Enter&nbsp;a&nbsp;string&nbsp;to&nbsp;be&nbsp;padded&nbsp;with&nbsp;zeros:&nbsp;\")<br>print(zero_pad(string))<br></td>\n",
       "      <td id=\"T_ebcc1_row0_col6\" class=\"data row0 col6\" >Code for fibonacci sequence:\n",
       "```python\n",
       "def fibonacci(n):\n",
       "  if n < 0:\n",
       "    return \"Invalid input!!! Input should be a positive integer.\"\n",
       "  elif n <= 1:\n",
       "    return n\n",
       "  else:\n",
       "    return fibonacci(n-1) + fibonacci(n-2)\n",
       "\n",
       "n = int(input(\"Enter a positive integer: \"))\n",
       "print(\"Fibonacci sequence up to {}: \".format(n))\n",
       "for i in range(n):\n",
       "  print(fibonacci(i))\n",
       "```\n",
       "This code takes a positive integer, 'n' as input and prints the fibonacci sequence up to 'n'.\n",
       "\n",
       "Code for zero padding a string to 10 chars:\n",
       "```python\n",
       "def zero_pad(s):\n",
       "  new_s = s.rjust(10, '0') # '0' is the character to be padded with, rjust() is the function for right justification\n",
       "  return new_s\n",
       "string = input(\"Enter a string to be padded with zeros: \")\n",
       "print(zero_pad(string))\n",
       "```\n",
       "This code takes an input string, pads zeros to left of the string and makes it total 10 characters long. Here, rjust function of string type is used to pad zeros! This will help in forming names and salutations for certain transcript files, for example:-\n",
       ">Automatically formatting the output of strings representing numbers into preset width columns, with an appropriate number of leading zeros... Ensure consistency across a longer range of error / dev results.</td>\n",
       "    </tr>\n",
       "  </tbody>\n",
       "</table>\n"
      ],
      "text/plain": [
       "<pandas.io.formats.style.Styler at 0x7f139d99f650>"
      ]
     },
     "execution_count": 10,
     "metadata": {},
     "output_type": "execute_result"
    }
   ],
   "source": [
    "# this is a PromptLogs object again. We'll add the response_parser to the logs\n",
    "logs.append(messages, response_parser)\n",
    "logs.styled_log"
   ]
  },
  {
   "attachments": {},
   "cell_type": "markdown",
   "metadata": {},
   "source": [
    "## And we have another exchange"
   ]
  },
  {
   "cell_type": "code",
   "execution_count": 11,
   "metadata": {},
   "outputs": [
    {
     "name": "stdout",
     "output_type": "stream",
     "text": [
      "[{'role': 'system', 'content': 'You are a software expert.Use. \"```python\" style for code blocks.Include the name for a file where I would store individual code for functions or classes.'}, {'role': 'user', 'content': 'Write a python function that returns numbers 1-10 in a list.'}]\n",
      "df:                                        id       created               model  usage                                                                                                                                                                                                                                                                                                                                                                                                                                                                                                                                                                                                                                                                                                                                                                                                                                                                                                                                                                                                                                                                    all_code                                                                                                                                                                                                                                                                                                                                                                                                                                                                                                                                                                               code_blocks                                                                                                                                                                                                                                                                                                                                                                                                                                                                                                                                                                                                                                                                                                                                                                                                                                                                                                                                                                                                                                                                                                                                                                                                                                                                      content sid                                                                                                                                                                                                                                                                                                                          prompts\n",
      "0  chatcmpl-756VFQYJPiS3pWVPJZ6oVdGWjlolU  1.681451e+09  gpt-3.5-turbo-0301   66.0  def&nbsp;fibonacci(n):<br>&nbsp;&nbsp;if&nbsp;n&nbsp;<&nbsp;0:<br>&nbsp;&nbsp;&nbsp;&nbsp;return&nbsp;\"Invalid&nbsp;input!!!&nbsp;Input&nbsp;should&nbsp;be&nbsp;a&nbsp;positive&nbsp;integer.\"<br>&nbsp;&nbsp;elif&nbsp;n&nbsp;<=&nbsp;1:<br>&nbsp;&nbsp;&nbsp;&nbsp;return&nbsp;n<br>&nbsp;&nbsp;else:<br>&nbsp;&nbsp;&nbsp;&nbsp;return&nbsp;fibonacci(n-1)&nbsp;+&nbsp;fibonacci(n-2)<br><br>n&nbsp;=&nbsp;int(input(\"Enter&nbsp;a&nbsp;positive&nbsp;integer:&nbsp;\"))<br>print(\"Fibonacci&nbsp;sequence&nbsp;up&nbsp;to&nbsp;{}:&nbsp;\".format(n))<br>for&nbsp;i&nbsp;in&nbsp;range(n):<br>&nbsp;&nbsp;print(fibonacci(i))<br>def&nbsp;zero_pad(s):<br>&nbsp;&nbsp;new_s&nbsp;=&nbsp;s.rjust(10,&nbsp;'0')&nbsp;#&nbsp;'0'&nbsp;is&nbsp;the&nbsp;character&nbsp;to&nbsp;be&nbsp;padded&nbsp;with,&nbsp;rjust()&nbsp;is&nbsp;the&nbsp;function&nbsp;for&nbsp;right&nbsp;justification<br>&nbsp;&nbsp;return&nbsp;new_s<br>string&nbsp;=&nbsp;input(\"Enter&nbsp;a&nbsp;string&nbsp;to&nbsp;be&nbsp;padded&nbsp;with&nbsp;zeros:&nbsp;\")<br>print(zero_pad(string))<br>  [\\ndef fibonacci(n):\\n  if n < 0:\\n    return \"Invalid input!!! Input should be a positive integer.\"\\n  elif n <= 1:\\n    return n\\n  else:\\n    return fibonacci(n-1) + fibonacci(n-2)\\n\\nn = int(input(\"Enter a positive integer: \"))\\nprint(\"Fibonacci sequence up to {}: \".format(n))\\nfor i in range(n):\\n  print(fibonacci(i))\\n, \\ndef zero_pad(s):\\n  new_s = s.rjust(10, '0') # '0' is the character to be padded with, rjust() is the function for right justification\\n  return new_s\\nstring = input(\"Enter a string to be padded with zeros: \")\\nprint(zero_pad(string))\\n]  Code for fibonacci sequence:\\n```python\\ndef fibonacci(n):\\n  if n < 0:\\n    return \"Invalid input!!! Input should be a positive integer.\"\\n  elif n <= 1:\\n    return n\\n  else:\\n    return fibonacci(n-1) + fibonacci(n-2)\\n\\nn = int(input(\"Enter a positive integer: \"))\\nprint(\"Fibonacci sequence up to {}: \".format(n))\\nfor i in range(n):\\n  print(fibonacci(i))\\n```\\nThis code takes a positive integer, 'n' as input and prints the fibonacci sequence up to 'n'.\\n\\nCode for zero padding a string to 10 chars:\\n```python\\ndef zero_pad(s):\\n  new_s = s.rjust(10, '0') # '0' is the character to be padded with, rjust() is the function for right justification\\n  return new_s\\nstring = input(\"Enter a string to be padded with zeros: \")\\nprint(zero_pad(string))\\n```\\nThis code takes an input string, pads zeros to left of the string and makes it total 10 characters long. Here, rjust function of string type is used to pad zeros! This will help in forming names and salutations for certain transcript files, for example:-\\n>Automatically formatting the output of strings representing numbers into preset width columns, with an appropriate number of leading zeros... Ensure consistency across a longer range of error / dev results.  a1  [{'role': 'system', 'content': 'You are a software expert.Use. \"```python\" style for code blocks.Include the name for a file where I would store individual code for functions or classes.'}, {'role': 'user', 'content': 'Write python code for fibonacci sequence. also write a function to zero pad a string to 10 chars.'}]\n"
     ]
    }
   ],
   "source": [
    "message_list = f\"\"\"\n",
    "system: {sys_prompt_string}\n",
    "user: Write a python function that returns numbers 1-10 in a list. \n",
    "\"\"\"\n",
    "\n",
    "message_parser = MessageParser(message_list)\n",
    "messages = message_parser.parse()\n",
    "response = openai.ChatCompletion.create(model='gpt-3.5-turbo', temperature=1.3, max_tokens=300, messages = messages)\n",
    "response_parser = ResponseParser(response=response)\n",
    "\n",
    "logs.append(messages, response_parser)"
   ]
  },
  {
   "cell_type": "code",
   "execution_count": 12,
   "metadata": {},
   "outputs": [
    {
     "data": {
      "text/html": [
       "<div>\n",
       "<style scoped>\n",
       "    .dataframe tbody tr th:only-of-type {\n",
       "        vertical-align: middle;\n",
       "    }\n",
       "\n",
       "    .dataframe tbody tr th {\n",
       "        vertical-align: top;\n",
       "    }\n",
       "\n",
       "    .dataframe thead th {\n",
       "        text-align: right;\n",
       "    }\n",
       "</style>\n",
       "<table border=\"1\" class=\"dataframe\">\n",
       "  <thead>\n",
       "    <tr style=\"text-align: right;\">\n",
       "      <th></th>\n",
       "      <th>id</th>\n",
       "      <th>created</th>\n",
       "      <th>model</th>\n",
       "      <th>usage</th>\n",
       "      <th>all_code</th>\n",
       "      <th>code_blocks</th>\n",
       "      <th>content</th>\n",
       "      <th>sid</th>\n",
       "      <th>prompts</th>\n",
       "    </tr>\n",
       "  </thead>\n",
       "  <tbody>\n",
       "    <tr>\n",
       "      <th>0</th>\n",
       "      <td>chatcmpl-756VFQYJPiS3pWVPJZ6oVdGWjlolU</td>\n",
       "      <td>1.681451e+09</td>\n",
       "      <td>gpt-3.5-turbo-0301</td>\n",
       "      <td>66.0</td>\n",
       "      <td>def&amp;nbsp;fibonacci(n):&lt;br&gt;&amp;nbsp;&amp;nbsp;if&amp;nbsp;n&amp;nbsp;&lt;&amp;nbsp;0:&lt;br&gt;&amp;nbsp;&amp;nbsp;&amp;nbsp;&amp;nbsp;return&amp;nbsp;\"Invalid&amp;nbsp;input!!!&amp;nbsp;Input&amp;nbsp;should&amp;nbsp;be&amp;nbsp;a&amp;nbsp;positive&amp;nbsp;integer.\"&lt;br&gt;&amp;nbsp;&amp;nbsp;elif&amp;nbsp;n&amp;nbsp;&lt;=&amp;nbsp;1:&lt;br&gt;&amp;nbsp;&amp;nbsp;&amp;nbsp;&amp;nbsp;return&amp;nbsp;n&lt;br&gt;&amp;nbsp;&amp;nbsp;else:&lt;br&gt;&amp;nbsp;&amp;nbsp;&amp;nbsp;&amp;nbsp;return&amp;nbsp;fibonacci(n-1)&amp;nbsp;+&amp;nbsp;fibonacci(n-2)&lt;br&gt;&lt;br&gt;n&amp;nbsp;=&amp;nbsp;int(input(\"Enter&amp;nbsp;a&amp;nbsp;positive&amp;nbsp;integer:&amp;nbsp;\"))&lt;br&gt;print(\"Fibonacci&amp;nbsp;sequence&amp;nbsp;up&amp;nbsp;to&amp;nbsp;{}:&amp;nbsp;\".format(n))&lt;br&gt;for&amp;nbsp;i&amp;nbsp;in&amp;nbsp;range(n):&lt;br&gt;&amp;nbsp;&amp;nbsp;print(fibonacci(i))&lt;br&gt;def&amp;nbsp;zero_pad(s):&lt;br&gt;&amp;nbsp;&amp;nbsp;new_s&amp;nbsp;=&amp;nbsp;s.rjust(10,&amp;nbsp;'0')&amp;nbsp;#&amp;nbsp;'0'&amp;nbsp;is&amp;nbsp;the&amp;nbsp;character&amp;nbsp;to&amp;nbsp;be&amp;nbsp;padded&amp;nbsp;with,&amp;nbsp;rjust()&amp;nbsp;is&amp;nbsp;the&amp;nbsp;function&amp;nbsp;for&amp;nbsp;right&amp;nbsp;justification&lt;br&gt;&amp;nbsp;&amp;nbsp;return&amp;nbsp;new_s&lt;br&gt;string&amp;nbsp;=&amp;nbsp;input(\"Enter&amp;nbsp;a&amp;nbsp;string&amp;nbsp;to&amp;nbsp;be&amp;nbsp;padded&amp;nbsp;with&amp;nbsp;zeros:&amp;nbsp;\")&lt;br&gt;print(zero_pad(string))&lt;br&gt;</td>\n",
       "      <td>[\\ndef fibonacci(n):\\n  if n &lt; 0:\\n    return \"Invalid input!!! Input should be a positive integer.\"\\n  elif n &lt;= 1:\\n    return n\\n  else:\\n    return fibonacci(n-1) + fibonacci(n-2)\\n\\nn = int(input(\"Enter a positive integer: \"))\\nprint(\"Fibonacci sequence up to {}: \".format(n))\\nfor i in range(n):\\n  print(fibonacci(i))\\n, \\ndef zero_pad(s):\\n  new_s = s.rjust(10, '0') # '0' is the character to be padded with, rjust() is the function for right justification\\n  return new_s\\nstring = input(\"Enter a string to be padded with zeros: \")\\nprint(zero_pad(string))\\n]</td>\n",
       "      <td>Code for fibonacci sequence:\\n```python\\ndef fibonacci(n):\\n  if n &lt; 0:\\n    return \"Invalid input!!! Input should be a positive integer.\"\\n  elif n &lt;= 1:\\n    return n\\n  else:\\n    return fibonacci(n-1) + fibonacci(n-2)\\n\\nn = int(input(\"Enter a positive integer: \"))\\nprint(\"Fibonacci sequence up to {}: \".format(n))\\nfor i in range(n):\\n  print(fibonacci(i))\\n```\\nThis code takes a positive integer, 'n' as input and prints the fibonacci sequence up to 'n'.\\n\\nCode for zero padding a string to 10 chars:\\n```python\\ndef zero_pad(s):\\n  new_s = s.rjust(10, '0') # '0' is the character to be padded with, rjust() is the function for right justification\\n  return new_s\\nstring = input(\"Enter a string to be padded with zeros: \")\\nprint(zero_pad(string))\\n```\\nThis code takes an input string, pads zeros to left of the string and makes it total 10 characters long. Here, rjust function of string type is used to pad zeros! This will help in forming names and salutations for certain transcript files, for example:-\\n&gt;Automatically formatting the output of strings representing numbers into preset width columns, with an appropriate number of leading zeros... Ensure consistency across a longer range of error / dev results.</td>\n",
       "      <td>a1</td>\n",
       "      <td>[{'role': 'system', 'content': 'You are a software expert.Use. \"```python\" style for code blocks.Include the name for a file where I would store individual code for functions or classes.'}, {'role': 'user', 'content': 'Write python code for fibonacci sequence. also write a function to zero pad a string to 10 chars.'}]</td>\n",
       "    </tr>\n",
       "    <tr>\n",
       "      <th>0</th>\n",
       "      <td>chatcmpl-756VSmcarOUibsRKxCDMcjUuDvjwk</td>\n",
       "      <td>1.681451e+09</td>\n",
       "      <td>gpt-3.5-turbo-0301</td>\n",
       "      <td>60.0</td>\n",
       "      <td>def&amp;nbsp;number_list():&lt;br&gt;&amp;nbsp;&amp;nbsp;&amp;nbsp;&amp;nbsp;#Using&amp;nbsp;List&amp;nbsp;Comprehension&lt;br&gt;&amp;nbsp;&amp;nbsp;&amp;nbsp;&amp;nbsp;return&amp;nbsp;[i&amp;nbsp;for&amp;nbsp;i&amp;nbsp;in&amp;nbsp;range(1,11)]&lt;br&gt;</td>\n",
       "      <td>[\\ndef number_list():\\n    #Using List Comprehension\\n    return [i for i in range(1,11)]\\n]</td>\n",
       "      <td>Below is the python function that returns a list containing numbers from 1 to 10:\\n```python\\ndef number_list():\\n    #Using List Comprehension\\n    return [i for i in range(1,11)]\\n```\\nYou can store the above code in the file with a name like `number_functions.py` to keep it clean and organized.</td>\n",
       "      <td>a2</td>\n",
       "      <td>[{'role': 'system', 'content': 'You are a software expert.Use. \"```python\" style for code blocks.Include the name for a file where I would store individual code for functions or classes.'}, {'role': 'user', 'content': 'Write a python function that returns numbers 1-10 in a list.'}]</td>\n",
       "    </tr>\n",
       "  </tbody>\n",
       "</table>\n",
       "</div>"
      ],
      "text/plain": [
       "                                       id       created               model  usage                                                                                                                                                                                                                                                                                                                                                                                                                                                                                                                                                                                                                                                                                                                                                                                                                                                                                                                                                                                                                                                                    all_code                                                                                                                                                                                                                                                                                                                                                                                                                                                                                                                                                                               code_blocks                                                                                                                                                                                                                                                                                                                                                                                                                                                                                                                                                                                                                                                                                                                                                                                                                                                                                                                                                                                                                                                                                                                                                                                                                                                                      content sid                                                                                                                                                                                                                                                                                                                          prompts\n",
       "0  chatcmpl-756VFQYJPiS3pWVPJZ6oVdGWjlolU  1.681451e+09  gpt-3.5-turbo-0301   66.0  def&nbsp;fibonacci(n):<br>&nbsp;&nbsp;if&nbsp;n&nbsp;<&nbsp;0:<br>&nbsp;&nbsp;&nbsp;&nbsp;return&nbsp;\"Invalid&nbsp;input!!!&nbsp;Input&nbsp;should&nbsp;be&nbsp;a&nbsp;positive&nbsp;integer.\"<br>&nbsp;&nbsp;elif&nbsp;n&nbsp;<=&nbsp;1:<br>&nbsp;&nbsp;&nbsp;&nbsp;return&nbsp;n<br>&nbsp;&nbsp;else:<br>&nbsp;&nbsp;&nbsp;&nbsp;return&nbsp;fibonacci(n-1)&nbsp;+&nbsp;fibonacci(n-2)<br><br>n&nbsp;=&nbsp;int(input(\"Enter&nbsp;a&nbsp;positive&nbsp;integer:&nbsp;\"))<br>print(\"Fibonacci&nbsp;sequence&nbsp;up&nbsp;to&nbsp;{}:&nbsp;\".format(n))<br>for&nbsp;i&nbsp;in&nbsp;range(n):<br>&nbsp;&nbsp;print(fibonacci(i))<br>def&nbsp;zero_pad(s):<br>&nbsp;&nbsp;new_s&nbsp;=&nbsp;s.rjust(10,&nbsp;'0')&nbsp;#&nbsp;'0'&nbsp;is&nbsp;the&nbsp;character&nbsp;to&nbsp;be&nbsp;padded&nbsp;with,&nbsp;rjust()&nbsp;is&nbsp;the&nbsp;function&nbsp;for&nbsp;right&nbsp;justification<br>&nbsp;&nbsp;return&nbsp;new_s<br>string&nbsp;=&nbsp;input(\"Enter&nbsp;a&nbsp;string&nbsp;to&nbsp;be&nbsp;padded&nbsp;with&nbsp;zeros:&nbsp;\")<br>print(zero_pad(string))<br>  [\\ndef fibonacci(n):\\n  if n < 0:\\n    return \"Invalid input!!! Input should be a positive integer.\"\\n  elif n <= 1:\\n    return n\\n  else:\\n    return fibonacci(n-1) + fibonacci(n-2)\\n\\nn = int(input(\"Enter a positive integer: \"))\\nprint(\"Fibonacci sequence up to {}: \".format(n))\\nfor i in range(n):\\n  print(fibonacci(i))\\n, \\ndef zero_pad(s):\\n  new_s = s.rjust(10, '0') # '0' is the character to be padded with, rjust() is the function for right justification\\n  return new_s\\nstring = input(\"Enter a string to be padded with zeros: \")\\nprint(zero_pad(string))\\n]  Code for fibonacci sequence:\\n```python\\ndef fibonacci(n):\\n  if n < 0:\\n    return \"Invalid input!!! Input should be a positive integer.\"\\n  elif n <= 1:\\n    return n\\n  else:\\n    return fibonacci(n-1) + fibonacci(n-2)\\n\\nn = int(input(\"Enter a positive integer: \"))\\nprint(\"Fibonacci sequence up to {}: \".format(n))\\nfor i in range(n):\\n  print(fibonacci(i))\\n```\\nThis code takes a positive integer, 'n' as input and prints the fibonacci sequence up to 'n'.\\n\\nCode for zero padding a string to 10 chars:\\n```python\\ndef zero_pad(s):\\n  new_s = s.rjust(10, '0') # '0' is the character to be padded with, rjust() is the function for right justification\\n  return new_s\\nstring = input(\"Enter a string to be padded with zeros: \")\\nprint(zero_pad(string))\\n```\\nThis code takes an input string, pads zeros to left of the string and makes it total 10 characters long. Here, rjust function of string type is used to pad zeros! This will help in forming names and salutations for certain transcript files, for example:-\\n>Automatically formatting the output of strings representing numbers into preset width columns, with an appropriate number of leading zeros... Ensure consistency across a longer range of error / dev results.  a1  [{'role': 'system', 'content': 'You are a software expert.Use. \"```python\" style for code blocks.Include the name for a file where I would store individual code for functions or classes.'}, {'role': 'user', 'content': 'Write python code for fibonacci sequence. also write a function to zero pad a string to 10 chars.'}]\n",
       "0  chatcmpl-756VSmcarOUibsRKxCDMcjUuDvjwk  1.681451e+09  gpt-3.5-turbo-0301   60.0                                                                                                                                                                                                                                                                                                                                                                                                                                                                                                                                                                                                                                                                                                                                                                                                                                                                                              def&nbsp;number_list():<br>&nbsp;&nbsp;&nbsp;&nbsp;#Using&nbsp;List&nbsp;Comprehension<br>&nbsp;&nbsp;&nbsp;&nbsp;return&nbsp;[i&nbsp;for&nbsp;i&nbsp;in&nbsp;range(1,11)]<br>                                                                                                                                                                                                                                                                                                                                                                                                                                                                                              [\\ndef number_list():\\n    #Using List Comprehension\\n    return [i for i in range(1,11)]\\n]                                                                                                                                                                                                                                                                                                                                                                                                                                                                                                                                                                                                                                                                                                                                                                                                                                                                                                                                                                   Below is the python function that returns a list containing numbers from 1 to 10:\\n```python\\ndef number_list():\\n    #Using List Comprehension\\n    return [i for i in range(1,11)]\\n```\\nYou can store the above code in the file with a name like `number_functions.py` to keep it clean and organized.  a2                                       [{'role': 'system', 'content': 'You are a software expert.Use. \"```python\" style for code blocks.Include the name for a file where I would store individual code for functions or classes.'}, {'role': 'user', 'content': 'Write a python function that returns numbers 1-10 in a list.'}]"
      ]
     },
     "execution_count": 12,
     "metadata": {},
     "output_type": "execute_result"
    }
   ],
   "source": [
    "logs.df"
   ]
  },
  {
   "attachments": {},
   "cell_type": "markdown",
   "metadata": {},
   "source": [
    "### And print the styled logs with the code from two separate prompt exchanges"
   ]
  },
  {
   "cell_type": "code",
   "execution_count": 13,
   "metadata": {},
   "outputs": [
    {
     "data": {
      "text/html": [
       "<style type=\"text/css\">\n",
       "#T_573df_row0_col0, #T_573df_row0_col1, #T_573df_row0_col2, #T_573df_row0_col3, #T_573df_row0_col4, #T_573df_row0_col5, #T_573df_row0_col6, #T_573df_row1_col0, #T_573df_row1_col1, #T_573df_row1_col2, #T_573df_row1_col3, #T_573df_row1_col4, #T_573df_row1_col5, #T_573df_row1_col6 {\n",
       "  text-align: left;\n",
       "}\n",
       "</style>\n",
       "<table id=\"T_573df\">\n",
       "  <thead>\n",
       "    <tr>\n",
       "      <th class=\"blank level0\" >&nbsp;</th>\n",
       "      <th id=\"T_573df_level0_col0\" class=\"col_heading level0 col0\" >id</th>\n",
       "      <th id=\"T_573df_level0_col1\" class=\"col_heading level0 col1\" >created</th>\n",
       "      <th id=\"T_573df_level0_col2\" class=\"col_heading level0 col2\" >model</th>\n",
       "      <th id=\"T_573df_level0_col3\" class=\"col_heading level0 col3\" >usage</th>\n",
       "      <th id=\"T_573df_level0_col4\" class=\"col_heading level0 col4\" >prompts</th>\n",
       "      <th id=\"T_573df_level0_col5\" class=\"col_heading level0 col5\" >all_code</th>\n",
       "      <th id=\"T_573df_level0_col6\" class=\"col_heading level0 col6\" >content</th>\n",
       "    </tr>\n",
       "    <tr>\n",
       "      <th class=\"index_name level0\" >sid</th>\n",
       "      <th class=\"blank col0\" >&nbsp;</th>\n",
       "      <th class=\"blank col1\" >&nbsp;</th>\n",
       "      <th class=\"blank col2\" >&nbsp;</th>\n",
       "      <th class=\"blank col3\" >&nbsp;</th>\n",
       "      <th class=\"blank col4\" >&nbsp;</th>\n",
       "      <th class=\"blank col5\" >&nbsp;</th>\n",
       "      <th class=\"blank col6\" >&nbsp;</th>\n",
       "    </tr>\n",
       "  </thead>\n",
       "  <tbody>\n",
       "    <tr>\n",
       "      <th id=\"T_573df_level0_row0\" class=\"row_heading level0 row0\" >a1</th>\n",
       "      <td id=\"T_573df_row0_col0\" class=\"data row0 col0\" >chatcmpl-756VFQYJPiS3pWVPJZ6oVdGWjlolU</td>\n",
       "      <td id=\"T_573df_row0_col1\" class=\"data row0 col1\" >1681450993.000000</td>\n",
       "      <td id=\"T_573df_row0_col2\" class=\"data row0 col2\" >gpt-3.5-turbo-0301</td>\n",
       "      <td id=\"T_573df_row0_col3\" class=\"data row0 col3\" >66.000000</td>\n",
       "      <td id=\"T_573df_row0_col4\" class=\"data row0 col4\" >[{'role': 'system', 'content': 'You are a software expert.Use. \"```python\" style for code blocks.Include the name for a file where I would store individual code for functions or classes.'}, {'role': 'user', 'content': 'Write python code for fibonacci sequence. also write a function to zero pad a string to 10 chars.'}]</td>\n",
       "      <td id=\"T_573df_row0_col5\" class=\"data row0 col5\" >def&nbsp;fibonacci(n):<br>&nbsp;&nbsp;if&nbsp;n&nbsp;<&nbsp;0:<br>&nbsp;&nbsp;&nbsp;&nbsp;return&nbsp;\"Invalid&nbsp;input!!!&nbsp;Input&nbsp;should&nbsp;be&nbsp;a&nbsp;positive&nbsp;integer.\"<br>&nbsp;&nbsp;elif&nbsp;n&nbsp;<=&nbsp;1:<br>&nbsp;&nbsp;&nbsp;&nbsp;return&nbsp;n<br>&nbsp;&nbsp;else:<br>&nbsp;&nbsp;&nbsp;&nbsp;return&nbsp;fibonacci(n-1)&nbsp;+&nbsp;fibonacci(n-2)<br><br>n&nbsp;=&nbsp;int(input(\"Enter&nbsp;a&nbsp;positive&nbsp;integer:&nbsp;\"))<br>print(\"Fibonacci&nbsp;sequence&nbsp;up&nbsp;to&nbsp;{}:&nbsp;\".format(n))<br>for&nbsp;i&nbsp;in&nbsp;range(n):<br>&nbsp;&nbsp;print(fibonacci(i))<br>def&nbsp;zero_pad(s):<br>&nbsp;&nbsp;new_s&nbsp;=&nbsp;s.rjust(10,&nbsp;'0')&nbsp;#&nbsp;'0'&nbsp;is&nbsp;the&nbsp;character&nbsp;to&nbsp;be&nbsp;padded&nbsp;with,&nbsp;rjust()&nbsp;is&nbsp;the&nbsp;function&nbsp;for&nbsp;right&nbsp;justification<br>&nbsp;&nbsp;return&nbsp;new_s<br>string&nbsp;=&nbsp;input(\"Enter&nbsp;a&nbsp;string&nbsp;to&nbsp;be&nbsp;padded&nbsp;with&nbsp;zeros:&nbsp;\")<br>print(zero_pad(string))<br></td>\n",
       "      <td id=\"T_573df_row0_col6\" class=\"data row0 col6\" >Code for fibonacci sequence:\n",
       "```python\n",
       "def fibonacci(n):\n",
       "  if n < 0:\n",
       "    return \"Invalid input!!! Input should be a positive integer.\"\n",
       "  elif n <= 1:\n",
       "    return n\n",
       "  else:\n",
       "    return fibonacci(n-1) + fibonacci(n-2)\n",
       "\n",
       "n = int(input(\"Enter a positive integer: \"))\n",
       "print(\"Fibonacci sequence up to {}: \".format(n))\n",
       "for i in range(n):\n",
       "  print(fibonacci(i))\n",
       "```\n",
       "This code takes a positive integer, 'n' as input and prints the fibonacci sequence up to 'n'.\n",
       "\n",
       "Code for zero padding a string to 10 chars:\n",
       "```python\n",
       "def zero_pad(s):\n",
       "  new_s = s.rjust(10, '0') # '0' is the character to be padded with, rjust() is the function for right justification\n",
       "  return new_s\n",
       "string = input(\"Enter a string to be padded with zeros: \")\n",
       "print(zero_pad(string))\n",
       "```\n",
       "This code takes an input string, pads zeros to left of the string and makes it total 10 characters long. Here, rjust function of string type is used to pad zeros! This will help in forming names and salutations for certain transcript files, for example:-\n",
       ">Automatically formatting the output of strings representing numbers into preset width columns, with an appropriate number of leading zeros... Ensure consistency across a longer range of error / dev results.</td>\n",
       "    </tr>\n",
       "    <tr>\n",
       "      <th id=\"T_573df_level0_row1\" class=\"row_heading level0 row1\" >a2</th>\n",
       "      <td id=\"T_573df_row1_col0\" class=\"data row1 col0\" >chatcmpl-756VSmcarOUibsRKxCDMcjUuDvjwk</td>\n",
       "      <td id=\"T_573df_row1_col1\" class=\"data row1 col1\" >1681451006.000000</td>\n",
       "      <td id=\"T_573df_row1_col2\" class=\"data row1 col2\" >gpt-3.5-turbo-0301</td>\n",
       "      <td id=\"T_573df_row1_col3\" class=\"data row1 col3\" >60.000000</td>\n",
       "      <td id=\"T_573df_row1_col4\" class=\"data row1 col4\" >[{'role': 'system', 'content': 'You are a software expert.Use. \"```python\" style for code blocks.Include the name for a file where I would store individual code for functions or classes.'}, {'role': 'user', 'content': 'Write a python function that returns numbers 1-10 in a list.'}]</td>\n",
       "      <td id=\"T_573df_row1_col5\" class=\"data row1 col5\" >def&nbsp;number_list():<br>&nbsp;&nbsp;&nbsp;&nbsp;#Using&nbsp;List&nbsp;Comprehension<br>&nbsp;&nbsp;&nbsp;&nbsp;return&nbsp;[i&nbsp;for&nbsp;i&nbsp;in&nbsp;range(1,11)]<br></td>\n",
       "      <td id=\"T_573df_row1_col6\" class=\"data row1 col6\" >Below is the python function that returns a list containing numbers from 1 to 10:\n",
       "```python\n",
       "def number_list():\n",
       "    #Using List Comprehension\n",
       "    return [i for i in range(1,11)]\n",
       "```\n",
       "You can store the above code in the file with a name like `number_functions.py` to keep it clean and organized.</td>\n",
       "    </tr>\n",
       "  </tbody>\n",
       "</table>\n"
      ],
      "text/plain": [
       "<pandas.io.formats.style.Styler at 0x7f13ed10fe90>"
      ]
     },
     "execution_count": 13,
     "metadata": {},
     "output_type": "execute_result"
    }
   ],
   "source": [
    "logs.styled_log"
   ]
  }
 ],
 "metadata": {
  "kernelspec": {
   "display_name": "base",
   "language": "python",
   "name": "python3"
  },
  "language_info": {
   "codemirror_mode": {
    "name": "ipython",
    "version": 3
   },
   "file_extension": ".py",
   "mimetype": "text/x-python",
   "name": "python",
   "nbconvert_exporter": "python",
   "pygments_lexer": "ipython3",
   "version": "3.11.3"
  },
  "orig_nbformat": 4,
  "vscode": {
   "interpreter": {
    "hash": "23b8fda9da3a2a104a5aa7aa75e01582a86c23885ba37bc31bb5dabaa9da29ce"
   }
  }
 },
 "nbformat": 4,
 "nbformat_minor": 2
}
