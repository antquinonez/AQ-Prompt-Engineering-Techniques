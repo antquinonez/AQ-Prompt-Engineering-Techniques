{
 "cells": [
  {
   "attachments": {},
   "cell_type": "markdown",
   "metadata": {},
   "source": [
    "# Take Control of GPT : Use the API. Don't let the API use you"
   ]
  },
  {
   "attachments": {},
   "cell_type": "markdown",
   "metadata": {},
   "source": [
    "### My first openai API Project!!!"
   ]
  },
  {
   "attachments": {},
   "cell_type": "markdown",
   "metadata": {},
   "source": [
    "Here, I use the openai Python lib and some custom classes to handle processing prompts and responses. I store the results in a pandas dataframe, then format the code in a pandas 'style' object. I can use the dataframe and other objects (like the multiline string of prompts) to manage context for later prompts. Yes, context from prompts and answers. So much more to do with this. But this is a start."
   ]
  },
  {
   "attachments": {},
   "cell_type": "markdown",
   "metadata": {},
   "source": [
    "## Setup"
   ]
  },
  {
   "cell_type": "code",
   "execution_count": 1,
   "metadata": {},
   "outputs": [
    {
     "data": {
      "text/html": [
       "<style>\n",
       "    /* Enable word wrap */\n",
       "    .rendered_html table, .rendered_html th, .rendered_html tr, .rendered_html td {\n",
       "      white-space: nowrap;\n",
       "      overflow: hidden;\n",
       "      text-overflow: ellipsis;\n",
       "    }\n",
       "</style>\n"
      ],
      "text/plain": [
       "<IPython.core.display.HTML object>"
      ]
     },
     "metadata": {},
     "output_type": "display_data"
    }
   ],
   "source": [
    "%%html\n",
    "<style>\n",
    "    /* Enable word wrap */\n",
    "    .rendered_html table, .rendered_html th, .rendered_html tr, .rendered_html td {\n",
    "      white-space: nowrap;\n",
    "      overflow: hidden;\n",
    "      text-overflow: ellipsis;\n",
    "    }\n",
    "</style>"
   ]
  },
  {
   "attachments": {},
   "cell_type": "markdown",
   "metadata": {},
   "source": [
    "### Imports"
   ]
  },
  {
   "cell_type": "code",
   "execution_count": 2,
   "metadata": {},
   "outputs": [],
   "source": [
    "# ...\n",
    "import openai\n",
    "import os\n",
    "import pprint\n",
    "import sys\n",
    "from pprint import pprint\n",
    "import json\n",
    "import pyarrow as pa\n",
    "import pandas as pd\n",
    "\n",
    "lib = os.path.abspath(os.path.join('..', '..', 'libs'))\n",
    "sys.path.append(lib)\n",
    "\n",
    "from MessageParser import MessageParser\n",
    "from ResponseParser import ResponseParser\n",
    "from PromptLogs import PromptLogs\n"
   ]
  },
  {
   "attachments": {},
   "cell_type": "markdown",
   "metadata": {},
   "source": [
    "### Config"
   ]
  },
  {
   "cell_type": "code",
   "execution_count": 3,
   "metadata": {},
   "outputs": [],
   "source": [
    "# ...\n",
    "# *******************************************************************************************************\n",
    "# SET THE API KEY\n",
    "# ================\n",
    "# -- set the env variable OPENAI_API_KEY to your OpenAI API key       <<<<<<<<<<<<<<<<<<<<<<<<<<<<<<<<<<<\n",
    "openai.api_key = os.getenv(\"OPENAI_API_KEY\")\n",
    "# *******************************************************************************************************\n",
    "\n",
    "# Setup up pandas properties\n",
    "pd.set_option('display.max_columns', None)  # Display all columns\n",
    "pd.set_option('display.expand_frame_repr', False)  # Prevent line break in DataFrame\n",
    "pd.set_option('display.max_colwidth', None)  # Display the full content of cells\n",
    "\n"
   ]
  },
  {
   "attachments": {},
   "cell_type": "markdown",
   "metadata": {},
   "source": [
    "## Main code"
   ]
  },
  {
   "attachments": {},
   "cell_type": "markdown",
   "metadata": {},
   "source": [
    "Prep the system prompts"
   ]
  },
  {
   "cell_type": "code",
   "execution_count": 4,
   "metadata": {},
   "outputs": [],
   "source": [
    "sys_prompt_list = []\n",
    "sys_prompt_1 = \"\"\"You are a software expert.\"\"\"\n",
    "sys_prompt_2 = \"\"\"Use. \"```python\" style for code blocks.\"\"\"\n",
    "sys_prompt_3 = \"\"\"Include the name for a file where I would store individual code for functions or classes.\"\"\"\n",
    "\n",
    "sys_prompt_list.append(sys_prompt_1)\n",
    "sys_prompt_list.append(sys_prompt_2)\n",
    "sys_prompt_list.append(sys_prompt_3)\n",
    "\n",
    "sys_prompt_string = \"\".join(sys_prompt_list)"
   ]
  },
  {
   "attachments": {},
   "cell_type": "markdown",
   "metadata": {},
   "source": [
    "### a PromptLogs object will hold all the individual individual parser objects, which hold the response from a single exchange"
   ]
  },
  {
   "cell_type": "code",
   "execution_count": 5,
   "metadata": {},
   "outputs": [],
   "source": [
    "logs = PromptLogs()"
   ]
  },
  {
   "attachments": {},
   "cell_type": "markdown",
   "metadata": {},
   "source": [
    "Generate the message and make the call"
   ]
  },
  {
   "cell_type": "code",
   "execution_count": 6,
   "metadata": {},
   "outputs": [],
   "source": [
    "message_list = f\"\"\"\n",
    "system: {sys_prompt_string}\n",
    "user: Write python code for fibonacci sequence. also write a function to zero pad a string to 10 chars.\n",
    "\"\"\"\n",
    "\n",
    "# a MessageParser object will process the message_list and make an acceptable messages object\n",
    "message_parser = MessageParser(message_list)\n",
    "messages = message_parser.parse()\n",
    "\n",
    "# Make the openai call and get the response\n",
    "# todo: I'll abstract this away in the future\n",
    "response = openai.ChatCompletion.create(model='gpt-3.5-turbo', temperature=1.3, max_tokens=300, messages = messages)\n"
   ]
  },
  {
   "attachments": {},
   "cell_type": "markdown",
   "metadata": {},
   "source": [
    "A response parser will process the response"
   ]
  },
  {
   "cell_type": "code",
   "execution_count": 7,
   "metadata": {},
   "outputs": [
    {
     "name": "stdout",
     "output_type": "stream",
     "text": [
      "response: {\n",
      "  \"choices\": [\n",
      "    {\n",
      "      \"finish_reason\": \"stop\",\n",
      "      \"index\": 0,\n",
      "      \"message\": {\n",
      "        \"content\": \"Python code for a generating Fibonacci sequence using a function named \\\"```def fibonacci_sequence(n: int)```.\\\" This function will take an integer number \\\"n\\\" and then the function will generate the first \\\"n\\\" terms/binaries of the Fibonacci sequence storing it in a list object. Finally, the function will return the complete set of \\\"n\\\" terms.\\n\\n```python\\n# File: fibonacci.py\\n\\ndef fibonacci_sequence(n: int):\\n    \\\"\\\"\\\"Return a list of the first n \\n    numbers in the Fibonacci sequence\\\"\\\"\\\"\\n    fibo = [0, 1] # start with fibonacci \\n    while len(fibo) < n:\\n        fibo.append(fibo[-1] + fibo[-2])\\n    return fibo\\n```\\n\\n\\nSecondly, here is how to write a function in Python that zero pads a string named \\\"```def zero_padding(name: str)```.\\\"  This function will receive a name, and then the function will compute and then return a length-10 version of value-named string that will be padding with leading zeros to create 10 chars in total.\\n\\n```python\\n# File: zero_pad.py\\n\\ndef zero_padding(name: str):\\n    \\\"\\\"\\\"\\n    Return a name into 10-char spaced digit:\\n     padded to 10 spaces with leading 0\\u00b4s.\\n    \\\"\\\"\\\"\\n    return name.zfill(10) #provides a zero-padded version from given string\\n```\",\n",
      "        \"role\": \"assistant\"\n",
      "      }\n",
      "    }\n",
      "  ],\n",
      "  \"created\": 1681450175,\n",
      "  \"id\": \"chatcmpl-756I3v00Sw8dzfNGldHFTe00t5PvN\",\n",
      "  \"model\": \"gpt-3.5-turbo-0301\",\n",
      "  \"object\": \"chat.completion\",\n",
      "  \"usage\": {\n",
      "    \"completion_tokens\": 287,\n",
      "    \"prompt_tokens\": 66,\n",
      "    \"total_tokens\": 353\n",
      "  }\n",
      "}\n"
     ]
    }
   ],
   "source": [
    "response_parser = ResponseParser(response=response)"
   ]
  },
  {
   "attachments": {},
   "cell_type": "markdown",
   "metadata": {},
   "source": [
    "See a pandas dataframe of the logged response"
   ]
  },
  {
   "cell_type": "code",
   "execution_count": 8,
   "metadata": {},
   "outputs": [
    {
     "data": {
      "text/html": [
       "<div>\n",
       "<style scoped>\n",
       "    .dataframe tbody tr th:only-of-type {\n",
       "        vertical-align: middle;\n",
       "    }\n",
       "\n",
       "    .dataframe tbody tr th {\n",
       "        vertical-align: top;\n",
       "    }\n",
       "\n",
       "    .dataframe thead th {\n",
       "        text-align: right;\n",
       "    }\n",
       "</style>\n",
       "<table border=\"1\" class=\"dataframe\">\n",
       "  <thead>\n",
       "    <tr style=\"text-align: right;\">\n",
       "      <th></th>\n",
       "      <th>id</th>\n",
       "      <th>created</th>\n",
       "      <th>model</th>\n",
       "      <th>usage</th>\n",
       "      <th>all_code</th>\n",
       "      <th>code_blocks</th>\n",
       "      <th>content</th>\n",
       "    </tr>\n",
       "  </thead>\n",
       "  <tbody>\n",
       "    <tr>\n",
       "      <th>0</th>\n",
       "      <td>chatcmpl-756I3v00Sw8dzfNGldHFTe00t5PvN</td>\n",
       "      <td>1.681450e+09</td>\n",
       "      <td>gpt-3.5-turbo-0301</td>\n",
       "      <td>66.0</td>\n",
       "      <td>#&amp;nbsp;File:&amp;nbsp;fibonacci.py&lt;br&gt;&lt;br&gt;def&amp;nbsp;fibonacci_sequence(n:&amp;nbsp;int):&lt;br&gt;&amp;nbsp;&amp;nbsp;&amp;nbsp;&amp;nbsp;\"\"\"Return&amp;nbsp;a&amp;nbsp;list&amp;nbsp;of&amp;nbsp;the&amp;nbsp;first&amp;nbsp;n&amp;nbsp;&lt;br&gt;&amp;nbsp;&amp;nbsp;&amp;nbsp;&amp;nbsp;numbers&amp;nbsp;in&amp;nbsp;the&amp;nbsp;Fibonacci&amp;nbsp;sequence\"\"\"&lt;br&gt;&amp;nbsp;&amp;nbsp;&amp;nbsp;&amp;nbsp;fibo&amp;nbsp;=&amp;nbsp;[0,&amp;nbsp;1]&amp;nbsp;#&amp;nbsp;start&amp;nbsp;with&amp;nbsp;fibonacci&amp;nbsp;&lt;br&gt;&amp;nbsp;&amp;nbsp;&amp;nbsp;&amp;nbsp;while&amp;nbsp;len(fibo)&amp;nbsp;&lt;&amp;nbsp;n:&lt;br&gt;&amp;nbsp;&amp;nbsp;&amp;nbsp;&amp;nbsp;&amp;nbsp;&amp;nbsp;&amp;nbsp;&amp;nbsp;fibo.append(fibo[-1]&amp;nbsp;+&amp;nbsp;fibo[-2])&lt;br&gt;&amp;nbsp;&amp;nbsp;&amp;nbsp;&amp;nbsp;return&amp;nbsp;fibo&lt;br&gt;#&amp;nbsp;File:&amp;nbsp;zero_pad.py&lt;br&gt;&lt;br&gt;def&amp;nbsp;zero_padding(name:&amp;nbsp;str):&lt;br&gt;&amp;nbsp;&amp;nbsp;&amp;nbsp;&amp;nbsp;\"\"\"&lt;br&gt;&amp;nbsp;&amp;nbsp;&amp;nbsp;&amp;nbsp;Return&amp;nbsp;a&amp;nbsp;name&amp;nbsp;into&amp;nbsp;10-char&amp;nbsp;spaced&amp;nbsp;digit:&lt;br&gt;&amp;nbsp;&amp;nbsp;&amp;nbsp;&amp;nbsp;&amp;nbsp;padded&amp;nbsp;to&amp;nbsp;10&amp;nbsp;spaces&amp;nbsp;with&amp;nbsp;leading&amp;nbsp;0´s.&lt;br&gt;&amp;nbsp;&amp;nbsp;&amp;nbsp;&amp;nbsp;\"\"\"&lt;br&gt;&amp;nbsp;&amp;nbsp;&amp;nbsp;&amp;nbsp;return&amp;nbsp;name.zfill(10)&amp;nbsp;#provides&amp;nbsp;a&amp;nbsp;zero-padded&amp;nbsp;version&amp;nbsp;from&amp;nbsp;given&amp;nbsp;string&lt;br&gt;</td>\n",
       "      <td>[\\n# File: fibonacci.py\\n\\ndef fibonacci_sequence(n: int):\\n    \"\"\"Return a list of the first n \\n    numbers in the Fibonacci sequence\"\"\"\\n    fibo = [0, 1] # start with fibonacci \\n    while len(fibo) &lt; n:\\n        fibo.append(fibo[-1] + fibo[-2])\\n    return fibo\\n, \\n# File: zero_pad.py\\n\\ndef zero_padding(name: str):\\n    \"\"\"\\n    Return a name into 10-char spaced digit:\\n     padded to 10 spaces with leading 0´s.\\n    \"\"\"\\n    return name.zfill(10) #provides a zero-padded version from given string\\n]</td>\n",
       "      <td>Python code for a generating Fibonacci sequence using a function named \"```def fibonacci_sequence(n: int)```.\" This function will take an integer number \"n\" and then the function will generate the first \"n\" terms/binaries of the Fibonacci sequence storing it in a list object. Finally, the function will return the complete set of \"n\" terms.\\n\\n```python\\n# File: fibonacci.py\\n\\ndef fibonacci_sequence(n: int):\\n    \"\"\"Return a list of the first n \\n    numbers in the Fibonacci sequence\"\"\"\\n    fibo = [0, 1] # start with fibonacci \\n    while len(fibo) &lt; n:\\n        fibo.append(fibo[-1] + fibo[-2])\\n    return fibo\\n```\\n\\n\\nSecondly, here is how to write a function in Python that zero pads a string named \"```def zero_padding(name: str)```.\"  This function will receive a name, and then the function will compute and then return a length-10 version of value-named string that will be padding with leading zeros to create 10 chars in total.\\n\\n```python\\n# File: zero_pad.py\\n\\ndef zero_padding(name: str):\\n    \"\"\"\\n    Return a name into 10-char spaced digit:\\n     padded to 10 spaces with leading 0´s.\\n    \"\"\"\\n    return name.zfill(10) #provides a zero-padded version from given string\\n```</td>\n",
       "    </tr>\n",
       "  </tbody>\n",
       "</table>\n",
       "</div>"
      ],
      "text/plain": [
       "                                       id       created               model  usage                                                                                                                                                                                                                                                                                                                                                                                                                                                                                                                                                                                                                                                                                                                                                                                                                                                                                                                                                                                                                                                                                 all_code                                                                                                                                                                                                                                                                                                                                                                                                                                                                                                                      code_blocks                                                                                                                                                                                                                                                                                                                                                                                                                                                                                                                                                                                                                                                                                                                                                                                                                                                                                                                                                                                                                                                                                                                                                                                                                                             content\n",
       "0  chatcmpl-756I3v00Sw8dzfNGldHFTe00t5PvN  1.681450e+09  gpt-3.5-turbo-0301   66.0  #&nbsp;File:&nbsp;fibonacci.py<br><br>def&nbsp;fibonacci_sequence(n:&nbsp;int):<br>&nbsp;&nbsp;&nbsp;&nbsp;\"\"\"Return&nbsp;a&nbsp;list&nbsp;of&nbsp;the&nbsp;first&nbsp;n&nbsp;<br>&nbsp;&nbsp;&nbsp;&nbsp;numbers&nbsp;in&nbsp;the&nbsp;Fibonacci&nbsp;sequence\"\"\"<br>&nbsp;&nbsp;&nbsp;&nbsp;fibo&nbsp;=&nbsp;[0,&nbsp;1]&nbsp;#&nbsp;start&nbsp;with&nbsp;fibonacci&nbsp;<br>&nbsp;&nbsp;&nbsp;&nbsp;while&nbsp;len(fibo)&nbsp;<&nbsp;n:<br>&nbsp;&nbsp;&nbsp;&nbsp;&nbsp;&nbsp;&nbsp;&nbsp;fibo.append(fibo[-1]&nbsp;+&nbsp;fibo[-2])<br>&nbsp;&nbsp;&nbsp;&nbsp;return&nbsp;fibo<br>#&nbsp;File:&nbsp;zero_pad.py<br><br>def&nbsp;zero_padding(name:&nbsp;str):<br>&nbsp;&nbsp;&nbsp;&nbsp;\"\"\"<br>&nbsp;&nbsp;&nbsp;&nbsp;Return&nbsp;a&nbsp;name&nbsp;into&nbsp;10-char&nbsp;spaced&nbsp;digit:<br>&nbsp;&nbsp;&nbsp;&nbsp;&nbsp;padded&nbsp;to&nbsp;10&nbsp;spaces&nbsp;with&nbsp;leading&nbsp;0´s.<br>&nbsp;&nbsp;&nbsp;&nbsp;\"\"\"<br>&nbsp;&nbsp;&nbsp;&nbsp;return&nbsp;name.zfill(10)&nbsp;#provides&nbsp;a&nbsp;zero-padded&nbsp;version&nbsp;from&nbsp;given&nbsp;string<br>  [\\n# File: fibonacci.py\\n\\ndef fibonacci_sequence(n: int):\\n    \"\"\"Return a list of the first n \\n    numbers in the Fibonacci sequence\"\"\"\\n    fibo = [0, 1] # start with fibonacci \\n    while len(fibo) < n:\\n        fibo.append(fibo[-1] + fibo[-2])\\n    return fibo\\n, \\n# File: zero_pad.py\\n\\ndef zero_padding(name: str):\\n    \"\"\"\\n    Return a name into 10-char spaced digit:\\n     padded to 10 spaces with leading 0´s.\\n    \"\"\"\\n    return name.zfill(10) #provides a zero-padded version from given string\\n]  Python code for a generating Fibonacci sequence using a function named \"```def fibonacci_sequence(n: int)```.\" This function will take an integer number \"n\" and then the function will generate the first \"n\" terms/binaries of the Fibonacci sequence storing it in a list object. Finally, the function will return the complete set of \"n\" terms.\\n\\n```python\\n# File: fibonacci.py\\n\\ndef fibonacci_sequence(n: int):\\n    \"\"\"Return a list of the first n \\n    numbers in the Fibonacci sequence\"\"\"\\n    fibo = [0, 1] # start with fibonacci \\n    while len(fibo) < n:\\n        fibo.append(fibo[-1] + fibo[-2])\\n    return fibo\\n```\\n\\n\\nSecondly, here is how to write a function in Python that zero pads a string named \"```def zero_padding(name: str)```.\"  This function will receive a name, and then the function will compute and then return a length-10 version of value-named string that will be padding with leading zeros to create 10 chars in total.\\n\\n```python\\n# File: zero_pad.py\\n\\ndef zero_padding(name: str):\\n    \"\"\"\\n    Return a name into 10-char spaced digit:\\n     padded to 10 spaces with leading 0´s.\\n    \"\"\"\\n    return name.zfill(10) #provides a zero-padded version from given string\\n```"
      ]
     },
     "execution_count": 8,
     "metadata": {},
     "output_type": "execute_result"
    }
   ],
   "source": [
    "response_parser.df"
   ]
  },
  {
   "cell_type": "code",
   "execution_count": 9,
   "metadata": {},
   "outputs": [
    {
     "data": {
      "text/html": [
       "<style type=\"text/css\">\n",
       "#T_f3c7f_row0_col0, #T_f3c7f_row0_col1, #T_f3c7f_row0_col2, #T_f3c7f_row0_col3, #T_f3c7f_row0_col4 {\n",
       "  text-align: left;\n",
       "}\n",
       "</style>\n",
       "<table id=\"T_f3c7f\">\n",
       "  <thead>\n",
       "    <tr>\n",
       "      <th class=\"blank level0\" >&nbsp;</th>\n",
       "      <th id=\"T_f3c7f_level0_col0\" class=\"col_heading level0 col0\" >id</th>\n",
       "      <th id=\"T_f3c7f_level0_col1\" class=\"col_heading level0 col1\" >created</th>\n",
       "      <th id=\"T_f3c7f_level0_col2\" class=\"col_heading level0 col2\" >model</th>\n",
       "      <th id=\"T_f3c7f_level0_col3\" class=\"col_heading level0 col3\" >usage</th>\n",
       "      <th id=\"T_f3c7f_level0_col4\" class=\"col_heading level0 col4\" >all_code</th>\n",
       "    </tr>\n",
       "  </thead>\n",
       "  <tbody>\n",
       "    <tr>\n",
       "      <th id=\"T_f3c7f_level0_row0\" class=\"row_heading level0 row0\" >0</th>\n",
       "      <td id=\"T_f3c7f_row0_col0\" class=\"data row0 col0\" >chatcmpl-756I3v00Sw8dzfNGldHFTe00t5PvN</td>\n",
       "      <td id=\"T_f3c7f_row0_col1\" class=\"data row0 col1\" >1681450175.000000</td>\n",
       "      <td id=\"T_f3c7f_row0_col2\" class=\"data row0 col2\" >gpt-3.5-turbo-0301</td>\n",
       "      <td id=\"T_f3c7f_row0_col3\" class=\"data row0 col3\" >66.000000</td>\n",
       "      <td id=\"T_f3c7f_row0_col4\" class=\"data row0 col4\" >#&nbsp;File:&nbsp;fibonacci.py<br><br>def&nbsp;fibonacci_sequence(n:&nbsp;int):<br>&nbsp;&nbsp;&nbsp;&nbsp;\"\"\"Return&nbsp;a&nbsp;list&nbsp;of&nbsp;the&nbsp;first&nbsp;n&nbsp;<br>&nbsp;&nbsp;&nbsp;&nbsp;numbers&nbsp;in&nbsp;the&nbsp;Fibonacci&nbsp;sequence\"\"\"<br>&nbsp;&nbsp;&nbsp;&nbsp;fibo&nbsp;=&nbsp;[0,&nbsp;1]&nbsp;#&nbsp;start&nbsp;with&nbsp;fibonacci&nbsp;<br>&nbsp;&nbsp;&nbsp;&nbsp;while&nbsp;len(fibo)&nbsp;<&nbsp;n:<br>&nbsp;&nbsp;&nbsp;&nbsp;&nbsp;&nbsp;&nbsp;&nbsp;fibo.append(fibo[-1]&nbsp;+&nbsp;fibo[-2])<br>&nbsp;&nbsp;&nbsp;&nbsp;return&nbsp;fibo<br>#&nbsp;File:&nbsp;zero_pad.py<br><br>def&nbsp;zero_padding(name:&nbsp;str):<br>&nbsp;&nbsp;&nbsp;&nbsp;\"\"\"<br>&nbsp;&nbsp;&nbsp;&nbsp;Return&nbsp;a&nbsp;name&nbsp;into&nbsp;10-char&nbsp;spaced&nbsp;digit:<br>&nbsp;&nbsp;&nbsp;&nbsp;&nbsp;padded&nbsp;to&nbsp;10&nbsp;spaces&nbsp;with&nbsp;leading&nbsp;0´s.<br>&nbsp;&nbsp;&nbsp;&nbsp;\"\"\"<br>&nbsp;&nbsp;&nbsp;&nbsp;return&nbsp;name.zfill(10)&nbsp;#provides&nbsp;a&nbsp;zero-padded&nbsp;version&nbsp;from&nbsp;given&nbsp;string<br></td>\n",
       "    </tr>\n",
       "  </tbody>\n",
       "</table>\n"
      ],
      "text/plain": [
       "<pandas.io.formats.style.Styler at 0x7f7545c40a10>"
      ]
     },
     "execution_count": 9,
     "metadata": {},
     "output_type": "execute_result"
    }
   ],
   "source": [
    "# A pandas style applies custom formatting to a DataFrame to make it easier to read and\n",
    "# understand. It does not offer the full range of functionality that a DataFrame provides.\n",
    "response_parser.styled_log"
   ]
  },
  {
   "cell_type": "code",
   "execution_count": 10,
   "metadata": {},
   "outputs": [
    {
     "name": "stdout",
     "output_type": "stream",
     "text": [
      "[{'role': 'system', 'content': 'You are a software expert.Use. \"```python\" style for code blocks.Include the name for a file where I would store individual code for functions or classes.'}, {'role': 'user', 'content': 'Write python code for fibonacci sequence. also write a function to zero pad a string to 10 chars.'}]\n"
     ]
    },
    {
     "ename": "KeyError",
     "evalue": "'sid'",
     "output_type": "error",
     "traceback": [
      "\u001b[0;31m---------------------------------------------------------------------------\u001b[0m",
      "\u001b[0;31mKeyError\u001b[0m                                  Traceback (most recent call last)",
      "Cell \u001b[0;32mIn[10], line 2\u001b[0m\n\u001b[1;32m      1\u001b[0m \u001b[39m# this is a PromptLogs object again. We'll add the response_parser to the logs\u001b[39;00m\n\u001b[0;32m----> 2\u001b[0m logs\u001b[39m.\u001b[39;49mappend(messages, response_parser)\n\u001b[1;32m      3\u001b[0m logs\u001b[39m.\u001b[39mstyled_log\n",
      "File \u001b[0;32m~/Documents/Source/AQ-Prompt-Engineering-Techniques/techniques/library/libs/PromptLogs.py:32\u001b[0m, in \u001b[0;36mPromptLogs.append\u001b[0;34m(self, messages, response_parser)\u001b[0m\n\u001b[1;32m     29\u001b[0m additional_df[\u001b[39m'\u001b[39m\u001b[39mprompts\u001b[39m\u001b[39m'\u001b[39m] \u001b[39m=\u001b[39m messages_str_with_brackets\n\u001b[1;32m     31\u001b[0m \u001b[39m# Check if 'sid' values in both dataframes are not equal before concatenating\u001b[39;00m\n\u001b[0;32m---> 32\u001b[0m \u001b[39mif\u001b[39;00m \u001b[39mnot\u001b[39;00m \u001b[39mself\u001b[39;49m\u001b[39m.\u001b[39;49mdf[\u001b[39m'\u001b[39;49m\u001b[39msid\u001b[39;49m\u001b[39m'\u001b[39;49m]\u001b[39m.\u001b[39mequals(additional_df[\u001b[39m'\u001b[39m\u001b[39msid\u001b[39m\u001b[39m'\u001b[39m]):\n\u001b[1;32m     33\u001b[0m     \u001b[39mself\u001b[39m\u001b[39m.\u001b[39mdf \u001b[39m=\u001b[39m pd\u001b[39m.\u001b[39mconcat([\u001b[39mself\u001b[39m\u001b[39m.\u001b[39mdf, additional_df])\n",
      "File \u001b[0;32m~/.conda/envs/aqpe/lib/python3.11/site-packages/pandas/core/frame.py:3760\u001b[0m, in \u001b[0;36mDataFrame.__getitem__\u001b[0;34m(self, key)\u001b[0m\n\u001b[1;32m   3758\u001b[0m \u001b[39mif\u001b[39;00m \u001b[39mself\u001b[39m\u001b[39m.\u001b[39mcolumns\u001b[39m.\u001b[39mnlevels \u001b[39m>\u001b[39m \u001b[39m1\u001b[39m:\n\u001b[1;32m   3759\u001b[0m     \u001b[39mreturn\u001b[39;00m \u001b[39mself\u001b[39m\u001b[39m.\u001b[39m_getitem_multilevel(key)\n\u001b[0;32m-> 3760\u001b[0m indexer \u001b[39m=\u001b[39m \u001b[39mself\u001b[39;49m\u001b[39m.\u001b[39;49mcolumns\u001b[39m.\u001b[39;49mget_loc(key)\n\u001b[1;32m   3761\u001b[0m \u001b[39mif\u001b[39;00m is_integer(indexer):\n\u001b[1;32m   3762\u001b[0m     indexer \u001b[39m=\u001b[39m [indexer]\n",
      "File \u001b[0;32m~/.conda/envs/aqpe/lib/python3.11/site-packages/pandas/core/indexes/range.py:349\u001b[0m, in \u001b[0;36mRangeIndex.get_loc\u001b[0;34m(self, key)\u001b[0m\n\u001b[1;32m    347\u001b[0m         \u001b[39mraise\u001b[39;00m \u001b[39mKeyError\u001b[39;00m(key) \u001b[39mfrom\u001b[39;00m \u001b[39merr\u001b[39;00m\n\u001b[1;32m    348\u001b[0m \u001b[39mself\u001b[39m\u001b[39m.\u001b[39m_check_indexing_error(key)\n\u001b[0;32m--> 349\u001b[0m \u001b[39mraise\u001b[39;00m \u001b[39mKeyError\u001b[39;00m(key)\n",
      "\u001b[0;31mKeyError\u001b[0m: 'sid'"
     ]
    }
   ],
   "source": [
    "# this is a PromptLogs object again. We'll add the response_parser to the logs\n",
    "logs.append(messages, response_parser)\n",
    "logs.styled_log"
   ]
  },
  {
   "attachments": {},
   "cell_type": "markdown",
   "metadata": {},
   "source": [
    "## And we have another exchange"
   ]
  },
  {
   "cell_type": "code",
   "execution_count": null,
   "metadata": {},
   "outputs": [
    {
     "name": "stdout",
     "output_type": "stream",
     "text": [
      "response: {\n",
      "  \"choices\": [\n",
      "    {\n",
      "      \"finish_reason\": \"stop\",\n",
      "      \"index\": 0,\n",
      "      \"message\": {\n",
      "        \"content\": \"Here's the `python` function that returns numbers 1-10 in a list:\\n```python\\ndef get_numbers():\\n    return list(range(1, 11))\\n```\\n\\nYou can store this code in a file called `functions.py` or any other preferred name as per your requirement or preference.\",\n",
      "        \"role\": \"assistant\"\n",
      "      }\n",
      "    }\n",
      "  ],\n",
      "  \"created\": 1681449538,\n",
      "  \"id\": \"chatcmpl-7567mnV8tgBTGmgzT4ZDD4uLvQTyV\",\n",
      "  \"model\": \"gpt-3.5-turbo-0301\",\n",
      "  \"object\": \"chat.completion\",\n",
      "  \"usage\": {\n",
      "    \"completion_tokens\": 62,\n",
      "    \"prompt_tokens\": 60,\n",
      "    \"total_tokens\": 122\n",
      "  }\n",
      "}\n",
      "[{'role': 'system', 'content': 'You are a software expert.Use. \"```python\" style for code blocks.Include the name for a file where I would store individual code for functions or classes.'}, {'role': 'user', 'content': 'Write a python function that returns numbers 1-10 in a list.'}]\n"
     ]
    }
   ],
   "source": [
    "message_list = f\"\"\"\n",
    "system: {sys_prompt_string}\n",
    "user: Write a python function that returns numbers 1-10 in a list. \n",
    "\"\"\"\n",
    "\n",
    "message_parser = MessageParser(message_list)\n",
    "messages = message_parser.parse()\n",
    "response = openai.ChatCompletion.create(model='gpt-3.5-turbo', temperature=1.3, max_tokens=300, messages = messages)\n",
    "response_parser = ResponseParser(response=response)\n",
    "\n",
    "logs.append(messages, response_parser)"
   ]
  },
  {
   "cell_type": "code",
   "execution_count": null,
   "metadata": {},
   "outputs": [
    {
     "data": {
      "text/html": [
       "<div>\n",
       "<style scoped>\n",
       "    .dataframe tbody tr th:only-of-type {\n",
       "        vertical-align: middle;\n",
       "    }\n",
       "\n",
       "    .dataframe tbody tr th {\n",
       "        vertical-align: top;\n",
       "    }\n",
       "\n",
       "    .dataframe thead th {\n",
       "        text-align: right;\n",
       "    }\n",
       "</style>\n",
       "<table border=\"1\" class=\"dataframe\">\n",
       "  <thead>\n",
       "    <tr style=\"text-align: right;\">\n",
       "      <th></th>\n",
       "      <th>id</th>\n",
       "      <th>created</th>\n",
       "      <th>model</th>\n",
       "      <th>usage</th>\n",
       "      <th>all_code</th>\n",
       "      <th>code_blocks</th>\n",
       "      <th>content</th>\n",
       "      <th>sid</th>\n",
       "      <th>prompts</th>\n",
       "    </tr>\n",
       "  </thead>\n",
       "  <tbody>\n",
       "    <tr>\n",
       "      <th>0</th>\n",
       "      <td>chatcmpl-7567b9uvhCdwBVYGIBPjJwUMFTpaX</td>\n",
       "      <td>1.681450e+09</td>\n",
       "      <td>gpt-3.5-turbo-0301</td>\n",
       "      <td>66.0</td>\n",
       "      <td>def&amp;nbsp;fibonacci(num):&lt;br&gt;&amp;nbsp;&amp;nbsp;&amp;nbsp;&amp;nbsp;a,&amp;nbsp;b&amp;nbsp;=&amp;nbsp;0,&amp;nbsp;1&lt;br&gt;&amp;nbsp;&amp;nbsp;&amp;nbsp;&amp;nbsp;for&amp;nbsp;i&amp;nbsp;in&amp;nbsp;range(num):&lt;br&gt;&amp;nbsp;&amp;nbsp;&amp;nbsp;&amp;nbsp;&amp;nbsp;&amp;nbsp;&amp;nbsp;&amp;nbsp;yield&amp;nbsp;a&lt;br&gt;&amp;nbsp;&amp;nbsp;&amp;nbsp;&amp;nbsp;&amp;nbsp;&amp;nbsp;&amp;nbsp;&amp;nbsp;a,&amp;nbsp;b&amp;nbsp;=&amp;nbsp;b,&amp;nbsp;a&amp;nbsp;+&amp;nbsp;b&lt;br&gt;&gt;&gt;&gt;&amp;nbsp;for&amp;nbsp;fib&amp;nbsp;in&amp;nbsp;fibonacci(10):&lt;br&gt;...&amp;nbsp;&amp;nbsp;&amp;nbsp;&amp;nbsp;&amp;nbsp;print(fib)&lt;br&gt;...&lt;br&gt;0&lt;br&gt;1&lt;br&gt;1&lt;br&gt;2&lt;br&gt;3&lt;br&gt;5&lt;br&gt;8&lt;br&gt;13&lt;br&gt;21&lt;br&gt;34&lt;br&gt;def&amp;nbsp;zero_pad(string):&lt;br&gt;&amp;nbsp;&amp;nbsp;&amp;nbsp;&amp;nbsp;return&amp;nbsp;string.zfill(10)&lt;br&gt;&gt;&gt;&gt;&amp;nbsp;padded_string&amp;nbsp;=&amp;nbsp;zero_pad('123')&lt;br&gt;&gt;&gt;&gt;&amp;nbsp;print(padded_string)&lt;br&gt;'0000000123'&lt;br&gt;</td>\n",
       "      <td>[\\ndef fibonacci(num):\\n    a, b = 0, 1\\n    for i in range(num):\\n        yield a\\n        a, b = b, a + b\\n, \\n&gt;&gt;&gt; for fib in fibonacci(10):\\n...     print(fib)\\n...\\n0\\n1\\n1\\n2\\n3\\n5\\n8\\n13\\n21\\n34\\n, \\ndef zero_pad(string):\\n    return string.zfill(10)\\n, \\n&gt;&gt;&gt; padded_string = zero_pad('123')\\n&gt;&gt;&gt; print(padded_string)\\n'0000000123'\\n]</td>\n",
       "      <td>Fibonacci sequence code:\\n\\n```python\\ndef fibonacci(num):\\n    a, b = 0, 1\\n    for i in range(num):\\n        yield a\\n        a, b = b, a + b\\n```\\nExample:\\n\\n```python\\n&gt;&gt;&gt; for fib in fibonacci(10):\\n...     print(fib)\\n...\\n0\\n1\\n1\\n2\\n3\\n5\\n8\\n13\\n21\\n34\\n```\\n\\nZero padding function for string:\\n\\n```python\\ndef zero_pad(string):\\n    return string.zfill(10)\\n```\\nExample:\\n\\n```python\\n&gt;&gt;&gt; padded_string = zero_pad('123')\\n&gt;&gt;&gt; print(padded_string)\\n'0000000123'\\n``` \\n\\nYou may store the Fibonacci function in a file named `fibonacci.py` and the zero padding function may go to a file named `string_utils.py`. Your directories would look like this:\\n```\\n├── fibonacci.py\\n└── string_utils.py\\n```</td>\n",
       "      <td>a1</td>\n",
       "      <td>[{'role': 'system', 'content': 'You are a software expert.Use. \"```python\" style for code blocks.Include the name for a file where I would store individual code for functions or classes.'}, {'role': 'user', 'content': 'Write python code for fibonacci sequence. also write a function to zero pad a string to 10 chars.'}]</td>\n",
       "    </tr>\n",
       "    <tr>\n",
       "      <th>0</th>\n",
       "      <td>chatcmpl-7567mnV8tgBTGmgzT4ZDD4uLvQTyV</td>\n",
       "      <td>1.681450e+09</td>\n",
       "      <td>gpt-3.5-turbo-0301</td>\n",
       "      <td>60.0</td>\n",
       "      <td>def&amp;nbsp;get_numbers():&lt;br&gt;&amp;nbsp;&amp;nbsp;&amp;nbsp;&amp;nbsp;return&amp;nbsp;list(range(1,&amp;nbsp;11))&lt;br&gt;</td>\n",
       "      <td>[\\ndef get_numbers():\\n    return list(range(1, 11))\\n]</td>\n",
       "      <td>Here's the `python` function that returns numbers 1-10 in a list:\\n```python\\ndef get_numbers():\\n    return list(range(1, 11))\\n```\\n\\nYou can store this code in a file called `functions.py` or any other preferred name as per your requirement or preference.</td>\n",
       "      <td>a2</td>\n",
       "      <td>[{'role': 'system', 'content': 'You are a software expert.Use. \"```python\" style for code blocks.Include the name for a file where I would store individual code for functions or classes.'}, {'role': 'user', 'content': 'Write a python function that returns numbers 1-10 in a list.'}]</td>\n",
       "    </tr>\n",
       "  </tbody>\n",
       "</table>\n",
       "</div>"
      ],
      "text/plain": [
       "                                       id       created               model  usage                                                                                                                                                                                                                                                                                                                                                                                                                                                                                                                                                                                                                                                                              all_code                                                                                                                                                                                                                                                                                                                                           code_blocks                                                                                                                                                                                                                                                                                                                                                                                                                                                                                                                                                                                                                                                                                                                                content sid                                                                                                                                                                                                                                                                                                                          prompts\n",
       "0  chatcmpl-7567b9uvhCdwBVYGIBPjJwUMFTpaX  1.681450e+09  gpt-3.5-turbo-0301   66.0  def&nbsp;fibonacci(num):<br>&nbsp;&nbsp;&nbsp;&nbsp;a,&nbsp;b&nbsp;=&nbsp;0,&nbsp;1<br>&nbsp;&nbsp;&nbsp;&nbsp;for&nbsp;i&nbsp;in&nbsp;range(num):<br>&nbsp;&nbsp;&nbsp;&nbsp;&nbsp;&nbsp;&nbsp;&nbsp;yield&nbsp;a<br>&nbsp;&nbsp;&nbsp;&nbsp;&nbsp;&nbsp;&nbsp;&nbsp;a,&nbsp;b&nbsp;=&nbsp;b,&nbsp;a&nbsp;+&nbsp;b<br>>>>&nbsp;for&nbsp;fib&nbsp;in&nbsp;fibonacci(10):<br>...&nbsp;&nbsp;&nbsp;&nbsp;&nbsp;print(fib)<br>...<br>0<br>1<br>1<br>2<br>3<br>5<br>8<br>13<br>21<br>34<br>def&nbsp;zero_pad(string):<br>&nbsp;&nbsp;&nbsp;&nbsp;return&nbsp;string.zfill(10)<br>>>>&nbsp;padded_string&nbsp;=&nbsp;zero_pad('123')<br>>>>&nbsp;print(padded_string)<br>'0000000123'<br>  [\\ndef fibonacci(num):\\n    a, b = 0, 1\\n    for i in range(num):\\n        yield a\\n        a, b = b, a + b\\n, \\n>>> for fib in fibonacci(10):\\n...     print(fib)\\n...\\n0\\n1\\n1\\n2\\n3\\n5\\n8\\n13\\n21\\n34\\n, \\ndef zero_pad(string):\\n    return string.zfill(10)\\n, \\n>>> padded_string = zero_pad('123')\\n>>> print(padded_string)\\n'0000000123'\\n]  Fibonacci sequence code:\\n\\n```python\\ndef fibonacci(num):\\n    a, b = 0, 1\\n    for i in range(num):\\n        yield a\\n        a, b = b, a + b\\n```\\nExample:\\n\\n```python\\n>>> for fib in fibonacci(10):\\n...     print(fib)\\n...\\n0\\n1\\n1\\n2\\n3\\n5\\n8\\n13\\n21\\n34\\n```\\n\\nZero padding function for string:\\n\\n```python\\ndef zero_pad(string):\\n    return string.zfill(10)\\n```\\nExample:\\n\\n```python\\n>>> padded_string = zero_pad('123')\\n>>> print(padded_string)\\n'0000000123'\\n``` \\n\\nYou may store the Fibonacci function in a file named `fibonacci.py` and the zero padding function may go to a file named `string_utils.py`. Your directories would look like this:\\n```\\n├── fibonacci.py\\n└── string_utils.py\\n```  a1  [{'role': 'system', 'content': 'You are a software expert.Use. \"```python\" style for code blocks.Include the name for a file where I would store individual code for functions or classes.'}, {'role': 'user', 'content': 'Write python code for fibonacci sequence. also write a function to zero pad a string to 10 chars.'}]\n",
       "0  chatcmpl-7567mnV8tgBTGmgzT4ZDD4uLvQTyV  1.681450e+09  gpt-3.5-turbo-0301   60.0                                                                                                                                                                                                                                                                                                                                                                                                                                                                                                                                                                                            def&nbsp;get_numbers():<br>&nbsp;&nbsp;&nbsp;&nbsp;return&nbsp;list(range(1,&nbsp;11))<br>                                                                                                                                                                                                                                                                                               [\\ndef get_numbers():\\n    return list(range(1, 11))\\n]                                                                                                                                                                                                                                                                                                                                                                                                                                                                     Here's the `python` function that returns numbers 1-10 in a list:\\n```python\\ndef get_numbers():\\n    return list(range(1, 11))\\n```\\n\\nYou can store this code in a file called `functions.py` or any other preferred name as per your requirement or preference.  a2                                       [{'role': 'system', 'content': 'You are a software expert.Use. \"```python\" style for code blocks.Include the name for a file where I would store individual code for functions or classes.'}, {'role': 'user', 'content': 'Write a python function that returns numbers 1-10 in a list.'}]"
      ]
     },
     "execution_count": 12,
     "metadata": {},
     "output_type": "execute_result"
    }
   ],
   "source": [
    "logs.df"
   ]
  },
  {
   "attachments": {},
   "cell_type": "markdown",
   "metadata": {},
   "source": [
    "### And print the styled logs with the code from two separate prompt exchanges"
   ]
  },
  {
   "cell_type": "code",
   "execution_count": null,
   "metadata": {},
   "outputs": [
    {
     "data": {
      "text/html": [
       "<style type=\"text/css\">\n",
       "#T_1fa73_row0_col0, #T_1fa73_row0_col1, #T_1fa73_row0_col2, #T_1fa73_row0_col3, #T_1fa73_row0_col4, #T_1fa73_row0_col5, #T_1fa73_row1_col0, #T_1fa73_row1_col1, #T_1fa73_row1_col2, #T_1fa73_row1_col3, #T_1fa73_row1_col4, #T_1fa73_row1_col5 {\n",
       "  text-align: left;\n",
       "}\n",
       "</style>\n",
       "<table id=\"T_1fa73\">\n",
       "  <thead>\n",
       "    <tr>\n",
       "      <th class=\"blank level0\" >&nbsp;</th>\n",
       "      <th id=\"T_1fa73_level0_col0\" class=\"col_heading level0 col0\" >id</th>\n",
       "      <th id=\"T_1fa73_level0_col1\" class=\"col_heading level0 col1\" >created</th>\n",
       "      <th id=\"T_1fa73_level0_col2\" class=\"col_heading level0 col2\" >model</th>\n",
       "      <th id=\"T_1fa73_level0_col3\" class=\"col_heading level0 col3\" >usage</th>\n",
       "      <th id=\"T_1fa73_level0_col4\" class=\"col_heading level0 col4\" >prompts</th>\n",
       "      <th id=\"T_1fa73_level0_col5\" class=\"col_heading level0 col5\" >all_code</th>\n",
       "    </tr>\n",
       "    <tr>\n",
       "      <th class=\"index_name level0\" >sid</th>\n",
       "      <th class=\"blank col0\" >&nbsp;</th>\n",
       "      <th class=\"blank col1\" >&nbsp;</th>\n",
       "      <th class=\"blank col2\" >&nbsp;</th>\n",
       "      <th class=\"blank col3\" >&nbsp;</th>\n",
       "      <th class=\"blank col4\" >&nbsp;</th>\n",
       "      <th class=\"blank col5\" >&nbsp;</th>\n",
       "    </tr>\n",
       "  </thead>\n",
       "  <tbody>\n",
       "    <tr>\n",
       "      <th id=\"T_1fa73_level0_row0\" class=\"row_heading level0 row0\" >a1</th>\n",
       "      <td id=\"T_1fa73_row0_col0\" class=\"data row0 col0\" >chatcmpl-7567b9uvhCdwBVYGIBPjJwUMFTpaX</td>\n",
       "      <td id=\"T_1fa73_row0_col1\" class=\"data row0 col1\" >1681449527.000000</td>\n",
       "      <td id=\"T_1fa73_row0_col2\" class=\"data row0 col2\" >gpt-3.5-turbo-0301</td>\n",
       "      <td id=\"T_1fa73_row0_col3\" class=\"data row0 col3\" >66.000000</td>\n",
       "      <td id=\"T_1fa73_row0_col4\" class=\"data row0 col4\" >[{'role': 'system', 'content': 'You are a software expert.Use. \"```python\" style for code blocks.Include the name for a file where I would store individual code for functions or classes.'}, {'role': 'user', 'content': 'Write python code for fibonacci sequence. also write a function to zero pad a string to 10 chars.'}]</td>\n",
       "      <td id=\"T_1fa73_row0_col5\" class=\"data row0 col5\" >def&nbsp;fibonacci(num):<br>&nbsp;&nbsp;&nbsp;&nbsp;a,&nbsp;b&nbsp;=&nbsp;0,&nbsp;1<br>&nbsp;&nbsp;&nbsp;&nbsp;for&nbsp;i&nbsp;in&nbsp;range(num):<br>&nbsp;&nbsp;&nbsp;&nbsp;&nbsp;&nbsp;&nbsp;&nbsp;yield&nbsp;a<br>&nbsp;&nbsp;&nbsp;&nbsp;&nbsp;&nbsp;&nbsp;&nbsp;a,&nbsp;b&nbsp;=&nbsp;b,&nbsp;a&nbsp;+&nbsp;b<br>>>>&nbsp;for&nbsp;fib&nbsp;in&nbsp;fibonacci(10):<br>...&nbsp;&nbsp;&nbsp;&nbsp;&nbsp;print(fib)<br>...<br>0<br>1<br>1<br>2<br>3<br>5<br>8<br>13<br>21<br>34<br>def&nbsp;zero_pad(string):<br>&nbsp;&nbsp;&nbsp;&nbsp;return&nbsp;string.zfill(10)<br>>>>&nbsp;padded_string&nbsp;=&nbsp;zero_pad('123')<br>>>>&nbsp;print(padded_string)<br>'0000000123'<br></td>\n",
       "    </tr>\n",
       "    <tr>\n",
       "      <th id=\"T_1fa73_level0_row1\" class=\"row_heading level0 row1\" >a2</th>\n",
       "      <td id=\"T_1fa73_row1_col0\" class=\"data row1 col0\" >chatcmpl-7567mnV8tgBTGmgzT4ZDD4uLvQTyV</td>\n",
       "      <td id=\"T_1fa73_row1_col1\" class=\"data row1 col1\" >1681449538.000000</td>\n",
       "      <td id=\"T_1fa73_row1_col2\" class=\"data row1 col2\" >gpt-3.5-turbo-0301</td>\n",
       "      <td id=\"T_1fa73_row1_col3\" class=\"data row1 col3\" >60.000000</td>\n",
       "      <td id=\"T_1fa73_row1_col4\" class=\"data row1 col4\" >[{'role': 'system', 'content': 'You are a software expert.Use. \"```python\" style for code blocks.Include the name for a file where I would store individual code for functions or classes.'}, {'role': 'user', 'content': 'Write a python function that returns numbers 1-10 in a list.'}]</td>\n",
       "      <td id=\"T_1fa73_row1_col5\" class=\"data row1 col5\" >def&nbsp;get_numbers():<br>&nbsp;&nbsp;&nbsp;&nbsp;return&nbsp;list(range(1,&nbsp;11))<br></td>\n",
       "    </tr>\n",
       "  </tbody>\n",
       "</table>\n"
      ],
      "text/plain": [
       "<pandas.io.formats.style.Styler at 0x7fda5421bfd0>"
      ]
     },
     "execution_count": 14,
     "metadata": {},
     "output_type": "execute_result"
    }
   ],
   "source": [
    "logs.styled_log"
   ]
  }
 ],
 "metadata": {
  "kernelspec": {
   "display_name": "base",
   "language": "python",
   "name": "python3"
  },
  "language_info": {
   "codemirror_mode": {
    "name": "ipython",
    "version": 3
   },
   "file_extension": ".py",
   "mimetype": "text/x-python",
   "name": "python",
   "nbconvert_exporter": "python",
   "pygments_lexer": "ipython3",
   "version": "3.11.3"
  },
  "orig_nbformat": 4,
  "vscode": {
   "interpreter": {
    "hash": "23b8fda9da3a2a104a5aa7aa75e01582a86c23885ba37bc31bb5dabaa9da29ce"
   }
  }
 },
 "nbformat": 4,
 "nbformat_minor": 2
}
