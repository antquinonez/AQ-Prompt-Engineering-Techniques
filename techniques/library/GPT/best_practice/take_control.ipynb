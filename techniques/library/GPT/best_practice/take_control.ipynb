{
 "cells": [
  {
   "attachments": {},
   "cell_type": "markdown",
   "metadata": {},
   "source": [
    "# Take Control of GPT : Use the API. Don't let the API use you"
   ]
  },
  {
   "attachments": {},
   "cell_type": "markdown",
   "metadata": {},
   "source": [
    "### My first openai API Project!!!"
   ]
  },
  {
   "attachments": {},
   "cell_type": "markdown",
   "metadata": {},
   "source": [
    "Here, I use the openai Python lib and some custom classes to handle processing prompts and responses. I store the results in a pandas dataframe, then format the code in a pandas 'style' object. I can use the dataframe and other objects (like the multiline string of prompts) to manage context for later prompts. Yes, context from prompts and answers. So much more to do with this. But this is a start."
   ]
  },
  {
   "attachments": {},
   "cell_type": "markdown",
   "metadata": {},
   "source": [
    "## Setup"
   ]
  },
  {
   "cell_type": "code",
   "execution_count": 1,
   "metadata": {},
   "outputs": [
    {
     "data": {
      "text/html": [
       "<style>\n",
       "    /* Enable word wrap */\n",
       "    .rendered_html table, .rendered_html th, .rendered_html tr, .rendered_html td {\n",
       "      white-space: nowrap;\n",
       "      overflow: hidden;\n",
       "      text-overflow: ellipsis;\n",
       "    }\n",
       "</style>\n"
      ],
      "text/plain": [
       "<IPython.core.display.HTML object>"
      ]
     },
     "metadata": {},
     "output_type": "display_data"
    }
   ],
   "source": [
    "%%html\n",
    "<style>\n",
    "    /* Enable word wrap */\n",
    "    .rendered_html table, .rendered_html th, .rendered_html tr, .rendered_html td {\n",
    "      white-space: nowrap;\n",
    "      overflow: hidden;\n",
    "      text-overflow: ellipsis;\n",
    "    }\n",
    "</style>"
   ]
  },
  {
   "attachments": {},
   "cell_type": "markdown",
   "metadata": {},
   "source": [
    "### Imports"
   ]
  },
  {
   "cell_type": "code",
   "execution_count": 2,
   "metadata": {},
   "outputs": [],
   "source": [
    "# ...\n",
    "import openai\n",
    "import os\n",
    "import pprint\n",
    "import sys\n",
    "from pprint import pprint\n",
    "import json\n",
    "import pyarrow as pa\n",
    "import pandas as pd\n",
    "\n",
    "lib = os.path.abspath(os.path.join('..', '..', 'libs'))\n",
    "sys.path.append(lib)\n",
    "\n",
    "from MessageParser import MessageParser\n",
    "from ResponseParser import ResponseParser\n",
    "from PromptLogs import PromptLogs\n"
   ]
  },
  {
   "attachments": {},
   "cell_type": "markdown",
   "metadata": {},
   "source": [
    "### Config"
   ]
  },
  {
   "cell_type": "code",
   "execution_count": 3,
   "metadata": {},
   "outputs": [],
   "source": [
    "# ...\n",
    "# *******************************************************************************************************\n",
    "# SET THE API KEY\n",
    "# ================\n",
    "# -- set the env variable OPENAI_API_KEY to your OpenAI API key       <<<<<<<<<<<<<<<<<<<<<<<<<<<<<<<<<<<\n",
    "openai.api_key = os.getenv(\"OPENAI_API_KEY\")\n",
    "# *******************************************************************************************************\n",
    "\n",
    "# Setup up pandas properties\n",
    "pd.set_option('display.max_columns', None)  # Display all columns\n",
    "pd.set_option('display.expand_frame_repr', False)  # Prevent line break in DataFrame\n",
    "pd.set_option('display.max_colwidth', None)  # Display the full content of cells\n",
    "\n"
   ]
  },
  {
   "attachments": {},
   "cell_type": "markdown",
   "metadata": {},
   "source": [
    "## Main code"
   ]
  },
  {
   "attachments": {},
   "cell_type": "markdown",
   "metadata": {},
   "source": [
    "Prep the system prompts"
   ]
  },
  {
   "cell_type": "code",
   "execution_count": 4,
   "metadata": {},
   "outputs": [],
   "source": [
    "sys_prompt_list = []\n",
    "sys_prompt_1 = \"\"\"You are a software expert.\"\"\"\n",
    "sys_prompt_2 = \"\"\"Use. \"```python\" style for code blocks.\"\"\"\n",
    "sys_prompt_3 = \"\"\"Include the name for a file where I would store individual code for functions or classes.\"\"\"\n",
    "\n",
    "sys_prompt_list.append(sys_prompt_1)\n",
    "sys_prompt_list.append(sys_prompt_2)\n",
    "sys_prompt_list.append(sys_prompt_3)\n",
    "\n",
    "sys_prompt_string = \"\".join(sys_prompt_list)"
   ]
  },
  {
   "attachments": {},
   "cell_type": "markdown",
   "metadata": {},
   "source": [
    "### a PromptLogs object will hold all the individual individual parser objects, which hold the response from a single exchange"
   ]
  },
  {
   "cell_type": "code",
   "execution_count": 5,
   "metadata": {},
   "outputs": [],
   "source": [
    "logs = PromptLogs()"
   ]
  },
  {
   "attachments": {},
   "cell_type": "markdown",
   "metadata": {},
   "source": [
    "Generate the message and make the call"
   ]
  },
  {
   "cell_type": "code",
   "execution_count": 6,
   "metadata": {},
   "outputs": [],
   "source": [
    "message_list = f\"\"\"\n",
    "system: {sys_prompt_string}\n",
    "user: Write python code for fibonacci sequence. also write a function to zero pad a string to 10 chars.\n",
    "\"\"\"\n",
    "\n",
    "# a MessageParser object will prcoess the message_list and make an acceptable messages object\n",
    "response_parser = MessageParser(message_list)\n",
    "messages = response_parser.parse_messages()\n",
    "\n",
    "#  make the openai call and get the response\n",
    "# I'll abstract this away in the future\n",
    "response = openai.ChatCompletion.create(model='gpt-3.5-turbo', temperature=1.3, max_tokens=300, messages = messages)\n"
   ]
  },
  {
   "attachments": {},
   "cell_type": "markdown",
   "metadata": {},
   "source": [
    "a response parser will process the response"
   ]
  },
  {
   "cell_type": "code",
   "execution_count": 7,
   "metadata": {},
   "outputs": [],
   "source": [
    "response_parser = ResponseParser(response=response)"
   ]
  },
  {
   "attachments": {},
   "cell_type": "markdown",
   "metadata": {},
   "source": [
    "get a pandas dataframe of the logged prompts and responses"
   ]
  },
  {
   "cell_type": "code",
   "execution_count": 8,
   "metadata": {},
   "outputs": [
    {
     "data": {
      "text/html": [
       "<div>\n",
       "<style scoped>\n",
       "    .dataframe tbody tr th:only-of-type {\n",
       "        vertical-align: middle;\n",
       "    }\n",
       "\n",
       "    .dataframe tbody tr th {\n",
       "        vertical-align: top;\n",
       "    }\n",
       "\n",
       "    .dataframe thead th {\n",
       "        text-align: right;\n",
       "    }\n",
       "</style>\n",
       "<table border=\"1\" class=\"dataframe\">\n",
       "  <thead>\n",
       "    <tr style=\"text-align: right;\">\n",
       "      <th></th>\n",
       "      <th>id</th>\n",
       "      <th>created</th>\n",
       "      <th>model</th>\n",
       "      <th>usage</th>\n",
       "      <th>all_code</th>\n",
       "      <th>code_blocks</th>\n",
       "      <th>content</th>\n",
       "    </tr>\n",
       "  </thead>\n",
       "  <tbody>\n",
       "    <tr>\n",
       "      <th>0</th>\n",
       "      <td>chatcmpl-73yiHMFVb18aDGPQ78lsuzWm4lmwx</td>\n",
       "      <td>1.681183e+09</td>\n",
       "      <td>gpt-3.5-turbo-0301</td>\n",
       "      <td>66.0</td>\n",
       "      <td>def&amp;nbsp;fibonacci_sequence(n):&lt;br&gt;&amp;nbsp;&amp;nbsp;&amp;nbsp;&amp;nbsp;\"\"\"&lt;br&gt;&amp;nbsp;&amp;nbsp;&amp;nbsp;&amp;nbsp;This&amp;nbsp;function&amp;nbsp;generates&amp;nbsp;the&amp;nbsp;fibonacci&amp;nbsp;sequence&amp;nbsp;of&amp;nbsp;n&amp;nbsp;items.&lt;br&gt;&amp;nbsp;&amp;nbsp;&amp;nbsp;&amp;nbsp;\"\"\"&lt;br&gt;&amp;nbsp;&amp;nbsp;&amp;nbsp;&amp;nbsp;sequence&amp;nbsp;=&amp;nbsp;[0,&amp;nbsp;1]&lt;br&gt;&amp;nbsp;&amp;nbsp;&amp;nbsp;&amp;nbsp;while&amp;nbsp;len(sequence)&amp;nbsp;&lt;&amp;nbsp;n:&lt;br&gt;&amp;nbsp;&amp;nbsp;&amp;nbsp;&amp;nbsp;&amp;nbsp;&amp;nbsp;&amp;nbsp;&amp;nbsp;next_item&amp;nbsp;=&amp;nbsp;sequence[-1]&amp;nbsp;+&amp;nbsp;sequence[-2]&lt;br&gt;&amp;nbsp;&amp;nbsp;&amp;nbsp;&amp;nbsp;&amp;nbsp;&amp;nbsp;&amp;nbsp;&amp;nbsp;sequence.append(next_item)&lt;br&gt;&amp;nbsp;&amp;nbsp;&amp;nbsp;&amp;nbsp;return&amp;nbsp;sequence&lt;br&gt;def&amp;nbsp;pad_string(string):&lt;br&gt;&amp;nbsp;&amp;nbsp;&amp;nbsp;&amp;nbsp;\"\"\"&lt;br&gt;&amp;nbsp;&amp;nbsp;&amp;nbsp;&amp;nbsp;This&amp;nbsp;function&amp;nbsp;pads&amp;nbsp;a&amp;nbsp;given&amp;nbsp;string&amp;nbsp;with&amp;nbsp;zeroes&amp;nbsp;on&amp;nbsp;the&amp;nbsp;left&amp;nbsp;so&amp;nbsp;that&amp;nbsp;it&lt;br&gt;&amp;nbsp;&amp;nbsp;&amp;nbsp;&amp;nbsp;is&amp;nbsp;10&amp;nbsp;characters&amp;nbsp;long.&lt;br&gt;&amp;nbsp;&amp;nbsp;&amp;nbsp;&amp;nbsp;\"\"\"&lt;br&gt;&amp;nbsp;&amp;nbsp;&amp;nbsp;&amp;nbsp;return&amp;nbsp;string.zfill(10)&lt;br&gt;</td>\n",
       "      <td>[\\ndef fibonacci_sequence(n):\\n    \"\"\"\\n    This function generates the fibonacci sequence of n items.\\n    \"\"\"\\n    sequence = [0, 1]\\n    while len(sequence) &lt; n:\\n        next_item = sequence[-1] + sequence[-2]\\n        sequence.append(next_item)\\n    return sequence\\n, \\ndef pad_string(string):\\n    \"\"\"\\n    This function pads a given string with zeroes on the left so that it\\n    is 10 characters long.\\n    \"\"\"\\n    return string.zfill(10)\\n]</td>\n",
       "      <td>Code to generate the fibonacci sequence of n numbers:\\n\\n```python\\ndef fibonacci_sequence(n):\\n    \"\"\"\\n    This function generates the fibonacci sequence of n items.\\n    \"\"\"\\n    sequence = [0, 1]\\n    while len(sequence) &lt; n:\\n        next_item = sequence[-1] + sequence[-2]\\n        sequence.append(next_item)\\n    return sequence\\n```\\n\\nHere is a function to zero pad a string to 10 characters:\\n\\n```python\\ndef pad_string(string):\\n    \"\"\"\\n    This function pads a given string with zeroes on the left so that it\\n    is 10 characters long.\\n    \"\"\"\\n    return string.zfill(10)\\n```</td>\n",
       "    </tr>\n",
       "  </tbody>\n",
       "</table>\n",
       "</div>"
      ],
      "text/plain": [
       "                                       id       created               model  usage                                                                                                                                                                                                                                                                                                                                                                                                                                                                                                                                                                                                                                                                                                                                                                                                                                                                                                                                                                                             all_code                                                                                                                                                                                                                                                                                                                                                                                                                                                          code_blocks                                                                                                                                                                                                                                                                                                                                                                                                                                                                                                                                                                                                            content\n",
       "0  chatcmpl-73yiHMFVb18aDGPQ78lsuzWm4lmwx  1.681183e+09  gpt-3.5-turbo-0301   66.0  def&nbsp;fibonacci_sequence(n):<br>&nbsp;&nbsp;&nbsp;&nbsp;\"\"\"<br>&nbsp;&nbsp;&nbsp;&nbsp;This&nbsp;function&nbsp;generates&nbsp;the&nbsp;fibonacci&nbsp;sequence&nbsp;of&nbsp;n&nbsp;items.<br>&nbsp;&nbsp;&nbsp;&nbsp;\"\"\"<br>&nbsp;&nbsp;&nbsp;&nbsp;sequence&nbsp;=&nbsp;[0,&nbsp;1]<br>&nbsp;&nbsp;&nbsp;&nbsp;while&nbsp;len(sequence)&nbsp;<&nbsp;n:<br>&nbsp;&nbsp;&nbsp;&nbsp;&nbsp;&nbsp;&nbsp;&nbsp;next_item&nbsp;=&nbsp;sequence[-1]&nbsp;+&nbsp;sequence[-2]<br>&nbsp;&nbsp;&nbsp;&nbsp;&nbsp;&nbsp;&nbsp;&nbsp;sequence.append(next_item)<br>&nbsp;&nbsp;&nbsp;&nbsp;return&nbsp;sequence<br>def&nbsp;pad_string(string):<br>&nbsp;&nbsp;&nbsp;&nbsp;\"\"\"<br>&nbsp;&nbsp;&nbsp;&nbsp;This&nbsp;function&nbsp;pads&nbsp;a&nbsp;given&nbsp;string&nbsp;with&nbsp;zeroes&nbsp;on&nbsp;the&nbsp;left&nbsp;so&nbsp;that&nbsp;it<br>&nbsp;&nbsp;&nbsp;&nbsp;is&nbsp;10&nbsp;characters&nbsp;long.<br>&nbsp;&nbsp;&nbsp;&nbsp;\"\"\"<br>&nbsp;&nbsp;&nbsp;&nbsp;return&nbsp;string.zfill(10)<br>  [\\ndef fibonacci_sequence(n):\\n    \"\"\"\\n    This function generates the fibonacci sequence of n items.\\n    \"\"\"\\n    sequence = [0, 1]\\n    while len(sequence) < n:\\n        next_item = sequence[-1] + sequence[-2]\\n        sequence.append(next_item)\\n    return sequence\\n, \\ndef pad_string(string):\\n    \"\"\"\\n    This function pads a given string with zeroes on the left so that it\\n    is 10 characters long.\\n    \"\"\"\\n    return string.zfill(10)\\n]  Code to generate the fibonacci sequence of n numbers:\\n\\n```python\\ndef fibonacci_sequence(n):\\n    \"\"\"\\n    This function generates the fibonacci sequence of n items.\\n    \"\"\"\\n    sequence = [0, 1]\\n    while len(sequence) < n:\\n        next_item = sequence[-1] + sequence[-2]\\n        sequence.append(next_item)\\n    return sequence\\n```\\n\\nHere is a function to zero pad a string to 10 characters:\\n\\n```python\\ndef pad_string(string):\\n    \"\"\"\\n    This function pads a given string with zeroes on the left so that it\\n    is 10 characters long.\\n    \"\"\"\\n    return string.zfill(10)\\n```"
      ]
     },
     "execution_count": 8,
     "metadata": {},
     "output_type": "execute_result"
    }
   ],
   "source": [
    "response_df = response_parser.get_df()\n",
    "response_df"
   ]
  },
  {
   "cell_type": "code",
   "execution_count": 9,
   "metadata": {},
   "outputs": [
    {
     "data": {
      "text/html": [
       "<style type=\"text/css\">\n",
       "#T_caee4_row0_col0, #T_caee4_row0_col1, #T_caee4_row0_col2, #T_caee4_row0_col3, #T_caee4_row0_col4 {\n",
       "  text-align: left;\n",
       "}\n",
       "</style>\n",
       "<table id=\"T_caee4\">\n",
       "  <thead>\n",
       "    <tr>\n",
       "      <th class=\"blank level0\" >&nbsp;</th>\n",
       "      <th id=\"T_caee4_level0_col0\" class=\"col_heading level0 col0\" >id</th>\n",
       "      <th id=\"T_caee4_level0_col1\" class=\"col_heading level0 col1\" >created</th>\n",
       "      <th id=\"T_caee4_level0_col2\" class=\"col_heading level0 col2\" >model</th>\n",
       "      <th id=\"T_caee4_level0_col3\" class=\"col_heading level0 col3\" >usage</th>\n",
       "      <th id=\"T_caee4_level0_col4\" class=\"col_heading level0 col4\" >all_code</th>\n",
       "    </tr>\n",
       "  </thead>\n",
       "  <tbody>\n",
       "    <tr>\n",
       "      <th id=\"T_caee4_level0_row0\" class=\"row_heading level0 row0\" >0</th>\n",
       "      <td id=\"T_caee4_row0_col0\" class=\"data row0 col0\" >chatcmpl-73yiHMFVb18aDGPQ78lsuzWm4lmwx</td>\n",
       "      <td id=\"T_caee4_row0_col1\" class=\"data row0 col1\" >1681182721.000000</td>\n",
       "      <td id=\"T_caee4_row0_col2\" class=\"data row0 col2\" >gpt-3.5-turbo-0301</td>\n",
       "      <td id=\"T_caee4_row0_col3\" class=\"data row0 col3\" >66.000000</td>\n",
       "      <td id=\"T_caee4_row0_col4\" class=\"data row0 col4\" >def&nbsp;fibonacci_sequence(n):<br>&nbsp;&nbsp;&nbsp;&nbsp;\"\"\"<br>&nbsp;&nbsp;&nbsp;&nbsp;This&nbsp;function&nbsp;generates&nbsp;the&nbsp;fibonacci&nbsp;sequence&nbsp;of&nbsp;n&nbsp;items.<br>&nbsp;&nbsp;&nbsp;&nbsp;\"\"\"<br>&nbsp;&nbsp;&nbsp;&nbsp;sequence&nbsp;=&nbsp;[0,&nbsp;1]<br>&nbsp;&nbsp;&nbsp;&nbsp;while&nbsp;len(sequence)&nbsp;<&nbsp;n:<br>&nbsp;&nbsp;&nbsp;&nbsp;&nbsp;&nbsp;&nbsp;&nbsp;next_item&nbsp;=&nbsp;sequence[-1]&nbsp;+&nbsp;sequence[-2]<br>&nbsp;&nbsp;&nbsp;&nbsp;&nbsp;&nbsp;&nbsp;&nbsp;sequence.append(next_item)<br>&nbsp;&nbsp;&nbsp;&nbsp;return&nbsp;sequence<br>def&nbsp;pad_string(string):<br>&nbsp;&nbsp;&nbsp;&nbsp;\"\"\"<br>&nbsp;&nbsp;&nbsp;&nbsp;This&nbsp;function&nbsp;pads&nbsp;a&nbsp;given&nbsp;string&nbsp;with&nbsp;zeroes&nbsp;on&nbsp;the&nbsp;left&nbsp;so&nbsp;that&nbsp;it<br>&nbsp;&nbsp;&nbsp;&nbsp;is&nbsp;10&nbsp;characters&nbsp;long.<br>&nbsp;&nbsp;&nbsp;&nbsp;\"\"\"<br>&nbsp;&nbsp;&nbsp;&nbsp;return&nbsp;string.zfill(10)<br></td>\n",
       "    </tr>\n",
       "  </tbody>\n",
       "</table>\n"
      ],
      "text/plain": [
       "<pandas.io.formats.style.Styler at 0x20d39497910>"
      ]
     },
     "execution_count": 9,
     "metadata": {},
     "output_type": "execute_result"
    }
   ],
   "source": [
    "# A pandas style applies custom formatting to a DataFrame to make it easier to read and\n",
    "# understand. It does not offer the full range of functionality that a DataFrame provides.\n",
    "response_parser.styled_log"
   ]
  },
  {
   "cell_type": "code",
   "execution_count": 10,
   "metadata": {},
   "outputs": [],
   "source": [
    "# this is a PromptLogs object again. We'll add the response_parser to the logs\n",
    "logs.append(response_parser)"
   ]
  },
  {
   "attachments": {},
   "cell_type": "markdown",
   "metadata": {},
   "source": [
    "## And we have another exchange"
   ]
  },
  {
   "cell_type": "code",
   "execution_count": 11,
   "metadata": {},
   "outputs": [],
   "source": [
    "message_list = f\"\"\"\n",
    "system: {sys_prompt_string}\n",
    "user: Write a python function that returns numbers 1-10 in a list. \n",
    "\"\"\"\n",
    "\n",
    "message_parser = MessageParser(message_list)\n",
    "messages = message_parser.parse_messages()\n",
    "response = openai.ChatCompletion.create(model='gpt-3.5-turbo', temperature=1.3, max_tokens=300, messages = messages)\n",
    "response_parser = ResponseParser(response=response)\n",
    "\n",
    "logs.append(response_parser)"
   ]
  },
  {
   "cell_type": "code",
   "execution_count": 12,
   "metadata": {},
   "outputs": [
    {
     "data": {
      "text/html": [
       "<div>\n",
       "<style scoped>\n",
       "    .dataframe tbody tr th:only-of-type {\n",
       "        vertical-align: middle;\n",
       "    }\n",
       "\n",
       "    .dataframe tbody tr th {\n",
       "        vertical-align: top;\n",
       "    }\n",
       "\n",
       "    .dataframe thead th {\n",
       "        text-align: right;\n",
       "    }\n",
       "</style>\n",
       "<table border=\"1\" class=\"dataframe\">\n",
       "  <thead>\n",
       "    <tr style=\"text-align: right;\">\n",
       "      <th></th>\n",
       "      <th>id</th>\n",
       "      <th>created</th>\n",
       "      <th>model</th>\n",
       "      <th>usage</th>\n",
       "      <th>all_code</th>\n",
       "      <th>code_blocks</th>\n",
       "      <th>content</th>\n",
       "    </tr>\n",
       "  </thead>\n",
       "  <tbody>\n",
       "    <tr>\n",
       "      <th>0</th>\n",
       "      <td>chatcmpl-73yiHMFVb18aDGPQ78lsuzWm4lmwx</td>\n",
       "      <td>1.681183e+09</td>\n",
       "      <td>gpt-3.5-turbo-0301</td>\n",
       "      <td>66.0</td>\n",
       "      <td>def&amp;nbsp;fibonacci_sequence(n):&lt;br&gt;&amp;nbsp;&amp;nbsp;&amp;nbsp;&amp;nbsp;\"\"\"&lt;br&gt;&amp;nbsp;&amp;nbsp;&amp;nbsp;&amp;nbsp;This&amp;nbsp;function&amp;nbsp;generates&amp;nbsp;the&amp;nbsp;fibonacci&amp;nbsp;sequence&amp;nbsp;of&amp;nbsp;n&amp;nbsp;items.&lt;br&gt;&amp;nbsp;&amp;nbsp;&amp;nbsp;&amp;nbsp;\"\"\"&lt;br&gt;&amp;nbsp;&amp;nbsp;&amp;nbsp;&amp;nbsp;sequence&amp;nbsp;=&amp;nbsp;[0,&amp;nbsp;1]&lt;br&gt;&amp;nbsp;&amp;nbsp;&amp;nbsp;&amp;nbsp;while&amp;nbsp;len(sequence)&amp;nbsp;&lt;&amp;nbsp;n:&lt;br&gt;&amp;nbsp;&amp;nbsp;&amp;nbsp;&amp;nbsp;&amp;nbsp;&amp;nbsp;&amp;nbsp;&amp;nbsp;next_item&amp;nbsp;=&amp;nbsp;sequence[-1]&amp;nbsp;+&amp;nbsp;sequence[-2]&lt;br&gt;&amp;nbsp;&amp;nbsp;&amp;nbsp;&amp;nbsp;&amp;nbsp;&amp;nbsp;&amp;nbsp;&amp;nbsp;sequence.append(next_item)&lt;br&gt;&amp;nbsp;&amp;nbsp;&amp;nbsp;&amp;nbsp;return&amp;nbsp;sequence&lt;br&gt;def&amp;nbsp;pad_string(string):&lt;br&gt;&amp;nbsp;&amp;nbsp;&amp;nbsp;&amp;nbsp;\"\"\"&lt;br&gt;&amp;nbsp;&amp;nbsp;&amp;nbsp;&amp;nbsp;This&amp;nbsp;function&amp;nbsp;pads&amp;nbsp;a&amp;nbsp;given&amp;nbsp;string&amp;nbsp;with&amp;nbsp;zeroes&amp;nbsp;on&amp;nbsp;the&amp;nbsp;left&amp;nbsp;so&amp;nbsp;that&amp;nbsp;it&lt;br&gt;&amp;nbsp;&amp;nbsp;&amp;nbsp;&amp;nbsp;is&amp;nbsp;10&amp;nbsp;characters&amp;nbsp;long.&lt;br&gt;&amp;nbsp;&amp;nbsp;&amp;nbsp;&amp;nbsp;\"\"\"&lt;br&gt;&amp;nbsp;&amp;nbsp;&amp;nbsp;&amp;nbsp;return&amp;nbsp;string.zfill(10)&lt;br&gt;</td>\n",
       "      <td>[\\ndef fibonacci_sequence(n):\\n    \"\"\"\\n    This function generates the fibonacci sequence of n items.\\n    \"\"\"\\n    sequence = [0, 1]\\n    while len(sequence) &lt; n:\\n        next_item = sequence[-1] + sequence[-2]\\n        sequence.append(next_item)\\n    return sequence\\n, \\ndef pad_string(string):\\n    \"\"\"\\n    This function pads a given string with zeroes on the left so that it\\n    is 10 characters long.\\n    \"\"\"\\n    return string.zfill(10)\\n]</td>\n",
       "      <td>Code to generate the fibonacci sequence of n numbers:\\n\\n```python\\ndef fibonacci_sequence(n):\\n    \"\"\"\\n    This function generates the fibonacci sequence of n items.\\n    \"\"\"\\n    sequence = [0, 1]\\n    while len(sequence) &lt; n:\\n        next_item = sequence[-1] + sequence[-2]\\n        sequence.append(next_item)\\n    return sequence\\n```\\n\\nHere is a function to zero pad a string to 10 characters:\\n\\n```python\\ndef pad_string(string):\\n    \"\"\"\\n    This function pads a given string with zeroes on the left so that it\\n    is 10 characters long.\\n    \"\"\"\\n    return string.zfill(10)\\n```</td>\n",
       "    </tr>\n",
       "    <tr>\n",
       "      <th>0</th>\n",
       "      <td>chatcmpl-73yiO6cLGclJXwAicuXt30fT46M14</td>\n",
       "      <td>1.681183e+09</td>\n",
       "      <td>gpt-3.5-turbo-0301</td>\n",
       "      <td>60.0</td>\n",
       "      <td>def&amp;nbsp;number_list():&lt;br&gt;&amp;nbsp;&amp;nbsp;&amp;nbsp;&amp;nbsp;return&amp;nbsp;[i&amp;nbsp;for&amp;nbsp;i&amp;nbsp;in&amp;nbsp;range(1,&amp;nbsp;11)]&lt;br&gt;</td>\n",
       "      <td>[\\ndef number_list():\\n    return [i for i in range(1, 11)]\\n]</td>\n",
       "      <td>This function would be saved in a separate .py file, ideally with a name that reflects its purpose. For example, `number_list.py`.\\n\\n```python\\ndef number_list():\\n    return [i for i in range(1, 11)]\\n```\\n\\nThis function uses a list comprehension to generate and return a list of the numbers 1 through 10 when called.</td>\n",
       "    </tr>\n",
       "  </tbody>\n",
       "</table>\n",
       "</div>"
      ],
      "text/plain": [
       "                                       id       created               model  usage                                                                                                                                                                                                                                                                                                                                                                                                                                                                                                                                                                                                                                                                                                                                                                                                                                                                                                                                                                                             all_code                                                                                                                                                                                                                                                                                                                                                                                                                                                          code_blocks                                                                                                                                                                                                                                                                                                                                                                                                                                                                                                                                                                                                            content\n",
       "0  chatcmpl-73yiHMFVb18aDGPQ78lsuzWm4lmwx  1.681183e+09  gpt-3.5-turbo-0301   66.0  def&nbsp;fibonacci_sequence(n):<br>&nbsp;&nbsp;&nbsp;&nbsp;\"\"\"<br>&nbsp;&nbsp;&nbsp;&nbsp;This&nbsp;function&nbsp;generates&nbsp;the&nbsp;fibonacci&nbsp;sequence&nbsp;of&nbsp;n&nbsp;items.<br>&nbsp;&nbsp;&nbsp;&nbsp;\"\"\"<br>&nbsp;&nbsp;&nbsp;&nbsp;sequence&nbsp;=&nbsp;[0,&nbsp;1]<br>&nbsp;&nbsp;&nbsp;&nbsp;while&nbsp;len(sequence)&nbsp;<&nbsp;n:<br>&nbsp;&nbsp;&nbsp;&nbsp;&nbsp;&nbsp;&nbsp;&nbsp;next_item&nbsp;=&nbsp;sequence[-1]&nbsp;+&nbsp;sequence[-2]<br>&nbsp;&nbsp;&nbsp;&nbsp;&nbsp;&nbsp;&nbsp;&nbsp;sequence.append(next_item)<br>&nbsp;&nbsp;&nbsp;&nbsp;return&nbsp;sequence<br>def&nbsp;pad_string(string):<br>&nbsp;&nbsp;&nbsp;&nbsp;\"\"\"<br>&nbsp;&nbsp;&nbsp;&nbsp;This&nbsp;function&nbsp;pads&nbsp;a&nbsp;given&nbsp;string&nbsp;with&nbsp;zeroes&nbsp;on&nbsp;the&nbsp;left&nbsp;so&nbsp;that&nbsp;it<br>&nbsp;&nbsp;&nbsp;&nbsp;is&nbsp;10&nbsp;characters&nbsp;long.<br>&nbsp;&nbsp;&nbsp;&nbsp;\"\"\"<br>&nbsp;&nbsp;&nbsp;&nbsp;return&nbsp;string.zfill(10)<br>  [\\ndef fibonacci_sequence(n):\\n    \"\"\"\\n    This function generates the fibonacci sequence of n items.\\n    \"\"\"\\n    sequence = [0, 1]\\n    while len(sequence) < n:\\n        next_item = sequence[-1] + sequence[-2]\\n        sequence.append(next_item)\\n    return sequence\\n, \\ndef pad_string(string):\\n    \"\"\"\\n    This function pads a given string with zeroes on the left so that it\\n    is 10 characters long.\\n    \"\"\"\\n    return string.zfill(10)\\n]  Code to generate the fibonacci sequence of n numbers:\\n\\n```python\\ndef fibonacci_sequence(n):\\n    \"\"\"\\n    This function generates the fibonacci sequence of n items.\\n    \"\"\"\\n    sequence = [0, 1]\\n    while len(sequence) < n:\\n        next_item = sequence[-1] + sequence[-2]\\n        sequence.append(next_item)\\n    return sequence\\n```\\n\\nHere is a function to zero pad a string to 10 characters:\\n\\n```python\\ndef pad_string(string):\\n    \"\"\"\\n    This function pads a given string with zeroes on the left so that it\\n    is 10 characters long.\\n    \"\"\"\\n    return string.zfill(10)\\n```\n",
       "0  chatcmpl-73yiO6cLGclJXwAicuXt30fT46M14  1.681183e+09  gpt-3.5-turbo-0301   60.0                                                                                                                                                                                                                                                                                                                                                                                                                                                                                                                                                                                                                                                                                                                                                                                                                                                                                def&nbsp;number_list():<br>&nbsp;&nbsp;&nbsp;&nbsp;return&nbsp;[i&nbsp;for&nbsp;i&nbsp;in&nbsp;range(1,&nbsp;11)]<br>                                                                                                                                                                                                                                                                                                                                                                                                       [\\ndef number_list():\\n    return [i for i in range(1, 11)]\\n]                                                                                                                                                                                                                                                                                   This function would be saved in a separate .py file, ideally with a name that reflects its purpose. For example, `number_list.py`.\\n\\n```python\\ndef number_list():\\n    return [i for i in range(1, 11)]\\n```\\n\\nThis function uses a list comprehension to generate and return a list of the numbers 1 through 10 when called."
      ]
     },
     "execution_count": 12,
     "metadata": {},
     "output_type": "execute_result"
    }
   ],
   "source": [
    "logs.df"
   ]
  },
  {
   "attachments": {},
   "cell_type": "markdown",
   "metadata": {},
   "source": [
    "## And print the styled logs with the code from two separate prompt exchanges"
   ]
  },
  {
   "cell_type": "code",
   "execution_count": 14,
   "metadata": {},
   "outputs": [
    {
     "data": {
      "text/html": [
       "<style type=\"text/css\">\n",
       "#T_94a2b_row0_col0, #T_94a2b_row0_col1, #T_94a2b_row0_col2, #T_94a2b_row0_col3, #T_94a2b_row1_col0, #T_94a2b_row1_col1, #T_94a2b_row1_col2, #T_94a2b_row1_col3 {\n",
       "  text-align: left;\n",
       "}\n",
       "</style>\n",
       "<table id=\"T_94a2b\">\n",
       "  <thead>\n",
       "    <tr>\n",
       "      <th class=\"blank level0\" >&nbsp;</th>\n",
       "      <th id=\"T_94a2b_level0_col0\" class=\"col_heading level0 col0\" >created</th>\n",
       "      <th id=\"T_94a2b_level0_col1\" class=\"col_heading level0 col1\" >model</th>\n",
       "      <th id=\"T_94a2b_level0_col2\" class=\"col_heading level0 col2\" >usage</th>\n",
       "      <th id=\"T_94a2b_level0_col3\" class=\"col_heading level0 col3\" >all_code</th>\n",
       "    </tr>\n",
       "    <tr>\n",
       "      <th class=\"index_name level0\" >id</th>\n",
       "      <th class=\"blank col0\" >&nbsp;</th>\n",
       "      <th class=\"blank col1\" >&nbsp;</th>\n",
       "      <th class=\"blank col2\" >&nbsp;</th>\n",
       "      <th class=\"blank col3\" >&nbsp;</th>\n",
       "    </tr>\n",
       "  </thead>\n",
       "  <tbody>\n",
       "    <tr>\n",
       "      <th id=\"T_94a2b_level0_row0\" class=\"row_heading level0 row0\" >chatcmpl-73yiHMFVb18aDGPQ78lsuzWm4lmwx</th>\n",
       "      <td id=\"T_94a2b_row0_col0\" class=\"data row0 col0\" >1681182721.000000</td>\n",
       "      <td id=\"T_94a2b_row0_col1\" class=\"data row0 col1\" >gpt-3.5-turbo-0301</td>\n",
       "      <td id=\"T_94a2b_row0_col2\" class=\"data row0 col2\" >66.000000</td>\n",
       "      <td id=\"T_94a2b_row0_col3\" class=\"data row0 col3\" >def&nbsp;fibonacci_sequence(n):<br>&nbsp;&nbsp;&nbsp;&nbsp;\"\"\"<br>&nbsp;&nbsp;&nbsp;&nbsp;This&nbsp;function&nbsp;generates&nbsp;the&nbsp;fibonacci&nbsp;sequence&nbsp;of&nbsp;n&nbsp;items.<br>&nbsp;&nbsp;&nbsp;&nbsp;\"\"\"<br>&nbsp;&nbsp;&nbsp;&nbsp;sequence&nbsp;=&nbsp;[0,&nbsp;1]<br>&nbsp;&nbsp;&nbsp;&nbsp;while&nbsp;len(sequence)&nbsp;<&nbsp;n:<br>&nbsp;&nbsp;&nbsp;&nbsp;&nbsp;&nbsp;&nbsp;&nbsp;next_item&nbsp;=&nbsp;sequence[-1]&nbsp;+&nbsp;sequence[-2]<br>&nbsp;&nbsp;&nbsp;&nbsp;&nbsp;&nbsp;&nbsp;&nbsp;sequence.append(next_item)<br>&nbsp;&nbsp;&nbsp;&nbsp;return&nbsp;sequence<br>def&nbsp;pad_string(string):<br>&nbsp;&nbsp;&nbsp;&nbsp;\"\"\"<br>&nbsp;&nbsp;&nbsp;&nbsp;This&nbsp;function&nbsp;pads&nbsp;a&nbsp;given&nbsp;string&nbsp;with&nbsp;zeroes&nbsp;on&nbsp;the&nbsp;left&nbsp;so&nbsp;that&nbsp;it<br>&nbsp;&nbsp;&nbsp;&nbsp;is&nbsp;10&nbsp;characters&nbsp;long.<br>&nbsp;&nbsp;&nbsp;&nbsp;\"\"\"<br>&nbsp;&nbsp;&nbsp;&nbsp;return&nbsp;string.zfill(10)<br></td>\n",
       "    </tr>\n",
       "    <tr>\n",
       "      <th id=\"T_94a2b_level0_row1\" class=\"row_heading level0 row1\" >chatcmpl-73yiO6cLGclJXwAicuXt30fT46M14</th>\n",
       "      <td id=\"T_94a2b_row1_col0\" class=\"data row1 col0\" >1681182728.000000</td>\n",
       "      <td id=\"T_94a2b_row1_col1\" class=\"data row1 col1\" >gpt-3.5-turbo-0301</td>\n",
       "      <td id=\"T_94a2b_row1_col2\" class=\"data row1 col2\" >60.000000</td>\n",
       "      <td id=\"T_94a2b_row1_col3\" class=\"data row1 col3\" >def&nbsp;number_list():<br>&nbsp;&nbsp;&nbsp;&nbsp;return&nbsp;[i&nbsp;for&nbsp;i&nbsp;in&nbsp;range(1,&nbsp;11)]<br></td>\n",
       "    </tr>\n",
       "  </tbody>\n",
       "</table>\n"
      ],
      "text/plain": [
       "<pandas.io.formats.style.Styler at 0x20d3de40c40>"
      ]
     },
     "execution_count": 14,
     "metadata": {},
     "output_type": "execute_result"
    }
   ],
   "source": [
    "logs.styled_log"
   ]
  }
 ],
 "metadata": {
  "kernelspec": {
   "display_name": "base",
   "language": "python",
   "name": "python3"
  },
  "language_info": {
   "codemirror_mode": {
    "name": "ipython",
    "version": 3
   },
   "file_extension": ".py",
   "mimetype": "text/x-python",
   "name": "python",
   "nbconvert_exporter": "python",
   "pygments_lexer": "ipython3",
   "version": "3.10.9"
  },
  "orig_nbformat": 4,
  "vscode": {
   "interpreter": {
    "hash": "23b8fda9da3a2a104a5aa7aa75e01582a86c23885ba37bc31bb5dabaa9da29ce"
   }
  }
 },
 "nbformat": 4,
 "nbformat_minor": 2
}
