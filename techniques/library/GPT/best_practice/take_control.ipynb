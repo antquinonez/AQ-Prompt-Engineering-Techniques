{
 "cells": [
  {
   "attachments": {},
   "cell_type": "markdown",
   "metadata": {},
   "source": [
    "# Take Control of GPT : Use the API. Don't let the API use you"
   ]
  },
  {
   "attachments": {},
   "cell_type": "markdown",
   "metadata": {},
   "source": [
    "### My first openai API Project!!!"
   ]
  },
  {
   "attachments": {},
   "cell_type": "markdown",
   "metadata": {},
   "source": [
    "Here, I use the openai Python lib and some custom classes to handle processing prompts and responses. I store the results in a pandas dataframe, then format the code in a pandas 'style' object. I can use the dataframe and other objects (like the multiline string of prompts) to manage context for later prompts. Yes, context from prompts and answers. So much more to do with this. But this is a start."
   ]
  },
  {
   "attachments": {},
   "cell_type": "markdown",
   "metadata": {},
   "source": [
    "## Setup"
   ]
  },
  {
   "cell_type": "code",
   "execution_count": 1,
   "metadata": {},
   "outputs": [
    {
     "data": {
      "text/html": [
       "<style>\n",
       "    /* Enable word wrap */\n",
       "    .rendered_html table, .rendered_html th, .rendered_html tr, .rendered_html td {\n",
       "      white-space: nowrap;\n",
       "      overflow: hidden;\n",
       "      text-overflow: ellipsis;\n",
       "    }\n",
       "</style>\n"
      ],
      "text/plain": [
       "<IPython.core.display.HTML object>"
      ]
     },
     "metadata": {},
     "output_type": "display_data"
    }
   ],
   "source": [
    "%%html\n",
    "<style>\n",
    "    /* Enable word wrap */\n",
    "    .rendered_html table, .rendered_html th, .rendered_html tr, .rendered_html td {\n",
    "      white-space: nowrap;\n",
    "      overflow: hidden;\n",
    "      text-overflow: ellipsis;\n",
    "    }\n",
    "</style>"
   ]
  },
  {
   "attachments": {},
   "cell_type": "markdown",
   "metadata": {},
   "source": [
    "### Imports"
   ]
  },
  {
   "cell_type": "code",
   "execution_count": 2,
   "metadata": {},
   "outputs": [],
   "source": [
    "# ...\n",
    "import openai\n",
    "import os\n",
    "import pprint\n",
    "import sys\n",
    "from pprint import pprint\n",
    "import json\n",
    "import pyarrow as pa\n",
    "import pandas as pd\n",
    "\n",
    "lib = os.path.abspath(os.path.join('..', '..', 'libs'))\n",
    "sys.path.append(lib)\n",
    "\n",
    "from MessageParser import MessageParser\n",
    "from ResponseParser import ResponseParser\n",
    "from PromptLogs import PromptLogs\n"
   ]
  },
  {
   "attachments": {},
   "cell_type": "markdown",
   "metadata": {},
   "source": [
    "### Config"
   ]
  },
  {
   "cell_type": "code",
   "execution_count": 3,
   "metadata": {},
   "outputs": [],
   "source": [
    "# ...\n",
    "# *******************************************************************************************************\n",
    "# SET THE API KEY\n",
    "# ================\n",
    "# -- set the env variable OPENAI_API_KEY to your OpenAI API key       <<<<<<<<<<<<<<<<<<<<<<<<<<<<<<<<<<<\n",
    "openai.api_key = os.getenv(\"OPENAI_API_KEY\")\n",
    "# *******************************************************************************************************\n",
    "\n",
    "# Setup up pandas properties\n",
    "pd.set_option('display.max_columns', None)  # Display all columns\n",
    "pd.set_option('display.expand_frame_repr', False)  # Prevent line break in DataFrame\n",
    "pd.set_option('display.max_colwidth', None)  # Display the full content of cells\n",
    "\n"
   ]
  },
  {
   "attachments": {},
   "cell_type": "markdown",
   "metadata": {},
   "source": [
    "## Main code"
   ]
  },
  {
   "attachments": {},
   "cell_type": "markdown",
   "metadata": {},
   "source": [
    "Prep the system prompts"
   ]
  },
  {
   "cell_type": "code",
   "execution_count": 4,
   "metadata": {},
   "outputs": [],
   "source": [
    "sys_prompt_list = []\n",
    "sys_prompt_1 = \"\"\"You are a software expert.\"\"\"\n",
    "sys_prompt_2 = \"\"\"Use. \"```python\" style for code blocks.\"\"\"\n",
    "sys_prompt_3 = \"\"\"Include the name for a file where I would store individual code for functions or classes.\"\"\"\n",
    "\n",
    "sys_prompt_list.append(sys_prompt_1)\n",
    "sys_prompt_list.append(sys_prompt_2)\n",
    "sys_prompt_list.append(sys_prompt_3)\n",
    "\n",
    "sys_prompt = \"\".join(sys_prompt_list)"
   ]
  },
  {
   "attachments": {},
   "cell_type": "markdown",
   "metadata": {},
   "source": [
    "# we'll be storing the individual parser logs here "
   ]
  },
  {
   "cell_type": "code",
   "execution_count": 5,
   "metadata": {},
   "outputs": [],
   "source": [
    "logs = PromptLogs()"
   ]
  },
  {
   "attachments": {},
   "cell_type": "markdown",
   "metadata": {},
   "source": [
    "Generate the message and make the call"
   ]
  },
  {
   "cell_type": "code",
   "execution_count": 6,
   "metadata": {},
   "outputs": [],
   "source": [
    "message_list = f\"\"\"\n",
    "system: {sys_prompt}\n",
    "user: Write python code for fibonacci sequence. also write a function to zero pad a string to 10 chars.\n",
    "\"\"\"\n",
    "\n",
    "parser = MessageParser(message_list)\n",
    "messages = parser.parse_messages()\n",
    "\n",
    "# Get the response\n",
    "# I'll abstract this away in the future\n",
    "response = openai.ChatCompletion.create(model='gpt-3.5-turbo', temperature=1.3, max_tokens=300, messages = messages)\n"
   ]
  },
  {
   "attachments": {},
   "cell_type": "markdown",
   "metadata": {},
   "source": [
    "Get a parser object, using a custom class."
   ]
  },
  {
   "cell_type": "code",
   "execution_count": 7,
   "metadata": {},
   "outputs": [],
   "source": [
    "parser = ResponseParser(response=response)"
   ]
  },
  {
   "attachments": {},
   "cell_type": "markdown",
   "metadata": {},
   "source": [
    "get a pandas dataframe of the logged prompts and responses"
   ]
  },
  {
   "cell_type": "code",
   "execution_count": 8,
   "metadata": {},
   "outputs": [
    {
     "data": {
      "text/html": [
       "<div>\n",
       "<style scoped>\n",
       "    .dataframe tbody tr th:only-of-type {\n",
       "        vertical-align: middle;\n",
       "    }\n",
       "\n",
       "    .dataframe tbody tr th {\n",
       "        vertical-align: top;\n",
       "    }\n",
       "\n",
       "    .dataframe thead th {\n",
       "        text-align: right;\n",
       "    }\n",
       "</style>\n",
       "<table border=\"1\" class=\"dataframe\">\n",
       "  <thead>\n",
       "    <tr style=\"text-align: right;\">\n",
       "      <th></th>\n",
       "      <th>id</th>\n",
       "      <th>created</th>\n",
       "      <th>model</th>\n",
       "      <th>usage</th>\n",
       "      <th>all_code</th>\n",
       "      <th>code_blocks</th>\n",
       "      <th>content</th>\n",
       "    </tr>\n",
       "  </thead>\n",
       "  <tbody>\n",
       "    <tr>\n",
       "      <th>0</th>\n",
       "      <td>chatcmpl-73xPj3mIweVlhC6IacgL1URQzSfXS</td>\n",
       "      <td>1.681178e+09</td>\n",
       "      <td>gpt-3.5-turbo-0301</td>\n",
       "      <td>66.0</td>\n",
       "      <td>def&amp;nbsp;fib_sequence(n_terms):&lt;br&gt;&amp;nbsp;&amp;nbsp;&amp;nbsp;&amp;nbsp;seq&amp;nbsp;=&amp;nbsp;[0,&amp;nbsp;1]&lt;br&gt;&amp;nbsp;&amp;nbsp;&amp;nbsp;&amp;nbsp;i&amp;nbsp;=&amp;nbsp;2&lt;br&gt;&amp;nbsp;&amp;nbsp;&amp;nbsp;&amp;nbsp;&lt;br&gt;&amp;nbsp;&amp;nbsp;&amp;nbsp;&amp;nbsp;while&amp;nbsp;i&amp;nbsp;&lt;&amp;nbsp;n_terms:&lt;br&gt;&amp;nbsp;&amp;nbsp;&amp;nbsp;&amp;nbsp;&amp;nbsp;&amp;nbsp;&amp;nbsp;&amp;nbsp;next_val&amp;nbsp;=&amp;nbsp;seq[i-1]&amp;nbsp;+&amp;nbsp;seq[i-2]&lt;br&gt;&amp;nbsp;&amp;nbsp;&amp;nbsp;&amp;nbsp;&amp;nbsp;&amp;nbsp;&amp;nbsp;&amp;nbsp;seq.append(next_val)&lt;br&gt;&amp;nbsp;&amp;nbsp;&amp;nbsp;&amp;nbsp;&amp;nbsp;&amp;nbsp;&amp;nbsp;&amp;nbsp;i&amp;nbsp;+=&amp;nbsp;1&lt;br&gt;&amp;nbsp;&amp;nbsp;&amp;nbsp;&amp;nbsp;&lt;br&gt;&amp;nbsp;&amp;nbsp;&amp;nbsp;&amp;nbsp;return&amp;nbsp;seq&lt;br&gt;n&amp;nbsp;=&amp;nbsp;10&lt;br&gt;seq&amp;nbsp;=&amp;nbsp;fib_sequence(n)&lt;br&gt;print(seq)&lt;br&gt;def&amp;nbsp;zero_pad(string):&lt;br&gt;&amp;nbsp;&amp;nbsp;&amp;nbsp;&amp;nbsp;return&amp;nbsp;string.zfill(10)&lt;br&gt;padded_str&amp;nbsp;=&amp;nbsp;zero_pad(\"123\")&lt;br&gt;print(padded_str)&lt;br&gt;</td>\n",
       "      <td>[\\ndef fib_sequence(n_terms):\\n    seq = [0, 1]\\n    i = 2\\n    \\n    while i &lt; n_terms:\\n        next_val = seq[i-1] + seq[i-2]\\n        seq.append(next_val)\\n        i += 1\\n    \\n    return seq\\n, \\nn = 10\\nseq = fib_sequence(n)\\nprint(seq)\\n, \\ndef zero_pad(string):\\n    return string.zfill(10)\\n, \\npadded_str = zero_pad(\"123\")\\nprint(padded_str)\\n]</td>\n",
       "      <td>Here is Python code for generating the Fibonacci sequence: \\n\\n```python\\ndef fib_sequence(n_terms):\\n    seq = [0, 1]\\n    i = 2\\n    \\n    while i &lt; n_terms:\\n        next_val = seq[i-1] + seq[i-2]\\n        seq.append(next_val)\\n        i += 1\\n    \\n    return seq\\n```\\nThis generates the first n_terms of the Fibonacci sequence and returns it in a list. Here is an example of using the function to generate and print the first 10 values:\\n\\n```python\\nn = 10\\nseq = fib_sequence(n)\\nprint(seq)\\n```\\n\\nThis will output `[0, 1, 1, 2, 3, 5, 8, 13, 21, 34]`.\\n\\nHere is Python code for zero-padding a string to 10 characters:\\n\\n```python\\ndef zero_pad(string):\\n    return string.zfill(10)\\n```\\nThis function takes a string as input, and returns a copy where the string is padded with zeros at the beginning until it reaches 10 characters. Here is an example of using the function to pad `\"123\"`:\\n\\n```python\\npadded_str = zero_pad(\"123\")\\nprint(padded_str)\\n```\\n\\nThis will output `\"0000000123\"`.</td>\n",
       "    </tr>\n",
       "  </tbody>\n",
       "</table>\n",
       "</div>"
      ],
      "text/plain": [
       "                                       id       created               model  usage                                                                                                                                                                                                                                                                                                                                                                                                                                                                                                                                                                                                                                                                                                                                                                           all_code                                                                                                                                                                                                                                                                                                                                                          code_blocks                                                                                                                                                                                                                                                                                                                                                                                                                                                                                                                                                                                                                                                                                                                                                                                                                                                                                                                                                                                                                                      content\n",
       "0  chatcmpl-73xPj3mIweVlhC6IacgL1URQzSfXS  1.681178e+09  gpt-3.5-turbo-0301   66.0  def&nbsp;fib_sequence(n_terms):<br>&nbsp;&nbsp;&nbsp;&nbsp;seq&nbsp;=&nbsp;[0,&nbsp;1]<br>&nbsp;&nbsp;&nbsp;&nbsp;i&nbsp;=&nbsp;2<br>&nbsp;&nbsp;&nbsp;&nbsp;<br>&nbsp;&nbsp;&nbsp;&nbsp;while&nbsp;i&nbsp;<&nbsp;n_terms:<br>&nbsp;&nbsp;&nbsp;&nbsp;&nbsp;&nbsp;&nbsp;&nbsp;next_val&nbsp;=&nbsp;seq[i-1]&nbsp;+&nbsp;seq[i-2]<br>&nbsp;&nbsp;&nbsp;&nbsp;&nbsp;&nbsp;&nbsp;&nbsp;seq.append(next_val)<br>&nbsp;&nbsp;&nbsp;&nbsp;&nbsp;&nbsp;&nbsp;&nbsp;i&nbsp;+=&nbsp;1<br>&nbsp;&nbsp;&nbsp;&nbsp;<br>&nbsp;&nbsp;&nbsp;&nbsp;return&nbsp;seq<br>n&nbsp;=&nbsp;10<br>seq&nbsp;=&nbsp;fib_sequence(n)<br>print(seq)<br>def&nbsp;zero_pad(string):<br>&nbsp;&nbsp;&nbsp;&nbsp;return&nbsp;string.zfill(10)<br>padded_str&nbsp;=&nbsp;zero_pad(\"123\")<br>print(padded_str)<br>  [\\ndef fib_sequence(n_terms):\\n    seq = [0, 1]\\n    i = 2\\n    \\n    while i < n_terms:\\n        next_val = seq[i-1] + seq[i-2]\\n        seq.append(next_val)\\n        i += 1\\n    \\n    return seq\\n, \\nn = 10\\nseq = fib_sequence(n)\\nprint(seq)\\n, \\ndef zero_pad(string):\\n    return string.zfill(10)\\n, \\npadded_str = zero_pad(\"123\")\\nprint(padded_str)\\n]  Here is Python code for generating the Fibonacci sequence: \\n\\n```python\\ndef fib_sequence(n_terms):\\n    seq = [0, 1]\\n    i = 2\\n    \\n    while i < n_terms:\\n        next_val = seq[i-1] + seq[i-2]\\n        seq.append(next_val)\\n        i += 1\\n    \\n    return seq\\n```\\nThis generates the first n_terms of the Fibonacci sequence and returns it in a list. Here is an example of using the function to generate and print the first 10 values:\\n\\n```python\\nn = 10\\nseq = fib_sequence(n)\\nprint(seq)\\n```\\n\\nThis will output `[0, 1, 1, 2, 3, 5, 8, 13, 21, 34]`.\\n\\nHere is Python code for zero-padding a string to 10 characters:\\n\\n```python\\ndef zero_pad(string):\\n    return string.zfill(10)\\n```\\nThis function takes a string as input, and returns a copy where the string is padded with zeros at the beginning until it reaches 10 characters. Here is an example of using the function to pad `\"123\"`:\\n\\n```python\\npadded_str = zero_pad(\"123\")\\nprint(padded_str)\\n```\\n\\nThis will output `\"0000000123\"`."
      ]
     },
     "execution_count": 8,
     "metadata": {},
     "output_type": "execute_result"
    }
   ],
   "source": [
    "log_df = parser.get_df()\n",
    "log_df"
   ]
  },
  {
   "cell_type": "code",
   "execution_count": 9,
   "metadata": {},
   "outputs": [],
   "source": [
    "logs.append(parser)"
   ]
  },
  {
   "cell_type": "code",
   "execution_count": 10,
   "metadata": {},
   "outputs": [
    {
     "data": {
      "text/html": [
       "<div>\n",
       "<style scoped>\n",
       "    .dataframe tbody tr th:only-of-type {\n",
       "        vertical-align: middle;\n",
       "    }\n",
       "\n",
       "    .dataframe tbody tr th {\n",
       "        vertical-align: top;\n",
       "    }\n",
       "\n",
       "    .dataframe thead th {\n",
       "        text-align: right;\n",
       "    }\n",
       "</style>\n",
       "<table border=\"1\" class=\"dataframe\">\n",
       "  <thead>\n",
       "    <tr style=\"text-align: right;\">\n",
       "      <th></th>\n",
       "      <th>id</th>\n",
       "      <th>created</th>\n",
       "      <th>model</th>\n",
       "      <th>usage</th>\n",
       "      <th>all_code</th>\n",
       "      <th>code_blocks</th>\n",
       "      <th>content</th>\n",
       "    </tr>\n",
       "  </thead>\n",
       "  <tbody>\n",
       "    <tr>\n",
       "      <th>0</th>\n",
       "      <td>chatcmpl-73xPj3mIweVlhC6IacgL1URQzSfXS</td>\n",
       "      <td>1.681178e+09</td>\n",
       "      <td>gpt-3.5-turbo-0301</td>\n",
       "      <td>66.0</td>\n",
       "      <td>def&amp;nbsp;fib_sequence(n_terms):&lt;br&gt;&amp;nbsp;&amp;nbsp;&amp;nbsp;&amp;nbsp;seq&amp;nbsp;=&amp;nbsp;[0,&amp;nbsp;1]&lt;br&gt;&amp;nbsp;&amp;nbsp;&amp;nbsp;&amp;nbsp;i&amp;nbsp;=&amp;nbsp;2&lt;br&gt;&amp;nbsp;&amp;nbsp;&amp;nbsp;&amp;nbsp;&lt;br&gt;&amp;nbsp;&amp;nbsp;&amp;nbsp;&amp;nbsp;while&amp;nbsp;i&amp;nbsp;&lt;&amp;nbsp;n_terms:&lt;br&gt;&amp;nbsp;&amp;nbsp;&amp;nbsp;&amp;nbsp;&amp;nbsp;&amp;nbsp;&amp;nbsp;&amp;nbsp;next_val&amp;nbsp;=&amp;nbsp;seq[i-1]&amp;nbsp;+&amp;nbsp;seq[i-2]&lt;br&gt;&amp;nbsp;&amp;nbsp;&amp;nbsp;&amp;nbsp;&amp;nbsp;&amp;nbsp;&amp;nbsp;&amp;nbsp;seq.append(next_val)&lt;br&gt;&amp;nbsp;&amp;nbsp;&amp;nbsp;&amp;nbsp;&amp;nbsp;&amp;nbsp;&amp;nbsp;&amp;nbsp;i&amp;nbsp;+=&amp;nbsp;1&lt;br&gt;&amp;nbsp;&amp;nbsp;&amp;nbsp;&amp;nbsp;&lt;br&gt;&amp;nbsp;&amp;nbsp;&amp;nbsp;&amp;nbsp;return&amp;nbsp;seq&lt;br&gt;n&amp;nbsp;=&amp;nbsp;10&lt;br&gt;seq&amp;nbsp;=&amp;nbsp;fib_sequence(n)&lt;br&gt;print(seq)&lt;br&gt;def&amp;nbsp;zero_pad(string):&lt;br&gt;&amp;nbsp;&amp;nbsp;&amp;nbsp;&amp;nbsp;return&amp;nbsp;string.zfill(10)&lt;br&gt;padded_str&amp;nbsp;=&amp;nbsp;zero_pad(\"123\")&lt;br&gt;print(padded_str)&lt;br&gt;</td>\n",
       "      <td>[\\ndef fib_sequence(n_terms):\\n    seq = [0, 1]\\n    i = 2\\n    \\n    while i &lt; n_terms:\\n        next_val = seq[i-1] + seq[i-2]\\n        seq.append(next_val)\\n        i += 1\\n    \\n    return seq\\n, \\nn = 10\\nseq = fib_sequence(n)\\nprint(seq)\\n, \\ndef zero_pad(string):\\n    return string.zfill(10)\\n, \\npadded_str = zero_pad(\"123\")\\nprint(padded_str)\\n]</td>\n",
       "      <td>Here is Python code for generating the Fibonacci sequence: \\n\\n```python\\ndef fib_sequence(n_terms):\\n    seq = [0, 1]\\n    i = 2\\n    \\n    while i &lt; n_terms:\\n        next_val = seq[i-1] + seq[i-2]\\n        seq.append(next_val)\\n        i += 1\\n    \\n    return seq\\n```\\nThis generates the first n_terms of the Fibonacci sequence and returns it in a list. Here is an example of using the function to generate and print the first 10 values:\\n\\n```python\\nn = 10\\nseq = fib_sequence(n)\\nprint(seq)\\n```\\n\\nThis will output `[0, 1, 1, 2, 3, 5, 8, 13, 21, 34]`.\\n\\nHere is Python code for zero-padding a string to 10 characters:\\n\\n```python\\ndef zero_pad(string):\\n    return string.zfill(10)\\n```\\nThis function takes a string as input, and returns a copy where the string is padded with zeros at the beginning until it reaches 10 characters. Here is an example of using the function to pad `\"123\"`:\\n\\n```python\\npadded_str = zero_pad(\"123\")\\nprint(padded_str)\\n```\\n\\nThis will output `\"0000000123\"`.</td>\n",
       "    </tr>\n",
       "  </tbody>\n",
       "</table>\n",
       "</div>"
      ],
      "text/plain": [
       "                                       id       created               model  usage                                                                                                                                                                                                                                                                                                                                                                                                                                                                                                                                                                                                                                                                                                                                                                           all_code                                                                                                                                                                                                                                                                                                                                                          code_blocks                                                                                                                                                                                                                                                                                                                                                                                                                                                                                                                                                                                                                                                                                                                                                                                                                                                                                                                                                                                                                                      content\n",
       "0  chatcmpl-73xPj3mIweVlhC6IacgL1URQzSfXS  1.681178e+09  gpt-3.5-turbo-0301   66.0  def&nbsp;fib_sequence(n_terms):<br>&nbsp;&nbsp;&nbsp;&nbsp;seq&nbsp;=&nbsp;[0,&nbsp;1]<br>&nbsp;&nbsp;&nbsp;&nbsp;i&nbsp;=&nbsp;2<br>&nbsp;&nbsp;&nbsp;&nbsp;<br>&nbsp;&nbsp;&nbsp;&nbsp;while&nbsp;i&nbsp;<&nbsp;n_terms:<br>&nbsp;&nbsp;&nbsp;&nbsp;&nbsp;&nbsp;&nbsp;&nbsp;next_val&nbsp;=&nbsp;seq[i-1]&nbsp;+&nbsp;seq[i-2]<br>&nbsp;&nbsp;&nbsp;&nbsp;&nbsp;&nbsp;&nbsp;&nbsp;seq.append(next_val)<br>&nbsp;&nbsp;&nbsp;&nbsp;&nbsp;&nbsp;&nbsp;&nbsp;i&nbsp;+=&nbsp;1<br>&nbsp;&nbsp;&nbsp;&nbsp;<br>&nbsp;&nbsp;&nbsp;&nbsp;return&nbsp;seq<br>n&nbsp;=&nbsp;10<br>seq&nbsp;=&nbsp;fib_sequence(n)<br>print(seq)<br>def&nbsp;zero_pad(string):<br>&nbsp;&nbsp;&nbsp;&nbsp;return&nbsp;string.zfill(10)<br>padded_str&nbsp;=&nbsp;zero_pad(\"123\")<br>print(padded_str)<br>  [\\ndef fib_sequence(n_terms):\\n    seq = [0, 1]\\n    i = 2\\n    \\n    while i < n_terms:\\n        next_val = seq[i-1] + seq[i-2]\\n        seq.append(next_val)\\n        i += 1\\n    \\n    return seq\\n, \\nn = 10\\nseq = fib_sequence(n)\\nprint(seq)\\n, \\ndef zero_pad(string):\\n    return string.zfill(10)\\n, \\npadded_str = zero_pad(\"123\")\\nprint(padded_str)\\n]  Here is Python code for generating the Fibonacci sequence: \\n\\n```python\\ndef fib_sequence(n_terms):\\n    seq = [0, 1]\\n    i = 2\\n    \\n    while i < n_terms:\\n        next_val = seq[i-1] + seq[i-2]\\n        seq.append(next_val)\\n        i += 1\\n    \\n    return seq\\n```\\nThis generates the first n_terms of the Fibonacci sequence and returns it in a list. Here is an example of using the function to generate and print the first 10 values:\\n\\n```python\\nn = 10\\nseq = fib_sequence(n)\\nprint(seq)\\n```\\n\\nThis will output `[0, 1, 1, 2, 3, 5, 8, 13, 21, 34]`.\\n\\nHere is Python code for zero-padding a string to 10 characters:\\n\\n```python\\ndef zero_pad(string):\\n    return string.zfill(10)\\n```\\nThis function takes a string as input, and returns a copy where the string is padded with zeros at the beginning until it reaches 10 characters. Here is an example of using the function to pad `\"123\"`:\\n\\n```python\\npadded_str = zero_pad(\"123\")\\nprint(padded_str)\\n```\\n\\nThis will output `\"0000000123\"`."
      ]
     },
     "execution_count": 10,
     "metadata": {},
     "output_type": "execute_result"
    }
   ],
   "source": [
    "logs.get_df()"
   ]
  },
  {
   "cell_type": "code",
   "execution_count": 11,
   "metadata": {},
   "outputs": [],
   "source": [
    "# A pandas style applies custom formatting to a DataFrame to make it easier to read and\n",
    "# understand. It does not offer the full range of functionality that a DataFrame provides."
   ]
  },
  {
   "cell_type": "code",
   "execution_count": 12,
   "metadata": {},
   "outputs": [
    {
     "data": {
      "text/html": [
       "<style type=\"text/css\">\n",
       "#T_b25e5_row0_col0, #T_b25e5_row0_col1, #T_b25e5_row0_col2, #T_b25e5_row0_col3, #T_b25e5_row0_col4 {\n",
       "  text-align: left;\n",
       "}\n",
       "</style>\n",
       "<table id=\"T_b25e5\">\n",
       "  <thead>\n",
       "    <tr>\n",
       "      <th class=\"blank level0\" >&nbsp;</th>\n",
       "      <th id=\"T_b25e5_level0_col0\" class=\"col_heading level0 col0\" >id</th>\n",
       "      <th id=\"T_b25e5_level0_col1\" class=\"col_heading level0 col1\" >created</th>\n",
       "      <th id=\"T_b25e5_level0_col2\" class=\"col_heading level0 col2\" >model</th>\n",
       "      <th id=\"T_b25e5_level0_col3\" class=\"col_heading level0 col3\" >usage</th>\n",
       "      <th id=\"T_b25e5_level0_col4\" class=\"col_heading level0 col4\" >all_code</th>\n",
       "    </tr>\n",
       "  </thead>\n",
       "  <tbody>\n",
       "    <tr>\n",
       "      <th id=\"T_b25e5_level0_row0\" class=\"row_heading level0 row0\" >0</th>\n",
       "      <td id=\"T_b25e5_row0_col0\" class=\"data row0 col0\" >chatcmpl-73xPj3mIweVlhC6IacgL1URQzSfXS</td>\n",
       "      <td id=\"T_b25e5_row0_col1\" class=\"data row0 col1\" >1681177727.000000</td>\n",
       "      <td id=\"T_b25e5_row0_col2\" class=\"data row0 col2\" >gpt-3.5-turbo-0301</td>\n",
       "      <td id=\"T_b25e5_row0_col3\" class=\"data row0 col3\" >66.000000</td>\n",
       "      <td id=\"T_b25e5_row0_col4\" class=\"data row0 col4\" >def&nbsp;fib_sequence(n_terms):<br>&nbsp;&nbsp;&nbsp;&nbsp;seq&nbsp;=&nbsp;[0,&nbsp;1]<br>&nbsp;&nbsp;&nbsp;&nbsp;i&nbsp;=&nbsp;2<br>&nbsp;&nbsp;&nbsp;&nbsp;<br>&nbsp;&nbsp;&nbsp;&nbsp;while&nbsp;i&nbsp;<&nbsp;n_terms:<br>&nbsp;&nbsp;&nbsp;&nbsp;&nbsp;&nbsp;&nbsp;&nbsp;next_val&nbsp;=&nbsp;seq[i-1]&nbsp;+&nbsp;seq[i-2]<br>&nbsp;&nbsp;&nbsp;&nbsp;&nbsp;&nbsp;&nbsp;&nbsp;seq.append(next_val)<br>&nbsp;&nbsp;&nbsp;&nbsp;&nbsp;&nbsp;&nbsp;&nbsp;i&nbsp;+=&nbsp;1<br>&nbsp;&nbsp;&nbsp;&nbsp;<br>&nbsp;&nbsp;&nbsp;&nbsp;return&nbsp;seq<br>n&nbsp;=&nbsp;10<br>seq&nbsp;=&nbsp;fib_sequence(n)<br>print(seq)<br>def&nbsp;zero_pad(string):<br>&nbsp;&nbsp;&nbsp;&nbsp;return&nbsp;string.zfill(10)<br>padded_str&nbsp;=&nbsp;zero_pad(\"123\")<br>print(padded_str)<br></td>\n",
       "    </tr>\n",
       "  </tbody>\n",
       "</table>\n"
      ],
      "text/plain": [
       "<pandas.io.formats.style.Styler at 0x212fdfb88e0>"
      ]
     },
     "execution_count": 12,
     "metadata": {},
     "output_type": "execute_result"
    }
   ],
   "source": [
    "parser.styled_log"
   ]
  },
  {
   "cell_type": "code",
   "execution_count": 13,
   "metadata": {},
   "outputs": [
    {
     "data": {
      "text/html": [
       "<div>\n",
       "<style scoped>\n",
       "    .dataframe tbody tr th:only-of-type {\n",
       "        vertical-align: middle;\n",
       "    }\n",
       "\n",
       "    .dataframe tbody tr th {\n",
       "        vertical-align: top;\n",
       "    }\n",
       "\n",
       "    .dataframe thead th {\n",
       "        text-align: right;\n",
       "    }\n",
       "</style>\n",
       "<table border=\"1\" class=\"dataframe\">\n",
       "  <thead>\n",
       "    <tr style=\"text-align: right;\">\n",
       "      <th></th>\n",
       "      <th>id</th>\n",
       "      <th>created</th>\n",
       "      <th>model</th>\n",
       "      <th>usage</th>\n",
       "      <th>all_code</th>\n",
       "      <th>code_blocks</th>\n",
       "      <th>content</th>\n",
       "    </tr>\n",
       "  </thead>\n",
       "  <tbody>\n",
       "    <tr>\n",
       "      <th>0</th>\n",
       "      <td>chatcmpl-73xPj3mIweVlhC6IacgL1URQzSfXS</td>\n",
       "      <td>1.681178e+09</td>\n",
       "      <td>gpt-3.5-turbo-0301</td>\n",
       "      <td>66.0</td>\n",
       "      <td>def&amp;nbsp;fib_sequence(n_terms):&lt;br&gt;&amp;nbsp;&amp;nbsp;&amp;nbsp;&amp;nbsp;seq&amp;nbsp;=&amp;nbsp;[0,&amp;nbsp;1]&lt;br&gt;&amp;nbsp;&amp;nbsp;&amp;nbsp;&amp;nbsp;i&amp;nbsp;=&amp;nbsp;2&lt;br&gt;&amp;nbsp;&amp;nbsp;&amp;nbsp;&amp;nbsp;&lt;br&gt;&amp;nbsp;&amp;nbsp;&amp;nbsp;&amp;nbsp;while&amp;nbsp;i&amp;nbsp;&lt;&amp;nbsp;n_terms:&lt;br&gt;&amp;nbsp;&amp;nbsp;&amp;nbsp;&amp;nbsp;&amp;nbsp;&amp;nbsp;&amp;nbsp;&amp;nbsp;next_val&amp;nbsp;=&amp;nbsp;seq[i-1]&amp;nbsp;+&amp;nbsp;seq[i-2]&lt;br&gt;&amp;nbsp;&amp;nbsp;&amp;nbsp;&amp;nbsp;&amp;nbsp;&amp;nbsp;&amp;nbsp;&amp;nbsp;seq.append(next_val)&lt;br&gt;&amp;nbsp;&amp;nbsp;&amp;nbsp;&amp;nbsp;&amp;nbsp;&amp;nbsp;&amp;nbsp;&amp;nbsp;i&amp;nbsp;+=&amp;nbsp;1&lt;br&gt;&amp;nbsp;&amp;nbsp;&amp;nbsp;&amp;nbsp;&lt;br&gt;&amp;nbsp;&amp;nbsp;&amp;nbsp;&amp;nbsp;return&amp;nbsp;seq&lt;br&gt;n&amp;nbsp;=&amp;nbsp;10&lt;br&gt;seq&amp;nbsp;=&amp;nbsp;fib_sequence(n)&lt;br&gt;print(seq)&lt;br&gt;def&amp;nbsp;zero_pad(string):&lt;br&gt;&amp;nbsp;&amp;nbsp;&amp;nbsp;&amp;nbsp;return&amp;nbsp;string.zfill(10)&lt;br&gt;padded_str&amp;nbsp;=&amp;nbsp;zero_pad(\"123\")&lt;br&gt;print(padded_str)&lt;br&gt;</td>\n",
       "      <td>[\\ndef fib_sequence(n_terms):\\n    seq = [0, 1]\\n    i = 2\\n    \\n    while i &lt; n_terms:\\n        next_val = seq[i-1] + seq[i-2]\\n        seq.append(next_val)\\n        i += 1\\n    \\n    return seq\\n, \\nn = 10\\nseq = fib_sequence(n)\\nprint(seq)\\n, \\ndef zero_pad(string):\\n    return string.zfill(10)\\n, \\npadded_str = zero_pad(\"123\")\\nprint(padded_str)\\n]</td>\n",
       "      <td>Here is Python code for generating the Fibonacci sequence: \\n\\n```python\\ndef fib_sequence(n_terms):\\n    seq = [0, 1]\\n    i = 2\\n    \\n    while i &lt; n_terms:\\n        next_val = seq[i-1] + seq[i-2]\\n        seq.append(next_val)\\n        i += 1\\n    \\n    return seq\\n```\\nThis generates the first n_terms of the Fibonacci sequence and returns it in a list. Here is an example of using the function to generate and print the first 10 values:\\n\\n```python\\nn = 10\\nseq = fib_sequence(n)\\nprint(seq)\\n```\\n\\nThis will output `[0, 1, 1, 2, 3, 5, 8, 13, 21, 34]`.\\n\\nHere is Python code for zero-padding a string to 10 characters:\\n\\n```python\\ndef zero_pad(string):\\n    return string.zfill(10)\\n```\\nThis function takes a string as input, and returns a copy where the string is padded with zeros at the beginning until it reaches 10 characters. Here is an example of using the function to pad `\"123\"`:\\n\\n```python\\npadded_str = zero_pad(\"123\")\\nprint(padded_str)\\n```\\n\\nThis will output `\"0000000123\"`.</td>\n",
       "    </tr>\n",
       "    <tr>\n",
       "      <th>0</th>\n",
       "      <td>chatcmpl-73xPvfZwRveNB1E6j01VB11rokdzO</td>\n",
       "      <td>1.681178e+09</td>\n",
       "      <td>gpt-3.5-turbo-0301</td>\n",
       "      <td>20.0</td>\n",
       "      <td></td>\n",
       "      <td>[]</td>\n",
       "      <td>As an AI language model and language model we are not able to execute Python code, but we can provide you with the syntax for your required task. Here is the Python code for printing numbers 1-10 using the `for` loop:\\n\\n```\\ndef print_numbers():\\n    for i in range(1, 11):\\n        print(i)\\n```\\n\\nYou can call this function by `print_numbers()` and it will output numbers 1-10.</td>\n",
       "    </tr>\n",
       "  </tbody>\n",
       "</table>\n",
       "</div>"
      ],
      "text/plain": [
       "                                       id       created               model  usage                                                                                                                                                                                                                                                                                                                                                                                                                                                                                                                                                                                                                                                                                                                                                                           all_code                                                                                                                                                                                                                                                                                                                                                          code_blocks                                                                                                                                                                                                                                                                                                                                                                                                                                                                                                                                                                                                                                                                                                                                                                                                                                                                                                                                                                                                                                      content\n",
       "0  chatcmpl-73xPj3mIweVlhC6IacgL1URQzSfXS  1.681178e+09  gpt-3.5-turbo-0301   66.0  def&nbsp;fib_sequence(n_terms):<br>&nbsp;&nbsp;&nbsp;&nbsp;seq&nbsp;=&nbsp;[0,&nbsp;1]<br>&nbsp;&nbsp;&nbsp;&nbsp;i&nbsp;=&nbsp;2<br>&nbsp;&nbsp;&nbsp;&nbsp;<br>&nbsp;&nbsp;&nbsp;&nbsp;while&nbsp;i&nbsp;<&nbsp;n_terms:<br>&nbsp;&nbsp;&nbsp;&nbsp;&nbsp;&nbsp;&nbsp;&nbsp;next_val&nbsp;=&nbsp;seq[i-1]&nbsp;+&nbsp;seq[i-2]<br>&nbsp;&nbsp;&nbsp;&nbsp;&nbsp;&nbsp;&nbsp;&nbsp;seq.append(next_val)<br>&nbsp;&nbsp;&nbsp;&nbsp;&nbsp;&nbsp;&nbsp;&nbsp;i&nbsp;+=&nbsp;1<br>&nbsp;&nbsp;&nbsp;&nbsp;<br>&nbsp;&nbsp;&nbsp;&nbsp;return&nbsp;seq<br>n&nbsp;=&nbsp;10<br>seq&nbsp;=&nbsp;fib_sequence(n)<br>print(seq)<br>def&nbsp;zero_pad(string):<br>&nbsp;&nbsp;&nbsp;&nbsp;return&nbsp;string.zfill(10)<br>padded_str&nbsp;=&nbsp;zero_pad(\"123\")<br>print(padded_str)<br>  [\\ndef fib_sequence(n_terms):\\n    seq = [0, 1]\\n    i = 2\\n    \\n    while i < n_terms:\\n        next_val = seq[i-1] + seq[i-2]\\n        seq.append(next_val)\\n        i += 1\\n    \\n    return seq\\n, \\nn = 10\\nseq = fib_sequence(n)\\nprint(seq)\\n, \\ndef zero_pad(string):\\n    return string.zfill(10)\\n, \\npadded_str = zero_pad(\"123\")\\nprint(padded_str)\\n]  Here is Python code for generating the Fibonacci sequence: \\n\\n```python\\ndef fib_sequence(n_terms):\\n    seq = [0, 1]\\n    i = 2\\n    \\n    while i < n_terms:\\n        next_val = seq[i-1] + seq[i-2]\\n        seq.append(next_val)\\n        i += 1\\n    \\n    return seq\\n```\\nThis generates the first n_terms of the Fibonacci sequence and returns it in a list. Here is an example of using the function to generate and print the first 10 values:\\n\\n```python\\nn = 10\\nseq = fib_sequence(n)\\nprint(seq)\\n```\\n\\nThis will output `[0, 1, 1, 2, 3, 5, 8, 13, 21, 34]`.\\n\\nHere is Python code for zero-padding a string to 10 characters:\\n\\n```python\\ndef zero_pad(string):\\n    return string.zfill(10)\\n```\\nThis function takes a string as input, and returns a copy where the string is padded with zeros at the beginning until it reaches 10 characters. Here is an example of using the function to pad `\"123\"`:\\n\\n```python\\npadded_str = zero_pad(\"123\")\\nprint(padded_str)\\n```\\n\\nThis will output `\"0000000123\"`.\n",
       "0  chatcmpl-73xPvfZwRveNB1E6j01VB11rokdzO  1.681178e+09  gpt-3.5-turbo-0301   20.0                                                                                                                                                                                                                                                                                                                                                                                                                                                                                                                                                                                                                                                                                                                                                                                                                                                                                                                                                                                                                                                                                                                                                      []                                                                                                                                                                                                                                                                                                                                                                                                                                                                                                                                                                                                                                                As an AI language model and language model we are not able to execute Python code, but we can provide you with the syntax for your required task. Here is the Python code for printing numbers 1-10 using the `for` loop:\\n\\n```\\ndef print_numbers():\\n    for i in range(1, 11):\\n        print(i)\\n```\\n\\nYou can call this function by `print_numbers()` and it will output numbers 1-10."
      ]
     },
     "execution_count": 13,
     "metadata": {},
     "output_type": "execute_result"
    }
   ],
   "source": [
    "message_list = f\"\"\"\n",
    "user: Write a python function that returns numbers 1-10 in a list.\n",
    "\"\"\"\n",
    "\n",
    "message_parser = MessageParser(message_list)\n",
    "messages = message_parser.parse_messages()\n",
    "response = openai.ChatCompletion.create(model='gpt-3.5-turbo', temperature=1.3, max_tokens=300, messages = messages)\n",
    "response_parser = ResponseParser(response=response)\n",
    "\n",
    "\n",
    "logs.append(response_parser)\n",
    "\n",
    "logs_df = logs.get_df()\n",
    "logs_df"
   ]
  },
  {
   "attachments": {},
   "cell_type": "markdown",
   "metadata": {},
   "source": [
    "## And the styled logs"
   ]
  },
  {
   "cell_type": "code",
   "execution_count": 14,
   "metadata": {},
   "outputs": [
    {
     "ename": "AttributeError",
     "evalue": "can't set attribute 'styled_log'",
     "output_type": "error",
     "traceback": [
      "\u001b[1;31m---------------------------------------------------------------------------\u001b[0m",
      "\u001b[1;31mAttributeError\u001b[0m                            Traceback (most recent call last)",
      "Cell \u001b[1;32mIn[14], line 1\u001b[0m\n\u001b[1;32m----> 1\u001b[0m logs\u001b[39m.\u001b[39;49mstyled_log\n",
      "File \u001b[1;32mc:\\repos\\AQ-Prompt-Engineering-Techniques\\techniques\\library\\libs\\PromptLogs.py:24\u001b[0m, in \u001b[0;36mPromptLogs.styled_log\u001b[1;34m(self)\u001b[0m\n\u001b[0;32m     21\u001b[0m \u001b[39m@property\u001b[39m\n\u001b[0;32m     22\u001b[0m \u001b[39mdef\u001b[39;00m \u001b[39mstyled_log\u001b[39m(\u001b[39mself\u001b[39m) \u001b[39m-\u001b[39m\u001b[39m>\u001b[39m pd\u001b[39m.\u001b[39mDataFrame:\n\u001b[0;32m     23\u001b[0m     \u001b[39mself\u001b[39m\u001b[39m.\u001b[39mdf_needed \u001b[39m=\u001b[39m \u001b[39mself\u001b[39m\u001b[39m.\u001b[39mdf[[\u001b[39m'\u001b[39m\u001b[39mid\u001b[39m\u001b[39m'\u001b[39m, \u001b[39m'\u001b[39m\u001b[39mcreated\u001b[39m\u001b[39m'\u001b[39m, \u001b[39m'\u001b[39m\u001b[39mmodel\u001b[39m\u001b[39m'\u001b[39m, \u001b[39m'\u001b[39m\u001b[39musage\u001b[39m\u001b[39m'\u001b[39m, \u001b[39m'\u001b[39m\u001b[39mall_code\u001b[39m\u001b[39m'\u001b[39m]]\n\u001b[1;32m---> 24\u001b[0m     \u001b[39mself\u001b[39m\u001b[39m.\u001b[39mstyled_log \u001b[39m=\u001b[39m \u001b[39mself\u001b[39m\u001b[39m.\u001b[39mdf_needed\u001b[39m.\u001b[39mstyle\u001b[39m.\u001b[39mset_properties(\u001b[39m*\u001b[39m\u001b[39m*\u001b[39m{\u001b[39m'\u001b[39m\u001b[39mtext-align\u001b[39m\u001b[39m'\u001b[39m: \u001b[39m'\u001b[39m\u001b[39mleft\u001b[39m\u001b[39m'\u001b[39m})\n\u001b[0;32m     26\u001b[0m     \u001b[39mreturn\u001b[39;00m \u001b[39mself\u001b[39m\u001b[39m.\u001b[39mstyled_log\n",
      "\u001b[1;31mAttributeError\u001b[0m: can't set attribute 'styled_log'"
     ]
    }
   ],
   "source": [
    "logs.styled_log"
   ]
  }
 ],
 "metadata": {
  "kernelspec": {
   "display_name": "base",
   "language": "python",
   "name": "python3"
  },
  "language_info": {
   "codemirror_mode": {
    "name": "ipython",
    "version": 3
   },
   "file_extension": ".py",
   "mimetype": "text/x-python",
   "name": "python",
   "nbconvert_exporter": "python",
   "pygments_lexer": "ipython3",
   "version": "3.10.9"
  },
  "orig_nbformat": 4,
  "vscode": {
   "interpreter": {
    "hash": "23b8fda9da3a2a104a5aa7aa75e01582a86c23885ba37bc31bb5dabaa9da29ce"
   }
  }
 },
 "nbformat": 4,
 "nbformat_minor": 2
}
