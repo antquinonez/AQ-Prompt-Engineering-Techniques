{
 "cells": [
  {
   "cell_type": "code",
   "execution_count": 1,
   "metadata": {},
   "outputs": [
    {
     "data": {
      "text/html": [
       "<style>\n",
       "    /* Enable word wrap */\n",
       "    .rendered_html table, .rendered_html th, .rendered_html tr, .rendered_html td {\n",
       "      white-space: nowrap;\n",
       "      overflow: hidden;\n",
       "      text-overflow: ellipsis;\n",
       "    }\n",
       "</style>\n"
      ],
      "text/plain": [
       "<IPython.core.display.HTML object>"
      ]
     },
     "metadata": {},
     "output_type": "display_data"
    }
   ],
   "source": [
    "%%html\n",
    "<style>\n",
    "    /* Enable word wrap */\n",
    "    .rendered_html table, .rendered_html th, .rendered_html tr, .rendered_html td {\n",
    "      white-space: nowrap;\n",
    "      overflow: hidden;\n",
    "      text-overflow: ellipsis;\n",
    "    }\n",
    "</style>"
   ]
  },
  {
   "cell_type": "code",
   "execution_count": 2,
   "metadata": {},
   "outputs": [],
   "source": [
    "import openai\n",
    "import os\n",
    "import pprint\n",
    "import sys\n",
    "from pprint import pprint\n",
    "import json\n",
    "import pyarrow as pa\n",
    "import pandas as pd\n",
    "\n",
    "lib = os.path.abspath(os.path.join('..', '..', 'libs'))\n",
    "sys.path.append(lib)\n",
    "\n",
    "from MessageParser import MessageParser\n",
    "from OpenAIResponseParser import OpenAIResponseParser\n"
   ]
  },
  {
   "cell_type": "code",
   "execution_count": 3,
   "metadata": {},
   "outputs": [],
   "source": [
    "# setup\n",
    "\n",
    "# Setup up pandas properties\n",
    "pd.set_option('display.max_columns', None)  # Display all columns\n",
    "pd.set_option('display.expand_frame_repr', False)  # Prevent line break in DataFrame\n",
    "pd.set_option('display.max_colwidth', None)  # Display the full content of cells\n",
    "\n",
    "# Set the API key\n",
    "openai.api_key = os.getenv(\"OPENAI_API_KEY\")"
   ]
  },
  {
   "attachments": {},
   "cell_type": "markdown",
   "metadata": {},
   "source": [
    "prep the system prompt component"
   ]
  },
  {
   "cell_type": "code",
   "execution_count": 4,
   "metadata": {},
   "outputs": [],
   "source": [
    "sys_prompt_list = []\n",
    "sys_prompt_1 = \"\"\"You are a software expert.\"\"\"\n",
    "sys_prompt_2 = \"\"\"Use. \"```python\" style for code blocks.\"\"\"\n",
    "sys_prompt_3 = \"\"\"Embed as a docstring the name for a file where I would store the code. Add '\\n' after the docstring.\"\"\"\n",
    "sys_prompt_4 = \"\"\"Embed in the body of the code block the instructions you created prepended with a '\\n'. Use #-. Provide a revised description of the prompt. Use the following format: ### Problem: ###.\"\"\"\n",
    "\n",
    "sys_prompt_list.append(sys_prompt_1)\n",
    "sys_prompt_list.append(sys_prompt_2)\n",
    "sys_prompt_list.append(sys_prompt_3)\n",
    "sys_prompt_list.append(sys_prompt_4)\n",
    "\n",
    "sys_prompt = \"\".join(sys_prompt_list)\n"
   ]
  },
  {
   "cell_type": "code",
   "execution_count": null,
   "metadata": {},
   "outputs": [],
   "source": [
    "prompts = f\"\"\"\n",
    "system: {sys_prompt}\n",
    "user: write python code for fibonacci sequence.\n",
    "\"\"\"\n",
    "\n",
    "parser = MessageParser(prompts)\n",
    "messages = parser.parse_messages()\n",
    "\n",
    "# Get the answer\n",
    "response = openai.ChatCompletion.create(model='gpt-3.5-turbo', temperature=1.3, max_tokens=3000, messages = messages)\n",
    "# print(response)\n"
   ]
  },
  {
   "cell_type": "code",
   "execution_count": 5,
   "metadata": {},
   "outputs": [],
   "source": [
    "parser = OpenAIResponseParser(response=response)"
   ]
  },
  {
   "cell_type": "code",
   "execution_count": 6,
   "metadata": {},
   "outputs": [
    {
     "data": {
      "text/html": [
       "<div>\n",
       "<style scoped>\n",
       "    .dataframe tbody tr th:only-of-type {\n",
       "        vertical-align: middle;\n",
       "    }\n",
       "\n",
       "    .dataframe tbody tr th {\n",
       "        vertical-align: top;\n",
       "    }\n",
       "\n",
       "    .dataframe thead th {\n",
       "        text-align: right;\n",
       "    }\n",
       "</style>\n",
       "<table border=\"1\" class=\"dataframe\">\n",
       "  <thead>\n",
       "    <tr style=\"text-align: right;\">\n",
       "      <th></th>\n",
       "      <th>id</th>\n",
       "      <th>created</th>\n",
       "      <th>model</th>\n",
       "      <th>usage</th>\n",
       "      <th>all_code</th>\n",
       "      <th>code_blocks</th>\n",
       "      <th>content</th>\n",
       "    </tr>\n",
       "  </thead>\n",
       "  <tbody>\n",
       "    <tr>\n",
       "      <th>0</th>\n",
       "      <td>chatcmpl-73XC5BFUrpN4UtegTpR5isTGIEACP</td>\n",
       "      <td>1.681077e+09</td>\n",
       "      <td>gpt-3.5-turbo-0301</td>\n",
       "      <td>55.0</td>\n",
       "      <td>def fibonacci(n: int) -&gt; list:\\n    \"\"\"\\n    Generates the specified number 'n' of terms in a Fibonacci\\n    sequence and returns them as a list.\\n    \"\"\"\\n    seq = []\\n    a, b = 0, 1   # The first two terms of the sequence\\n    while len(seq) &lt; n:\\n        seq.append(b)\\n        a, b = b, a+b   # Generate the next term in sequence\\n    return seq\\n</td>\n",
       "      <td>[\\ndef fibonacci(n: int) -&gt; list:\\n    \"\"\"\\n    Generates the specified number 'n' of terms in a Fibonacci\\n    sequence and returns them as a list.\\n    \"\"\"\\n    seq = []\\n    a, b = 0, 1   # The first two terms of the sequence\\n    while len(seq) &lt; n:\\n        seq.append(b)\\n        a, b = b, a+b   # Generate the next term in sequence\\n    return seq\\n]</td>\n",
       "      <td>Sure! Here's a code snippet that generates the Fibonacci sequence upto a specified number of terms:\\n\\n```python\\ndef fibonacci(n: int) -&gt; list:\\n    \"\"\"\\n    Generates the specified number 'n' of terms in a Fibonacci\\n    sequence and returns them as a list.\\n    \"\"\"\\n    seq = []\\n    a, b = 0, 1   # The first two terms of the sequence\\n    while len(seq) &lt; n:\\n        seq.append(b)\\n        a, b = b, a+b   # Generate the next term in sequence\\n    return seq\\n```\\n\\nYou can store this code in a file named `\"fibonacci.py\"`.</td>\n",
       "    </tr>\n",
       "  </tbody>\n",
       "</table>\n",
       "</div>"
      ],
      "text/plain": [
       "                                       id       created               model  usage                                                                                                                                                                                                                                                                                                                                                           all_code                                                                                                                                                                                                                                                                                                                                                            code_blocks                                                                                                                                                                                                                                                                                                                                                                                                                                                                                                                                              content\n",
       "0  chatcmpl-73XC5BFUrpN4UtegTpR5isTGIEACP  1.681077e+09  gpt-3.5-turbo-0301   55.0  def fibonacci(n: int) -> list:\\n    \"\"\"\\n    Generates the specified number 'n' of terms in a Fibonacci\\n    sequence and returns them as a list.\\n    \"\"\"\\n    seq = []\\n    a, b = 0, 1   # The first two terms of the sequence\\n    while len(seq) < n:\\n        seq.append(b)\\n        a, b = b, a+b   # Generate the next term in sequence\\n    return seq\\n  [\\ndef fibonacci(n: int) -> list:\\n    \"\"\"\\n    Generates the specified number 'n' of terms in a Fibonacci\\n    sequence and returns them as a list.\\n    \"\"\"\\n    seq = []\\n    a, b = 0, 1   # The first two terms of the sequence\\n    while len(seq) < n:\\n        seq.append(b)\\n        a, b = b, a+b   # Generate the next term in sequence\\n    return seq\\n]  Sure! Here's a code snippet that generates the Fibonacci sequence upto a specified number of terms:\\n\\n```python\\ndef fibonacci(n: int) -> list:\\n    \"\"\"\\n    Generates the specified number 'n' of terms in a Fibonacci\\n    sequence and returns them as a list.\\n    \"\"\"\\n    seq = []\\n    a, b = 0, 1   # The first two terms of the sequence\\n    while len(seq) < n:\\n        seq.append(b)\\n        a, b = b, a+b   # Generate the next term in sequence\\n    return seq\\n```\\n\\nYou can store this code in a file named `\"fibonacci.py\"`."
      ]
     },
     "execution_count": 6,
     "metadata": {},
     "output_type": "execute_result"
    }
   ],
   "source": [
    "messages_df = parser.get_dataframe()\n",
    "messages_df"
   ]
  },
  {
   "cell_type": "code",
   "execution_count": 7,
   "metadata": {},
   "outputs": [
    {
     "data": {
      "text/html": [
       "<style type=\"text/css\">\n",
       "#T_7cbe9_row0_col0, #T_7cbe9_row0_col1, #T_7cbe9_row0_col2, #T_7cbe9_row0_col3, #T_7cbe9_row0_col4, #T_7cbe9_row0_col5, #T_7cbe9_row0_col6 {\n",
       "  text-align: left;\n",
       "}\n",
       "</style>\n",
       "<table id=\"T_7cbe9\">\n",
       "  <thead>\n",
       "    <tr>\n",
       "      <th class=\"blank level0\" >&nbsp;</th>\n",
       "      <th id=\"T_7cbe9_level0_col0\" class=\"col_heading level0 col0\" >id</th>\n",
       "      <th id=\"T_7cbe9_level0_col1\" class=\"col_heading level0 col1\" >created</th>\n",
       "      <th id=\"T_7cbe9_level0_col2\" class=\"col_heading level0 col2\" >model</th>\n",
       "      <th id=\"T_7cbe9_level0_col3\" class=\"col_heading level0 col3\" >usage</th>\n",
       "      <th id=\"T_7cbe9_level0_col4\" class=\"col_heading level0 col4\" >all_code</th>\n",
       "      <th id=\"T_7cbe9_level0_col5\" class=\"col_heading level0 col5\" >code_blocks</th>\n",
       "      <th id=\"T_7cbe9_level0_col6\" class=\"col_heading level0 col6\" >content</th>\n",
       "    </tr>\n",
       "  </thead>\n",
       "  <tbody>\n",
       "    <tr>\n",
       "      <th id=\"T_7cbe9_level0_row0\" class=\"row_heading level0 row0\" >0</th>\n",
       "      <td id=\"T_7cbe9_row0_col0\" class=\"data row0 col0\" >chatcmpl-73XC5BFUrpN4UtegTpR5isTGIEACP</td>\n",
       "      <td id=\"T_7cbe9_row0_col1\" class=\"data row0 col1\" >1681076937.000000</td>\n",
       "      <td id=\"T_7cbe9_row0_col2\" class=\"data row0 col2\" >gpt-3.5-turbo-0301</td>\n",
       "      <td id=\"T_7cbe9_row0_col3\" class=\"data row0 col3\" >55.000000</td>\n",
       "      <td id=\"T_7cbe9_row0_col4\" class=\"data row0 col4\" >def fibonacci(n: int) -> list:\n",
       "    \"\"\"\n",
       "    Generates the specified number 'n' of terms in a Fibonacci\n",
       "    sequence and returns them as a list.\n",
       "    \"\"\"\n",
       "    seq = []\n",
       "    a, b = 0, 1   # The first two terms of the sequence\n",
       "    while len(seq) < n:\n",
       "        seq.append(b)\n",
       "        a, b = b, a+b   # Generate the next term in sequence\n",
       "    return seq\n",
       "</td>\n",
       "      <td id=\"T_7cbe9_row0_col5\" class=\"data row0 col5\" >['\\ndef fibonacci(n: int) -> list:\\n    \"\"\"\\n    Generates the specified number \\'n\\' of terms in a Fibonacci\\n    sequence and returns them as a list.\\n    \"\"\"\\n    seq = []\\n    a, b = 0, 1   # The first two terms of the sequence\\n    while len(seq) < n:\\n        seq.append(b)\\n        a, b = b, a+b   # Generate the next term in sequence\\n    return seq\\n']</td>\n",
       "      <td id=\"T_7cbe9_row0_col6\" class=\"data row0 col6\" >Sure! Here's a code snippet that generates the Fibonacci sequence upto a specified number of terms:\n",
       "\n",
       "```python\n",
       "def fibonacci(n: int) -> list:\n",
       "    \"\"\"\n",
       "    Generates the specified number 'n' of terms in a Fibonacci\n",
       "    sequence and returns them as a list.\n",
       "    \"\"\"\n",
       "    seq = []\n",
       "    a, b = 0, 1   # The first two terms of the sequence\n",
       "    while len(seq) < n:\n",
       "        seq.append(b)\n",
       "        a, b = b, a+b   # Generate the next term in sequence\n",
       "    return seq\n",
       "```\n",
       "\n",
       "You can store this code in a file named `\"fibonacci.py\"`.</td>\n",
       "    </tr>\n",
       "  </tbody>\n",
       "</table>\n"
      ],
      "text/plain": [
       "<pandas.io.formats.style.Styler at 0x7f134c255710>"
      ]
     },
     "execution_count": 7,
     "metadata": {},
     "output_type": "execute_result"
    }
   ],
   "source": [
    "parser.style"
   ]
  },
  {
   "cell_type": "code",
   "execution_count": 8,
   "metadata": {},
   "outputs": [],
   "source": [
    "# function to "
   ]
  },
  {
   "cell_type": "code",
   "execution_count": 9,
   "metadata": {},
   "outputs": [],
   "source": [
    "# import openai\n",
    "\n",
    "# image_resp = openai.Image.create(prompt=\"blonde woman, wearing pink blouse, wind blowing\", n=4, size=\"512x512\")\n",
    "# image_resp\n",
    "\n",
    "# # function to save the image in the image_resp object\n",
    "\n",
    "# import datetime\n",
    "# import arrow\n",
    "\n",
    "# # iterate and enumerate through the images\n",
    "# for i, dict in enumerate(image_resp['data']):\n",
    "#     url = (dict['url'])\n",
    "\n",
    "#     # get current date and time as a string, using arrow library\n",
    "#     now = arrow.now().format('YYYY-MM-DD-HH-mm-ss')\n",
    "    \n",
    "#     # assign a name to the image\n",
    "#     name = \"image_\" + now + \".png\"\n",
    "\n",
    "#     # save the image\n",
    "#     with open(name, 'wb') as f:\n",
    "#         f.write(requests.get(url).content)"
   ]
  }
 ],
 "metadata": {
  "kernelspec": {
   "display_name": "aqpe",
   "language": "python",
   "name": "python3"
  },
  "language_info": {
   "codemirror_mode": {
    "name": "ipython",
    "version": 3
   },
   "file_extension": ".py",
   "mimetype": "text/x-python",
   "name": "python",
   "nbconvert_exporter": "python",
   "pygments_lexer": "ipython3",
   "version": "3.11.3"
  },
  "orig_nbformat": 4
 },
 "nbformat": 4,
 "nbformat_minor": 2
}
