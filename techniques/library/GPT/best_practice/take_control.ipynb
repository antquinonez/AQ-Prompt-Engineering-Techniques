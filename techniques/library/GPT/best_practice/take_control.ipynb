{
 "cells": [
  {
   "attachments": {},
   "cell_type": "markdown",
   "metadata": {},
   "source": [
    "# Take Control of GPT : Use the API. Don't let the API use you"
   ]
  },
  {
   "attachments": {},
   "cell_type": "markdown",
   "metadata": {},
   "source": [
    "### My first openai API Project!!!"
   ]
  },
  {
   "attachments": {},
   "cell_type": "markdown",
   "metadata": {},
   "source": [
    "Here, I use the openai Python lib and some custom classes to handle processing prompts and responses. I store the results in a pandas dataframe, then format the code in a pandas 'style' object. I can use the dataframe and other objects (like the multiline string of prompts) to manage context for later prompts. Yes, context from prompts and answers. So much more to do with this. But this is a start."
   ]
  },
  {
   "attachments": {},
   "cell_type": "markdown",
   "metadata": {},
   "source": [
    "## Setup"
   ]
  },
  {
   "cell_type": "code",
   "execution_count": 1,
   "metadata": {},
   "outputs": [
    {
     "data": {
      "text/html": [
       "<style>\n",
       "    /* Enable word wrap */\n",
       "    .rendered_html table, .rendered_html th, .rendered_html tr, .rendered_html td {\n",
       "      white-space: nowrap;\n",
       "      overflow: hidden;\n",
       "      text-overflow: ellipsis;\n",
       "    }\n",
       "</style>\n"
      ],
      "text/plain": [
       "<IPython.core.display.HTML object>"
      ]
     },
     "metadata": {},
     "output_type": "display_data"
    }
   ],
   "source": [
    "%%html\n",
    "<style>\n",
    "    /* Enable word wrap */\n",
    "    .rendered_html table, .rendered_html th, .rendered_html tr, .rendered_html td {\n",
    "      white-space: nowrap;\n",
    "      overflow: hidden;\n",
    "      text-overflow: ellipsis;\n",
    "    }\n",
    "</style>"
   ]
  },
  {
   "attachments": {},
   "cell_type": "markdown",
   "metadata": {},
   "source": [
    "### Imports"
   ]
  },
  {
   "cell_type": "code",
   "execution_count": 2,
   "metadata": {},
   "outputs": [],
   "source": [
    "# ...\n",
    "import openai\n",
    "import os\n",
    "import pprint\n",
    "import sys\n",
    "from pprint import pprint\n",
    "import json\n",
    "import pyarrow as pa\n",
    "import pandas as pd\n",
    "\n",
    "lib = os.path.abspath(os.path.join('..', '..', 'libs'))\n",
    "sys.path.append(lib)\n",
    "\n",
    "from MessageParser import MessageParser\n",
    "from ResponseParser import ResponseParser\n",
    "from PromptLogs import PromptLogs\n"
   ]
  },
  {
   "attachments": {},
   "cell_type": "markdown",
   "metadata": {},
   "source": [
    "### Config"
   ]
  },
  {
   "cell_type": "code",
   "execution_count": 3,
   "metadata": {},
   "outputs": [],
   "source": [
    "# ...\n",
    "# *******************************************************************************************************\n",
    "# SET THE API KEY\n",
    "# ================\n",
    "# -- set the env variable OPENAI_API_KEY to your OpenAI API key       <<<<<<<<<<<<<<<<<<<<<<<<<<<<<<<<<<<\n",
    "openai.api_key = os.getenv(\"OPENAI_API_KEY\")\n",
    "# *******************************************************************************************************\n",
    "\n",
    "# Setup up pandas properties\n",
    "pd.set_option('display.max_columns', None)  # Display all columns\n",
    "pd.set_option('display.expand_frame_repr', False)  # Prevent line break in DataFrame\n",
    "pd.set_option('display.max_colwidth', None)  # Display the full content of cells\n",
    "\n"
   ]
  },
  {
   "attachments": {},
   "cell_type": "markdown",
   "metadata": {},
   "source": [
    "## Main code"
   ]
  },
  {
   "attachments": {},
   "cell_type": "markdown",
   "metadata": {},
   "source": [
    "Prep the system prompts"
   ]
  },
  {
   "cell_type": "code",
   "execution_count": 4,
   "metadata": {},
   "outputs": [],
   "source": [
    "sys_prompt_list = []\n",
    "sys_prompt_1 = \"\"\"You are a software expert.\"\"\"\n",
    "sys_prompt_2 = \"\"\"Use. \"```python\" style for code blocks.\"\"\"\n",
    "sys_prompt_3 = \"\"\"Include the name for a file where I would store individual code for functions or classes.\"\"\"\n",
    "\n",
    "sys_prompt_list.append(sys_prompt_1)\n",
    "sys_prompt_list.append(sys_prompt_2)\n",
    "sys_prompt_list.append(sys_prompt_3)\n",
    "\n",
    "sys_prompt_string = \"\".join(sys_prompt_list)"
   ]
  },
  {
   "attachments": {},
   "cell_type": "markdown",
   "metadata": {},
   "source": [
    "# we'll be storing the individual parser logs here "
   ]
  },
  {
   "cell_type": "code",
   "execution_count": 5,
   "metadata": {},
   "outputs": [],
   "source": [
    "logs = PromptLogs()"
   ]
  },
  {
   "attachments": {},
   "cell_type": "markdown",
   "metadata": {},
   "source": [
    "Generate the message and make the call"
   ]
  },
  {
   "cell_type": "code",
   "execution_count": 6,
   "metadata": {},
   "outputs": [],
   "source": [
    "message_list = f\"\"\"\n",
    "system: {sys_prompt_string}\n",
    "user: Write python code for fibonacci sequence. also write a function to zero pad a string to 10 chars.\n",
    "\"\"\"\n",
    "\n",
    "parser = MessageParser(message_list)\n",
    "messages = parser.parse_messages()\n",
    "\n",
    "# Get the response\n",
    "# I'll abstract this away in the future\n",
    "response = openai.ChatCompletion.create(model='gpt-3.5-turbo', temperature=1.3, max_tokens=300, messages = messages)\n"
   ]
  },
  {
   "attachments": {},
   "cell_type": "markdown",
   "metadata": {},
   "source": [
    "Get a parser object, using a custom class."
   ]
  },
  {
   "cell_type": "code",
   "execution_count": 7,
   "metadata": {},
   "outputs": [],
   "source": [
    "parser = ResponseParser(response=response)"
   ]
  },
  {
   "attachments": {},
   "cell_type": "markdown",
   "metadata": {},
   "source": [
    "get a pandas dataframe of the logged prompts and responses"
   ]
  },
  {
   "cell_type": "code",
   "execution_count": 8,
   "metadata": {},
   "outputs": [
    {
     "data": {
      "text/html": [
       "<div>\n",
       "<style scoped>\n",
       "    .dataframe tbody tr th:only-of-type {\n",
       "        vertical-align: middle;\n",
       "    }\n",
       "\n",
       "    .dataframe tbody tr th {\n",
       "        vertical-align: top;\n",
       "    }\n",
       "\n",
       "    .dataframe thead th {\n",
       "        text-align: right;\n",
       "    }\n",
       "</style>\n",
       "<table border=\"1\" class=\"dataframe\">\n",
       "  <thead>\n",
       "    <tr style=\"text-align: right;\">\n",
       "      <th></th>\n",
       "      <th>id</th>\n",
       "      <th>created</th>\n",
       "      <th>model</th>\n",
       "      <th>usage</th>\n",
       "      <th>all_code</th>\n",
       "      <th>code_blocks</th>\n",
       "      <th>content</th>\n",
       "    </tr>\n",
       "  </thead>\n",
       "  <tbody>\n",
       "    <tr>\n",
       "      <th>0</th>\n",
       "      <td>chatcmpl-73yJ2wZYTC7qQrdU6HtV09sQ2XjN0</td>\n",
       "      <td>1.681181e+09</td>\n",
       "      <td>gpt-3.5-turbo-0301</td>\n",
       "      <td>66.0</td>\n",
       "      <td>def&amp;nbsp;fibonacci(n):&lt;br&gt;&amp;nbsp;&amp;nbsp;&amp;nbsp;&amp;nbsp;fib_seq&amp;nbsp;=&amp;nbsp;[0,&amp;nbsp;1]&lt;br&gt;&amp;nbsp;&amp;nbsp;&amp;nbsp;&amp;nbsp;while&amp;nbsp;len(fib_seq)&amp;nbsp;&lt;&amp;nbsp;n:&lt;br&gt;&amp;nbsp;&amp;nbsp;&amp;nbsp;&amp;nbsp;&amp;nbsp;&amp;nbsp;&amp;nbsp;&amp;nbsp;next_fib&amp;nbsp;=&amp;nbsp;fib_seq[-1]&amp;nbsp;+&amp;nbsp;fib_seq[-2]&lt;br&gt;&amp;nbsp;&amp;nbsp;&amp;nbsp;&amp;nbsp;&amp;nbsp;&amp;nbsp;&amp;nbsp;&amp;nbsp;fib_seq.append(next_fib)&lt;br&gt;&amp;nbsp;&amp;nbsp;&amp;nbsp;&amp;nbsp;return&amp;nbsp;fib_seq&lt;br&gt;&lt;br&gt;print(fibonacci(10))&lt;br&gt;def&amp;nbsp;zero_pad_str(s):&lt;br&gt;&amp;nbsp;&amp;nbsp;&amp;nbsp;&amp;nbsp;return&amp;nbsp;s.ljust(10,&amp;nbsp;'0')&lt;br&gt;&lt;br&gt;my_str&amp;nbsp;=&amp;nbsp;'1234'&lt;br&gt;my_padded_str&amp;nbsp;=&amp;nbsp;zero_pad_str(my_str)&lt;br&gt;print(my_padded_str)&lt;br&gt;</td>\n",
       "      <td>[\\ndef fibonacci(n):\\n    fib_seq = [0, 1]\\n    while len(fib_seq) &lt; n:\\n        next_fib = fib_seq[-1] + fib_seq[-2]\\n        fib_seq.append(next_fib)\\n    return fib_seq\\n\\nprint(fibonacci(10))\\n, \\ndef zero_pad_str(s):\\n    return s.ljust(10, '0')\\n\\nmy_str = '1234'\\nmy_padded_str = zero_pad_str(my_str)\\nprint(my_padded_str)\\n]</td>\n",
       "      <td>Here is the Python code for Fibonacci sequence:\\n\\n```python\\ndef fibonacci(n):\\n    fib_seq = [0, 1]\\n    while len(fib_seq) &lt; n:\\n        next_fib = fib_seq[-1] + fib_seq[-2]\\n        fib_seq.append(next_fib)\\n    return fib_seq\\n\\nprint(fibonacci(10))\\n```\\n\\nThis will print the first 10 numbers in the Fibonacci sequence `[0, 1, 1, 2, 3, 5, 8, 13, 21, 34]`.\\n\\nHere is the Python code for a function that zero pads a string to 10 chars:\\n\\n```python\\ndef zero_pad_str(s):\\n    return s.ljust(10, '0')\\n\\nmy_str = '1234'\\nmy_padded_str = zero_pad_str(my_str)\\nprint(my_padded_str)\\n```\\n\\nIf `my_str = '1234'`, this function will return a string `\"1234000000\"`.</td>\n",
       "    </tr>\n",
       "  </tbody>\n",
       "</table>\n",
       "</div>"
      ],
      "text/plain": [
       "                                       id       created               model  usage                                                                                                                                                                                                                                                                                                                                                                                                                                                                                                                                                                                                                         all_code                                                                                                                                                                                                                                                                                                                                   code_blocks                                                                                                                                                                                                                                                                                                                                                                                                                                                                                                                                                                                                                                                                                    content\n",
       "0  chatcmpl-73yJ2wZYTC7qQrdU6HtV09sQ2XjN0  1.681181e+09  gpt-3.5-turbo-0301   66.0  def&nbsp;fibonacci(n):<br>&nbsp;&nbsp;&nbsp;&nbsp;fib_seq&nbsp;=&nbsp;[0,&nbsp;1]<br>&nbsp;&nbsp;&nbsp;&nbsp;while&nbsp;len(fib_seq)&nbsp;<&nbsp;n:<br>&nbsp;&nbsp;&nbsp;&nbsp;&nbsp;&nbsp;&nbsp;&nbsp;next_fib&nbsp;=&nbsp;fib_seq[-1]&nbsp;+&nbsp;fib_seq[-2]<br>&nbsp;&nbsp;&nbsp;&nbsp;&nbsp;&nbsp;&nbsp;&nbsp;fib_seq.append(next_fib)<br>&nbsp;&nbsp;&nbsp;&nbsp;return&nbsp;fib_seq<br><br>print(fibonacci(10))<br>def&nbsp;zero_pad_str(s):<br>&nbsp;&nbsp;&nbsp;&nbsp;return&nbsp;s.ljust(10,&nbsp;'0')<br><br>my_str&nbsp;=&nbsp;'1234'<br>my_padded_str&nbsp;=&nbsp;zero_pad_str(my_str)<br>print(my_padded_str)<br>  [\\ndef fibonacci(n):\\n    fib_seq = [0, 1]\\n    while len(fib_seq) < n:\\n        next_fib = fib_seq[-1] + fib_seq[-2]\\n        fib_seq.append(next_fib)\\n    return fib_seq\\n\\nprint(fibonacci(10))\\n, \\ndef zero_pad_str(s):\\n    return s.ljust(10, '0')\\n\\nmy_str = '1234'\\nmy_padded_str = zero_pad_str(my_str)\\nprint(my_padded_str)\\n]  Here is the Python code for Fibonacci sequence:\\n\\n```python\\ndef fibonacci(n):\\n    fib_seq = [0, 1]\\n    while len(fib_seq) < n:\\n        next_fib = fib_seq[-1] + fib_seq[-2]\\n        fib_seq.append(next_fib)\\n    return fib_seq\\n\\nprint(fibonacci(10))\\n```\\n\\nThis will print the first 10 numbers in the Fibonacci sequence `[0, 1, 1, 2, 3, 5, 8, 13, 21, 34]`.\\n\\nHere is the Python code for a function that zero pads a string to 10 chars:\\n\\n```python\\ndef zero_pad_str(s):\\n    return s.ljust(10, '0')\\n\\nmy_str = '1234'\\nmy_padded_str = zero_pad_str(my_str)\\nprint(my_padded_str)\\n```\\n\\nIf `my_str = '1234'`, this function will return a string `\"1234000000\"`."
      ]
     },
     "execution_count": 8,
     "metadata": {},
     "output_type": "execute_result"
    }
   ],
   "source": [
    "log_df = parser.get_df()\n",
    "log_df"
   ]
  },
  {
   "cell_type": "code",
   "execution_count": 9,
   "metadata": {},
   "outputs": [],
   "source": [
    "# this is a PromptLogs object\n",
    "logs.append(parser)"
   ]
  },
  {
   "cell_type": "code",
   "execution_count": 10,
   "metadata": {},
   "outputs": [
    {
     "data": {
      "text/html": [
       "<div>\n",
       "<style scoped>\n",
       "    .dataframe tbody tr th:only-of-type {\n",
       "        vertical-align: middle;\n",
       "    }\n",
       "\n",
       "    .dataframe tbody tr th {\n",
       "        vertical-align: top;\n",
       "    }\n",
       "\n",
       "    .dataframe thead th {\n",
       "        text-align: right;\n",
       "    }\n",
       "</style>\n",
       "<table border=\"1\" class=\"dataframe\">\n",
       "  <thead>\n",
       "    <tr style=\"text-align: right;\">\n",
       "      <th></th>\n",
       "      <th>created</th>\n",
       "      <th>model</th>\n",
       "      <th>usage</th>\n",
       "      <th>all_code</th>\n",
       "      <th>code_blocks</th>\n",
       "      <th>content</th>\n",
       "    </tr>\n",
       "    <tr>\n",
       "      <th>id</th>\n",
       "      <th></th>\n",
       "      <th></th>\n",
       "      <th></th>\n",
       "      <th></th>\n",
       "      <th></th>\n",
       "      <th></th>\n",
       "    </tr>\n",
       "  </thead>\n",
       "  <tbody>\n",
       "    <tr>\n",
       "      <th>chatcmpl-73yJ2wZYTC7qQrdU6HtV09sQ2XjN0</th>\n",
       "      <td>1.681181e+09</td>\n",
       "      <td>gpt-3.5-turbo-0301</td>\n",
       "      <td>66.0</td>\n",
       "      <td>def&amp;nbsp;fibonacci(n):&lt;br&gt;&amp;nbsp;&amp;nbsp;&amp;nbsp;&amp;nbsp;fib_seq&amp;nbsp;=&amp;nbsp;[0,&amp;nbsp;1]&lt;br&gt;&amp;nbsp;&amp;nbsp;&amp;nbsp;&amp;nbsp;while&amp;nbsp;len(fib_seq)&amp;nbsp;&lt;&amp;nbsp;n:&lt;br&gt;&amp;nbsp;&amp;nbsp;&amp;nbsp;&amp;nbsp;&amp;nbsp;&amp;nbsp;&amp;nbsp;&amp;nbsp;next_fib&amp;nbsp;=&amp;nbsp;fib_seq[-1]&amp;nbsp;+&amp;nbsp;fib_seq[-2]&lt;br&gt;&amp;nbsp;&amp;nbsp;&amp;nbsp;&amp;nbsp;&amp;nbsp;&amp;nbsp;&amp;nbsp;&amp;nbsp;fib_seq.append(next_fib)&lt;br&gt;&amp;nbsp;&amp;nbsp;&amp;nbsp;&amp;nbsp;return&amp;nbsp;fib_seq&lt;br&gt;&lt;br&gt;print(fibonacci(10))&lt;br&gt;def&amp;nbsp;zero_pad_str(s):&lt;br&gt;&amp;nbsp;&amp;nbsp;&amp;nbsp;&amp;nbsp;return&amp;nbsp;s.ljust(10,&amp;nbsp;'0')&lt;br&gt;&lt;br&gt;my_str&amp;nbsp;=&amp;nbsp;'1234'&lt;br&gt;my_padded_str&amp;nbsp;=&amp;nbsp;zero_pad_str(my_str)&lt;br&gt;print(my_padded_str)&lt;br&gt;</td>\n",
       "      <td>[\\ndef fibonacci(n):\\n    fib_seq = [0, 1]\\n    while len(fib_seq) &lt; n:\\n        next_fib = fib_seq[-1] + fib_seq[-2]\\n        fib_seq.append(next_fib)\\n    return fib_seq\\n\\nprint(fibonacci(10))\\n, \\ndef zero_pad_str(s):\\n    return s.ljust(10, '0')\\n\\nmy_str = '1234'\\nmy_padded_str = zero_pad_str(my_str)\\nprint(my_padded_str)\\n]</td>\n",
       "      <td>Here is the Python code for Fibonacci sequence:\\n\\n```python\\ndef fibonacci(n):\\n    fib_seq = [0, 1]\\n    while len(fib_seq) &lt; n:\\n        next_fib = fib_seq[-1] + fib_seq[-2]\\n        fib_seq.append(next_fib)\\n    return fib_seq\\n\\nprint(fibonacci(10))\\n```\\n\\nThis will print the first 10 numbers in the Fibonacci sequence `[0, 1, 1, 2, 3, 5, 8, 13, 21, 34]`.\\n\\nHere is the Python code for a function that zero pads a string to 10 chars:\\n\\n```python\\ndef zero_pad_str(s):\\n    return s.ljust(10, '0')\\n\\nmy_str = '1234'\\nmy_padded_str = zero_pad_str(my_str)\\nprint(my_padded_str)\\n```\\n\\nIf `my_str = '1234'`, this function will return a string `\"1234000000\"`.</td>\n",
       "    </tr>\n",
       "  </tbody>\n",
       "</table>\n",
       "</div>"
      ],
      "text/plain": [
       "                                             created               model  usage                                                                                                                                                                                                                                                                                                                                                                                                                                                                                                                                                                                                                         all_code                                                                                                                                                                                                                                                                                                                                   code_blocks                                                                                                                                                                                                                                                                                                                                                                                                                                                                                                                                                                                                                                                                                    content\n",
       "id                                                                                                                                                                                                                                                                                                                                                                                                                                                                                                                                                                                                                                                                                                                                                                                                                                                                                                                                                                                                                                                                                                                                                                                                                                                                                                                                                                                                                                                                                                                                                                                                                                                                                                                                                       \n",
       "chatcmpl-73yJ2wZYTC7qQrdU6HtV09sQ2XjN0  1.681181e+09  gpt-3.5-turbo-0301   66.0  def&nbsp;fibonacci(n):<br>&nbsp;&nbsp;&nbsp;&nbsp;fib_seq&nbsp;=&nbsp;[0,&nbsp;1]<br>&nbsp;&nbsp;&nbsp;&nbsp;while&nbsp;len(fib_seq)&nbsp;<&nbsp;n:<br>&nbsp;&nbsp;&nbsp;&nbsp;&nbsp;&nbsp;&nbsp;&nbsp;next_fib&nbsp;=&nbsp;fib_seq[-1]&nbsp;+&nbsp;fib_seq[-2]<br>&nbsp;&nbsp;&nbsp;&nbsp;&nbsp;&nbsp;&nbsp;&nbsp;fib_seq.append(next_fib)<br>&nbsp;&nbsp;&nbsp;&nbsp;return&nbsp;fib_seq<br><br>print(fibonacci(10))<br>def&nbsp;zero_pad_str(s):<br>&nbsp;&nbsp;&nbsp;&nbsp;return&nbsp;s.ljust(10,&nbsp;'0')<br><br>my_str&nbsp;=&nbsp;'1234'<br>my_padded_str&nbsp;=&nbsp;zero_pad_str(my_str)<br>print(my_padded_str)<br>  [\\ndef fibonacci(n):\\n    fib_seq = [0, 1]\\n    while len(fib_seq) < n:\\n        next_fib = fib_seq[-1] + fib_seq[-2]\\n        fib_seq.append(next_fib)\\n    return fib_seq\\n\\nprint(fibonacci(10))\\n, \\ndef zero_pad_str(s):\\n    return s.ljust(10, '0')\\n\\nmy_str = '1234'\\nmy_padded_str = zero_pad_str(my_str)\\nprint(my_padded_str)\\n]  Here is the Python code for Fibonacci sequence:\\n\\n```python\\ndef fibonacci(n):\\n    fib_seq = [0, 1]\\n    while len(fib_seq) < n:\\n        next_fib = fib_seq[-1] + fib_seq[-2]\\n        fib_seq.append(next_fib)\\n    return fib_seq\\n\\nprint(fibonacci(10))\\n```\\n\\nThis will print the first 10 numbers in the Fibonacci sequence `[0, 1, 1, 2, 3, 5, 8, 13, 21, 34]`.\\n\\nHere is the Python code for a function that zero pads a string to 10 chars:\\n\\n```python\\ndef zero_pad_str(s):\\n    return s.ljust(10, '0')\\n\\nmy_str = '1234'\\nmy_padded_str = zero_pad_str(my_str)\\nprint(my_padded_str)\\n```\\n\\nIf `my_str = '1234'`, this function will return a string `\"1234000000\"`."
      ]
     },
     "execution_count": 10,
     "metadata": {},
     "output_type": "execute_result"
    }
   ],
   "source": [
    "logs.get_df()"
   ]
  },
  {
   "cell_type": "code",
   "execution_count": 11,
   "metadata": {},
   "outputs": [
    {
     "data": {
      "text/html": [
       "<style type=\"text/css\">\n",
       "#T_15628_row0_col0, #T_15628_row0_col1, #T_15628_row0_col2, #T_15628_row0_col3, #T_15628_row0_col4 {\n",
       "  text-align: left;\n",
       "}\n",
       "</style>\n",
       "<table id=\"T_15628\">\n",
       "  <thead>\n",
       "    <tr>\n",
       "      <th class=\"blank level0\" >&nbsp;</th>\n",
       "      <th id=\"T_15628_level0_col0\" class=\"col_heading level0 col0\" >id</th>\n",
       "      <th id=\"T_15628_level0_col1\" class=\"col_heading level0 col1\" >created</th>\n",
       "      <th id=\"T_15628_level0_col2\" class=\"col_heading level0 col2\" >model</th>\n",
       "      <th id=\"T_15628_level0_col3\" class=\"col_heading level0 col3\" >usage</th>\n",
       "      <th id=\"T_15628_level0_col4\" class=\"col_heading level0 col4\" >all_code</th>\n",
       "    </tr>\n",
       "  </thead>\n",
       "  <tbody>\n",
       "    <tr>\n",
       "      <th id=\"T_15628_level0_row0\" class=\"row_heading level0 row0\" >0</th>\n",
       "      <td id=\"T_15628_row0_col0\" class=\"data row0 col0\" >chatcmpl-73yJ2wZYTC7qQrdU6HtV09sQ2XjN0</td>\n",
       "      <td id=\"T_15628_row0_col1\" class=\"data row0 col1\" >1681181156.000000</td>\n",
       "      <td id=\"T_15628_row0_col2\" class=\"data row0 col2\" >gpt-3.5-turbo-0301</td>\n",
       "      <td id=\"T_15628_row0_col3\" class=\"data row0 col3\" >66.000000</td>\n",
       "      <td id=\"T_15628_row0_col4\" class=\"data row0 col4\" >def&nbsp;fibonacci(n):<br>&nbsp;&nbsp;&nbsp;&nbsp;fib_seq&nbsp;=&nbsp;[0,&nbsp;1]<br>&nbsp;&nbsp;&nbsp;&nbsp;while&nbsp;len(fib_seq)&nbsp;<&nbsp;n:<br>&nbsp;&nbsp;&nbsp;&nbsp;&nbsp;&nbsp;&nbsp;&nbsp;next_fib&nbsp;=&nbsp;fib_seq[-1]&nbsp;+&nbsp;fib_seq[-2]<br>&nbsp;&nbsp;&nbsp;&nbsp;&nbsp;&nbsp;&nbsp;&nbsp;fib_seq.append(next_fib)<br>&nbsp;&nbsp;&nbsp;&nbsp;return&nbsp;fib_seq<br><br>print(fibonacci(10))<br>def&nbsp;zero_pad_str(s):<br>&nbsp;&nbsp;&nbsp;&nbsp;return&nbsp;s.ljust(10,&nbsp;'0')<br><br>my_str&nbsp;=&nbsp;'1234'<br>my_padded_str&nbsp;=&nbsp;zero_pad_str(my_str)<br>print(my_padded_str)<br></td>\n",
       "    </tr>\n",
       "  </tbody>\n",
       "</table>\n"
      ],
      "text/plain": [
       "<pandas.io.formats.style.Styler at 0x23f10d6fa90>"
      ]
     },
     "execution_count": 11,
     "metadata": {},
     "output_type": "execute_result"
    }
   ],
   "source": [
    "# A pandas style applies custom formatting to a DataFrame to make it easier to read and\n",
    "# understand. It does not offer the full range of functionality that a DataFrame provides.\n",
    "parser.styled_log"
   ]
  },
  {
   "cell_type": "code",
   "execution_count": null,
   "metadata": {},
   "outputs": [],
   "source": [
    "logs.df"
   ]
  },
  {
   "attachments": {},
   "cell_type": "markdown",
   "metadata": {},
   "source": [
    "## And we make another exchange"
   ]
  },
  {
   "cell_type": "code",
   "execution_count": 12,
   "metadata": {},
   "outputs": [],
   "source": [
    "message_list = f\"\"\"\n",
    "system: {sys_prompt_string}\n",
    "user: Write a python function that returns numbers 1-10 in a list. \n",
    "\"\"\"\n",
    "\n",
    "message_parser = MessageParser(message_list)\n",
    "messages = message_parser.parse_messages()\n",
    "response = openai.ChatCompletion.create(model='gpt-3.5-turbo', temperature=1.3, max_tokens=300, messages = messages)\n",
    "response_parser = ResponseParser(response=response)\n",
    "\n",
    "logs.append(response_parser)"
   ]
  },
  {
   "attachments": {},
   "cell_type": "markdown",
   "metadata": {},
   "source": [
    "## And print the styled logs with the code from two separate prompt exchanges"
   ]
  },
  {
   "cell_type": "code",
   "execution_count": 13,
   "metadata": {},
   "outputs": [
    {
     "data": {
      "text/html": [
       "<style type=\"text/css\">\n",
       "#T_25f68_row0_col0, #T_25f68_row0_col1, #T_25f68_row0_col2, #T_25f68_row0_col3, #T_25f68_row1_col0, #T_25f68_row1_col1, #T_25f68_row1_col2, #T_25f68_row1_col3 {\n",
       "  text-align: left;\n",
       "}\n",
       "</style>\n",
       "<table id=\"T_25f68\">\n",
       "  <thead>\n",
       "    <tr>\n",
       "      <th class=\"blank level0\" >&nbsp;</th>\n",
       "      <th id=\"T_25f68_level0_col0\" class=\"col_heading level0 col0\" >created</th>\n",
       "      <th id=\"T_25f68_level0_col1\" class=\"col_heading level0 col1\" >model</th>\n",
       "      <th id=\"T_25f68_level0_col2\" class=\"col_heading level0 col2\" >usage</th>\n",
       "      <th id=\"T_25f68_level0_col3\" class=\"col_heading level0 col3\" >all_code</th>\n",
       "    </tr>\n",
       "    <tr>\n",
       "      <th class=\"index_name level0\" >id</th>\n",
       "      <th class=\"blank col0\" >&nbsp;</th>\n",
       "      <th class=\"blank col1\" >&nbsp;</th>\n",
       "      <th class=\"blank col2\" >&nbsp;</th>\n",
       "      <th class=\"blank col3\" >&nbsp;</th>\n",
       "    </tr>\n",
       "  </thead>\n",
       "  <tbody>\n",
       "    <tr>\n",
       "      <th id=\"T_25f68_level0_row0\" class=\"row_heading level0 row0\" >nan</th>\n",
       "      <td id=\"T_25f68_row0_col0\" class=\"data row0 col0\" >1681181156.000000</td>\n",
       "      <td id=\"T_25f68_row0_col1\" class=\"data row0 col1\" >gpt-3.5-turbo-0301</td>\n",
       "      <td id=\"T_25f68_row0_col2\" class=\"data row0 col2\" >66.000000</td>\n",
       "      <td id=\"T_25f68_row0_col3\" class=\"data row0 col3\" >def&nbsp;fibonacci(n):<br>&nbsp;&nbsp;&nbsp;&nbsp;fib_seq&nbsp;=&nbsp;[0,&nbsp;1]<br>&nbsp;&nbsp;&nbsp;&nbsp;while&nbsp;len(fib_seq)&nbsp;<&nbsp;n:<br>&nbsp;&nbsp;&nbsp;&nbsp;&nbsp;&nbsp;&nbsp;&nbsp;next_fib&nbsp;=&nbsp;fib_seq[-1]&nbsp;+&nbsp;fib_seq[-2]<br>&nbsp;&nbsp;&nbsp;&nbsp;&nbsp;&nbsp;&nbsp;&nbsp;fib_seq.append(next_fib)<br>&nbsp;&nbsp;&nbsp;&nbsp;return&nbsp;fib_seq<br><br>print(fibonacci(10))<br>def&nbsp;zero_pad_str(s):<br>&nbsp;&nbsp;&nbsp;&nbsp;return&nbsp;s.ljust(10,&nbsp;'0')<br><br>my_str&nbsp;=&nbsp;'1234'<br>my_padded_str&nbsp;=&nbsp;zero_pad_str(my_str)<br>print(my_padded_str)<br></td>\n",
       "    </tr>\n",
       "    <tr>\n",
       "      <th id=\"T_25f68_level0_row1\" class=\"row_heading level0 row1\" >chatcmpl-73yJC0F2Jw9VPNF5NmWCaE2AhK8Dt</th>\n",
       "      <td id=\"T_25f68_row1_col0\" class=\"data row1 col0\" >1681181166.000000</td>\n",
       "      <td id=\"T_25f68_row1_col1\" class=\"data row1 col1\" >gpt-3.5-turbo-0301</td>\n",
       "      <td id=\"T_25f68_row1_col2\" class=\"data row1 col2\" >60.000000</td>\n",
       "      <td id=\"T_25f68_row1_col3\" class=\"data row1 col3\" >from&nbsp;number_functions&nbsp;import&nbsp;get_numbers<br><br>result&nbsp;=&nbsp;get_numbers()<br>print(result)<br>[1,&nbsp;2,&nbsp;3,&nbsp;4,&nbsp;5,&nbsp;6,&nbsp;7,&nbsp;8,&nbsp;9,&nbsp;10]<br></td>\n",
       "    </tr>\n",
       "  </tbody>\n",
       "</table>\n"
      ],
      "text/plain": [
       "<pandas.io.formats.style.Styler at 0x23f0e317a30>"
      ]
     },
     "execution_count": 13,
     "metadata": {},
     "output_type": "execute_result"
    }
   ],
   "source": [
    "logs.styled_log"
   ]
  }
 ],
 "metadata": {
  "kernelspec": {
   "display_name": "base",
   "language": "python",
   "name": "python3"
  },
  "language_info": {
   "codemirror_mode": {
    "name": "ipython",
    "version": 3
   },
   "file_extension": ".py",
   "mimetype": "text/x-python",
   "name": "python",
   "nbconvert_exporter": "python",
   "pygments_lexer": "ipython3",
   "version": "3.10.9"
  },
  "orig_nbformat": 4,
  "vscode": {
   "interpreter": {
    "hash": "23b8fda9da3a2a104a5aa7aa75e01582a86c23885ba37bc31bb5dabaa9da29ce"
   }
  }
 },
 "nbformat": 4,
 "nbformat_minor": 2
}
