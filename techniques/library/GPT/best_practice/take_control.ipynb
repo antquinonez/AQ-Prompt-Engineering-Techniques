{
 "cells": [
  {
   "attachments": {},
   "cell_type": "markdown",
   "metadata": {},
   "source": [
    "# Take Control of GPT : Use the API. Don't let the API use you"
   ]
  },
  {
   "attachments": {},
   "cell_type": "markdown",
   "metadata": {},
   "source": [
    "### My first openai API Project!!!"
   ]
  },
  {
   "attachments": {},
   "cell_type": "markdown",
   "metadata": {},
   "source": [
    "Here, I use the openai Python lib and some custom classes to handle processing prompts and responses. I store the results in a pandas dataframe, then format the code in a pandas 'style' object. I can use the dataframe and other objects (like the multiline string of prompts) to manage context for later prompts. Yes, context from prompts and answers. So much more to do with this. But this is a start."
   ]
  },
  {
   "attachments": {},
   "cell_type": "markdown",
   "metadata": {},
   "source": [
    "## Setup"
   ]
  },
  {
   "cell_type": "code",
   "execution_count": 1,
   "metadata": {},
   "outputs": [
    {
     "data": {
      "text/html": [
       "<style>\n",
       "    /* Enable word wrap */\n",
       "    .rendered_html table, .rendered_html th, .rendered_html tr, .rendered_html td {\n",
       "      white-space: nowrap;\n",
       "      overflow: hidden;\n",
       "      text-overflow: ellipsis;\n",
       "    }\n",
       "</style>\n"
      ],
      "text/plain": [
       "<IPython.core.display.HTML object>"
      ]
     },
     "metadata": {},
     "output_type": "display_data"
    }
   ],
   "source": [
    "%%html\n",
    "<style>\n",
    "    /* Enable word wrap */\n",
    "    .rendered_html table, .rendered_html th, .rendered_html tr, .rendered_html td {\n",
    "      white-space: nowrap;\n",
    "      overflow: hidden;\n",
    "      text-overflow: ellipsis;\n",
    "    }\n",
    "</style>"
   ]
  },
  {
   "attachments": {},
   "cell_type": "markdown",
   "metadata": {},
   "source": [
    "### Imports"
   ]
  },
  {
   "cell_type": "code",
   "execution_count": 2,
   "metadata": {},
   "outputs": [],
   "source": [
    "# ...\n",
    "import openai\n",
    "import os\n",
    "import pprint\n",
    "import sys\n",
    "from pprint import pprint\n",
    "import json\n",
    "import pyarrow as pa\n",
    "import pandas as pd\n",
    "\n",
    "lib = os.path.abspath(os.path.join('..', '..', 'libs'))\n",
    "sys.path.append(lib)\n",
    "\n",
    "from MessageParser import MessageParser\n",
    "from ResponseParser import ResponseParser\n",
    "from PromptLogs import PromptLogs\n"
   ]
  },
  {
   "attachments": {},
   "cell_type": "markdown",
   "metadata": {},
   "source": [
    "### Config"
   ]
  },
  {
   "cell_type": "code",
   "execution_count": 3,
   "metadata": {},
   "outputs": [],
   "source": [
    "# ...\n",
    "# *******************************************************************************************************\n",
    "# SET THE API KEY\n",
    "# ================\n",
    "# -- set the env variable OPENAI_API_KEY to your OpenAI API key       <<<<<<<<<<<<<<<<<<<<<<<<<<<<<<<<<<<\n",
    "openai.api_key = os.getenv(\"OPENAI_API_KEY\")\n",
    "# *******************************************************************************************************\n",
    "\n",
    "# Setup up pandas properties\n",
    "pd.set_option('display.max_columns', None)  # Display all columns\n",
    "pd.set_option('display.expand_frame_repr', False)  # Prevent line break in DataFrame\n",
    "pd.set_option('display.max_colwidth', None)  # Display the full content of cells\n",
    "\n"
   ]
  },
  {
   "attachments": {},
   "cell_type": "markdown",
   "metadata": {},
   "source": [
    "## Main code"
   ]
  },
  {
   "attachments": {},
   "cell_type": "markdown",
   "metadata": {},
   "source": [
    "Prep the system prompts"
   ]
  },
  {
   "cell_type": "code",
   "execution_count": 4,
   "metadata": {},
   "outputs": [],
   "source": [
    "sys_prompt_list = []\n",
    "sys_prompt_1 = \"\"\"You are a software expert.\"\"\"\n",
    "sys_prompt_2 = \"\"\"Use. \"```python\" style for code blocks.\"\"\"\n",
    "sys_prompt_3 = \"\"\"Include the name for a file where I would store individual code for functions or classes.\"\"\"\n",
    "\n",
    "sys_prompt_list.append(sys_prompt_1)\n",
    "sys_prompt_list.append(sys_prompt_2)\n",
    "sys_prompt_list.append(sys_prompt_3)\n",
    "\n",
    "sys_prompt_string = \"\".join(sys_prompt_list)"
   ]
  },
  {
   "attachments": {},
   "cell_type": "markdown",
   "metadata": {},
   "source": [
    "### a PromptLogs object will hold all the individual individual parser objects, which hold the response from a single exchange"
   ]
  },
  {
   "cell_type": "code",
   "execution_count": 5,
   "metadata": {},
   "outputs": [],
   "source": [
    "logs = PromptLogs()"
   ]
  },
  {
   "attachments": {},
   "cell_type": "markdown",
   "metadata": {},
   "source": [
    "Generate the message and make the call"
   ]
  },
  {
   "cell_type": "code",
   "execution_count": 6,
   "metadata": {},
   "outputs": [],
   "source": [
    "message_list = f\"\"\"\n",
    "system: {sys_prompt_string}\n",
    "user: Write python code for fibonacci sequence. also write a function to zero pad a string to 10 chars.\n",
    "\"\"\"\n",
    "\n",
    "# a MessageParser object will process the message_list and make an acceptable messages object\n",
    "message_parser = MessageParser(message_list)\n",
    "messages = message_parser.parse()\n",
    "\n",
    "# Make the openai call and get the response\n",
    "# todo: I'll abstract this away in the future\n",
    "response = openai.ChatCompletion.create(model='gpt-3.5-turbo', temperature=1.3, max_tokens=300, messages = messages)\n"
   ]
  },
  {
   "attachments": {},
   "cell_type": "markdown",
   "metadata": {},
   "source": [
    "A response parser will process the response"
   ]
  },
  {
   "cell_type": "code",
   "execution_count": 7,
   "metadata": {},
   "outputs": [],
   "source": [
    "response_parser = ResponseParser(response=response)"
   ]
  },
  {
   "attachments": {},
   "cell_type": "markdown",
   "metadata": {},
   "source": [
    "See a pandas dataframe of the logged response"
   ]
  },
  {
   "cell_type": "code",
   "execution_count": 8,
   "metadata": {},
   "outputs": [
    {
     "data": {
      "text/html": [
       "<div>\n",
       "<style scoped>\n",
       "    .dataframe tbody tr th:only-of-type {\n",
       "        vertical-align: middle;\n",
       "    }\n",
       "\n",
       "    .dataframe tbody tr th {\n",
       "        vertical-align: top;\n",
       "    }\n",
       "\n",
       "    .dataframe thead th {\n",
       "        text-align: right;\n",
       "    }\n",
       "</style>\n",
       "<table border=\"1\" class=\"dataframe\">\n",
       "  <thead>\n",
       "    <tr style=\"text-align: right;\">\n",
       "      <th></th>\n",
       "      <th>id</th>\n",
       "      <th>created</th>\n",
       "      <th>model</th>\n",
       "      <th>usage</th>\n",
       "      <th>all_code</th>\n",
       "      <th>code_blocks</th>\n",
       "      <th>content</th>\n",
       "    </tr>\n",
       "  </thead>\n",
       "  <tbody>\n",
       "    <tr>\n",
       "      <th>0</th>\n",
       "      <td>chatcmpl-756ZeJhW8dAUz4O3ewkvngOmb50Ln</td>\n",
       "      <td>1.681451e+09</td>\n",
       "      <td>gpt-3.5-turbo-0301</td>\n",
       "      <td>66.0</td>\n",
       "      <td>def&amp;nbsp;fibonacci(n):&lt;br&gt;&amp;nbsp;&amp;nbsp;&amp;nbsp;&amp;nbsp;\"\"\"&lt;br&gt;&amp;nbsp;&amp;nbsp;&amp;nbsp;&amp;nbsp;This&amp;nbsp;function&amp;nbsp;generates&amp;nbsp;Fibonacci&amp;nbsp;sequence&amp;nbsp;up&amp;nbsp;to&amp;nbsp;'n'&amp;nbsp;numbers.&lt;br&gt;&amp;nbsp;&amp;nbsp;&amp;nbsp;&amp;nbsp;\"\"\"&lt;br&gt;&amp;nbsp;&amp;nbsp;&amp;nbsp;&amp;nbsp;a,&amp;nbsp;b&amp;nbsp;=&amp;nbsp;0,&amp;nbsp;1&lt;br&gt;&amp;nbsp;&amp;nbsp;&amp;nbsp;&amp;nbsp;while&amp;nbsp;a&amp;nbsp;&lt;&amp;nbsp;n:&lt;br&gt;&amp;nbsp;&amp;nbsp;&amp;nbsp;&amp;nbsp;&amp;nbsp;&amp;nbsp;&amp;nbsp;&amp;nbsp;print(a)&lt;br&gt;&amp;nbsp;&amp;nbsp;&amp;nbsp;&amp;nbsp;&amp;nbsp;&amp;nbsp;&amp;nbsp;&amp;nbsp;a,&amp;nbsp;b&amp;nbsp;=&amp;nbsp;b,&amp;nbsp;a+b&lt;br&gt;#Example&lt;br&gt;fibonacci(10)&lt;br&gt;def&amp;nbsp;zero_pad(s):&lt;br&gt;&amp;nbsp;&amp;nbsp;&amp;nbsp;&amp;nbsp;\"\"\"&lt;br&gt;&amp;nbsp;&amp;nbsp;&amp;nbsp;&amp;nbsp;This&amp;nbsp;function&amp;nbsp;pads&amp;nbsp;a&amp;nbsp;string&amp;nbsp;'s'&amp;nbsp;with&amp;nbsp;zeros&amp;nbsp;&lt;br&gt;&amp;nbsp;&amp;nbsp;&amp;nbsp;&amp;nbsp;up&amp;nbsp;to&amp;nbsp;a&amp;nbsp;length&amp;nbsp;of&amp;nbsp;10&amp;nbsp;characters.&lt;br&gt;&amp;nbsp;&amp;nbsp;&amp;nbsp;&amp;nbsp;\"\"\"&lt;br&gt;&amp;nbsp;&amp;nbsp;&amp;nbsp;&amp;nbsp;return&amp;nbsp;s.zfill(10)&lt;br&gt;#Example&lt;br&gt;from&amp;nbsp;string_functions&amp;nbsp;import&amp;nbsp;zero_pad&lt;br&gt;my_string&amp;nbsp;=&amp;nbsp;\"42\"&lt;br&gt;print(zero_pad(my_string))&lt;br&gt;</td>\n",
       "      <td>[\\ndef fibonacci(n):\\n    \"\"\"\\n    This function generates Fibonacci sequence up to 'n' numbers.\\n    \"\"\"\\n    a, b = 0, 1\\n    while a &lt; n:\\n        print(a)\\n        a, b = b, a+b\\n, \\n#Example\\nfibonacci(10)\\n, \\ndef zero_pad(s):\\n    \"\"\"\\n    This function pads a string 's' with zeros \\n    up to a length of 10 characters.\\n    \"\"\"\\n    return s.zfill(10)\\n, \\n#Example\\nfrom string_functions import zero_pad\\nmy_string = \"42\"\\nprint(zero_pad(my_string))\\n]</td>\n",
       "      <td>Here is the python code for fibonacci sequence:\\n\\n```python\\ndef fibonacci(n):\\n    \"\"\"\\n    This function generates Fibonacci sequence up to 'n' numbers.\\n    \"\"\"\\n    a, b = 0, 1\\n    while a &lt; n:\\n        print(a)\\n        a, b = b, a+b\\n```\\n\\nTo use this function, simply call the 'fibonacci()`' function and pass the integer value of n.\\n\\n```python\\n#Example\\nfibonacci(10)\\n```\\n\\nOutput:\\n```\\n0\\n1\\n1\\n2\\n3\\n5\\n8\\n```\\n\\nAnd, here is the function to zero pad a string to 10 characters in a separate file named `string_functions.py`.\\n\\n`string_functions.py`\\n\\n```python\\ndef zero_pad(s):\\n    \"\"\"\\n    This function pads a string 's' with zeros \\n    up to a length of 10 characters.\\n    \"\"\"\\n    return s.zfill(10)\\n```\\n\\nYou can import and use the 'zero_pad()' function in any other file as below:\\n\\n```python\\n#Example\\nfrom string_functions import zero_pad\\nmy_string = \"42\"\\nprint(zero_pad(my_string))\\n```\\n\\nOutput:\\n```\\n0000000042\\n```</td>\n",
       "    </tr>\n",
       "  </tbody>\n",
       "</table>\n",
       "</div>"
      ],
      "text/plain": [
       "                                       id       created               model  usage                                                                                                                                                                                                                                                                                                                                                                                                                                                                                                                                                                                                                                                                                                                                                                                                                                                                                                                                                                                                      all_code                                                                                                                                                                                                                                                                                                                                                                                                                                                                      code_blocks                                                                                                                                                                                                                                                                                                                                                                                                                                                                                                                                                                                                                                                                                                                                                                                                                                                                                                                                                                                          content\n",
       "0  chatcmpl-756ZeJhW8dAUz4O3ewkvngOmb50Ln  1.681451e+09  gpt-3.5-turbo-0301   66.0  def&nbsp;fibonacci(n):<br>&nbsp;&nbsp;&nbsp;&nbsp;\"\"\"<br>&nbsp;&nbsp;&nbsp;&nbsp;This&nbsp;function&nbsp;generates&nbsp;Fibonacci&nbsp;sequence&nbsp;up&nbsp;to&nbsp;'n'&nbsp;numbers.<br>&nbsp;&nbsp;&nbsp;&nbsp;\"\"\"<br>&nbsp;&nbsp;&nbsp;&nbsp;a,&nbsp;b&nbsp;=&nbsp;0,&nbsp;1<br>&nbsp;&nbsp;&nbsp;&nbsp;while&nbsp;a&nbsp;<&nbsp;n:<br>&nbsp;&nbsp;&nbsp;&nbsp;&nbsp;&nbsp;&nbsp;&nbsp;print(a)<br>&nbsp;&nbsp;&nbsp;&nbsp;&nbsp;&nbsp;&nbsp;&nbsp;a,&nbsp;b&nbsp;=&nbsp;b,&nbsp;a+b<br>#Example<br>fibonacci(10)<br>def&nbsp;zero_pad(s):<br>&nbsp;&nbsp;&nbsp;&nbsp;\"\"\"<br>&nbsp;&nbsp;&nbsp;&nbsp;This&nbsp;function&nbsp;pads&nbsp;a&nbsp;string&nbsp;'s'&nbsp;with&nbsp;zeros&nbsp;<br>&nbsp;&nbsp;&nbsp;&nbsp;up&nbsp;to&nbsp;a&nbsp;length&nbsp;of&nbsp;10&nbsp;characters.<br>&nbsp;&nbsp;&nbsp;&nbsp;\"\"\"<br>&nbsp;&nbsp;&nbsp;&nbsp;return&nbsp;s.zfill(10)<br>#Example<br>from&nbsp;string_functions&nbsp;import&nbsp;zero_pad<br>my_string&nbsp;=&nbsp;\"42\"<br>print(zero_pad(my_string))<br>  [\\ndef fibonacci(n):\\n    \"\"\"\\n    This function generates Fibonacci sequence up to 'n' numbers.\\n    \"\"\"\\n    a, b = 0, 1\\n    while a < n:\\n        print(a)\\n        a, b = b, a+b\\n, \\n#Example\\nfibonacci(10)\\n, \\ndef zero_pad(s):\\n    \"\"\"\\n    This function pads a string 's' with zeros \\n    up to a length of 10 characters.\\n    \"\"\"\\n    return s.zfill(10)\\n, \\n#Example\\nfrom string_functions import zero_pad\\nmy_string = \"42\"\\nprint(zero_pad(my_string))\\n]  Here is the python code for fibonacci sequence:\\n\\n```python\\ndef fibonacci(n):\\n    \"\"\"\\n    This function generates Fibonacci sequence up to 'n' numbers.\\n    \"\"\"\\n    a, b = 0, 1\\n    while a < n:\\n        print(a)\\n        a, b = b, a+b\\n```\\n\\nTo use this function, simply call the 'fibonacci()`' function and pass the integer value of n.\\n\\n```python\\n#Example\\nfibonacci(10)\\n```\\n\\nOutput:\\n```\\n0\\n1\\n1\\n2\\n3\\n5\\n8\\n```\\n\\nAnd, here is the function to zero pad a string to 10 characters in a separate file named `string_functions.py`.\\n\\n`string_functions.py`\\n\\n```python\\ndef zero_pad(s):\\n    \"\"\"\\n    This function pads a string 's' with zeros \\n    up to a length of 10 characters.\\n    \"\"\"\\n    return s.zfill(10)\\n```\\n\\nYou can import and use the 'zero_pad()' function in any other file as below:\\n\\n```python\\n#Example\\nfrom string_functions import zero_pad\\nmy_string = \"42\"\\nprint(zero_pad(my_string))\\n```\\n\\nOutput:\\n```\\n0000000042\\n```"
      ]
     },
     "execution_count": 8,
     "metadata": {},
     "output_type": "execute_result"
    }
   ],
   "source": [
    "response_parser.df"
   ]
  },
  {
   "cell_type": "code",
   "execution_count": 9,
   "metadata": {},
   "outputs": [
    {
     "data": {
      "text/html": [
       "<style type=\"text/css\">\n",
       "#T_0823e_row0_col0, #T_0823e_row0_col1, #T_0823e_row0_col2, #T_0823e_row0_col3, #T_0823e_row0_col4 {\n",
       "  text-align: left;\n",
       "}\n",
       "</style>\n",
       "<table id=\"T_0823e\">\n",
       "  <thead>\n",
       "    <tr>\n",
       "      <th class=\"blank level0\" >&nbsp;</th>\n",
       "      <th id=\"T_0823e_level0_col0\" class=\"col_heading level0 col0\" >id</th>\n",
       "      <th id=\"T_0823e_level0_col1\" class=\"col_heading level0 col1\" >created</th>\n",
       "      <th id=\"T_0823e_level0_col2\" class=\"col_heading level0 col2\" >model</th>\n",
       "      <th id=\"T_0823e_level0_col3\" class=\"col_heading level0 col3\" >usage</th>\n",
       "      <th id=\"T_0823e_level0_col4\" class=\"col_heading level0 col4\" >all_code</th>\n",
       "    </tr>\n",
       "  </thead>\n",
       "  <tbody>\n",
       "    <tr>\n",
       "      <th id=\"T_0823e_level0_row0\" class=\"row_heading level0 row0\" >0</th>\n",
       "      <td id=\"T_0823e_row0_col0\" class=\"data row0 col0\" >chatcmpl-756ZeJhW8dAUz4O3ewkvngOmb50Ln</td>\n",
       "      <td id=\"T_0823e_row0_col1\" class=\"data row0 col1\" >1681451266.000000</td>\n",
       "      <td id=\"T_0823e_row0_col2\" class=\"data row0 col2\" >gpt-3.5-turbo-0301</td>\n",
       "      <td id=\"T_0823e_row0_col3\" class=\"data row0 col3\" >66.000000</td>\n",
       "      <td id=\"T_0823e_row0_col4\" class=\"data row0 col4\" >def&nbsp;fibonacci(n):<br>&nbsp;&nbsp;&nbsp;&nbsp;\"\"\"<br>&nbsp;&nbsp;&nbsp;&nbsp;This&nbsp;function&nbsp;generates&nbsp;Fibonacci&nbsp;sequence&nbsp;up&nbsp;to&nbsp;'n'&nbsp;numbers.<br>&nbsp;&nbsp;&nbsp;&nbsp;\"\"\"<br>&nbsp;&nbsp;&nbsp;&nbsp;a,&nbsp;b&nbsp;=&nbsp;0,&nbsp;1<br>&nbsp;&nbsp;&nbsp;&nbsp;while&nbsp;a&nbsp;<&nbsp;n:<br>&nbsp;&nbsp;&nbsp;&nbsp;&nbsp;&nbsp;&nbsp;&nbsp;print(a)<br>&nbsp;&nbsp;&nbsp;&nbsp;&nbsp;&nbsp;&nbsp;&nbsp;a,&nbsp;b&nbsp;=&nbsp;b,&nbsp;a+b<br>#Example<br>fibonacci(10)<br>def&nbsp;zero_pad(s):<br>&nbsp;&nbsp;&nbsp;&nbsp;\"\"\"<br>&nbsp;&nbsp;&nbsp;&nbsp;This&nbsp;function&nbsp;pads&nbsp;a&nbsp;string&nbsp;'s'&nbsp;with&nbsp;zeros&nbsp;<br>&nbsp;&nbsp;&nbsp;&nbsp;up&nbsp;to&nbsp;a&nbsp;length&nbsp;of&nbsp;10&nbsp;characters.<br>&nbsp;&nbsp;&nbsp;&nbsp;\"\"\"<br>&nbsp;&nbsp;&nbsp;&nbsp;return&nbsp;s.zfill(10)<br>#Example<br>from&nbsp;string_functions&nbsp;import&nbsp;zero_pad<br>my_string&nbsp;=&nbsp;\"42\"<br>print(zero_pad(my_string))<br></td>\n",
       "    </tr>\n",
       "  </tbody>\n",
       "</table>\n"
      ],
      "text/plain": [
       "<pandas.io.formats.style.Styler at 0x7fb4fcbd8fd0>"
      ]
     },
     "execution_count": 9,
     "metadata": {},
     "output_type": "execute_result"
    }
   ],
   "source": [
    "# A pandas style applies custom formatting to a DataFrame to make it easier to read and\n",
    "# understand. It does not offer the full range of functionality that a DataFrame provides.\n",
    "response_parser.styled_log"
   ]
  },
  {
   "cell_type": "code",
   "execution_count": 10,
   "metadata": {},
   "outputs": [
    {
     "data": {
      "text/html": [
       "<style type=\"text/css\">\n",
       "#T_ff119_row0_col0, #T_ff119_row0_col1, #T_ff119_row0_col2, #T_ff119_row0_col3, #T_ff119_row0_col4, #T_ff119_row0_col5, #T_ff119_row0_col6 {\n",
       "  text-align: left;\n",
       "}\n",
       "</style>\n",
       "<table id=\"T_ff119\">\n",
       "  <thead>\n",
       "    <tr>\n",
       "      <th class=\"blank level0\" >&nbsp;</th>\n",
       "      <th id=\"T_ff119_level0_col0\" class=\"col_heading level0 col0\" >id</th>\n",
       "      <th id=\"T_ff119_level0_col1\" class=\"col_heading level0 col1\" >created</th>\n",
       "      <th id=\"T_ff119_level0_col2\" class=\"col_heading level0 col2\" >model</th>\n",
       "      <th id=\"T_ff119_level0_col3\" class=\"col_heading level0 col3\" >usage</th>\n",
       "      <th id=\"T_ff119_level0_col4\" class=\"col_heading level0 col4\" >prompts</th>\n",
       "      <th id=\"T_ff119_level0_col5\" class=\"col_heading level0 col5\" >all_code</th>\n",
       "      <th id=\"T_ff119_level0_col6\" class=\"col_heading level0 col6\" >content</th>\n",
       "    </tr>\n",
       "    <tr>\n",
       "      <th class=\"index_name level0\" >sid</th>\n",
       "      <th class=\"blank col0\" >&nbsp;</th>\n",
       "      <th class=\"blank col1\" >&nbsp;</th>\n",
       "      <th class=\"blank col2\" >&nbsp;</th>\n",
       "      <th class=\"blank col3\" >&nbsp;</th>\n",
       "      <th class=\"blank col4\" >&nbsp;</th>\n",
       "      <th class=\"blank col5\" >&nbsp;</th>\n",
       "      <th class=\"blank col6\" >&nbsp;</th>\n",
       "    </tr>\n",
       "  </thead>\n",
       "  <tbody>\n",
       "    <tr>\n",
       "      <th id=\"T_ff119_level0_row0\" class=\"row_heading level0 row0\" >a1</th>\n",
       "      <td id=\"T_ff119_row0_col0\" class=\"data row0 col0\" >chatcmpl-756ZeJhW8dAUz4O3ewkvngOmb50Ln</td>\n",
       "      <td id=\"T_ff119_row0_col1\" class=\"data row0 col1\" >1681451266.000000</td>\n",
       "      <td id=\"T_ff119_row0_col2\" class=\"data row0 col2\" >gpt-3.5-turbo-0301</td>\n",
       "      <td id=\"T_ff119_row0_col3\" class=\"data row0 col3\" >66.000000</td>\n",
       "      <td id=\"T_ff119_row0_col4\" class=\"data row0 col4\" >[{'role': 'system', 'content': 'You are a software expert.Use. \"```python\" style for code blocks.Include the name for a file where I would store individual code for functions or classes.'}, {'role': 'user', 'content': 'Write python code for fibonacci sequence. also write a function to zero pad a string to 10 chars.'}]</td>\n",
       "      <td id=\"T_ff119_row0_col5\" class=\"data row0 col5\" >def&nbsp;fibonacci(n):<br>&nbsp;&nbsp;&nbsp;&nbsp;\"\"\"<br>&nbsp;&nbsp;&nbsp;&nbsp;This&nbsp;function&nbsp;generates&nbsp;Fibonacci&nbsp;sequence&nbsp;up&nbsp;to&nbsp;'n'&nbsp;numbers.<br>&nbsp;&nbsp;&nbsp;&nbsp;\"\"\"<br>&nbsp;&nbsp;&nbsp;&nbsp;a,&nbsp;b&nbsp;=&nbsp;0,&nbsp;1<br>&nbsp;&nbsp;&nbsp;&nbsp;while&nbsp;a&nbsp;<&nbsp;n:<br>&nbsp;&nbsp;&nbsp;&nbsp;&nbsp;&nbsp;&nbsp;&nbsp;print(a)<br>&nbsp;&nbsp;&nbsp;&nbsp;&nbsp;&nbsp;&nbsp;&nbsp;a,&nbsp;b&nbsp;=&nbsp;b,&nbsp;a+b<br>#Example<br>fibonacci(10)<br>def&nbsp;zero_pad(s):<br>&nbsp;&nbsp;&nbsp;&nbsp;\"\"\"<br>&nbsp;&nbsp;&nbsp;&nbsp;This&nbsp;function&nbsp;pads&nbsp;a&nbsp;string&nbsp;'s'&nbsp;with&nbsp;zeros&nbsp;<br>&nbsp;&nbsp;&nbsp;&nbsp;up&nbsp;to&nbsp;a&nbsp;length&nbsp;of&nbsp;10&nbsp;characters.<br>&nbsp;&nbsp;&nbsp;&nbsp;\"\"\"<br>&nbsp;&nbsp;&nbsp;&nbsp;return&nbsp;s.zfill(10)<br>#Example<br>from&nbsp;string_functions&nbsp;import&nbsp;zero_pad<br>my_string&nbsp;=&nbsp;\"42\"<br>print(zero_pad(my_string))<br></td>\n",
       "      <td id=\"T_ff119_row0_col6\" class=\"data row0 col6\" >Here is the python code for fibonacci sequence:\n",
       "\n",
       "```python\n",
       "def fibonacci(n):\n",
       "    \"\"\"\n",
       "    This function generates Fibonacci sequence up to 'n' numbers.\n",
       "    \"\"\"\n",
       "    a, b = 0, 1\n",
       "    while a < n:\n",
       "        print(a)\n",
       "        a, b = b, a+b\n",
       "```\n",
       "\n",
       "To use this function, simply call the 'fibonacci()`' function and pass the integer value of n.\n",
       "\n",
       "```python\n",
       "#Example\n",
       "fibonacci(10)\n",
       "```\n",
       "\n",
       "Output:\n",
       "```\n",
       "0\n",
       "1\n",
       "1\n",
       "2\n",
       "3\n",
       "5\n",
       "8\n",
       "```\n",
       "\n",
       "And, here is the function to zero pad a string to 10 characters in a separate file named `string_functions.py`.\n",
       "\n",
       "`string_functions.py`\n",
       "\n",
       "```python\n",
       "def zero_pad(s):\n",
       "    \"\"\"\n",
       "    This function pads a string 's' with zeros \n",
       "    up to a length of 10 characters.\n",
       "    \"\"\"\n",
       "    return s.zfill(10)\n",
       "```\n",
       "\n",
       "You can import and use the 'zero_pad()' function in any other file as below:\n",
       "\n",
       "```python\n",
       "#Example\n",
       "from string_functions import zero_pad\n",
       "my_string = \"42\"\n",
       "print(zero_pad(my_string))\n",
       "```\n",
       "\n",
       "Output:\n",
       "```\n",
       "0000000042\n",
       "```</td>\n",
       "    </tr>\n",
       "  </tbody>\n",
       "</table>\n"
      ],
      "text/plain": [
       "<pandas.io.formats.style.Styler at 0x7fb4fc467490>"
      ]
     },
     "execution_count": 10,
     "metadata": {},
     "output_type": "execute_result"
    }
   ],
   "source": [
    "# this is a PromptLogs object again. We'll add the response_parser to the logs\n",
    "logs.append(messages, response_parser)\n",
    "logs.styled_log"
   ]
  },
  {
   "attachments": {},
   "cell_type": "markdown",
   "metadata": {},
   "source": [
    "## And we have another exchange"
   ]
  },
  {
   "cell_type": "code",
   "execution_count": 11,
   "metadata": {},
   "outputs": [],
   "source": [
    "message_list = f\"\"\"\n",
    "system: {sys_prompt_string}\n",
    "user: Write a python function that returns numbers 1-10 in a list. \n",
    "\"\"\"\n",
    "\n",
    "message_parser = MessageParser(message_list)\n",
    "messages = message_parser.parse()\n",
    "response = openai.ChatCompletion.create(model='gpt-3.5-turbo', temperature=1.3, max_tokens=300, messages = messages)\n",
    "response_parser = ResponseParser(response=response)\n",
    "\n",
    "logs.append(messages, response_parser)"
   ]
  },
  {
   "cell_type": "code",
   "execution_count": 12,
   "metadata": {},
   "outputs": [
    {
     "data": {
      "text/html": [
       "<div>\n",
       "<style scoped>\n",
       "    .dataframe tbody tr th:only-of-type {\n",
       "        vertical-align: middle;\n",
       "    }\n",
       "\n",
       "    .dataframe tbody tr th {\n",
       "        vertical-align: top;\n",
       "    }\n",
       "\n",
       "    .dataframe thead th {\n",
       "        text-align: right;\n",
       "    }\n",
       "</style>\n",
       "<table border=\"1\" class=\"dataframe\">\n",
       "  <thead>\n",
       "    <tr style=\"text-align: right;\">\n",
       "      <th></th>\n",
       "      <th>id</th>\n",
       "      <th>created</th>\n",
       "      <th>model</th>\n",
       "      <th>usage</th>\n",
       "      <th>all_code</th>\n",
       "      <th>code_blocks</th>\n",
       "      <th>content</th>\n",
       "      <th>sid</th>\n",
       "      <th>prompts</th>\n",
       "    </tr>\n",
       "  </thead>\n",
       "  <tbody>\n",
       "    <tr>\n",
       "      <th>0</th>\n",
       "      <td>chatcmpl-756ZeJhW8dAUz4O3ewkvngOmb50Ln</td>\n",
       "      <td>1.681451e+09</td>\n",
       "      <td>gpt-3.5-turbo-0301</td>\n",
       "      <td>66.0</td>\n",
       "      <td>def&amp;nbsp;fibonacci(n):&lt;br&gt;&amp;nbsp;&amp;nbsp;&amp;nbsp;&amp;nbsp;\"\"\"&lt;br&gt;&amp;nbsp;&amp;nbsp;&amp;nbsp;&amp;nbsp;This&amp;nbsp;function&amp;nbsp;generates&amp;nbsp;Fibonacci&amp;nbsp;sequence&amp;nbsp;up&amp;nbsp;to&amp;nbsp;'n'&amp;nbsp;numbers.&lt;br&gt;&amp;nbsp;&amp;nbsp;&amp;nbsp;&amp;nbsp;\"\"\"&lt;br&gt;&amp;nbsp;&amp;nbsp;&amp;nbsp;&amp;nbsp;a,&amp;nbsp;b&amp;nbsp;=&amp;nbsp;0,&amp;nbsp;1&lt;br&gt;&amp;nbsp;&amp;nbsp;&amp;nbsp;&amp;nbsp;while&amp;nbsp;a&amp;nbsp;&lt;&amp;nbsp;n:&lt;br&gt;&amp;nbsp;&amp;nbsp;&amp;nbsp;&amp;nbsp;&amp;nbsp;&amp;nbsp;&amp;nbsp;&amp;nbsp;print(a)&lt;br&gt;&amp;nbsp;&amp;nbsp;&amp;nbsp;&amp;nbsp;&amp;nbsp;&amp;nbsp;&amp;nbsp;&amp;nbsp;a,&amp;nbsp;b&amp;nbsp;=&amp;nbsp;b,&amp;nbsp;a+b&lt;br&gt;#Example&lt;br&gt;fibonacci(10)&lt;br&gt;def&amp;nbsp;zero_pad(s):&lt;br&gt;&amp;nbsp;&amp;nbsp;&amp;nbsp;&amp;nbsp;\"\"\"&lt;br&gt;&amp;nbsp;&amp;nbsp;&amp;nbsp;&amp;nbsp;This&amp;nbsp;function&amp;nbsp;pads&amp;nbsp;a&amp;nbsp;string&amp;nbsp;'s'&amp;nbsp;with&amp;nbsp;zeros&amp;nbsp;&lt;br&gt;&amp;nbsp;&amp;nbsp;&amp;nbsp;&amp;nbsp;up&amp;nbsp;to&amp;nbsp;a&amp;nbsp;length&amp;nbsp;of&amp;nbsp;10&amp;nbsp;characters.&lt;br&gt;&amp;nbsp;&amp;nbsp;&amp;nbsp;&amp;nbsp;\"\"\"&lt;br&gt;&amp;nbsp;&amp;nbsp;&amp;nbsp;&amp;nbsp;return&amp;nbsp;s.zfill(10)&lt;br&gt;#Example&lt;br&gt;from&amp;nbsp;string_functions&amp;nbsp;import&amp;nbsp;zero_pad&lt;br&gt;my_string&amp;nbsp;=&amp;nbsp;\"42\"&lt;br&gt;print(zero_pad(my_string))&lt;br&gt;</td>\n",
       "      <td>[\\ndef fibonacci(n):\\n    \"\"\"\\n    This function generates Fibonacci sequence up to 'n' numbers.\\n    \"\"\"\\n    a, b = 0, 1\\n    while a &lt; n:\\n        print(a)\\n        a, b = b, a+b\\n, \\n#Example\\nfibonacci(10)\\n, \\ndef zero_pad(s):\\n    \"\"\"\\n    This function pads a string 's' with zeros \\n    up to a length of 10 characters.\\n    \"\"\"\\n    return s.zfill(10)\\n, \\n#Example\\nfrom string_functions import zero_pad\\nmy_string = \"42\"\\nprint(zero_pad(my_string))\\n]</td>\n",
       "      <td>Here is the python code for fibonacci sequence:\\n\\n```python\\ndef fibonacci(n):\\n    \"\"\"\\n    This function generates Fibonacci sequence up to 'n' numbers.\\n    \"\"\"\\n    a, b = 0, 1\\n    while a &lt; n:\\n        print(a)\\n        a, b = b, a+b\\n```\\n\\nTo use this function, simply call the 'fibonacci()`' function and pass the integer value of n.\\n\\n```python\\n#Example\\nfibonacci(10)\\n```\\n\\nOutput:\\n```\\n0\\n1\\n1\\n2\\n3\\n5\\n8\\n```\\n\\nAnd, here is the function to zero pad a string to 10 characters in a separate file named `string_functions.py`.\\n\\n`string_functions.py`\\n\\n```python\\ndef zero_pad(s):\\n    \"\"\"\\n    This function pads a string 's' with zeros \\n    up to a length of 10 characters.\\n    \"\"\"\\n    return s.zfill(10)\\n```\\n\\nYou can import and use the 'zero_pad()' function in any other file as below:\\n\\n```python\\n#Example\\nfrom string_functions import zero_pad\\nmy_string = \"42\"\\nprint(zero_pad(my_string))\\n```\\n\\nOutput:\\n```\\n0000000042\\n```</td>\n",
       "      <td>a1</td>\n",
       "      <td>[{'role': 'system', 'content': 'You are a software expert.Use. \"```python\" style for code blocks.Include the name for a file where I would store individual code for functions or classes.'}, {'role': 'user', 'content': 'Write python code for fibonacci sequence. also write a function to zero pad a string to 10 chars.'}]</td>\n",
       "    </tr>\n",
       "    <tr>\n",
       "      <th>0</th>\n",
       "      <td>chatcmpl-756ZpYdXzk1tFuhiXPIwt84HcY2Lx</td>\n",
       "      <td>1.681451e+09</td>\n",
       "      <td>gpt-3.5-turbo-0301</td>\n",
       "      <td>60.0</td>\n",
       "      <td>def&amp;nbsp;get_list_of_numbers():&lt;br&gt;&amp;nbsp;&amp;nbsp;&amp;nbsp;&amp;nbsp;numbers&amp;nbsp;=&amp;nbsp;list(range(1,11))&lt;br&gt;&amp;nbsp;&amp;nbsp;&amp;nbsp;&amp;nbsp;return&amp;nbsp;numbers&lt;br&gt;</td>\n",
       "      <td>[\\ndef get_list_of_numbers():\\n    numbers = list(range(1,11))\\n    return numbers\\n]</td>\n",
       "      <td>Below is the Python function that returns numbers 1-10 in a list:\\n\\n```python\\ndef get_list_of_numbers():\\n    numbers = list(range(1,11))\\n    return numbers\\n```\\nYou can save it in a file named `number_list.py` for future reuse. It can be later imported in any Python client file and run by simply invoking the `get_list_of_numbers()` function.</td>\n",
       "      <td>a2</td>\n",
       "      <td>[{'role': 'system', 'content': 'You are a software expert.Use. \"```python\" style for code blocks.Include the name for a file where I would store individual code for functions or classes.'}, {'role': 'user', 'content': 'Write a python function that returns numbers 1-10 in a list.'}]</td>\n",
       "    </tr>\n",
       "  </tbody>\n",
       "</table>\n",
       "</div>"
      ],
      "text/plain": [
       "                                       id       created               model  usage                                                                                                                                                                                                                                                                                                                                                                                                                                                                                                                                                                                                                                                                                                                                                                                                                                                                                                                                                                                                      all_code                                                                                                                                                                                                                                                                                                                                                                                                                                                                      code_blocks                                                                                                                                                                                                                                                                                                                                                                                                                                                                                                                                                                                                                                                                                                                                                                                                                                                                                                                                                                                          content sid                                                                                                                                                                                                                                                                                                                          prompts\n",
       "0  chatcmpl-756ZeJhW8dAUz4O3ewkvngOmb50Ln  1.681451e+09  gpt-3.5-turbo-0301   66.0  def&nbsp;fibonacci(n):<br>&nbsp;&nbsp;&nbsp;&nbsp;\"\"\"<br>&nbsp;&nbsp;&nbsp;&nbsp;This&nbsp;function&nbsp;generates&nbsp;Fibonacci&nbsp;sequence&nbsp;up&nbsp;to&nbsp;'n'&nbsp;numbers.<br>&nbsp;&nbsp;&nbsp;&nbsp;\"\"\"<br>&nbsp;&nbsp;&nbsp;&nbsp;a,&nbsp;b&nbsp;=&nbsp;0,&nbsp;1<br>&nbsp;&nbsp;&nbsp;&nbsp;while&nbsp;a&nbsp;<&nbsp;n:<br>&nbsp;&nbsp;&nbsp;&nbsp;&nbsp;&nbsp;&nbsp;&nbsp;print(a)<br>&nbsp;&nbsp;&nbsp;&nbsp;&nbsp;&nbsp;&nbsp;&nbsp;a,&nbsp;b&nbsp;=&nbsp;b,&nbsp;a+b<br>#Example<br>fibonacci(10)<br>def&nbsp;zero_pad(s):<br>&nbsp;&nbsp;&nbsp;&nbsp;\"\"\"<br>&nbsp;&nbsp;&nbsp;&nbsp;This&nbsp;function&nbsp;pads&nbsp;a&nbsp;string&nbsp;'s'&nbsp;with&nbsp;zeros&nbsp;<br>&nbsp;&nbsp;&nbsp;&nbsp;up&nbsp;to&nbsp;a&nbsp;length&nbsp;of&nbsp;10&nbsp;characters.<br>&nbsp;&nbsp;&nbsp;&nbsp;\"\"\"<br>&nbsp;&nbsp;&nbsp;&nbsp;return&nbsp;s.zfill(10)<br>#Example<br>from&nbsp;string_functions&nbsp;import&nbsp;zero_pad<br>my_string&nbsp;=&nbsp;\"42\"<br>print(zero_pad(my_string))<br>  [\\ndef fibonacci(n):\\n    \"\"\"\\n    This function generates Fibonacci sequence up to 'n' numbers.\\n    \"\"\"\\n    a, b = 0, 1\\n    while a < n:\\n        print(a)\\n        a, b = b, a+b\\n, \\n#Example\\nfibonacci(10)\\n, \\ndef zero_pad(s):\\n    \"\"\"\\n    This function pads a string 's' with zeros \\n    up to a length of 10 characters.\\n    \"\"\"\\n    return s.zfill(10)\\n, \\n#Example\\nfrom string_functions import zero_pad\\nmy_string = \"42\"\\nprint(zero_pad(my_string))\\n]  Here is the python code for fibonacci sequence:\\n\\n```python\\ndef fibonacci(n):\\n    \"\"\"\\n    This function generates Fibonacci sequence up to 'n' numbers.\\n    \"\"\"\\n    a, b = 0, 1\\n    while a < n:\\n        print(a)\\n        a, b = b, a+b\\n```\\n\\nTo use this function, simply call the 'fibonacci()`' function and pass the integer value of n.\\n\\n```python\\n#Example\\nfibonacci(10)\\n```\\n\\nOutput:\\n```\\n0\\n1\\n1\\n2\\n3\\n5\\n8\\n```\\n\\nAnd, here is the function to zero pad a string to 10 characters in a separate file named `string_functions.py`.\\n\\n`string_functions.py`\\n\\n```python\\ndef zero_pad(s):\\n    \"\"\"\\n    This function pads a string 's' with zeros \\n    up to a length of 10 characters.\\n    \"\"\"\\n    return s.zfill(10)\\n```\\n\\nYou can import and use the 'zero_pad()' function in any other file as below:\\n\\n```python\\n#Example\\nfrom string_functions import zero_pad\\nmy_string = \"42\"\\nprint(zero_pad(my_string))\\n```\\n\\nOutput:\\n```\\n0000000042\\n```  a1  [{'role': 'system', 'content': 'You are a software expert.Use. \"```python\" style for code blocks.Include the name for a file where I would store individual code for functions or classes.'}, {'role': 'user', 'content': 'Write python code for fibonacci sequence. also write a function to zero pad a string to 10 chars.'}]\n",
       "0  chatcmpl-756ZpYdXzk1tFuhiXPIwt84HcY2Lx  1.681451e+09  gpt-3.5-turbo-0301   60.0                                                                                                                                                                                                                                                                                                                                                                                                                                                                                                                                                                                                                                                                                                                                                                                                                                                           def&nbsp;get_list_of_numbers():<br>&nbsp;&nbsp;&nbsp;&nbsp;numbers&nbsp;=&nbsp;list(range(1,11))<br>&nbsp;&nbsp;&nbsp;&nbsp;return&nbsp;numbers<br>                                                                                                                                                                                                                                                                                                                                                                                            [\\ndef get_list_of_numbers():\\n    numbers = list(range(1,11))\\n    return numbers\\n]                                                                                                                                                                                                                                                                                                                                                                                                                                                                                                                                                                                                                                     Below is the Python function that returns numbers 1-10 in a list:\\n\\n```python\\ndef get_list_of_numbers():\\n    numbers = list(range(1,11))\\n    return numbers\\n```\\nYou can save it in a file named `number_list.py` for future reuse. It can be later imported in any Python client file and run by simply invoking the `get_list_of_numbers()` function.  a2                                       [{'role': 'system', 'content': 'You are a software expert.Use. \"```python\" style for code blocks.Include the name for a file where I would store individual code for functions or classes.'}, {'role': 'user', 'content': 'Write a python function that returns numbers 1-10 in a list.'}]"
      ]
     },
     "execution_count": 12,
     "metadata": {},
     "output_type": "execute_result"
    }
   ],
   "source": [
    "logs.df"
   ]
  },
  {
   "attachments": {},
   "cell_type": "markdown",
   "metadata": {},
   "source": [
    "### And print the styled logs with the code from two separate prompt exchanges"
   ]
  },
  {
   "cell_type": "code",
   "execution_count": 13,
   "metadata": {},
   "outputs": [
    {
     "data": {
      "text/html": [
       "<style type=\"text/css\">\n",
       "#T_d4084_row0_col0, #T_d4084_row0_col1, #T_d4084_row0_col2, #T_d4084_row0_col3, #T_d4084_row0_col4, #T_d4084_row0_col5, #T_d4084_row0_col6, #T_d4084_row1_col0, #T_d4084_row1_col1, #T_d4084_row1_col2, #T_d4084_row1_col3, #T_d4084_row1_col4, #T_d4084_row1_col5, #T_d4084_row1_col6 {\n",
       "  text-align: left;\n",
       "}\n",
       "</style>\n",
       "<table id=\"T_d4084\">\n",
       "  <thead>\n",
       "    <tr>\n",
       "      <th class=\"blank level0\" >&nbsp;</th>\n",
       "      <th id=\"T_d4084_level0_col0\" class=\"col_heading level0 col0\" >id</th>\n",
       "      <th id=\"T_d4084_level0_col1\" class=\"col_heading level0 col1\" >created</th>\n",
       "      <th id=\"T_d4084_level0_col2\" class=\"col_heading level0 col2\" >model</th>\n",
       "      <th id=\"T_d4084_level0_col3\" class=\"col_heading level0 col3\" >usage</th>\n",
       "      <th id=\"T_d4084_level0_col4\" class=\"col_heading level0 col4\" >prompts</th>\n",
       "      <th id=\"T_d4084_level0_col5\" class=\"col_heading level0 col5\" >all_code</th>\n",
       "      <th id=\"T_d4084_level0_col6\" class=\"col_heading level0 col6\" >content</th>\n",
       "    </tr>\n",
       "    <tr>\n",
       "      <th class=\"index_name level0\" >sid</th>\n",
       "      <th class=\"blank col0\" >&nbsp;</th>\n",
       "      <th class=\"blank col1\" >&nbsp;</th>\n",
       "      <th class=\"blank col2\" >&nbsp;</th>\n",
       "      <th class=\"blank col3\" >&nbsp;</th>\n",
       "      <th class=\"blank col4\" >&nbsp;</th>\n",
       "      <th class=\"blank col5\" >&nbsp;</th>\n",
       "      <th class=\"blank col6\" >&nbsp;</th>\n",
       "    </tr>\n",
       "  </thead>\n",
       "  <tbody>\n",
       "    <tr>\n",
       "      <th id=\"T_d4084_level0_row0\" class=\"row_heading level0 row0\" >a1</th>\n",
       "      <td id=\"T_d4084_row0_col0\" class=\"data row0 col0\" >chatcmpl-756ZeJhW8dAUz4O3ewkvngOmb50Ln</td>\n",
       "      <td id=\"T_d4084_row0_col1\" class=\"data row0 col1\" >1681451266.000000</td>\n",
       "      <td id=\"T_d4084_row0_col2\" class=\"data row0 col2\" >gpt-3.5-turbo-0301</td>\n",
       "      <td id=\"T_d4084_row0_col3\" class=\"data row0 col3\" >66.000000</td>\n",
       "      <td id=\"T_d4084_row0_col4\" class=\"data row0 col4\" >[{'role': 'system', 'content': 'You are a software expert.Use. \"```python\" style for code blocks.Include the name for a file where I would store individual code for functions or classes.'}, {'role': 'user', 'content': 'Write python code for fibonacci sequence. also write a function to zero pad a string to 10 chars.'}]</td>\n",
       "      <td id=\"T_d4084_row0_col5\" class=\"data row0 col5\" >def&nbsp;fibonacci(n):<br>&nbsp;&nbsp;&nbsp;&nbsp;\"\"\"<br>&nbsp;&nbsp;&nbsp;&nbsp;This&nbsp;function&nbsp;generates&nbsp;Fibonacci&nbsp;sequence&nbsp;up&nbsp;to&nbsp;'n'&nbsp;numbers.<br>&nbsp;&nbsp;&nbsp;&nbsp;\"\"\"<br>&nbsp;&nbsp;&nbsp;&nbsp;a,&nbsp;b&nbsp;=&nbsp;0,&nbsp;1<br>&nbsp;&nbsp;&nbsp;&nbsp;while&nbsp;a&nbsp;<&nbsp;n:<br>&nbsp;&nbsp;&nbsp;&nbsp;&nbsp;&nbsp;&nbsp;&nbsp;print(a)<br>&nbsp;&nbsp;&nbsp;&nbsp;&nbsp;&nbsp;&nbsp;&nbsp;a,&nbsp;b&nbsp;=&nbsp;b,&nbsp;a+b<br>#Example<br>fibonacci(10)<br>def&nbsp;zero_pad(s):<br>&nbsp;&nbsp;&nbsp;&nbsp;\"\"\"<br>&nbsp;&nbsp;&nbsp;&nbsp;This&nbsp;function&nbsp;pads&nbsp;a&nbsp;string&nbsp;'s'&nbsp;with&nbsp;zeros&nbsp;<br>&nbsp;&nbsp;&nbsp;&nbsp;up&nbsp;to&nbsp;a&nbsp;length&nbsp;of&nbsp;10&nbsp;characters.<br>&nbsp;&nbsp;&nbsp;&nbsp;\"\"\"<br>&nbsp;&nbsp;&nbsp;&nbsp;return&nbsp;s.zfill(10)<br>#Example<br>from&nbsp;string_functions&nbsp;import&nbsp;zero_pad<br>my_string&nbsp;=&nbsp;\"42\"<br>print(zero_pad(my_string))<br></td>\n",
       "      <td id=\"T_d4084_row0_col6\" class=\"data row0 col6\" >Here is the python code for fibonacci sequence:\n",
       "\n",
       "```python\n",
       "def fibonacci(n):\n",
       "    \"\"\"\n",
       "    This function generates Fibonacci sequence up to 'n' numbers.\n",
       "    \"\"\"\n",
       "    a, b = 0, 1\n",
       "    while a < n:\n",
       "        print(a)\n",
       "        a, b = b, a+b\n",
       "```\n",
       "\n",
       "To use this function, simply call the 'fibonacci()`' function and pass the integer value of n.\n",
       "\n",
       "```python\n",
       "#Example\n",
       "fibonacci(10)\n",
       "```\n",
       "\n",
       "Output:\n",
       "```\n",
       "0\n",
       "1\n",
       "1\n",
       "2\n",
       "3\n",
       "5\n",
       "8\n",
       "```\n",
       "\n",
       "And, here is the function to zero pad a string to 10 characters in a separate file named `string_functions.py`.\n",
       "\n",
       "`string_functions.py`\n",
       "\n",
       "```python\n",
       "def zero_pad(s):\n",
       "    \"\"\"\n",
       "    This function pads a string 's' with zeros \n",
       "    up to a length of 10 characters.\n",
       "    \"\"\"\n",
       "    return s.zfill(10)\n",
       "```\n",
       "\n",
       "You can import and use the 'zero_pad()' function in any other file as below:\n",
       "\n",
       "```python\n",
       "#Example\n",
       "from string_functions import zero_pad\n",
       "my_string = \"42\"\n",
       "print(zero_pad(my_string))\n",
       "```\n",
       "\n",
       "Output:\n",
       "```\n",
       "0000000042\n",
       "```</td>\n",
       "    </tr>\n",
       "    <tr>\n",
       "      <th id=\"T_d4084_level0_row1\" class=\"row_heading level0 row1\" >a2</th>\n",
       "      <td id=\"T_d4084_row1_col0\" class=\"data row1 col0\" >chatcmpl-756ZpYdXzk1tFuhiXPIwt84HcY2Lx</td>\n",
       "      <td id=\"T_d4084_row1_col1\" class=\"data row1 col1\" >1681451277.000000</td>\n",
       "      <td id=\"T_d4084_row1_col2\" class=\"data row1 col2\" >gpt-3.5-turbo-0301</td>\n",
       "      <td id=\"T_d4084_row1_col3\" class=\"data row1 col3\" >60.000000</td>\n",
       "      <td id=\"T_d4084_row1_col4\" class=\"data row1 col4\" >[{'role': 'system', 'content': 'You are a software expert.Use. \"```python\" style for code blocks.Include the name for a file where I would store individual code for functions or classes.'}, {'role': 'user', 'content': 'Write a python function that returns numbers 1-10 in a list.'}]</td>\n",
       "      <td id=\"T_d4084_row1_col5\" class=\"data row1 col5\" >def&nbsp;get_list_of_numbers():<br>&nbsp;&nbsp;&nbsp;&nbsp;numbers&nbsp;=&nbsp;list(range(1,11))<br>&nbsp;&nbsp;&nbsp;&nbsp;return&nbsp;numbers<br></td>\n",
       "      <td id=\"T_d4084_row1_col6\" class=\"data row1 col6\" >Below is the Python function that returns numbers 1-10 in a list:\n",
       "\n",
       "```python\n",
       "def get_list_of_numbers():\n",
       "    numbers = list(range(1,11))\n",
       "    return numbers\n",
       "```\n",
       "You can save it in a file named `number_list.py` for future reuse. It can be later imported in any Python client file and run by simply invoking the `get_list_of_numbers()` function.</td>\n",
       "    </tr>\n",
       "  </tbody>\n",
       "</table>\n"
      ],
      "text/plain": [
       "<pandas.io.formats.style.Styler at 0x7fb4fc323190>"
      ]
     },
     "execution_count": 13,
     "metadata": {},
     "output_type": "execute_result"
    }
   ],
   "source": [
    "logs.styled_log"
   ]
  }
 ],
 "metadata": {
  "kernelspec": {
   "display_name": "base",
   "language": "python",
   "name": "python3"
  },
  "language_info": {
   "codemirror_mode": {
    "name": "ipython",
    "version": 3
   },
   "file_extension": ".py",
   "mimetype": "text/x-python",
   "name": "python",
   "nbconvert_exporter": "python",
   "pygments_lexer": "ipython3",
   "version": "3.11.3"
  },
  "orig_nbformat": 4,
  "vscode": {
   "interpreter": {
    "hash": "23b8fda9da3a2a104a5aa7aa75e01582a86c23885ba37bc31bb5dabaa9da29ce"
   }
  }
 },
 "nbformat": 4,
 "nbformat_minor": 2
}
