{
 "cells": [
  {
   "cell_type": "code",
   "execution_count": 25,
   "metadata": {},
   "outputs": [
    {
     "data": {
      "text/html": [
       "<style>\n",
       "    /* Enable word wrap */\n",
       "    .rendered_html table, .rendered_html th, .rendered_html tr, .rendered_html td {\n",
       "      white-space: nowrap;\n",
       "      overflow: hidden;\n",
       "      text-overflow: ellipsis;\n",
       "    }\n",
       "</style>\n"
      ],
      "text/plain": [
       "<IPython.core.display.HTML object>"
      ]
     },
     "metadata": {},
     "output_type": "display_data"
    }
   ],
   "source": [
    "%%html\n",
    "<style>\n",
    "    /* Enable word wrap */\n",
    "    .rendered_html table, .rendered_html th, .rendered_html tr, .rendered_html td {\n",
    "      white-space: nowrap;\n",
    "      overflow: hidden;\n",
    "      text-overflow: ellipsis;\n",
    "    }\n",
    "</style>"
   ]
  },
  {
   "cell_type": "code",
   "execution_count": 26,
   "metadata": {},
   "outputs": [],
   "source": [
    "import openai\n",
    "import os\n",
    "import pprint\n",
    "import sys\n",
    "from pprint import pprint\n",
    "import json\n",
    "import pyarrow as pa\n",
    "import pandas as pd\n",
    "\n",
    "lib = os.path.abspath(os.path.join('..', '..', 'libs'))\n",
    "sys.path.append(lib)\n",
    "\n",
    "from MessageParser import MessageParser\n",
    "from OpenAIResponseParser import OpenAIResponseParser\n"
   ]
  },
  {
   "cell_type": "code",
   "execution_count": 27,
   "metadata": {},
   "outputs": [],
   "source": [
    "pd.set_option('display.max_columns', None)  # Display all columns\n",
    "pd.set_option('display.expand_frame_repr', False)  # Prevent line break in DataFrame\n",
    "pd.set_option('display.max_colwidth', None)  # Display the full content of cells"
   ]
  },
  {
   "cell_type": "code",
   "execution_count": 28,
   "metadata": {},
   "outputs": [],
   "source": [
    "# Set the API key\n",
    "openai.api_key = os.getenv(\"OPENAI_API_KEY\")\n",
    "\n",
    "text = \"\"\"\n",
    "system: You are  a software expert. Use. \"```python\" style for code blocks.\n",
    "user: write python code for fibonacci sequence\n",
    "\"\"\"\n",
    "\n",
    "parser = MessageParser(text)\n",
    "messages = parser.parse_messages()\n",
    "\n",
    "# Get the answer\n",
    "response = openai.ChatCompletion.create(model='gpt-3.5-turbo', temperature=1.3, max_tokens=3000, messages = messages)\n",
    "# print(response)\n"
   ]
  },
  {
   "cell_type": "code",
   "execution_count": 29,
   "metadata": {},
   "outputs": [],
   "source": [
    "parser = OpenAIResponseParser(response=response)"
   ]
  },
  {
   "cell_type": "code",
   "execution_count": 30,
   "metadata": {},
   "outputs": [
    {
     "data": {
      "text/html": [
       "<div>\n",
       "<style scoped>\n",
       "    .dataframe tbody tr th:only-of-type {\n",
       "        vertical-align: middle;\n",
       "    }\n",
       "\n",
       "    .dataframe tbody tr th {\n",
       "        vertical-align: top;\n",
       "    }\n",
       "\n",
       "    .dataframe thead th {\n",
       "        text-align: right;\n",
       "    }\n",
       "</style>\n",
       "<table border=\"1\" class=\"dataframe\">\n",
       "  <thead>\n",
       "    <tr style=\"text-align: right;\">\n",
       "      <th></th>\n",
       "      <th>id</th>\n",
       "      <th>created</th>\n",
       "      <th>model</th>\n",
       "      <th>usage</th>\n",
       "      <th>all_code</th>\n",
       "      <th>code_blocks</th>\n",
       "      <th>content</th>\n",
       "    </tr>\n",
       "  </thead>\n",
       "  <tbody>\n",
       "    <tr>\n",
       "      <th>0</th>\n",
       "      <td>chatcmpl-73Ve9r0ZIczByzAFGBn7YGQTaPnZL</td>\n",
       "      <td>1.681071e+09</td>\n",
       "      <td>gpt-3.5-turbo-0301</td>\n",
       "      <td>37.0</td>\n",
       "      <td>n = int(input(\"How many terms of the Fibonacci Sequence would you like? \"))\\n\\n# initialize variables\\ni,j = 0,1 \\n\\n# keep track of how many terms we've generated\\ncount = 0\\n\\n# make sure user entered a positive integer\\nif n &lt;= 0:\\n   print(\"Please enter a positive integer.\")\\nelif n == 1:\\n   print(\"Fibonacci sequence up to\",n,\"term:\")\\n   print(i)\\nelse:\\n   print(\"Fibonacci sequence up to\",n,\"terms:\")\\n   while count &lt; n:\\n       print(i)\\n       next_term = i + j\\n       # move variables to prepare for next iteration\\n       i = j\\n       j = next_term\\n       count += 1\\n</td>\n",
       "      <td>[\\nn = int(input(\"How many terms of the Fibonacci Sequence would you like? \"))\\n\\n# initialize variables\\ni,j = 0,1 \\n\\n# keep track of how many terms we've generated\\ncount = 0\\n\\n# make sure user entered a positive integer\\nif n &lt;= 0:\\n   print(\"Please enter a positive integer.\")\\nelif n == 1:\\n   print(\"Fibonacci sequence up to\",n,\"term:\")\\n   print(i)\\nelse:\\n   print(\"Fibonacci sequence up to\",n,\"terms:\")\\n   while count &lt; n:\\n       print(i)\\n       next_term = i + j\\n       # move variables to prepare for next iteration\\n       i = j\\n       j = next_term\\n       count += 1\\n]</td>\n",
       "      <td>Sure, here's a Python code that will generate the Fibonacci sequence up to a specified number of terms:\\n\\n```python\\nn = int(input(\"How many terms of the Fibonacci Sequence would you like? \"))\\n\\n# initialize variables\\ni,j = 0,1 \\n\\n# keep track of how many terms we've generated\\ncount = 0\\n\\n# make sure user entered a positive integer\\nif n &lt;= 0:\\n   print(\"Please enter a positive integer.\")\\nelif n == 1:\\n   print(\"Fibonacci sequence up to\",n,\"term:\")\\n   print(i)\\nelse:\\n   print(\"Fibonacci sequence up to\",n,\"terms:\")\\n   while count &lt; n:\\n       print(i)\\n       next_term = i + j\\n       # move variables to prepare for next iteration\\n       i = j\\n       j = next_term\\n       count += 1\\n```\\n\\nThis code prompts the user to enter a positive integer, then prints the Fibonacci sequence up to the specified number of terms.</td>\n",
       "    </tr>\n",
       "  </tbody>\n",
       "</table>\n",
       "</div>"
      ],
      "text/plain": [
       "                                       id       created               model  usage                                                                                                                                                                                                                                                                                                                                                                                                                                                                                                                                                                                                    all_code                                                                                                                                                                                                                                                                                                                                                                                                                                                                                                                                                                                                     code_blocks                                                                                                                                                                                                                                                                                                                                                                                                                                                                                                                                                                                                                                                                                                                                                                                                                                                                 content\n",
       "0  chatcmpl-73Ve9r0ZIczByzAFGBn7YGQTaPnZL  1.681071e+09  gpt-3.5-turbo-0301   37.0  n = int(input(\"How many terms of the Fibonacci Sequence would you like? \"))\\n\\n# initialize variables\\ni,j = 0,1 \\n\\n# keep track of how many terms we've generated\\ncount = 0\\n\\n# make sure user entered a positive integer\\nif n <= 0:\\n   print(\"Please enter a positive integer.\")\\nelif n == 1:\\n   print(\"Fibonacci sequence up to\",n,\"term:\")\\n   print(i)\\nelse:\\n   print(\"Fibonacci sequence up to\",n,\"terms:\")\\n   while count < n:\\n       print(i)\\n       next_term = i + j\\n       # move variables to prepare for next iteration\\n       i = j\\n       j = next_term\\n       count += 1\\n  [\\nn = int(input(\"How many terms of the Fibonacci Sequence would you like? \"))\\n\\n# initialize variables\\ni,j = 0,1 \\n\\n# keep track of how many terms we've generated\\ncount = 0\\n\\n# make sure user entered a positive integer\\nif n <= 0:\\n   print(\"Please enter a positive integer.\")\\nelif n == 1:\\n   print(\"Fibonacci sequence up to\",n,\"term:\")\\n   print(i)\\nelse:\\n   print(\"Fibonacci sequence up to\",n,\"terms:\")\\n   while count < n:\\n       print(i)\\n       next_term = i + j\\n       # move variables to prepare for next iteration\\n       i = j\\n       j = next_term\\n       count += 1\\n]  Sure, here's a Python code that will generate the Fibonacci sequence up to a specified number of terms:\\n\\n```python\\nn = int(input(\"How many terms of the Fibonacci Sequence would you like? \"))\\n\\n# initialize variables\\ni,j = 0,1 \\n\\n# keep track of how many terms we've generated\\ncount = 0\\n\\n# make sure user entered a positive integer\\nif n <= 0:\\n   print(\"Please enter a positive integer.\")\\nelif n == 1:\\n   print(\"Fibonacci sequence up to\",n,\"term:\")\\n   print(i)\\nelse:\\n   print(\"Fibonacci sequence up to\",n,\"terms:\")\\n   while count < n:\\n       print(i)\\n       next_term = i + j\\n       # move variables to prepare for next iteration\\n       i = j\\n       j = next_term\\n       count += 1\\n```\\n\\nThis code prompts the user to enter a positive integer, then prints the Fibonacci sequence up to the specified number of terms."
      ]
     },
     "execution_count": 30,
     "metadata": {},
     "output_type": "execute_result"
    }
   ],
   "source": [
    "messages_df = parser.get_dataframe()\n",
    "messages_df"
   ]
  },
  {
   "cell_type": "code",
   "execution_count": 34,
   "metadata": {},
   "outputs": [
    {
     "data": {
      "text/html": [
       "<style type=\"text/css\">\n",
       "#T_e6638_row0_col0, #T_e6638_row0_col1, #T_e6638_row0_col2, #T_e6638_row0_col3, #T_e6638_row0_col4, #T_e6638_row0_col5, #T_e6638_row0_col6 {\n",
       "  text-align: left;\n",
       "}\n",
       "</style>\n",
       "<table id=\"T_e6638\">\n",
       "  <thead>\n",
       "    <tr>\n",
       "      <th class=\"blank level0\" >&nbsp;</th>\n",
       "      <th id=\"T_e6638_level0_col0\" class=\"col_heading level0 col0\" >id</th>\n",
       "      <th id=\"T_e6638_level0_col1\" class=\"col_heading level0 col1\" >created</th>\n",
       "      <th id=\"T_e6638_level0_col2\" class=\"col_heading level0 col2\" >model</th>\n",
       "      <th id=\"T_e6638_level0_col3\" class=\"col_heading level0 col3\" >usage</th>\n",
       "      <th id=\"T_e6638_level0_col4\" class=\"col_heading level0 col4\" >all_code</th>\n",
       "      <th id=\"T_e6638_level0_col5\" class=\"col_heading level0 col5\" >code_blocks</th>\n",
       "      <th id=\"T_e6638_level0_col6\" class=\"col_heading level0 col6\" >content</th>\n",
       "    </tr>\n",
       "  </thead>\n",
       "  <tbody>\n",
       "    <tr>\n",
       "      <th id=\"T_e6638_level0_row0\" class=\"row_heading level0 row0\" >0</th>\n",
       "      <td id=\"T_e6638_row0_col0\" class=\"data row0 col0\" >chatcmpl-73Ve9r0ZIczByzAFGBn7YGQTaPnZL</td>\n",
       "      <td id=\"T_e6638_row0_col1\" class=\"data row0 col1\" >1681070989.000000</td>\n",
       "      <td id=\"T_e6638_row0_col2\" class=\"data row0 col2\" >gpt-3.5-turbo-0301</td>\n",
       "      <td id=\"T_e6638_row0_col3\" class=\"data row0 col3\" >37.000000</td>\n",
       "      <td id=\"T_e6638_row0_col4\" class=\"data row0 col4\" >n = int(input(\"How many terms of the Fibonacci Sequence would you like? \"))\n",
       "\n",
       "# initialize variables\n",
       "i,j = 0,1 \n",
       "\n",
       "# keep track of how many terms we've generated\n",
       "count = 0\n",
       "\n",
       "# make sure user entered a positive integer\n",
       "if n <= 0:\n",
       "   print(\"Please enter a positive integer.\")\n",
       "elif n == 1:\n",
       "   print(\"Fibonacci sequence up to\",n,\"term:\")\n",
       "   print(i)\n",
       "else:\n",
       "   print(\"Fibonacci sequence up to\",n,\"terms:\")\n",
       "   while count < n:\n",
       "       print(i)\n",
       "       next_term = i + j\n",
       "       # move variables to prepare for next iteration\n",
       "       i = j\n",
       "       j = next_term\n",
       "       count += 1\n",
       "</td>\n",
       "      <td id=\"T_e6638_row0_col5\" class=\"data row0 col5\" >['\\nn = int(input(\"How many terms of the Fibonacci Sequence would you like? \"))\\n\\n# initialize variables\\ni,j = 0,1 \\n\\n# keep track of how many terms we\\'ve generated\\ncount = 0\\n\\n# make sure user entered a positive integer\\nif n <= 0:\\n   print(\"Please enter a positive integer.\")\\nelif n == 1:\\n   print(\"Fibonacci sequence up to\",n,\"term:\")\\n   print(i)\\nelse:\\n   print(\"Fibonacci sequence up to\",n,\"terms:\")\\n   while count < n:\\n       print(i)\\n       next_term = i + j\\n       # move variables to prepare for next iteration\\n       i = j\\n       j = next_term\\n       count += 1\\n']</td>\n",
       "      <td id=\"T_e6638_row0_col6\" class=\"data row0 col6\" >Sure, here's a Python code that will generate the Fibonacci sequence up to a specified number of terms:\n",
       "\n",
       "```python\n",
       "n = int(input(\"How many terms of the Fibonacci Sequence would you like? \"))\n",
       "\n",
       "# initialize variables\n",
       "i,j = 0,1 \n",
       "\n",
       "# keep track of how many terms we've generated\n",
       "count = 0\n",
       "\n",
       "# make sure user entered a positive integer\n",
       "if n <= 0:\n",
       "   print(\"Please enter a positive integer.\")\n",
       "elif n == 1:\n",
       "   print(\"Fibonacci sequence up to\",n,\"term:\")\n",
       "   print(i)\n",
       "else:\n",
       "   print(\"Fibonacci sequence up to\",n,\"terms:\")\n",
       "   while count < n:\n",
       "       print(i)\n",
       "       next_term = i + j\n",
       "       # move variables to prepare for next iteration\n",
       "       i = j\n",
       "       j = next_term\n",
       "       count += 1\n",
       "```\n",
       "\n",
       "This code prompts the user to enter a positive integer, then prints the Fibonacci sequence up to the specified number of terms.</td>\n",
       "    </tr>\n",
       "  </tbody>\n",
       "</table>\n"
      ],
      "text/plain": [
       "<pandas.io.formats.style.Styler at 0x7f437f61f790>"
      ]
     },
     "execution_count": 34,
     "metadata": {},
     "output_type": "execute_result"
    }
   ],
   "source": [
    "style = parser.style\n",
    "style"
   ]
  },
  {
   "cell_type": "code",
   "execution_count": 31,
   "metadata": {},
   "outputs": [],
   "source": [
    "# function to "
   ]
  },
  {
   "cell_type": "code",
   "execution_count": 32,
   "metadata": {},
   "outputs": [],
   "source": [
    "# import openai\n",
    "\n",
    "# image_resp = openai.Image.create(prompt=\"blonde woman, wearing pink blouse, wind blowing\", n=4, size=\"512x512\")\n",
    "# image_resp\n",
    "\n",
    "# # function to save the image in the image_resp object\n",
    "\n",
    "# import datetime\n",
    "# import arrow\n",
    "\n",
    "# # iterate and enumerate through the images\n",
    "# for i, dict in enumerate(image_resp['data']):\n",
    "#     url = (dict['url'])\n",
    "\n",
    "#     # get current date and time as a string, using arrow library\n",
    "#     now = arrow.now().format('YYYY-MM-DD-HH-mm-ss')\n",
    "    \n",
    "#     # assign a name to the image\n",
    "#     name = \"image_\" + now + \".png\"\n",
    "\n",
    "#     # save the image\n",
    "#     with open(name, 'wb') as f:\n",
    "#         f.write(requests.get(url).content)"
   ]
  }
 ],
 "metadata": {
  "kernelspec": {
   "display_name": "aqpe",
   "language": "python",
   "name": "python3"
  },
  "language_info": {
   "codemirror_mode": {
    "name": "ipython",
    "version": 3
   },
   "file_extension": ".py",
   "mimetype": "text/x-python",
   "name": "python",
   "nbconvert_exporter": "python",
   "pygments_lexer": "ipython3",
   "version": "3.11.3"
  },
  "orig_nbformat": 4
 },
 "nbformat": 4,
 "nbformat_minor": 2
}
