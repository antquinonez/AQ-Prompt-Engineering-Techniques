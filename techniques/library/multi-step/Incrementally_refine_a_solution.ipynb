{
 "cells": [
  {
   "attachments": {},
   "cell_type": "markdown",
   "metadata": {},
   "source": [
    "# Incrementally refine a solution"
   ]
  },
  {
   "attachments": {},
   "cell_type": "markdown",
   "metadata": {},
   "source": [
    "This solution involved an iterative refinement of a solution to update BigQuery from an Airtable table. Airtable is a great and simple tool for capturing data and building data-driven solutions. BigQuery is a serverless data warehouse. I worked with these tools a lot in a previous role."
   ]
  },
  {
   "cell_type": "markdown",
   "metadata": {},
   "source": [
    "## ChatGPT Ask"
   ]
  },
  {
   "attachments": {},
   "cell_type": "markdown",
   "metadata": {},
   "source": [
    "Create a python program to update a bigquery table from aan Airtable table when values in Airtable are different from values in bigquery for a record."
   ]
  },
  {
   "cell_type": "code",
   "execution_count": null,
   "metadata": {},
   "outputs": [],
   "source": [
    "import airtable\n",
    "from google.cloud import bigquery\n",
    "\n",
    "# Set up Airtable credentials\n",
    "AIRTABLE_API_KEY = 'your_airtable_api_key'\n",
    "AIRTABLE_BASE_KEY = 'your_airtable_base_key'\n",
    "AIRTABLE_TABLE_NAME = 'your_airtable_table_name'\n",
    "\n",
    "# Set up BigQuery credentials\n",
    "BQ_PROJECT_ID = 'your_bigquery_project_id'\n",
    "BQ_DATASET_ID = 'your_bigquery_dataset_id'\n",
    "BQ_TABLE_ID = 'your_bigquery_table_id'\n",
    "\n",
    "# Set up Airtable client\n",
    "airtable_client = airtable.Airtable(AIRTABLE_BASE_KEY, AIRTABLE_TABLE_NAME, AIRTABLE_API_KEY)\n",
    "\n",
    "# Set up BigQuery client\n",
    "bigquery_client = bigquery.Client()\n",
    "\n",
    "# Retrieve data from Airtable\n",
    "airtable_data = airtable_client.get_all()\n",
    "\n",
    "# Retrieve data from BigQuery\n",
    "bq_table = bigquery_client.get_table(f'{BQ_PROJECT_ID}.{BQ_DATASET_ID}.{BQ_TABLE_ID}')\n",
    "bq_data = bigquery_client.list_rows(bq_table).to_dataframe()\n",
    "\n",
    "# Find records that need to be updated in BigQuery\n",
    "records_to_update = []\n",
    "for airtable_record in airtable_data:\n",
    "    airtable_record_id = airtable_record['id']\n",
    "    for bq_index, bq_record in bq_data.iterrows():\n",
    "        bq_record_id = bq_record['id']\n",
    "        if airtable_record_id == bq_record_id:\n",
    "            for airtable_field, airtable_value in airtable_record['fields'].items():\n",
    "                bq_value = bq_record[airtable_field]\n",
    "                if airtable_value != bq_value:\n",
    "                    records_to_update.append({'id': bq_record_id, airtable_field: airtable_value})\n",
    "\n",
    "# Update records in BigQuery\n",
    "if len(records_to_update) > 0:\n",
    "    rows_to_update = [bigquery_client.update_row(bq_table, record['id'], record) for record in records_to_update]\n",
    "    print(f'Updated {len(rows_to_update)} rows in BigQuery.')\n",
    "else:\n",
    "    print('No rows need to be updated in BigQuery.')\n"
   ]
  },
  {
   "cell_type": "markdown",
   "metadata": {},
   "source": [
    "## ChatGPT Ask"
   ]
  },
  {
   "attachments": {},
   "cell_type": "markdown",
   "metadata": {},
   "source": [
    "use functions for the last request"
   ]
  },
  {
   "cell_type": "code",
   "execution_count": null,
   "metadata": {},
   "outputs": [],
   "source": [
    "import airtable\n",
    "from google.cloud import bigquery\n",
    "\n",
    "# Set up Airtable credentials\n",
    "AIRTABLE_API_KEY = 'your_airtable_api_key'\n",
    "AIRTABLE_BASE_KEY = 'your_airtable_base_key'\n",
    "AIRTABLE_TABLE_NAME = 'your_airtable_table_name'\n",
    "\n",
    "# Set up BigQuery credentials\n",
    "BQ_PROJECT_ID = 'your_bigquery_project_id'\n",
    "BQ_DATASET_ID = 'your_bigquery_dataset_id'\n",
    "BQ_TABLE_ID = 'your_bigquery_table_id'\n",
    "\n",
    "def get_airtable_data():\n",
    "    airtable_client = airtable.Airtable(AIRTABLE_BASE_KEY, AIRTABLE_TABLE_NAME, AIRTABLE_API_KEY)\n",
    "    return airtable_client.get_all()\n",
    "\n",
    "def get_bigquery_data():\n",
    "    bigquery_client = bigquery.Client()\n",
    "    bq_table = bigquery_client.get_table(f'{BQ_PROJECT_ID}.{BQ_DATASET_ID}.{BQ_TABLE_ID}')\n",
    "    return bigquery_client.list_rows(bq_table).to_dataframe()\n",
    "\n",
    "def find_records_to_update(airtable_data, bq_data):\n",
    "    records_to_update = []\n",
    "    for airtable_record in airtable_data:\n",
    "        airtable_record_id = airtable_record['id']\n",
    "        for bq_index, bq_record in bq_data.iterrows():\n",
    "            bq_record_id = bq_record['id']\n",
    "            if airtable_record_id == bq_record_id:\n",
    "                for airtable_field, airtable_value in airtable_record['fields'].items():\n",
    "                    bq_value = bq_record[airtable_field]\n",
    "                    if airtable_value != bq_value:\n",
    "                        records_to_update.append({'id': bq_record_id, airtable_field: airtable_value})\n",
    "    return records_to_update\n",
    "\n",
    "def update_bigquery(records_to_update):\n",
    "    if len(records_to_update) > 0:\n",
    "        bigquery_client = bigquery.Client()\n",
    "        bq_table = bigquery_client.get_table(f'{BQ_PROJECT_ID}.{BQ_DATASET_ID}.{BQ_TABLE_ID}')\n",
    "        rows_to_update = [bigquery_client.update_row(bq_table, record['id'], record) for record in records_to_update]\n",
    "        print(f'Updated {len(rows_to_update)} rows in BigQuery.')\n",
    "    else:\n",
    "        print('No rows need to be updated in BigQuery.')\n",
    "\n",
    "def main():\n",
    "    airtable_data = get_airtable_data()\n",
    "    bq_data = get_bigquery_data()\n",
    "    records_to_update = find_records_to_update(airtable_data, bq_data)\n",
    "    update_bigquery(records_to_update)\n",
    "\n",
    "if __name__ == '__main__':\n",
    "    main()\n"
   ]
  },
  {
   "attachments": {},
   "cell_type": "markdown",
   "metadata": {},
   "source": [
    "## ChatGPT Ask"
   ]
  },
  {
   "attachments": {},
   "cell_type": "markdown",
   "metadata": {},
   "source": [
    "refactor find_records_to_update to not be so nested"
   ]
  },
  {
   "attachments": {},
   "cell_type": "markdown",
   "metadata": {},
   "source": [
    "### Note: Only the function I referred to was returned"
   ]
  },
  {
   "cell_type": "code",
   "execution_count": null,
   "metadata": {},
   "outputs": [],
   "source": [
    "def find_records_to_update(airtable_data, bq_data):\n",
    "    records_to_update = []\n",
    "    for airtable_record in airtable_data:\n",
    "        airtable_record_id = airtable_record['id']\n",
    "        bq_record = bq_data[bq_data['id'] == airtable_record_id].iloc[0]\n",
    "        for airtable_field, airtable_value in airtable_record['fields'].items():\n",
    "            bq_value = bq_record[airtable_field]\n",
    "            if airtable_value != bq_value:\n",
    "                records_to_update.append({'id': airtable_record_id, airtable_field: airtable_value})\n",
    "    return records_to_update\n"
   ]
  },
  {
   "cell_type": "markdown",
   "metadata": {},
   "source": [
    "## ChatGPT Ask"
   ]
  },
  {
   "attachments": {},
   "cell_type": "markdown",
   "metadata": {},
   "source": [
    "show me all the code"
   ]
  },
  {
   "cell_type": "code",
   "execution_count": null,
   "metadata": {},
   "outputs": [],
   "source": [
    "import airtable\n",
    "from google.cloud import bigquery\n",
    "\n",
    "# Set up Airtable credentials\n",
    "AIRTABLE_API_KEY = 'your_airtable_api_key'\n",
    "AIRTABLE_BASE_KEY = 'your_airtable_base_key'\n",
    "AIRTABLE_TABLE_NAME = 'your_airtable_table_name'\n",
    "\n",
    "# Set up BigQuery credentials\n",
    "BQ_PROJECT_ID = 'your_bigquery_project_id'\n",
    "BQ_DATASET_ID = 'your_bigquery_dataset_id'\n",
    "BQ_TABLE_ID = 'your_bigquery_table_id'\n",
    "\n",
    "\n",
    "def get_airtable_data():\n",
    "    airtable_client = airtable.Airtable(AIRTABLE_BASE_KEY, AIRTABLE_TABLE_NAME, AIRTABLE_API_KEY)\n",
    "    return airtable_client.get_all()\n",
    "\n",
    "\n",
    "def get_bigquery_data():\n",
    "    bigquery_client = bigquery.Client()\n",
    "    bq_table = bigquery_client.get_table(f'{BQ_PROJECT_ID}.{BQ_DATASET_ID}.{BQ_TABLE_ID}')\n",
    "    return bigquery_client.list_rows(bq_table).to_dataframe()\n",
    "\n",
    "\n",
    "def find_records_to_update(airtable_data, bq_data):\n",
    "    records_to_update = []\n",
    "    for airtable_record in airtable_data:\n",
    "        airtable_record_id = airtable_record['id']\n",
    "        bq_record = bq_data[bq_data['id'] == airtable_record_id].iloc[0]\n",
    "        for airtable_field, airtable_value in airtable_record['fields'].items():\n",
    "            bq_value = bq_record[airtable_field]\n",
    "            if airtable_value != bq_value:\n",
    "                records_to_update.append({'id': airtable_record_id, airtable_field: airtable_value})\n",
    "    return records_to_update\n",
    "\n",
    "\n",
    "def update_bigquery(records_to_update):\n",
    "    if len(records_to_update) > 0:\n",
    "        bigquery_client = bigquery.Client()\n",
    "        bq_table = bigquery_client.get_table(f'{BQ_PROJECT_ID}.{BQ_DATASET_ID}.{BQ_TABLE_ID}')\n",
    "        rows_to_update = [bigquery_client.update_row(bq_table, record['id'], record) for record in records_to_update]\n",
    "        print(f'Updated {len(rows_to_update)} rows in BigQuery.')\n",
    "    else:\n",
    "        print('No rows need to be updated in BigQuery.')\n",
    "\n",
    "\n",
    "def main():\n",
    "    airtable_data = get_airtable_data()\n",
    "    bq_data = get_bigquery_data()\n",
    "    records_to_update = find_records_to_update(airtable_data, bq_data)\n",
    "    update_bigquery(records_to_update)\n",
    "\n",
    "\n",
    "if __name__ == '__main__':\n",
    "    main()\n"
   ]
  },
  {
   "attachments": {},
   "cell_type": "markdown",
   "metadata": {},
   "source": [
    "## Observations"
   ]
  },
  {
   "cell_type": "code",
   "execution_count": null,
   "metadata": {},
   "outputs": [],
   "source": [
    "# We can incrementally refine a solution\n",
    "# "
   ]
  }
 ],
 "metadata": {
  "kernelspec": {
   "display_name": "aqpe",
   "language": "python",
   "name": "python3"
  },
  "language_info": {
   "codemirror_mode": {
    "name": "ipython",
    "version": 3
   },
   "file_extension": ".py",
   "mimetype": "text/x-python",
   "name": "python",
   "nbconvert_exporter": "python",
   "pygments_lexer": "ipython3",
   "version": "3.11.2"
  },
  "orig_nbformat": 4
 },
 "nbformat": 4,
 "nbformat_minor": 2
}
